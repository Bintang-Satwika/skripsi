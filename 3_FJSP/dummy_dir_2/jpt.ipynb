{
 "cells": [
  {
   "cell_type": "code",
   "execution_count": 1,
   "metadata": {},
   "outputs": [
    {
     "name": "stderr",
     "output_type": "stream",
     "text": [
      "  0%|          | 2/1000 [00:00<00:51, 19.27it/s]"
     ]
    },
    {
     "name": "stdout",
     "output_type": "stream",
     "text": [
      "\n",
      "Episode: 1\n",
      "Episode complete. Total Reward: [-242.55 -224.8  -222.05] jumlah step: 438 product completed:  20\n",
      "product completed:  ['C-2', 'C-1', 'C-4', 'B-6', 'B-5', 'C-3', 'B-1', 'C-5', 'A-2', 'B-7', 'C-6', 'B-4', 'A-1', 'B-3', 'A-4', 'A-7', 'C-7', 'A-3', 'A-6', 'A-5']\n",
      "\n",
      "Episode: 2\n",
      "Episode complete. Total Reward: [-252.78333333 -231.36666667 -239.45      ] jumlah step: 466 product completed:  20\n",
      "product completed:  ['C-2', 'B-5', 'C-4', 'B-4', 'B-3', 'C-3', 'C-1', 'B-6', 'A-4', 'B-1', 'C-7', 'A-5', 'C-5', 'C-6', 'B-7', 'A-3', 'B-2', 'A-6', 'A-1', 'A-2']\n",
      "\n",
      "Episode: 3\n",
      "Episode complete. Total Reward: [-300.06666667 -279.9        -280.65      ] jumlah step: 514 product completed:  20\n",
      "product completed:  ['C-2', 'C-4', 'C-3', 'C-5', 'C-6', 'B-2', 'C-7', 'C-1', 'B-1', 'A-6', 'B-5', 'A-4', 'A-5', 'B-6', 'A-1', 'A-3', 'A-7', 'B-3', 'A-2', 'B-7']\n",
      "\n",
      "Episode: 4\n",
      "Episode complete. Total Reward: [-180.46666667 -160.3        -167.3       ] jumlah step: 364 product completed:  20\n",
      "product completed:  ['C-2', 'C-4', 'B-2', 'C-1', 'C-3', 'C-5', 'A-4', 'B-3', 'C-6', 'B-4', 'A-2', 'B-5', 'B-6', 'C-7', 'B-7', 'B-1', 'A-7', 'A-6', 'A-5', 'A-1']\n",
      "\n",
      "Episode: 5\n"
     ]
    },
    {
     "name": "stderr",
     "output_type": "stream",
     "text": [
      "  1%|          | 7/1000 [00:00<00:50, 19.71it/s]"
     ]
    },
    {
     "name": "stdout",
     "output_type": "stream",
     "text": [
      "Episode complete. Total Reward: [-214.86666667 -194.7        -190.95      ] jumlah step: 380 product completed:  20\n",
      "product completed:  ['A-4', 'B-1', 'A-1', 'B-2', 'C-1', 'A-7', 'B-5', 'C-3', 'C-2', 'B-3', 'B-4', 'A-5', 'B-6', 'A-6', 'C-7', 'C-5', 'A-2', 'C-6', 'B-7', 'C-4']\n",
      "\n",
      "Episode: 6\n",
      "Episode complete. Total Reward: [-314.66666667 -290.         -295.5       ] jumlah step: 513 product completed:  20\n",
      "product completed:  ['C-1', 'C-3', 'C-4', 'B-1', 'C-5', 'C-6', 'B-2', 'A-6', 'C-7', 'C-2', 'A-1', 'B-5', 'B-6', 'A-5', 'A-4', 'A-2', 'B-3', 'B-4', 'A-3', 'B-7']\n",
      "\n",
      "Episode: 7\n",
      "Episode complete. Total Reward: [-220.13333333 -206.46666667 -198.05      ] jumlah step: 417 product completed:  20\n",
      "product completed:  ['B-2', 'C-2', 'B-4', 'B-3', 'B-1', 'A-3', 'A-2', 'B-5', 'C-5', 'C-3', 'C-6', 'C-7', 'A-6', 'B-6', 'C-1', 'A-5', 'A-7', 'B-7', 'C-4', 'A-4']\n",
      "\n",
      "Episode: 8\n",
      "Episode complete. Total Reward: [-225.26666667 -203.76666667 -206.1       ] jumlah step: 426 product completed:  20\n",
      "product completed:  ['C-2', 'C-1', 'B-2', 'C-4', 'C-5', 'A-2', 'B-1', 'A-3', 'A-1', 'A-4', 'C-7', 'B-3', 'B-6', 'C-6', 'B-5', 'C-3', 'A-5', 'B-7', 'A-7', 'A-6']\n",
      "\n",
      "Episode: 9\n",
      "Episode complete. Total Reward: [-226.33333333 -207.16666667 -206.5       ] jumlah step: 410 product completed:  20\n",
      "product completed:  ['C-1', 'C-3', 'B-1', 'B-2', 'C-4', 'B-4', 'B-5', 'C-7', 'A-2', 'B-3', 'C-5', 'A-1', 'C-2', 'A-3', 'B-7', 'C-6', 'A-4', 'A-5', 'B-6', 'A-6']\n",
      "\n",
      "Episode: 10\n"
     ]
    },
    {
     "name": "stderr",
     "output_type": "stream",
     "text": [
      "  1%|▏         | 13/1000 [00:00<00:46, 21.22it/s]"
     ]
    },
    {
     "name": "stdout",
     "output_type": "stream",
     "text": [
      "Episode complete. Total Reward: [-251.1        -236.93333333 -232.85      ] jumlah step: 442 product completed:  20\n",
      "product completed:  ['C-2', 'C-6', 'C-4', 'C-3', 'B-2', 'C-1', 'B-6', 'B-1', 'A-1', 'B-4', 'A-4', 'C-7', 'A-6', 'B-5', 'B-7', 'C-5', 'A-5', 'A-7', 'A-3', 'B-3']\n",
      "\n",
      "Episode: 11\n",
      "Episode complete. Total Reward: [-167.93333333 -149.26666667 -144.6       ] jumlah step: 338 product completed:  20\n",
      "product completed:  ['B-1', 'A-4', 'C-2', 'B-2', 'A-6', 'B-7', 'C-1', 'B-6', 'B-5', 'A-7', 'B-4', 'A-1', 'A-5', 'C-4', 'C-5', 'A-2', 'B-3', 'C-6', 'A-3', 'C-7']\n",
      "\n",
      "Episode: 12\n",
      "Episode complete. Total Reward: [-218.83333333 -197.         -202.        ] jumlah step: 393 product completed:  20\n",
      "product completed:  ['C-4', 'C-6', 'C-1', 'C-5', 'A-2', 'C-2', 'C-3', 'C-7', 'B-6', 'B-1', 'A-3', 'B-5', 'B-2', 'A-5', 'A-4', 'B-7', 'A-7', 'B-4', 'B-3', 'A-6']\n",
      "\n",
      "Episode: 13\n",
      "Episode complete. Total Reward: [-221.53333333 -193.7        -210.7       ] jumlah step: 424 product completed:  20\n",
      "product completed:  ['B-1', 'C-1', 'C-5', 'C-4', 'C-2', 'B-2', 'B-3', 'C-6', 'C-7', 'A-2', 'B-4', 'C-3', 'B-5', 'A-5', 'A-6', 'A-7', 'A-4', 'A-1', 'B-7', 'B-6']\n",
      "\n",
      "Episode: 14\n"
     ]
    },
    {
     "name": "stderr",
     "output_type": "stream",
     "text": [
      "  2%|▏         | 16/1000 [00:00<00:51, 19.26it/s]"
     ]
    },
    {
     "name": "stdout",
     "output_type": "stream",
     "text": [
      "Episode complete. Total Reward: [-241.61666667 -226.86666667 -217.7       ] jumlah step: 451 product completed:  20\n",
      "product completed:  ['C-1', 'C-2', 'B-1', 'C-3', 'C-5', 'B-4', 'C-4', 'B-2', 'A-6', 'A-4', 'B-3', 'A-2', 'C-6', 'A-3', 'C-7', 'B-7', 'B-6', 'A-5', 'A-7', 'A-1']\n",
      "\n",
      "Episode: 15\n",
      "Episode complete. Total Reward: [-161.75       -155.83333333 -134.        ] jumlah step: 365 product completed:  20\n",
      "product completed:  ['B-3', 'C-3', 'C-1', 'B-1', 'C-5', 'B-5', 'C-2', 'C-6', 'B-4', 'A-1', 'C-4', 'A-2', 'C-7', 'B-6', 'B-7', 'A-6', 'A-5', 'B-2', 'A-7', 'A-4']\n",
      "\n",
      "Episode: 16\n",
      "Episode complete. Total Reward: [-258.28333333 -239.36666667 -237.95      ] jumlah step: 457 product completed:  20\n",
      "product completed:  ['C-2', 'A-1', 'B-3', 'C-3', 'C-1', 'A-5', 'B-1', 'C-6', 'B-4', 'C-4', 'A-4', 'A-3', 'C-7', 'B-7', 'A-7', 'B-2', 'B-6', 'A-6', 'B-5', 'C-5']\n",
      "\n",
      "Episode: 17\n",
      "Episode complete. Total Reward: [-172.88333333 -163.3        -152.05      ] jumlah step: 402 product completed:  20\n",
      "product completed:  ['C-3', 'C-2', 'C-5', 'C-1', 'C-4', 'C-7', 'B-3', 'A-1', 'B-4', 'C-6', 'B-2', 'B-7', 'B-6', 'A-4', 'A-3', 'A-5', 'A-2', 'A-6', 'A-7', 'B-1']\n",
      "\n",
      "Episode: 18\n",
      "Episode complete. Total Reward: [-197.21666667 -173.46666667 -181.8       ] jumlah step: 389 product completed:  20\n",
      "product completed:  ['C-2', 'C-3', 'C-5', 'B-6', 'A-1', 'B-7', 'A-2', 'B-2', 'B-4', 'A-4', 'C-7', 'C-4', 'B-5', 'B-1', 'C-6', 'C-1', 'A-6', 'A-5', 'A-3', 'B-3']\n",
      "\n",
      "Episode: 19\n"
     ]
    },
    {
     "name": "stderr",
     "output_type": "stream",
     "text": [
      "  2%|▏         | 21/1000 [00:01<00:51, 18.83it/s]"
     ]
    },
    {
     "name": "stdout",
     "output_type": "stream",
     "text": [
      "Episode complete. Total Reward: [-295.71666667 -269.46666667 -278.3       ] jumlah step: 487 product completed:  20\n",
      "product completed:  ['C-1', 'C-2', 'A-1', 'C-6', 'C-5', 'B-4', 'B-3', 'A-3', 'A-2', 'B-2', 'B-6', 'C-3', 'C-7', 'A-4', 'A-7', 'B-1', 'B-7', 'A-6', 'B-5', 'C-4']\n",
      "\n",
      "Episode: 20\n",
      "Episode complete. Total Reward: [-277.55 -263.8  -248.05] jumlah step: 483 product completed:  20\n",
      "product completed:  ['C-2', 'C-3', 'C-1', 'B-5', 'C-5', 'B-2', 'A-2', 'B-3', 'B-7', 'C-4', 'B-4', 'A-4', 'B-6', 'C-6', 'A-1', 'A-7', 'B-1', 'A-5', 'A-3', 'C-7']\n",
      "\n",
      "Episode: 21\n",
      "Episode complete. Total Reward: [-247.25 -227.   -222.25] jumlah step: 434 product completed:  20\n",
      "product completed:  ['B-1', 'A-2', 'C-4', 'C-1', 'C-2', 'B-2', 'C-6', 'B-3', 'A-1', 'B-4', 'B-5', 'A-3', 'B-7', 'C-3', 'C-7', 'B-6', 'A-7', 'A-4', 'C-5', 'A-5']\n",
      "\n",
      "Episode: 22\n",
      "Episode complete. Total Reward: [-216.55 -194.8  -202.8 ] jumlah step: 408 product completed:  20\n",
      "product completed:  ['B-1', 'B-2', 'C-1', 'A-3', 'A-1', 'A-6', 'A-4', 'B-4', 'A-2', 'C-2', 'B-6', 'C-3', 'C-6', 'C-7', 'B-3', 'A-7', 'C-5', 'C-4', 'A-5', 'B-5']\n",
      "\n",
      "Episode: 23\n",
      "Episode complete. Total Reward: [-262.95 -240.7  -239.7 ] jumlah step: 467 product completed:  21\n",
      "product completed:  ['B-2', 'C-2', 'C-1', 'C-3', 'B-1', 'A-5', 'B-4', 'A-3', 'C-4', 'B-7', 'C-5', 'C-6', 'B-5', 'A-7', 'C-7', 'A-1', 'A-2', 'A-6', 'A-4', 'B-3', 'B-6']\n",
      "\n",
      "Episode: 24\n"
     ]
    },
    {
     "name": "stderr",
     "output_type": "stream",
     "text": [
      "  3%|▎         | 26/1000 [00:01<00:51, 18.75it/s]"
     ]
    },
    {
     "name": "stdout",
     "output_type": "stream",
     "text": [
      "Episode complete. Total Reward: [-198.15       -189.06666667 -173.15      ] jumlah step: 431 product completed:  20\n",
      "product completed:  ['B-1', 'C-1', 'C-3', 'C-5', 'B-5', 'B-3', 'A-1', 'C-6', 'A-4', 'B-2', 'C-2', 'C-4', 'C-7', 'A-3', 'B-6', 'A-7', 'A-6', 'A-2', 'B-4', 'A-5']\n",
      "\n",
      "Episode: 25\n",
      "Episode complete. Total Reward: [-189.06666667 -171.4        -174.4       ] jumlah step: 384 product completed:  20\n",
      "product completed:  ['B-1', 'B-2', 'C-2', 'C-1', 'B-5', 'C-4', 'A-4', 'C-3', 'A-3', 'A-1', 'C-6', 'C-5', 'B-3', 'C-7', 'A-5', 'B-7', 'A-7', 'B-6', 'A-6', 'B-4']\n",
      "\n",
      "Episode: 26\n",
      "Episode complete. Total Reward: [-221.11666667 -200.2        -204.2       ] jumlah step: 405 product completed:  20\n",
      "product completed:  ['C-1', 'B-4', 'C-2', 'B-3', 'B-5', 'A-3', 'C-4', 'A-4', 'A-7', 'C-6', 'B-6', 'A-6', 'C-3', 'B-2', 'C-7', 'A-5', 'B-7', 'A-2', 'A-1', 'C-5']\n",
      "\n",
      "Episode: 27\n",
      "Episode complete. Total Reward: [-231.03333333 -207.2        -221.45      ] jumlah step: 430 product completed:  20\n",
      "product completed:  ['C-2', 'C-1', 'C-4', 'B-2', 'C-3', 'A-3', 'A-4', 'A-2', 'A-1', 'B-4', 'B-6', 'C-6', 'C-7', 'C-5', 'A-7', 'B-3', 'B-7', 'A-5', 'B-5', 'B-1']\n",
      "\n",
      "Episode: 28\n"
     ]
    },
    {
     "name": "stderr",
     "output_type": "stream",
     "text": [
      "  3%|▎         | 30/1000 [00:01<00:51, 18.81it/s]"
     ]
    },
    {
     "name": "stdout",
     "output_type": "stream",
     "text": [
      "Episode complete. Total Reward: [-327.15       -312.06666667 -308.4       ] jumlah step: 552 product completed:  20\n",
      "product completed:  ['C-2', 'C-6', 'B-1', 'C-4', 'C-7', 'C-3', 'C-1', 'C-5', 'B-4', 'A-1', 'A-3', 'A-4', 'B-3', 'B-2', 'A-6', 'A-2', 'B-6', 'B-5', 'A-7', 'B-7']\n",
      "\n",
      "Episode: 29\n",
      "Episode complete. Total Reward: [-225.98333333 -202.9        -205.4       ] jumlah step: 415 product completed:  20\n",
      "product completed:  ['B-1', 'A-3', 'A-2', 'C-3', 'A-1', 'B-2', 'A-4', 'C-4', 'C-5', 'C-2', 'C-1', 'A-5', 'B-4', 'C-7', 'B-7', 'A-6', 'B-5', 'B-3', 'B-6', 'C-6']\n",
      "\n",
      "Episode: 30\n",
      "Episode complete. Total Reward: [-215.31666667 -195.73333333 -198.65      ] jumlah step: 415 product completed:  20\n",
      "product completed:  ['C-1', 'A-1', 'A-3', 'C-2', 'B-2', 'C-4', 'B-1', 'B-4', 'A-6', 'C-3', 'B-7', 'A-5', 'A-7', 'C-7', 'C-6', 'A-2', 'B-5', 'A-4', 'B-6', 'C-5']\n",
      "\n",
      "Episode: 31\n",
      "Episode complete. Total Reward: [-239.16666667 -219.83333333 -217.5       ] jumlah step: 428 product completed:  20\n",
      "product completed:  ['B-2', 'A-4', 'C-3', 'B-3', 'A-5', 'B-4', 'C-1', 'A-3', 'C-5', 'C-4', 'B-5', 'C-2', 'B-7', 'B-1', 'A-2', 'A-6', 'C-6', 'B-6', 'C-7', 'A-7']\n",
      "\n",
      "Episode: 32\n",
      "Episode complete. Total Reward: [-163.45       -144.03333333 -148.45      ] jumlah step: 352 product completed:  20\n",
      "product completed:  ['C-1', 'A-1', 'B-3', 'B-4', 'A-2', 'C-3', 'A-4', 'C-5', 'B-5', 'B-7', 'B-6', 'A-7', 'C-2', 'C-4', 'C-7', 'B-1', 'A-5', 'C-6', 'A-6', 'A-3']\n"
     ]
    },
    {
     "name": "stderr",
     "output_type": "stream",
     "text": [
      "  4%|▎         | 35/1000 [00:01<00:47, 20.15it/s]"
     ]
    },
    {
     "name": "stdout",
     "output_type": "stream",
     "text": [
      "\n",
      "Episode: 33\n",
      "Episode complete. Total Reward: [-169.23333333 -148.9        -150.65      ] jumlah step: 350 product completed:  20\n",
      "product completed:  ['B-1', 'C-1', 'B-3', 'B-2', 'B-4', 'C-3', 'C-2', 'B-5', 'B-6', 'C-4', 'B-7', 'A-4', 'A-3', 'C-6', 'A-7', 'A-2', 'A-5', 'C-7', 'A-6', 'C-5']\n",
      "\n",
      "Episode: 34\n",
      "Episode complete. Total Reward: [-240.45       -221.03333333 -212.7       ] jumlah step: 443 product completed:  20\n",
      "product completed:  ['C-1', 'C-3', 'C-4', 'A-4', 'A-2', 'A-6', 'C-7', 'A-5', 'B-1', 'B-4', 'A-3', 'C-6', 'A-7', 'B-5', 'C-2', 'B-7', 'B-3', 'A-1', 'B-2', 'B-6']\n",
      "\n",
      "Episode: 35\n",
      "Episode complete. Total Reward: [-177.03333333 -161.36666667 -149.2       ] jumlah step: 366 product completed:  20\n",
      "product completed:  ['B-4', 'B-2', 'A-1', 'C-1', 'C-3', 'C-2', 'B-6', 'B-7', 'B-1', 'C-4', 'C-5', 'A-5', 'B-5', 'C-7', 'A-7', 'A-3', 'C-6', 'A-6', 'B-3', 'A-2']\n",
      "\n",
      "Episode: 36\n",
      "Episode complete. Total Reward: [-402.6        -381.43333333 -366.1       ] jumlah step: 613 product completed:  20\n",
      "product completed:  ['B-3', 'C-1', 'A-4', 'B-4', 'A-5', 'C-2', 'C-4', 'A-3', 'B-2', 'C-6', 'A-1', 'B-5', 'A-7', 'B-1', 'B-6', 'C-3', 'C-5', 'B-7', 'C-7', 'A-6']\n",
      "\n",
      "Episode: 37\n"
     ]
    },
    {
     "name": "stderr",
     "output_type": "stream",
     "text": [
      "  4%|▍         | 40/1000 [00:02<00:49, 19.46it/s]"
     ]
    },
    {
     "name": "stdout",
     "output_type": "stream",
     "text": [
      "Episode complete. Total Reward: [-150.18333333 -135.6        -128.35      ] jumlah step: 336 product completed:  20\n",
      "product completed:  ['C-1', 'C-3', 'C-2', 'A-1', 'C-4', 'C-6', 'B-4', 'B-1', 'B-5', 'C-5', 'B-6', 'C-7', 'B-3', 'B-2', 'A-7', 'A-2', 'A-5', 'A-3', 'A-6', 'A-4']\n",
      "\n",
      "Episode: 38\n",
      "Episode complete. Total Reward: [-197.1        -178.43333333 -177.85      ] jumlah step: 406 product completed:  20\n",
      "product completed:  ['B-1', 'B-5', 'C-1', 'B-6', 'B-3', 'C-2', 'C-3', 'B-4', 'C-4', 'A-6', 'A-2', 'C-6', 'A-3', 'B-7', 'B-2', 'C-5', 'A-4', 'A-1', 'C-7', 'A-7']\n",
      "\n",
      "Episode: 39\n",
      "Episode complete. Total Reward: [-232.11666667 -206.36666667 -211.95      ] jumlah step: 424 product completed:  20\n",
      "product completed:  ['C-1', 'B-2', 'A-1', 'B-3', 'B-1', 'B-6', 'C-3', 'C-4', 'C-2', 'A-5', 'A-3', 'C-6', 'B-4', 'B-7', 'A-6', 'B-5', 'C-5', 'A-2', 'C-7', 'A-7']\n",
      "\n",
      "Episode: 40\n",
      "Episode complete. Total Reward: [-224.4        -204.56666667 -206.4       ] jumlah step: 438 product completed:  20\n",
      "product completed:  ['C-4', 'C-1', 'B-1', 'C-3', 'B-3', 'B-4', 'C-2', 'A-4', 'B-2', 'C-5', 'A-1', 'C-6', 'B-6', 'A-2', 'B-5', 'B-7', 'A-7', 'C-7', 'A-5', 'A-3']\n",
      "\n",
      "Episode: 41\n"
     ]
    },
    {
     "name": "stderr",
     "output_type": "stream",
     "text": [
      "  4%|▍         | 42/1000 [00:02<00:51, 18.55it/s]"
     ]
    },
    {
     "name": "stdout",
     "output_type": "stream",
     "text": [
      "Episode complete. Total Reward: [-128.6        -113.93333333 -113.6       ] jumlah step: 324 product completed:  20\n",
      "product completed:  ['B-3', 'C-3', 'C-1', 'C-6', 'B-1', 'A-4', 'A-3', 'C-4', 'B-2', 'C-7', 'C-2', 'C-5', 'B-6', 'B-4', 'A-2', 'B-5', 'A-7', 'A-1', 'B-7', 'A-6']\n",
      "\n",
      "Episode: 42\n",
      "Episode complete. Total Reward: [-278.25       -255.66666667 -254.        ] jumlah step: 452 product completed:  20\n",
      "product completed:  ['B-2', 'C-1', 'C-2', 'C-5', 'C-7', 'C-3', 'B-1', 'A-2', 'C-4', 'C-6', 'A-6', 'A-7', 'B-7', 'A-3', 'B-4', 'B-5', 'B-6', 'A-1', 'B-3', 'A-4']\n",
      "\n",
      "Episode: 43\n",
      "Episode complete. Total Reward: [-206.41666667 -194.         -182.75      ] jumlah step: 391 product completed:  20\n",
      "product completed:  ['C-1', 'C-4', 'B-1', 'A-3', 'A-2', 'B-3', 'C-2', 'C-5', 'A-4', 'C-6', 'A-1', 'B-4', 'C-7', 'B-2', 'C-3', 'A-5', 'B-5', 'B-6', 'A-6', 'B-7']\n",
      "\n",
      "Episode: 44\n",
      "Episode complete. Total Reward: [-173.36666667 -162.53333333 -149.95      ] jumlah step: 377 product completed:  20\n",
      "product completed:  ['B-2', 'C-1', 'B-3', 'B-5', 'A-1', 'A-4', 'C-3', 'C-5', 'C-4', 'B-7', 'B-4', 'C-2', 'A-2', 'A-3', 'B-1', 'C-7', 'A-5', 'C-6', 'A-7', 'B-6']\n",
      "\n",
      "Episode: 45\n"
     ]
    },
    {
     "name": "stderr",
     "output_type": "stream",
     "text": [
      "  5%|▍         | 48/1000 [00:02<00:47, 20.09it/s]"
     ]
    },
    {
     "name": "stdout",
     "output_type": "stream",
     "text": [
      "Episode complete. Total Reward: [-235.33333333 -218.83333333 -214.75      ] jumlah step: 447 product completed:  20\n",
      "product completed:  ['C-1', 'C-5', 'B-2', 'C-4', 'C-2', 'C-3', 'A-2', 'C-6', 'A-1', 'B-3', 'C-7', 'B-1', 'A-4', 'A-3', 'A-5', 'B-5', 'B-6', 'B-4', 'A-6', 'B-7']\n",
      "\n",
      "Episode: 46\n",
      "Episode complete. Total Reward: [-217.6        -192.43333333 -199.6       ] jumlah step: 412 product completed:  20\n",
      "product completed:  ['C-1', 'B-2', 'B-1', 'C-2', 'A-4', 'B-4', 'C-4', 'A-1', 'C-3', 'A-6', 'C-6', 'B-7', 'C-7', 'B-3', 'A-7', 'A-3', 'B-6', 'B-5', 'A-5', 'C-5']\n",
      "\n",
      "Episode: 47\n",
      "Episode complete. Total Reward: [-236.21666667 -217.13333333 -218.8       ] jumlah step: 415 product completed:  20\n",
      "product completed:  ['C-2', 'C-1', 'A-1', 'B-1', 'A-4', 'B-3', 'B-4', 'A-3', 'C-4', 'C-3', 'B-2', 'C-7', 'C-6', 'B-5', 'A-7', 'B-7', 'C-5', 'A-5', 'A-2', 'B-6']\n",
      "\n",
      "Episode: 48\n",
      "Episode complete. Total Reward: [-208.75       -190.16666667 -184.5       ] jumlah step: 387 product completed:  20\n",
      "product completed:  ['C-3', 'B-1', 'C-2', 'C-5', 'C-1', 'A-1', 'B-3', 'A-2', 'A-4', 'C-6', 'B-2', 'C-7', 'C-4', 'B-5', 'B-4', 'B-7', 'A-7', 'A-3', 'A-6', 'B-6']\n",
      "\n",
      "Episode: 49\n",
      "Episode complete. Total Reward: [-203.03333333 -183.7        -187.2       ] jumlah step: 410 product completed:  20\n",
      "product completed:  ['B-5', 'B-3', 'C-1', 'B-4', 'B-2', 'C-3', 'C-2', 'C-5', 'A-5', 'B-1', 'C-6', 'C-7', 'B-7', 'A-3', 'A-2', 'C-4', 'A-4', 'A-6', 'A-7', 'A-1']\n",
      "\n",
      "Episode: 50\n"
     ]
    },
    {
     "name": "stderr",
     "output_type": "stream",
     "text": [
      "  5%|▌         | 53/1000 [00:02<00:48, 19.72it/s]"
     ]
    },
    {
     "name": "stdout",
     "output_type": "stream",
     "text": [
      "Episode complete. Total Reward: [-179.26666667 -161.1        -166.6       ] jumlah step: 375 product completed:  20\n",
      "product completed:  ['B-3', 'C-2', 'C-3', 'B-4', 'C-1', 'B-2', 'C-4', 'C-5', 'A-3', 'B-7', 'A-2', 'C-6', 'B-5', 'B-6', 'C-7', 'A-1', 'A-6', 'A-4', 'A-5', 'A-7']\n",
      "\n",
      "Episode: 51\n",
      "Episode complete. Total Reward: [-247.85       -224.26666667 -230.35      ] jumlah step: 452 product completed:  20\n",
      "product completed:  ['B-2', 'B-3', 'B-6', 'A-1', 'A-3', 'B-4', 'C-2', 'C-1', 'C-3', 'C-5', 'C-6', 'B-7', 'A-2', 'C-4', 'A-5', 'B-5', 'A-4', 'C-7', 'A-6', 'B-1']\n",
      "\n",
      "Episode: 52\n",
      "Episode complete. Total Reward: [-125.76666667 -107.93333333 -110.35      ] jumlah step: 329 product completed:  20\n",
      "product completed:  ['A-1', 'C-1', 'C-3', 'B-1', 'B-4', 'A-3', 'C-2', 'C-5', 'B-3', 'C-4', 'A-4', 'B-7', 'A-5', 'C-7', 'A-6', 'C-6', 'A-7', 'B-2', 'A-2', 'B-6']\n",
      "\n",
      "Episode: 53\n",
      "Episode complete. Total Reward: [-290.6        -272.26666667 -265.85      ] jumlah step: 500 product completed:  20\n",
      "product completed:  ['B-1', 'B-3', 'A-4', 'C-5', 'C-3', 'A-2', 'A-1', 'C-1', 'C-2', 'C-6', 'A-7', 'B-6', 'B-4', 'A-3', 'B-5', 'B-2', 'A-5', 'C-4', 'A-6', 'B-7']\n",
      "\n",
      "Episode: 54\n",
      "Episode complete. Total Reward: [-231.56666667 -221.4        -201.9       ] jumlah step: 436 product completed:  20\n",
      "product completed:  ['C-1', 'B-7', 'B-5', 'C-3', 'C-2', 'B-4', 'B-1', 'C-5', 'C-4', 'A-4', 'A-6', 'A-1', 'A-5', 'B-3', 'B-6', 'A-7', 'C-7', 'C-6', 'B-2', 'A-3']\n",
      "\n",
      "Episode: 55\n"
     ]
    },
    {
     "name": "stderr",
     "output_type": "stream",
     "text": [
      "  6%|▌         | 57/1000 [00:02<00:48, 19.40it/s]"
     ]
    },
    {
     "name": "stdout",
     "output_type": "stream",
     "text": [
      "Episode complete. Total Reward: [-194.18333333 -175.1        -177.85      ] jumlah step: 371 product completed:  20\n",
      "product completed:  ['C-1', 'B-3', 'A-2', 'B-5', 'C-2', 'A-7', 'B-1', 'C-3', 'A-5', 'C-4', 'B-6', 'A-4', 'B-2', 'C-5', 'A-1', 'B-4', 'A-6', 'C-6', 'B-7', 'C-7']\n",
      "\n",
      "Episode: 56\n",
      "Episode complete. Total Reward: [-176.91666667 -154.5        -160.75      ] jumlah step: 349 product completed:  20\n",
      "product completed:  ['C-1', 'B-1', 'A-1', 'C-4', 'C-3', 'C-2', 'B-2', 'B-5', 'A-3', 'A-2', 'B-7', 'B-4', 'A-4', 'A-7', 'A-6', 'C-7', 'B-6', 'B-3', 'C-6', 'A-5']\n",
      "\n",
      "Episode: 57\n",
      "Episode complete. Total Reward: [-212.63333333 -186.8        -195.3       ] jumlah step: 402 product completed:  20\n",
      "product completed:  ['C-3', 'B-2', 'B-1', 'A-1', 'C-2', 'C-7', 'A-2', 'A-4', 'C-1', 'C-5', 'A-3', 'C-6', 'C-4', 'B-5', 'B-3', 'B-4', 'B-7', 'A-6', 'A-7', 'B-6']\n",
      "\n",
      "Episode: 58\n",
      "Episode complete. Total Reward: [-312.53333333 -283.03333333 -294.7       ] jumlah step: 516 product completed:  20\n",
      "product completed:  ['C-2', 'C-6', 'C-5', 'A-4', 'A-3', 'C-1', 'A-6', 'C-4', 'C-7', 'C-3', 'A-2', 'B-5', 'B-7', 'B-2', 'A-1', 'B-3', 'A-7', 'B-4', 'B-1', 'A-5']\n",
      "\n",
      "Episode: 59\n"
     ]
    },
    {
     "name": "stderr",
     "output_type": "stream",
     "text": [
      "  6%|▌         | 62/1000 [00:03<00:48, 19.33it/s]"
     ]
    },
    {
     "name": "stdout",
     "output_type": "stream",
     "text": [
      "Episode complete. Total Reward: [-350.53333333 -332.53333333 -326.7       ] jumlah step: 559 product completed:  20\n",
      "product completed:  ['C-1', 'C-3', 'B-4', 'B-1', 'B-2', 'A-4', 'B-5', 'C-2', 'C-5', 'A-1', 'B-7', 'A-3', 'C-7', 'C-4', 'C-6', 'B-3', 'A-6', 'A-2', 'A-7', 'B-6']\n",
      "\n",
      "Episode: 60\n",
      "Episode complete. Total Reward: [-205.26666667 -185.1        -180.85      ] jumlah step: 381 product completed:  20\n",
      "product completed:  ['C-1', 'C-3', 'B-3', 'B-4', 'C-2', 'C-4', 'A-2', 'A-4', 'B-6', 'B-5', 'B-7', 'A-1', 'C-5', 'A-3', 'B-1', 'A-5', 'B-2', 'C-6', 'A-7', 'A-6']\n",
      "\n",
      "Episode: 61\n",
      "Episode complete. Total Reward: [-190.8  -166.3  -171.05] jumlah step: 386 product completed:  20\n",
      "product completed:  ['B-1', 'B-2', 'C-5', 'C-7', 'C-6', 'C-4', 'A-5', 'C-3', 'A-2', 'B-5', 'A-1', 'A-4', 'B-3', 'C-2', 'B-7', 'B-4', 'B-6', 'A-6', 'C-1', 'A-7']\n",
      "\n",
      "Episode: 62\n",
      "Episode complete. Total Reward: [-201.45       -182.53333333 -179.45      ] jumlah step: 400 product completed:  20\n",
      "product completed:  ['C-3', 'C-2', 'B-1', 'C-4', 'C-1', 'C-7', 'A-3', 'A-4', 'C-6', 'A-2', 'A-5', 'B-3', 'A-1', 'C-5', 'B-2', 'B-6', 'B-7', 'A-6', 'B-4', 'B-5']\n",
      "\n",
      "Episode: 63\n",
      "Episode complete. Total Reward: [-218.2        -197.03333333 -197.45      ] jumlah step: 397 product completed:  20\n",
      "product completed:  ['B-1', 'B-7', 'B-5', 'C-1', 'C-2', 'C-3', 'B-2', 'B-4', 'B-3', 'C-4', 'A-1', 'A-3', 'C-6', 'C-7', 'A-2', 'A-5', 'C-5', 'B-6', 'A-6', 'A-4']\n",
      "\n",
      "Episode: 64\n"
     ]
    },
    {
     "name": "stderr",
     "output_type": "stream",
     "text": [
      "  7%|▋         | 66/1000 [00:03<00:49, 19.01it/s]"
     ]
    },
    {
     "name": "stdout",
     "output_type": "stream",
     "text": [
      "Episode complete. Total Reward: [-267.75       -247.83333333 -244.5       ] jumlah step: 467 product completed:  20\n",
      "product completed:  ['B-1', 'C-1', 'A-1', 'C-3', 'B-7', 'B-4', 'C-4', 'B-2', 'B-3', 'C-7', 'A-3', 'C-6', 'C-5', 'A-6', 'A-4', 'B-5', 'A-2', 'B-6', 'C-2', 'A-7']\n",
      "\n",
      "Episode: 65\n",
      "Episode complete. Total Reward: [-235.45       -211.86666667 -220.7       ] jumlah step: 434 product completed:  20\n",
      "product completed:  ['C-1', 'A-4', 'A-5', 'A-6', 'B-1', 'A-1', 'C-2', 'C-3', 'C-5', 'C-4', 'B-5', 'C-6', 'B-2', 'B-3', 'A-3', 'B-7', 'C-7', 'A-2', 'B-4', 'A-7']\n",
      "\n",
      "Episode: 66\n",
      "Episode complete. Total Reward: [-304.6  -286.1  -274.35] jumlah step: 491 product completed:  20\n",
      "product completed:  ['B-1', 'C-2', 'A-1', 'C-3', 'A-5', 'C-5', 'C-4', 'A-2', 'B-3', 'A-7', 'A-4', 'B-7', 'A-3', 'C-7', 'B-5', 'C-6', 'B-2', 'B-4', 'A-6', 'B-6']\n",
      "\n",
      "Episode: 67\n",
      "Episode complete. Total Reward: [-237.95 -227.2  -218.95] jumlah step: 462 product completed:  20\n",
      "product completed:  ['C-2', 'C-1', 'A-1', 'B-4', 'B-3', 'C-3', 'B-5', 'C-4', 'A-2', 'A-3', 'B-1', 'A-4', 'A-6', 'B-2', 'C-5', 'C-6', 'C-7', 'A-5', 'A-7', 'B-6']\n",
      "\n",
      "Episode: 68\n"
     ]
    },
    {
     "name": "stderr",
     "output_type": "stream",
     "text": [
      "  7%|▋         | 70/1000 [00:03<00:52, 17.85it/s]"
     ]
    },
    {
     "name": "stdout",
     "output_type": "stream",
     "text": [
      "Episode complete. Total Reward: [-362.75       -339.66666667 -336.25      ] jumlah step: 578 product completed:  20\n",
      "product completed:  ['C-2', 'C-4', 'B-5', 'C-3', 'B-4', 'A-1', 'C-5', 'C-1', 'A-2', 'C-6', 'A-3', 'B-6', 'B-7', 'A-4', 'C-7', 'A-7', 'B-2', 'A-6', 'A-5', 'B-3']\n",
      "\n",
      "Episode: 69\n",
      "Episode complete. Total Reward: [-164.21666667 -143.63333333 -149.8       ] jumlah step: 356 product completed:  20\n",
      "product completed:  ['C-2', 'A-5', 'C-3', 'A-6', 'A-1', 'A-2', 'C-1', 'A-3', 'C-4', 'C-6', 'B-5', 'B-7', 'A-7', 'C-5', 'B-4', 'B-2', 'C-7', 'A-4', 'B-3', 'B-1']\n",
      "\n",
      "Episode: 70\n",
      "Episode complete. Total Reward: [-269.5 -244.  -249.5] jumlah step: 471 product completed:  20\n",
      "product completed:  ['C-2', 'C-1', 'B-4', 'A-2', 'C-5', 'C-6', 'B-1', 'B-5', 'A-3', 'B-2', 'A-1', 'C-3', 'A-7', 'C-4', 'A-5', 'A-4', 'B-3', 'A-6', 'C-7', 'B-7']\n",
      "\n",
      "Episode: 71\n",
      "Episode complete. Total Reward: [-203.25       -186.16666667 -182.5       ] jumlah step: 392 product completed:  20\n",
      "product completed:  ['C-1', 'C-3', 'B-3', 'C-2', 'C-6', 'C-4', 'C-5', 'C-7', 'B-1', 'B-4', 'B-6', 'A-2', 'B-7', 'B-5', 'A-3', 'A-1', 'B-2', 'A-6', 'A-5', 'A-7']\n",
      "\n",
      "Episode: 72\n",
      "Episode complete. Total Reward: [-208.05       -190.13333333 -192.8       ] jumlah step: 417 product completed:  20\n",
      "product completed:  ['B-1', 'C-1', 'C-2', 'B-2', 'B-3', 'B-7', 'A-3', 'A-2', 'A-1', 'B-6', 'C-3', 'C-5', 'C-7', 'C-6', 'C-4', 'B-4', 'A-6', 'A-7', 'B-5', 'A-5']\n",
      "\n",
      "Episode: 73\n"
     ]
    },
    {
     "name": "stderr",
     "output_type": "stream",
     "text": [
      "  8%|▊         | 75/1000 [00:03<00:51, 18.08it/s]"
     ]
    },
    {
     "name": "stdout",
     "output_type": "stream",
     "text": [
      "Episode complete. Total Reward: [-305.81666667 -290.73333333 -282.9       ] jumlah step: 511 product completed:  20\n",
      "product completed:  ['C-1', 'B-4', 'C-3', 'B-2', 'B-3', 'B-1', 'B-7', 'C-2', 'A-2', 'C-5', 'A-1', 'C-4', 'A-5', 'A-7', 'C-6', 'C-7', 'B-6', 'B-5', 'A-3', 'A-4']\n",
      "\n",
      "Episode: 74\n",
      "Episode complete. Total Reward: [-381.76666667 -363.43333333 -355.35      ] jumlah step: 547 product completed:  20\n",
      "product completed:  ['B-3', 'A-4', 'C-1', 'C-2', 'B-4', 'A-1', 'B-1', 'B-2', 'A-2', 'A-6', 'C-6', 'C-3', 'C-5', 'A-3', 'A-5', 'A-7', 'C-4', 'C-7', 'B-5', 'B-7']\n",
      "\n",
      "Episode: 75\n",
      "Episode complete. Total Reward: [-210.03333333 -186.2        -192.7       ] jumlah step: 394 product completed:  20\n",
      "product completed:  ['B-3', 'B-2', 'A-3', 'C-1', 'B-1', 'A-4', 'C-5', 'A-5', 'C-3', 'C-6', 'C-4', 'B-4', 'A-1', 'B-7', 'C-2', 'A-2', 'C-7', 'A-6', 'B-5', 'A-7']\n",
      "\n",
      "Episode: 76\n",
      "Episode complete. Total Reward: [-333.05 -312.3  -309.3 ] jumlah step: 544 product completed:  20\n",
      "product completed:  ['B-4', 'B-1', 'A-4', 'B-2', 'A-1', 'C-1', 'B-5', 'B-7', 'A-3', 'B-6', 'C-4', 'C-6', 'C-5', 'A-2', 'C-7', 'C-2', 'A-6', 'C-3', 'A-7', 'B-3']\n",
      "\n",
      "Episode: 77\n"
     ]
    },
    {
     "name": "stderr",
     "output_type": "stream",
     "text": [
      "  8%|▊         | 80/1000 [00:04<00:48, 18.89it/s]"
     ]
    },
    {
     "name": "stdout",
     "output_type": "stream",
     "text": [
      "Episode complete. Total Reward: [-263.61666667 -241.03333333 -242.7       ] jumlah step: 457 product completed:  20\n",
      "product completed:  ['B-1', 'B-4', 'A-3', 'B-6', 'B-3', 'C-2', 'B-2', 'C-1', 'B-7', 'C-3', 'A-2', 'C-5', 'C-7', 'A-4', 'A-1', 'A-5', 'C-4', 'B-5', 'A-7', 'A-6']\n",
      "\n",
      "Episode: 78\n",
      "Episode complete. Total Reward: [-252.05       -230.96666667 -226.8       ] jumlah step: 452 product completed:  20\n",
      "product completed:  ['B-2', 'C-5', 'C-3', 'B-3', 'C-1', 'B-4', 'B-1', 'C-2', 'A-2', 'C-4', 'C-6', 'A-3', 'B-6', 'A-7', 'B-7', 'B-5', 'A-1', 'A-4', 'A-5', 'A-6']\n",
      "\n",
      "Episode: 79\n",
      "Episode complete. Total Reward: [-183.66666667 -165.5        -163.25      ] jumlah step: 389 product completed:  20\n",
      "product completed:  ['B-1', 'C-4', 'C-5', 'C-3', 'A-3', 'B-4', 'C-2', 'A-5', 'B-2', 'C-1', 'A-1', 'A-6', 'A-2', 'C-7', 'A-7', 'B-3', 'C-6', 'B-5', 'B-6', 'B-7']\n",
      "\n",
      "Episode: 80\n",
      "Episode complete. Total Reward: [-254.06666667 -229.06666667 -233.4       ] jumlah step: 434 product completed:  20\n",
      "product completed:  ['B-1', 'B-3', 'A-2', 'B-4', 'C-1', 'A-3', 'C-3', 'A-5', 'A-1', 'C-6', 'A-6', 'B-5', 'B-2', 'C-7', 'B-7', 'C-5', 'C-4', 'A-7', 'A-4', 'B-6']\n",
      "\n",
      "Episode: 81\n",
      "Episode complete. Total Reward: [-288.03333333 -269.7        -269.7       ] jumlah step: 483 product completed:  20\n",
      "product completed:  ['C-1', 'B-1', 'C-2', 'C-3', 'A-2', 'A-4', 'B-3', 'B-6', 'C-4', 'C-5', 'A-7', 'A-6', 'A-1', 'A-5', 'B-4', 'C-6', 'A-3', 'C-7', 'B-5', 'B-2']\n",
      "\n",
      "Episode: 82\n"
     ]
    },
    {
     "name": "stderr",
     "output_type": "stream",
     "text": [
      "  8%|▊         | 84/1000 [00:04<00:49, 18.40it/s]"
     ]
    },
    {
     "name": "stdout",
     "output_type": "stream",
     "text": [
      "Episode complete. Total Reward: [-289.11666667 -270.2        -262.7       ] jumlah step: 460 product completed:  20\n",
      "product completed:  ['C-1', 'B-2', 'A-1', 'C-4', 'B-4', 'C-3', 'A-5', 'B-5', 'C-2', 'A-4', 'B-1', 'B-6', 'A-3', 'B-3', 'B-7', 'C-7', 'A-7', 'C-5', 'A-6', 'A-2']\n",
      "\n",
      "Episode: 83\n",
      "Episode complete. Total Reward: [-283.91666667 -260.83333333 -262.        ] jumlah step: 467 product completed:  20\n",
      "product completed:  ['B-2', 'B-1', 'B-6', 'C-3', 'A-1', 'C-1', 'C-6', 'C-4', 'B-7', 'C-2', 'B-5', 'B-4', 'A-2', 'B-3', 'C-5', 'A-3', 'A-7', 'C-7', 'A-6', 'A-4']\n",
      "\n",
      "Episode: 84\n",
      "Episode complete. Total Reward: [-224.43333333 -207.1        -200.6       ] jumlah step: 410 product completed:  20\n",
      "product completed:  ['B-1', 'C-2', 'A-3', 'C-3', 'B-2', 'A-6', 'B-4', 'C-1', 'A-1', 'B-3', 'B-6', 'A-2', 'C-6', 'B-5', 'A-4', 'C-7', 'A-5', 'B-7', 'C-4', 'A-7']\n",
      "\n",
      "Episode: 85\n",
      "Episode complete. Total Reward: [-327.21666667 -306.3        -303.55      ] jumlah step: 516 product completed:  20\n",
      "product completed:  ['B-4', 'B-5', 'C-1', 'C-3', 'B-1', 'C-2', 'A-2', 'C-6', 'B-6', 'B-7', 'C-4', 'C-5', 'B-3', 'B-2', 'A-6', 'C-7', 'A-4', 'A-3', 'A-5', 'A-7']\n",
      "\n",
      "Episode: 86\n",
      "Episode complete. Total Reward: [-164.5        -143.83333333 -146.75      ] jumlah step: 338 product completed:  20\n",
      "product completed:  ['B-2', 'B-4', 'C-4', 'A-2', 'C-2', 'C-5', 'B-1', 'B-6', 'C-1', 'A-4', 'B-5', 'A-3', 'C-7', 'A-5', 'C-6', 'A-6', 'B-7', 'A-1', 'A-7', 'C-3']\n",
      "\n",
      "Episode: 87\n"
     ]
    },
    {
     "name": "stderr",
     "output_type": "stream",
     "text": [
      "  9%|▉         | 90/1000 [00:04<00:47, 19.04it/s]"
     ]
    },
    {
     "name": "stdout",
     "output_type": "stream",
     "text": [
      "Episode complete. Total Reward: [-280.58333333 -259.66666667 -261.5       ] jumlah step: 491 product completed:  20\n",
      "product completed:  ['C-1', 'C-5', 'B-2', 'C-3', 'C-4', 'A-1', 'B-3', 'B-4', 'B-6', 'C-2', 'C-7', 'B-7', 'A-3', 'B-5', 'A-5', 'A-7', 'C-6', 'A-2', 'A-6', 'B-1']\n",
      "\n",
      "Episode: 88\n",
      "Episode complete. Total Reward: [-281.68333333 -264.1        -257.35      ] jumlah step: 470 product completed:  20\n",
      "product completed:  ['B-2', 'C-3', 'B-1', 'B-3', 'C-2', 'A-1', 'C-7', 'A-4', 'B-4', 'C-1', 'A-5', 'C-5', 'C-4', 'B-6', 'C-6', 'B-5', 'A-6', 'A-3', 'A-2', 'A-7']\n",
      "\n",
      "Episode: 89\n",
      "Episode complete. Total Reward: [-136.86666667 -114.7        -119.2       ] jumlah step: 319 product completed:  20\n",
      "product completed:  ['C-1', 'B-2', 'C-2', 'C-4', 'C-5', 'B-3', 'A-2', 'A-5', 'A-1', 'C-7', 'B-4', 'C-6', 'B-7', 'A-6', 'B-1', 'B-5', 'A-4', 'B-6', 'A-3', 'C-3']\n",
      "\n",
      "Episode: 90\n",
      "Episode complete. Total Reward: [-262.23333333 -254.9        -241.9       ] jumlah step: 454 product completed:  20\n",
      "product completed:  ['C-1', 'C-3', 'B-3', 'B-4', 'B-1', 'A-3', 'C-4', 'C-6', 'A-2', 'C-2', 'C-7', 'B-7', 'B-2', 'B-5', 'A-4', 'C-5', 'B-6', 'A-6', 'A-5', 'A-7']\n",
      "\n",
      "Episode: 91\n",
      "Episode complete. Total Reward: [-280.96666667 -257.96666667 -267.3       ] jumlah step: 478 product completed:  20\n",
      "product completed:  ['C-1', 'C-3', 'A-3', 'C-2', 'A-2', 'C-4', 'A-1', 'C-7', 'C-6', 'B-3', 'B-2', 'C-5', 'A-4', 'A-6', 'B-4', 'B-1', 'A-7', 'B-7', 'A-5', 'B-5']\n",
      "\n",
      "Episode: 92\n"
     ]
    },
    {
     "name": "stderr",
     "output_type": "stream",
     "text": [
      "  9%|▉         | 94/1000 [00:04<00:48, 18.62it/s]"
     ]
    },
    {
     "name": "stdout",
     "output_type": "stream",
     "text": [
      "Episode complete. Total Reward: [-320.95       -301.03333333 -310.95      ] jumlah step: 544 product completed:  20\n",
      "product completed:  ['C-1', 'C-3', 'C-4', 'C-6', 'B-2', 'B-5', 'B-1', 'A-2', 'C-7', 'A-3', 'C-5', 'A-4', 'C-2', 'B-3', 'B-6', 'A-5', 'B-4', 'B-7', 'A-7', 'A-6']\n",
      "\n",
      "Episode: 93\n",
      "Episode complete. Total Reward: [-236.63333333 -213.46666667 -223.55      ] jumlah step: 429 product completed:  20\n",
      "product completed:  ['B-1', 'C-1', 'C-3', 'C-2', 'C-4', 'A-2', 'A-4', 'A-3', 'A-1', 'B-7', 'C-5', 'B-2', 'C-7', 'B-4', 'A-7', 'B-6', 'C-6', 'B-5', 'B-3', 'A-6']\n",
      "\n",
      "Episode: 94\n",
      "Episode complete. Total Reward: [-339.11666667 -317.36666667 -319.45      ] jumlah step: 548 product completed:  20\n",
      "product completed:  ['C-2', 'C-1', 'B-1', 'B-2', 'B-3', 'C-4', 'C-3', 'A-4', 'B-5', 'A-6', 'C-5', 'A-1', 'B-4', 'B-6', 'B-7', 'C-7', 'C-6', 'A-3', 'A-2', 'A-5']\n",
      "\n",
      "Episode: 95\n",
      "Episode complete. Total Reward: [-425.85 -405.1  -403.1 ] jumlah step: 623 product completed:  20\n",
      "product completed:  ['C-1', 'B-2', 'A-4', 'A-5', 'A-3', 'A-1', 'C-2', 'C-3', 'B-6', 'C-4', 'B-4', 'C-6', 'B-5', 'B-7', 'C-7', 'C-5', 'B-3', 'B-1', 'A-2', 'A-6']\n",
      "\n",
      "Episode: 96\n"
     ]
    },
    {
     "name": "stderr",
     "output_type": "stream",
     "text": [
      " 10%|▉         | 98/1000 [00:05<00:50, 17.86it/s]"
     ]
    },
    {
     "name": "stdout",
     "output_type": "stream",
     "text": [
      "Episode complete. Total Reward: [-197.4        -176.56666667 -179.4       ] jumlah step: 392 product completed:  20\n",
      "product completed:  ['C-1', 'B-1', 'C-5', 'C-3', 'B-3', 'C-4', 'A-1', 'C-6', 'C-2', 'B-6', 'A-4', 'A-5', 'B-5', 'C-7', 'A-2', 'B-4', 'A-6', 'B-2', 'B-7', 'A-7']\n",
      "\n",
      "Episode: 97\n",
      "Episode complete. Total Reward: [-220.63333333 -202.13333333 -201.05      ] jumlah step: 431 product completed:  20\n",
      "product completed:  ['C-1', 'B-4', 'A-2', 'B-2', 'C-2', 'C-4', 'C-5', 'C-6', 'A-3', 'C-7', 'B-6', 'B-1', 'B-3', 'C-3', 'B-5', 'A-5', 'B-7', 'A-4', 'A-1', 'A-6']\n",
      "\n",
      "Episode: 98\n",
      "Episode complete. Total Reward: [-289.01666667 -273.43333333 -268.6       ] jumlah step: 477 product completed:  20\n",
      "product completed:  ['C-2', 'C-4', 'C-6', 'C-1', 'C-7', 'B-5', 'C-3', 'B-2', 'B-6', 'A-5', 'A-2', 'B-7', 'C-5', 'A-1', 'A-6', 'A-4', 'B-1', 'A-7', 'B-4', 'A-3']\n",
      "\n",
      "Episode: 99\n",
      "Episode complete. Total Reward: [-218.78333333 -201.2        -205.7       ] jumlah step: 423 product completed:  20\n",
      "product completed:  ['C-1', 'B-2', 'C-2', 'C-3', 'B-3', 'A-3', 'B-5', 'A-5', 'A-1', 'B-1', 'C-5', 'A-4', 'B-7', 'C-7', 'B-4', 'A-6', 'A-2', 'C-4', 'A-7', 'C-6']\n",
      "\n",
      "Episode: 100\n",
      "Episode complete. Total Reward: [-178.11666667 -165.7        -152.2       ] jumlah step: 353 product completed:  20\n",
      "product completed:  ['B-2', 'B-3', 'C-1', 'C-6', 'C-3', 'A-2', 'C-5', 'A-1', 'C-4', 'A-3', 'B-1', 'B-6', 'C-2', 'C-7', 'A-5', 'A-4', 'B-5', 'A-7', 'A-6', 'B-4']\n",
      "\n",
      "Episode: 101\n"
     ]
    },
    {
     "name": "stderr",
     "output_type": "stream",
     "text": [
      " 10%|█         | 104/1000 [00:05<00:44, 20.05it/s]"
     ]
    },
    {
     "name": "stdout",
     "output_type": "stream",
     "text": [
      "Episode complete. Total Reward: [-169.86666667 -149.86666667 -152.45      ] jumlah step: 317 product completed:  20\n",
      "product completed:  ['B-1', 'C-4', 'C-6', 'B-3', 'C-1', 'C-5', 'C-7', 'C-2', 'B-4', 'B-2', 'B-7', 'A-3', 'A-4', 'A-6', 'A-7', 'A-2', 'C-3', 'B-6', 'A-5', 'B-5']\n",
      "\n",
      "Episode: 102\n",
      "Episode complete. Total Reward: [-209.38333333 -196.96666667 -187.05      ] jumlah step: 407 product completed:  20\n",
      "product completed:  ['B-1', 'C-1', 'B-5', 'A-3', 'B-6', 'C-3', 'C-5', 'C-4', 'B-4', 'C-2', 'B-3', 'B-2', 'C-7', 'C-6', 'A-4', 'A-2', 'A-5', 'B-7', 'A-7', 'A-1']\n",
      "\n",
      "Episode: 103\n",
      "Episode complete. Total Reward: [-244.65       -217.23333333 -223.4       ] jumlah step: 414 product completed:  20\n",
      "product completed:  ['C-1', 'A-1', 'A-2', 'B-1', 'B-2', 'B-3', 'C-3', 'A-5', 'A-4', 'A-7', 'C-2', 'B-4', 'C-6', 'B-5', 'C-4', 'A-6', 'C-7', 'B-6', 'C-5', 'A-3']\n",
      "\n",
      "Episode: 104\n",
      "Episode complete. Total Reward: [-192.7        -173.86666667 -177.7       ] jumlah step: 382 product completed:  20\n",
      "product completed:  ['C-1', 'B-2', 'A-1', 'C-4', 'C-2', 'B-1', 'B-4', 'C-7', 'C-5', 'A-2', 'C-3', 'B-7', 'C-6', 'A-3', 'A-4', 'A-5', 'B-6', 'A-6', 'B-5', 'A-7']\n",
      "\n",
      "Episode: 105\n",
      "Episode complete. Total Reward: [-323.21666667 -302.13333333 -305.05      ] jumlah step: 526 product completed:  20\n",
      "product completed:  ['B-1', 'C-1', 'C-4', 'C-3', 'A-4', 'C-2', 'A-1', 'B-3', 'B-4', 'C-5', 'B-6', 'C-6', 'B-7', 'C-7', 'B-2', 'A-3', 'B-5', 'A-2', 'A-7', 'A-5']\n",
      "\n",
      "Episode: 106\n"
     ]
    },
    {
     "name": "stderr",
     "output_type": "stream",
     "text": [
      " 11%|█         | 108/1000 [00:05<00:48, 18.28it/s]"
     ]
    },
    {
     "name": "stdout",
     "output_type": "stream",
     "text": [
      "Episode complete. Total Reward: [-327.45       -305.03333333 -294.45      ] jumlah step: 532 product completed:  20\n",
      "product completed:  ['C-1', 'C-2', 'C-3', 'C-4', 'C-5', 'B-2', 'C-6', 'A-2', 'B-1', 'B-5', 'C-7', 'B-6', 'A-4', 'B-7', 'A-7', 'A-5', 'A-3', 'A-6', 'A-1', 'B-4']\n",
      "\n",
      "Episode: 107\n",
      "Episode complete. Total Reward: [-164.65 -142.4  -146.9 ] jumlah step: 334 product completed:  20\n",
      "product completed:  ['B-3', 'C-2', 'B-4', 'B-5', 'B-2', 'A-3', 'C-3', 'C-5', 'B-1', 'A-1', 'B-6', 'B-7', 'C-6', 'A-5', 'C-4', 'A-4', 'C-7', 'A-2', 'C-1', 'A-7']\n",
      "\n",
      "Episode: 108\n",
      "Episode complete. Total Reward: [-270.35       -246.76666667 -253.1       ] jumlah step: 456 product completed:  20\n",
      "product completed:  ['A-2', 'C-1', 'C-3', 'B-2', 'C-2', 'A-4', 'B-7', 'C-4', 'B-3', 'C-6', 'A-5', 'C-7', 'B-6', 'B-1', 'A-3', 'B-4', 'C-5', 'B-5', 'A-6', 'A-7']\n",
      "\n",
      "Episode: 109\n",
      "Episode complete. Total Reward: [-235.56666667 -217.23333333 -218.4       ] jumlah step: 445 product completed:  20\n",
      "product completed:  ['C-1', 'A-6', 'A-3', 'A-1', 'B-5', 'C-3', 'A-5', 'B-1', 'C-2', 'C-5', 'B-6', 'B-4', 'C-6', 'A-2', 'C-4', 'A-4', 'B-2', 'C-7', 'B-3', 'B-7']\n",
      "\n",
      "Episode: 110\n"
     ]
    },
    {
     "name": "stderr",
     "output_type": "stream",
     "text": [
      " 11%|█▏        | 113/1000 [00:05<00:48, 18.41it/s]"
     ]
    },
    {
     "name": "stdout",
     "output_type": "stream",
     "text": [
      "Episode complete. Total Reward: [-288.85 -270.6  -264.35] jumlah step: 462 product completed:  20\n",
      "product completed:  ['B-1', 'B-3', 'B-2', 'C-2', 'A-6', 'B-4', 'C-3', 'C-5', 'C-1', 'A-5', 'A-4', 'B-7', 'C-7', 'A-3', 'C-4', 'A-7', 'A-1', 'C-6', 'B-6', 'A-2']\n",
      "\n",
      "Episode: 111\n",
      "Episode complete. Total Reward: [-163.95       -145.36666667 -135.45      ] jumlah step: 338 product completed:  20\n",
      "product completed:  ['C-3', 'B-1', 'B-3', 'C-1', 'C-4', 'B-2', 'B-4', 'C-6', 'A-1', 'C-5', 'B-5', 'A-2', 'B-7', 'C-2', 'B-6', 'A-7', 'A-4', 'A-3', 'C-7', 'A-5']\n",
      "\n",
      "Episode: 112\n",
      "Episode complete. Total Reward: [-216.16666667 -202.33333333 -190.75      ] jumlah step: 409 product completed:  20\n",
      "product completed:  ['C-2', 'B-3', 'B-1', 'C-6', 'A-1', 'C-3', 'C-1', 'B-7', 'C-7', 'C-5', 'A-2', 'A-3', 'C-4', 'B-5', 'A-7', 'B-2', 'A-6', 'A-4', 'B-4', 'B-6']\n",
      "\n",
      "Episode: 113\n",
      "Episode complete. Total Reward: [-271.75       -252.66666667 -244.5       ] jumlah step: 464 product completed:  20\n",
      "product completed:  ['B-2', 'A-4', 'A-6', 'A-2', 'B-3', 'A-5', 'B-5', 'C-2', 'C-1', 'B-6', 'B-7', 'A-3', 'C-7', 'A-1', 'C-5', 'C-6', 'B-4', 'B-1', 'C-4', 'C-3']\n",
      "\n",
      "Episode: 114\n"
     ]
    },
    {
     "name": "stderr",
     "output_type": "stream",
     "text": [
      " 12%|█▏        | 118/1000 [00:06<00:45, 19.26it/s]"
     ]
    },
    {
     "name": "stdout",
     "output_type": "stream",
     "text": [
      "Episode complete. Total Reward: [-177.93333333 -156.43333333 -156.35      ] jumlah step: 335 product completed:  20\n",
      "product completed:  ['C-2', 'C-3', 'A-1', 'B-4', 'B-3', 'A-5', 'C-4', 'A-2', 'A-4', 'B-6', 'C-1', 'A-3', 'C-7', 'C-6', 'B-1', 'A-7', 'C-5', 'B-5', 'B-7', 'B-2']\n",
      "\n",
      "Episode: 115\n",
      "Episode complete. Total Reward: [-359.95       -334.53333333 -344.2       ] jumlah step: 556 product completed:  20\n",
      "product completed:  ['C-1', 'C-2', 'A-3', 'C-4', 'C-7', 'C-5', 'B-3', 'B-4', 'A-1', 'C-3', 'C-6', 'A-6', 'B-1', 'B-6', 'A-4', 'B-7', 'B-2', 'A-7', 'A-5', 'A-2']\n",
      "\n",
      "Episode: 116\n",
      "Episode complete. Total Reward: [-237.71666667 -221.8        -220.8       ] jumlah step: 446 product completed:  20\n",
      "product completed:  ['C-3', 'A-3', 'C-1', 'C-4', 'C-2', 'C-5', 'A-5', 'B-1', 'B-4', 'C-6', 'B-7', 'A-2', 'C-7', 'B-5', 'B-6', 'A-1', 'B-2', 'A-6', 'B-3', 'A-4']\n",
      "\n",
      "Episode: 117\n",
      "Episode complete. Total Reward: [-215.11666667 -200.86666667 -193.95      ] jumlah step: 405 product completed:  20\n",
      "product completed:  ['C-2', 'C-1', 'B-3', 'C-4', 'A-2', 'B-4', 'C-5', 'B-1', 'C-3', 'A-3', 'C-6', 'A-5', 'B-5', 'A-1', 'B-6', 'B-2', 'A-4', 'B-7', 'A-7', 'C-7']\n",
      "\n",
      "Episode: 118\n",
      "Episode complete. Total Reward: [-188.16666667 -164.66666667 -170.25      ] jumlah step: 379 product completed:  20\n",
      "product completed:  ['C-2', 'A-2', 'B-1', 'C-1', 'C-4', 'A-5', 'C-6', 'A-6', 'C-3', 'C-5', 'A-1', 'B-5', 'B-4', 'C-7', 'B-6', 'B-2', 'A-4', 'A-3', 'B-7', 'B-3']\n"
     ]
    },
    {
     "name": "stderr",
     "output_type": "stream",
     "text": [
      " 12%|█▏        | 122/1000 [00:06<00:46, 18.70it/s]"
     ]
    },
    {
     "name": "stdout",
     "output_type": "stream",
     "text": [
      "\n",
      "Episode: 119\n",
      "Episode complete. Total Reward: [-308.5        -289.16666667 -287.5       ] jumlah step: 495 product completed:  20\n",
      "product completed:  ['C-2', 'C-1', 'A-2', 'A-5', 'C-3', 'B-1', 'A-4', 'C-6', 'C-7', 'B-3', 'C-5', 'A-7', 'B-7', 'C-4', 'A-1', 'A-6', 'B-4', 'B-5', 'B-2', 'B-6']\n",
      "\n",
      "Episode: 120\n",
      "Episode complete. Total Reward: [-208.48333333 -184.73333333 -191.4       ] jumlah step: 410 product completed:  20\n",
      "product completed:  ['C-3', 'B-3', 'C-2', 'C-4', 'A-4', 'B-5', 'B-1', 'C-5', 'A-6', 'B-2', 'B-7', 'A-5', 'C-6', 'C-7', 'A-7', 'A-1', 'B-6', 'C-1', 'A-3', 'A-2']\n",
      "\n",
      "Episode: 121\n",
      "Episode complete. Total Reward: [-264.95 -245.2  -240.95] jumlah step: 468 product completed:  20\n",
      "product completed:  ['B-1', 'C-3', 'C-2', 'A-3', 'A-4', 'C-4', 'A-5', 'C-7', 'A-2', 'A-6', 'C-5', 'B-2', 'B-4', 'B-3', 'C-1', 'B-7', 'A-1', 'C-6', 'B-6', 'B-5']\n",
      "\n",
      "Episode: 122\n",
      "Episode complete. Total Reward: [-224.66666667 -203.33333333 -209.75      ] jumlah step: 449 product completed:  20\n",
      "product completed:  ['B-1', 'B-2', 'C-5', 'C-6', 'C-4', 'C-1', 'B-4', 'C-2', 'C-7', 'B-7', 'C-3', 'B-3', 'A-4', 'A-2', 'A-1', 'B-6', 'A-3', 'B-5', 'A-6', 'A-7']\n"
     ]
    },
    {
     "name": "stderr",
     "output_type": "stream",
     "text": [
      " 12%|█▎        | 125/1000 [00:06<00:45, 19.33it/s]"
     ]
    },
    {
     "name": "stdout",
     "output_type": "stream",
     "text": [
      "\n",
      "Episode: 123\n",
      "Episode complete. Total Reward: [-199.43333333 -187.26666667 -175.1       ] jumlah step: 381 product completed:  20\n",
      "product completed:  ['B-1', 'C-4', 'C-3', 'C-5', 'B-3', 'C-1', 'B-2', 'C-7', 'B-5', 'B-6', 'B-4', 'C-2', 'A-7', 'B-7', 'A-4', 'A-2', 'A-1', 'A-3', 'C-6', 'A-5']\n",
      "\n",
      "Episode: 124\n",
      "Episode complete. Total Reward: [-190.7 -176.2 -168.7] jumlah step: 380 product completed:  20\n",
      "product completed:  ['B-1', 'C-2', 'A-1', 'A-2', 'B-2', 'A-4', 'C-4', 'A-7', 'B-3', 'C-5', 'B-4', 'C-6', 'C-3', 'A-5', 'C-1', 'A-3', 'B-6', 'C-7', 'B-5', 'A-6']\n",
      "\n",
      "Episode: 125\n",
      "Episode complete. Total Reward: [-270.48333333 -249.73333333 -252.65      ] jumlah step: 462 product completed:  20\n",
      "product completed:  ['C-1', 'A-3', 'A-2', 'A-5', 'A-4', 'B-3', 'A-7', 'C-2', 'A-1', 'B-6', 'C-4', 'C-6', 'B-1', 'C-7', 'C-3', 'B-2', 'C-5', 'A-6', 'B-5', 'B-4']\n",
      "\n",
      "Episode: 126\n"
     ]
    },
    {
     "name": "stderr",
     "output_type": "stream",
     "text": [
      " 13%|█▎        | 129/1000 [00:06<00:48, 18.14it/s]"
     ]
    },
    {
     "name": "stdout",
     "output_type": "stream",
     "text": [
      "Episode complete. Total Reward: [-246.81666667 -230.73333333 -215.4       ] jumlah step: 437 product completed:  20\n",
      "product completed:  ['B-1', 'A-2', 'C-2', 'C-3', 'A-1', 'B-3', 'C-1', 'B-5', 'B-6', 'A-3', 'B-4', 'B-7', 'C-5', 'A-6', 'A-4', 'C-4', 'C-7', 'A-5', 'A-7', 'B-2']\n",
      "\n",
      "Episode: 127\n",
      "Episode complete. Total Reward: [-209.11666667 -190.86666667 -197.2       ] jumlah step: 389 product completed:  20\n",
      "product completed:  ['C-2', 'C-3', 'C-4', 'A-5', 'A-2', 'C-1', 'B-1', 'A-6', 'C-5', 'C-6', 'C-7', 'A-7', 'B-5', 'B-4', 'B-3', 'B-6', 'A-1', 'A-4', 'B-2', 'B-7']\n",
      "\n",
      "Episode: 128\n",
      "Episode complete. Total Reward: [-216.         -200.33333333 -192.25      ] jumlah step: 396 product completed:  20\n",
      "product completed:  ['A-1', 'C-7', 'C-2', 'C-5', 'C-3', 'A-3', 'A-2', 'B-5', 'B-4', 'C-1', 'B-2', 'C-6', 'B-1', 'C-4', 'B-3', 'B-7', 'A-4', 'A-7', 'B-6', 'A-6']\n",
      "\n",
      "Episode: 129\n",
      "Episode complete. Total Reward: [-177.45 -156.7  -165.95] jumlah step: 408 product completed:  20\n",
      "product completed:  ['C-1', 'B-1', 'C-5', 'A-1', 'C-3', 'C-6', 'A-4', 'A-5', 'B-5', 'B-4', 'B-2', 'C-4', 'C-7', 'B-6', 'A-2', 'A-3', 'B-3', 'A-6', 'C-2', 'A-7']\n",
      "\n",
      "Episode: 130\n"
     ]
    },
    {
     "name": "stderr",
     "output_type": "stream",
     "text": [
      " 13%|█▎        | 132/1000 [00:06<00:46, 18.82it/s]"
     ]
    },
    {
     "name": "stdout",
     "output_type": "stream",
     "text": [
      "Episode complete. Total Reward: [-238.26666667 -220.1        -216.85      ] jumlah step: 406 product completed:  20\n",
      "product completed:  ['B-2', 'B-1', 'B-4', 'C-3', 'A-6', 'B-3', 'C-1', 'C-5', 'C-4', 'C-2', 'B-5', 'C-7', 'A-3', 'A-1', 'A-2', 'A-4', 'A-5', 'B-7', 'C-6', 'B-6']\n",
      "\n",
      "Episode: 131\n",
      "Episode complete. Total Reward: [-160.63333333 -144.46666667 -143.8       ] jumlah step: 343 product completed:  20\n",
      "product completed:  ['C-3', 'C-2', 'C-5', 'C-6', 'B-2', 'C-4', 'A-1', 'C-1', 'B-3', 'A-4', 'A-2', 'B-1', 'C-7', 'A-3', 'B-4', 'A-6', 'B-6', 'A-7', 'B-5', 'B-7']\n",
      "\n",
      "Episode: 132\n",
      "Episode complete. Total Reward: [-265.51666667 -246.1        -241.35      ] jumlah step: 471 product completed:  20\n",
      "product completed:  ['B-1', 'A-5', 'A-4', 'C-3', 'B-2', 'C-2', 'C-4', 'B-3', 'A-6', 'A-2', 'C-1', 'C-5', 'B-5', 'C-6', 'B-6', 'A-7', 'B-7', 'A-3', 'B-4', 'A-1']\n",
      "\n",
      "Episode: 133\n",
      "Episode complete. Total Reward: [-220.11666667 -200.2        -208.45      ] jumlah step: 409 product completed:  20\n",
      "product completed:  ['C-1', 'B-3', 'B-1', 'B-2', 'C-4', 'B-5', 'C-2', 'B-4', 'C-3', 'C-5', 'A-1', 'A-5', 'A-4', 'C-7', 'A-6', 'A-3', 'B-6', 'C-6', 'B-7', 'A-7']\n",
      "\n",
      "Episode: 134\n",
      "Episode complete. Total Reward: [-196.36666667 -172.53333333 -186.2       ] jumlah step: 390 product completed:  20\n",
      "product completed:  ['C-1', 'B-1', 'A-5', 'C-3', 'C-4', 'A-3', 'A-2', 'A-4', 'C-2', 'A-1', 'B-2', 'B-7', 'B-6', 'C-7', 'A-6', 'C-5', 'B-4', 'C-6', 'B-5', 'B-3']\n",
      "\n",
      "Episode: 135\n"
     ]
    },
    {
     "name": "stderr",
     "output_type": "stream",
     "text": [
      " 14%|█▎        | 137/1000 [00:07<00:46, 18.61it/s]"
     ]
    },
    {
     "name": "stdout",
     "output_type": "stream",
     "text": [
      "Episode complete. Total Reward: [-208.28333333 -192.7        -188.2       ] jumlah step: 384 product completed:  20\n",
      "product completed:  ['B-1', 'B-3', 'C-3', 'C-2', 'A-2', 'B-2', 'C-1', 'B-4', 'A-3', 'B-5', 'C-6', 'A-4', 'A-6', 'C-5', 'C-7', 'B-6', 'A-7', 'A-1', 'C-4', 'B-7']\n",
      "\n",
      "Episode: 136\n",
      "Episode complete. Total Reward: [-317.03333333 -296.7        -288.7       ] jumlah step: 521 product completed:  20\n",
      "product completed:  ['A-1', 'B-1', 'A-3', 'A-5', 'C-3', 'C-4', 'B-2', 'B-4', 'B-6', 'C-6', 'C-1', 'C-5', 'B-3', 'C-2', 'B-5', 'A-4', 'A-6', 'B-7', 'A-7', 'C-7']\n",
      "\n",
      "Episode: 137\n",
      "Episode complete. Total Reward: [-295.6        -274.93333333 -275.35      ] jumlah step: 496 product completed:  20\n",
      "product completed:  ['B-6', 'B-2', 'B-1', 'C-2', 'C-3', 'A-2', 'B-7', 'C-5', 'B-3', 'A-4', 'C-1', 'C-4', 'B-4', 'A-1', 'C-7', 'A-6', 'C-6', 'B-5', 'A-3', 'A-5']\n",
      "\n",
      "Episode: 138\n",
      "Episode complete. Total Reward: [-308.7        -291.53333333 -279.7       ] jumlah step: 492 product completed:  20\n",
      "product completed:  ['C-2', 'B-3', 'C-4', 'A-3', 'B-6', 'B-4', 'B-2', 'A-1', 'C-1', 'B-7', 'B-5', 'B-1', 'C-6', 'C-5', 'C-7', 'A-4', 'C-3', 'A-2', 'A-5', 'A-6']\n",
      "\n",
      "Episode: 139\n"
     ]
    },
    {
     "name": "stderr",
     "output_type": "stream",
     "text": [
      " 14%|█▍        | 141/1000 [00:07<00:46, 18.52it/s]"
     ]
    },
    {
     "name": "stdout",
     "output_type": "stream",
     "text": [
      "Episode complete. Total Reward: [-209.23333333 -195.56666667 -196.9       ] jumlah step: 424 product completed:  20\n",
      "product completed:  ['B-1', 'C-2', 'C-3', 'A-2', 'B-7', 'B-3', 'C-4', 'C-1', 'C-6', 'A-5', 'C-5', 'B-5', 'A-1', 'C-7', 'A-3', 'B-6', 'B-2', 'B-4', 'A-7', 'A-6']\n",
      "\n",
      "Episode: 140\n",
      "Episode complete. Total Reward: [-261.33333333 -234.         -243.25      ] jumlah step: 449 product completed:  20\n",
      "product completed:  ['B-3', 'A-4', 'C-2', 'A-3', 'B-1', 'C-1', 'A-5', 'B-4', 'C-4', 'C-3', 'A-1', 'C-5', 'A-6', 'C-7', 'B-7', 'B-6', 'B-2', 'A-2', 'A-7', 'C-6']\n",
      "\n",
      "Episode: 141\n",
      "Episode complete. Total Reward: [-211.75 -197.   -191.5 ] jumlah step: 424 product completed:  20\n",
      "product completed:  ['B-3', 'B-5', 'B-1', 'C-1', 'C-2', 'B-4', 'A-5', 'A-3', 'A-2', 'C-5', 'C-6', 'A-6', 'C-4', 'B-2', 'B-6', 'A-7', 'C-3', 'A-4', 'C-7', 'B-7']\n",
      "\n",
      "Episode: 142\n",
      "Episode complete. Total Reward: [-252.6        -235.76666667 -228.85      ] jumlah step: 444 product completed:  20\n",
      "product completed:  ['C-4', 'B-2', 'C-1', 'B-4', 'C-6', 'C-3', 'B-3', 'C-5', 'C-2', 'B-5', 'A-1', 'B-6', 'A-2', 'A-4', 'C-7', 'B-7', 'A-3', 'A-6', 'B-1', 'A-7']\n",
      "\n",
      "Episode: 143\n"
     ]
    },
    {
     "name": "stderr",
     "output_type": "stream",
     "text": [
      " 14%|█▍        | 145/1000 [00:07<00:47, 17.90it/s]"
     ]
    },
    {
     "name": "stdout",
     "output_type": "stream",
     "text": [
      "Episode complete. Total Reward: [-317.6        -291.76666667 -292.35      ] jumlah step: 508 product completed:  20\n",
      "product completed:  ['B-3', 'C-2', 'B-2', 'B-4', 'B-1', 'A-7', 'A-2', 'A-6', 'A-3', 'B-7', 'B-6', 'C-4', 'C-7', 'C-3', 'A-4', 'B-5', 'C-6', 'C-5', 'A-5', 'A-1']\n",
      "\n",
      "Episode: 144\n",
      "Episode complete. Total Reward: [-222.88333333 -208.96666667 -200.8       ] jumlah step: 421 product completed:  20\n",
      "product completed:  ['C-1', 'B-6', 'C-2', 'B-1', 'B-5', 'C-4', 'B-3', 'C-5', 'A-4', 'A-6', 'A-7', 'C-6', 'C-7', 'C-3', 'A-2', 'A-5', 'B-2', 'B-4', 'B-7', 'A-3']\n",
      "\n",
      "Episode: 145\n",
      "Episode complete. Total Reward: [-131.75       -113.33333333 -117.25      ] jumlah step: 323 product completed:  20\n",
      "product completed:  ['C-1', 'A-3', 'C-4', 'C-5', 'A-2', 'B-4', 'C-7', 'C-6', 'B-2', 'B-7', 'B-1', 'B-3', 'C-3', 'B-5', 'A-1', 'C-2', 'A-6', 'A-7', 'A-4', 'A-5']\n",
      "\n",
      "Episode: 146\n",
      "Episode complete. Total Reward: [-183.66666667 -161.33333333 -163.        ] jumlah step: 353 product completed:  20\n",
      "product completed:  ['B-2', 'A-1', 'B-3', 'A-5', 'A-6', 'A-4', 'C-3', 'C-1', 'A-7', 'C-2', 'A-2', 'C-6', 'B-5', 'B-7', 'C-7', 'A-3', 'B-6', 'B-4', 'C-4', 'C-5']\n",
      "\n",
      "Episode: 147\n",
      "Episode complete. Total Reward: [-185.86666667 -164.36666667 -169.7       ] jumlah step: 392 product completed:  20\n",
      "product completed:  ['C-1', 'C-3', 'C-2', 'A-3', 'C-5', 'B-1', 'C-6', 'A-2', 'A-4', 'A-1', 'A-7', 'C-7', 'C-4', 'B-5', 'B-6', 'B-3', 'A-6', 'B-4', 'A-5', 'B-2']\n",
      "\n",
      "Episode: 148\n"
     ]
    },
    {
     "name": "stderr",
     "output_type": "stream",
     "text": [
      " 15%|█▌        | 151/1000 [00:07<00:43, 19.46it/s]"
     ]
    },
    {
     "name": "stdout",
     "output_type": "stream",
     "text": [
      "Episode complete. Total Reward: [-256.25       -245.83333333 -237.25      ] jumlah step: 457 product completed:  20\n",
      "product completed:  ['B-6', 'B-7', 'B-4', 'B-1', 'B-3', 'B-5', 'A-3', 'C-2', 'C-4', 'C-5', 'A-4', 'A-2', 'C-7', 'A-1', 'C-3', 'C-6', 'A-6', 'C-1', 'B-2', 'A-7']\n",
      "\n",
      "Episode: 149\n",
      "Episode complete. Total Reward: [-183.2        -161.53333333 -171.7       ] jumlah step: 355 product completed:  20\n",
      "product completed:  ['B-1', 'C-3', 'B-3', 'C-2', 'A-1', 'C-4', 'A-4', 'B-5', 'B-6', 'A-5', 'C-6', 'C-1', 'C-5', 'C-7', 'A-7', 'A-2', 'A-6', 'B-7', 'B-2', 'A-3']\n",
      "\n",
      "Episode: 150\n",
      "Episode complete. Total Reward: [-152.8        -134.96666667 -136.8       ] jumlah step: 358 product completed:  20\n",
      "product completed:  ['B-2', 'B-3', 'B-4', 'A-3', 'A-2', 'B-5', 'C-4', 'C-3', 'C-2', 'C-5', 'B-1', 'C-1', 'A-5', 'B-7', 'A-4', 'C-6', 'C-7', 'A-7', 'A-6', 'B-6']\n",
      "\n",
      "Episode: 151\n",
      "Episode complete. Total Reward: [-203.55       -186.96666667 -186.3       ] jumlah step: 390 product completed:  20\n",
      "product completed:  ['C-1', 'B-4', 'B-1', 'B-3', 'B-7', 'C-2', 'C-3', 'A-3', 'C-4', 'A-5', 'B-5', 'B-2', 'A-1', 'B-6', 'C-6', 'C-5', 'A-7', 'A-2', 'C-7', 'A-4']\n",
      "\n",
      "Episode: 152\n",
      "Episode complete. Total Reward: [-292.23333333 -271.23333333 -271.4       ] jumlah step: 473 product completed:  20\n",
      "product completed:  ['C-2', 'B-3', 'C-1', 'B-2', 'A-2', 'C-3', 'B-4', 'C-4', 'C-5', 'A-3', 'B-5', 'C-7', 'A-1', 'C-6', 'B-1', 'A-4', 'A-7', 'B-7', 'B-6', 'A-5']\n",
      "\n",
      "Episode: 153\n"
     ]
    },
    {
     "name": "stderr",
     "output_type": "stream",
     "text": [
      " 16%|█▌        | 155/1000 [00:08<00:48, 17.26it/s]"
     ]
    },
    {
     "name": "stdout",
     "output_type": "stream",
     "text": [
      "Episode complete. Total Reward: [-260.51666667 -244.6        -241.1       ] jumlah step: 475 product completed:  20\n",
      "product completed:  ['C-1', 'C-2', 'C-3', 'A-6', 'A-5', 'A-2', 'B-3', 'C-4', 'B-6', 'A-1', 'A-3', 'C-7', 'B-2', 'C-6', 'C-5', 'B-5', 'B-7', 'B-4', 'B-1', 'A-4']\n",
      "\n",
      "Episode: 154\n",
      "Episode complete. Total Reward: [-477.76666667 -458.26666667 -456.85      ] jumlah step: 700 product completed:  19\n",
      "product completed:  ['C-6', 'B-1', 'A-1', 'C-3', 'C-4', 'A-2', 'C-5', 'A-3', 'C-1', 'A-4', 'B-2', 'B-5', 'C-2', 'C-7', 'B-6', 'B-7', 'B-4', 'B-3', 'A-5']\n",
      "\n",
      "Episode: 155\n",
      "Episode complete. Total Reward: [-240.88333333 -219.3        -224.8       ] jumlah step: 447 product completed:  20\n",
      "product completed:  ['C-1', 'C-4', 'B-2', 'C-5', 'A-2', 'B-4', 'A-4', 'B-1', 'C-2', 'A-3', 'C-6', 'B-6', 'C-7', 'B-5', 'A-1', 'A-7', 'B-7', 'A-5', 'C-3', 'A-6']\n",
      "\n",
      "Episode: 156\n",
      "Episode complete. Total Reward: [-279.88333333 -264.96666667 -256.55      ] jumlah step: 496 product completed:  20\n",
      "product completed:  ['A-4', 'A-3', 'C-2', 'B-2', 'B-1', 'C-1', 'A-5', 'C-7', 'C-6', 'C-3', 'C-5', 'C-4', 'A-1', 'B-7', 'B-4', 'B-5', 'A-6', 'A-7', 'A-2', 'B-6']\n",
      "\n",
      "Episode: 157\n"
     ]
    },
    {
     "name": "stderr",
     "output_type": "stream",
     "text": [
      " 16%|█▌        | 159/1000 [00:08<00:54, 15.48it/s]"
     ]
    },
    {
     "name": "stdout",
     "output_type": "stream",
     "text": [
      "Episode complete. Total Reward: [-306.25       -279.66666667 -287.5       ] jumlah step: 531 product completed:  20\n",
      "product completed:  ['B-1', 'B-4', 'C-3', 'C-2', 'B-6', 'A-2', 'A-4', 'B-5', 'A-3', 'A-6', 'C-4', 'A-1', 'C-1', 'B-3', 'C-7', 'C-5', 'B-7', 'C-6', 'A-7', 'B-2']\n",
      "\n",
      "Episode: 158\n",
      "Episode complete. Total Reward: [-306.63333333 -284.46666667 -279.8       ] jumlah step: 494 product completed:  20\n",
      "product completed:  ['B-4', 'B-3', 'C-2', 'C-3', 'C-1', 'B-1', 'C-4', 'B-6', 'A-5', 'C-5', 'A-2', 'B-5', 'A-1', 'B-7', 'B-2', 'A-4', 'A-7', 'A-3', 'C-6', 'A-6']\n",
      "\n",
      "Episode: 159\n",
      "Episode complete. Total Reward: [-342.13333333 -324.63333333 -319.05      ] jumlah step: 540 product completed:  20\n",
      "product completed:  ['A-2', 'C-4', 'C-1', 'C-3', 'A-1', 'C-2', 'A-4', 'C-5', 'A-3', 'B-3', 'C-7', 'C-6', 'B-1', 'B-5', 'B-7', 'B-2', 'A-7', 'A-6', 'A-5', 'B-6']\n",
      "\n",
      "Episode: 160\n"
     ]
    },
    {
     "name": "stderr",
     "output_type": "stream",
     "text": [
      " 16%|█▋        | 163/1000 [00:08<00:49, 16.83it/s]"
     ]
    },
    {
     "name": "stdout",
     "output_type": "stream",
     "text": [
      "Episode complete. Total Reward: [-261.13333333 -237.13333333 -239.55      ] jumlah step: 424 product completed:  20\n",
      "product completed:  ['C-2', 'B-3', 'C-5', 'B-4', 'C-7', 'B-1', 'C-3', 'B-5', 'A-1', 'C-1', 'B-7', 'C-4', 'B-6', 'C-6', 'B-2', 'A-3', 'A-2', 'A-6', 'A-4', 'A-5']\n",
      "\n",
      "Episode: 161\n",
      "Episode complete. Total Reward: [-282.78333333 -262.7        -261.7       ] jumlah step: 481 product completed:  20\n",
      "product completed:  ['C-1', 'C-2', 'B-3', 'C-4', 'A-2', 'C-3', 'C-5', 'A-1', 'A-4', 'A-3', 'C-7', 'B-4', 'B-7', 'A-6', 'A-7', 'B-6', 'C-6', 'B-1', 'B-2', 'A-5']\n",
      "\n",
      "Episode: 162\n",
      "Episode complete. Total Reward: [-208.65       -184.56666667 -184.65      ] jumlah step: 382 product completed:  20\n",
      "product completed:  ['C-1', 'B-2', 'B-1', 'B-5', 'B-3', 'A-2', 'C-2', 'C-3', 'C-4', 'B-4', 'C-6', 'A-4', 'C-5', 'A-1', 'A-3', 'A-7', 'C-7', 'B-7', 'A-5', 'B-6']\n",
      "\n",
      "Episode: 163\n",
      "Episode complete. Total Reward: [-214.41666667 -189.33333333 -203.        ] jumlah step: 397 product completed:  20\n",
      "product completed:  ['B-3', 'B-4', 'C-2', 'B-5', 'C-1', 'B-2', 'C-4', 'A-1', 'B-1', 'C-3', 'A-4', 'A-2', 'C-5', 'C-6', 'C-7', 'A-6', 'B-6', 'A-7', 'A-3', 'B-7']\n",
      "\n",
      "Episode: 164\n"
     ]
    },
    {
     "name": "stderr",
     "output_type": "stream",
     "text": [
      " 17%|█▋        | 168/1000 [00:09<00:45, 18.33it/s]"
     ]
    },
    {
     "name": "stdout",
     "output_type": "stream",
     "text": [
      "Episode complete. Total Reward: [-157.18333333 -140.43333333 -134.1       ] jumlah step: 337 product completed:  20\n",
      "product completed:  ['C-1', 'B-2', 'C-2', 'B-3', 'B-4', 'A-4', 'B-1', 'A-6', 'A-7', 'B-5', 'C-5', 'B-6', 'C-3', 'A-1', 'A-2', 'C-4', 'B-7', 'A-3', 'A-5', 'C-6']\n",
      "\n",
      "Episode: 165\n",
      "Episode complete. Total Reward: [-303.48333333 -283.23333333 -276.15      ] jumlah step: 489 product completed:  20\n",
      "product completed:  ['C-4', 'C-2', 'B-2', 'B-3', 'B-1', 'C-3', 'A-2', 'C-6', 'C-1', 'A-6', 'B-5', 'C-7', 'B-7', 'B-6', 'B-4', 'A-5', 'A-4', 'A-1', 'C-5', 'A-3']\n",
      "\n",
      "Episode: 166\n",
      "Episode complete. Total Reward: [-217.45       -200.53333333 -197.7       ] jumlah step: 411 product completed:  20\n",
      "product completed:  ['C-2', 'B-3', 'B-6', 'C-6', 'C-3', 'B-7', 'B-2', 'C-4', 'C-1', 'C-5', 'C-7', 'A-5', 'B-5', 'A-1', 'A-3', 'B-4', 'A-2', 'B-1', 'A-6', 'A-4']\n",
      "\n",
      "Episode: 167\n",
      "Episode complete. Total Reward: [-235.86666667 -219.03333333 -211.95      ] jumlah step: 421 product completed:  20\n",
      "product completed:  ['B-1', 'C-1', 'B-5', 'C-2', 'A-2', 'A-3', 'B-3', 'C-3', 'B-6', 'A-5', 'A-6', 'B-2', 'A-7', 'C-7', 'C-4', 'C-6', 'C-5', 'A-4', 'B-4', 'A-1']\n",
      "\n",
      "Episode: 168\n",
      "Episode complete. Total Reward: [-220.78333333 -201.7        -196.95      ] jumlah step: 423 product completed:  20\n",
      "product completed:  ['C-1', 'B-1', 'B-3', 'C-2', 'B-2', 'A-2', 'A-1', 'B-4', 'B-5', 'A-4', 'B-7', 'A-6', 'A-5', 'C-7', 'C-6', 'A-7', 'C-4', 'C-5', 'C-3', 'B-6']\n"
     ]
    },
    {
     "name": "stderr",
     "output_type": "stream",
     "text": [
      " 17%|█▋        | 171/1000 [00:09<00:44, 18.48it/s]"
     ]
    },
    {
     "name": "stdout",
     "output_type": "stream",
     "text": [
      "\n",
      "Episode: 169\n",
      "Episode complete. Total Reward: [-197.21666667 -174.63333333 -185.55      ] jumlah step: 397 product completed:  20\n",
      "product completed:  ['C-4', 'B-1', 'A-2', 'B-2', 'C-6', 'C-7', 'C-5', 'C-2', 'C-1', 'A-1', 'C-3', 'B-3', 'B-4', 'B-5', 'B-7', 'B-6', 'A-5', 'A-4', 'A-3', 'A-7']\n",
      "\n",
      "Episode: 170\n",
      "Episode complete. Total Reward: [-141.11666667 -124.03333333 -118.45      ] jumlah step: 311 product completed:  20\n",
      "product completed:  ['C-1', 'C-3', 'B-2', 'B-3', 'C-5', 'B-1', 'A-3', 'B-4', 'C-4', 'C-6', 'B-7', 'A-4', 'C-2', 'A-5', 'A-1', 'C-7', 'A-7', 'B-6', 'B-5', 'A-2']\n",
      "\n",
      "Episode: 171\n",
      "Episode complete. Total Reward: [-434.05       -421.96666667 -401.8       ] jumlah step: 624 product completed:  20\n",
      "product completed:  ['C-2', 'C-1', 'A-3', 'C-5', 'B-2', 'C-6', 'C-7', 'C-3', 'B-1', 'B-3', 'B-6', 'A-5', 'A-2', 'A-4', 'A-1', 'C-4', 'A-6', 'B-4', 'B-5', 'A-7']\n",
      "\n",
      "Episode: 172\n",
      "Episode complete. Total Reward: [-199.18333333 -181.26666667 -179.35      ] jumlah step: 395 product completed:  20\n",
      "product completed:  ['B-3', 'C-1', 'C-3', 'B-4', 'B-5', 'C-4', 'C-2', 'C-6', 'B-2', 'A-1', 'C-5', 'B-6', 'B-1', 'A-2', 'B-7', 'A-7', 'C-7', 'A-6', 'A-4', 'A-3']\n",
      "\n",
      "Episode: 173\n"
     ]
    },
    {
     "name": "stderr",
     "output_type": "stream",
     "text": [
      " 18%|█▊        | 175/1000 [00:09<00:43, 18.98it/s]"
     ]
    },
    {
     "name": "stdout",
     "output_type": "stream",
     "text": [
      "Episode complete. Total Reward: [-232.95       -222.36666667 -200.2       ] jumlah step: 437 product completed:  20\n",
      "product completed:  ['C-2', 'C-1', 'A-3', 'C-3', 'A-5', 'B-1', 'B-3', 'C-4', 'B-6', 'A-1', 'B-4', 'B-7', 'B-5', 'B-2', 'C-5', 'A-4', 'C-6', 'A-2', 'C-7', 'A-6']\n",
      "\n",
      "Episode: 174\n",
      "Episode complete. Total Reward: [-240.9  -218.4  -218.65] jumlah step: 431 product completed:  20\n",
      "product completed:  ['C-3', 'C-2', 'C-5', 'C-6', 'C-1', 'C-4', 'A-5', 'B-1', 'A-1', 'C-7', 'B-5', 'B-3', 'A-3', 'B-4', 'B-6', 'B-7', 'A-2', 'B-2', 'A-6', 'A-4']\n",
      "\n",
      "Episode: 175\n",
      "Episode complete. Total Reward: [-328.58333333 -314.33333333 -308.        ] jumlah step: 509 product completed:  20\n",
      "product completed:  ['C-3', 'C-4', 'C-1', 'C-2', 'B-2', 'C-5', 'B-6', 'B-3', 'A-2', 'C-6', 'C-7', 'A-3', 'A-1', 'A-4', 'B-5', 'B-1', 'B-4', 'A-5', 'A-6', 'B-7']\n",
      "\n",
      "Episode: 176\n",
      "Episode complete. Total Reward: [-293.71666667 -270.63333333 -272.8       ] jumlah step: 515 product completed:  20\n",
      "product completed:  ['C-2', 'C-4', 'B-1', 'C-3', 'C-1', 'C-5', 'A-2', 'A-1', 'B-2', 'A-7', 'B-4', 'B-3', 'B-7', 'A-5', 'C-6', 'C-7', 'A-4', 'A-6', 'B-5', 'A-3']\n",
      "\n",
      "Episode: 177\n"
     ]
    },
    {
     "name": "stderr",
     "output_type": "stream",
     "text": [
      " 18%|█▊        | 179/1000 [00:09<00:46, 17.58it/s]"
     ]
    },
    {
     "name": "stdout",
     "output_type": "stream",
     "text": [
      "Episode complete. Total Reward: [-195.16666667 -170.83333333 -186.75      ] jumlah step: 407 product completed:  20\n",
      "product completed:  ['C-1', 'A-4', 'B-1', 'B-4', 'C-2', 'B-2', 'B-7', 'C-3', 'A-2', 'A-7', 'B-3', 'A-3', 'B-5', 'C-4', 'A-1', 'C-7', 'C-5', 'A-5', 'B-6', 'A-6']\n",
      "\n",
      "Episode: 178\n",
      "Episode complete. Total Reward: [-291.03333333 -273.53333333 -262.95      ] jumlah step: 476 product completed:  20\n",
      "product completed:  ['C-1', 'B-2', 'C-3', 'B-1', 'C-5', 'C-7', 'C-2', 'A-1', 'C-4', 'B-6', 'C-6', 'A-2', 'B-7', 'B-5', 'B-4', 'A-5', 'A-7', 'A-3', 'A-6', 'B-3']\n",
      "\n",
      "Episode: 179\n",
      "Episode complete. Total Reward: [-322.66666667 -300.33333333 -295.5       ] jumlah step: 541 product completed:  20\n",
      "product completed:  ['B-1', 'B-2', 'A-5', 'A-2', 'A-4', 'C-4', 'C-5', 'C-1', 'C-3', 'A-1', 'C-7', 'B-3', 'C-2', 'A-6', 'A-3', 'B-5', 'C-6', 'A-7', 'B-6', 'B-7']\n",
      "\n",
      "Episode: 180\n",
      "Episode complete. Total Reward: [-164.38333333 -149.8        -138.05      ] jumlah step: 332 product completed:  20\n",
      "product completed:  ['B-1', 'C-1', 'A-3', 'C-2', 'A-2', 'C-3', 'A-1', 'C-5', 'B-6', 'A-6', 'B-3', 'B-2', 'A-7', 'C-7', 'C-6', 'A-4', 'A-5', 'C-4', 'B-7', 'B-5']\n",
      "\n",
      "Episode: 181\n"
     ]
    },
    {
     "name": "stderr",
     "output_type": "stream",
     "text": [
      " 18%|█▊        | 183/1000 [00:09<00:46, 17.60it/s]"
     ]
    },
    {
     "name": "stdout",
     "output_type": "stream",
     "text": [
      "Episode complete. Total Reward: [-313.33333333 -296.16666667 -285.25      ] jumlah step: 498 product completed:  20\n",
      "product completed:  ['C-1', 'C-3', 'B-1', 'A-1', 'A-4', 'A-3', 'B-3', 'B-4', 'B-5', 'C-6', 'A-5', 'B-6', 'B-2', 'A-2', 'A-7', 'C-4', 'C-7', 'C-2', 'B-7', 'C-5']\n",
      "\n",
      "Episode: 182\n",
      "Episode complete. Total Reward: [-273.33333333 -246.16666667 -255.        ] jumlah step: 476 product completed:  20\n",
      "product completed:  ['C-2', 'B-3', 'A-3', 'A-5', 'C-1', 'B-2', 'C-6', 'C-5', 'A-1', 'B-5', 'C-4', 'A-4', 'A-6', 'B-4', 'C-3', 'A-7', 'B-7', 'C-7', 'B-6', 'B-1']\n",
      "\n",
      "Episode: 183\n",
      "Episode complete. Total Reward: [-166.71666667 -158.13333333 -148.8       ] jumlah step: 387 product completed:  20\n",
      "product completed:  ['C-1', 'B-2', 'C-3', 'C-2', 'C-4', 'B-4', 'B-6', 'C-7', 'B-1', 'A-1', 'C-6', 'A-2', 'C-5', 'B-5', 'B-3', 'B-7', 'A-7', 'A-4', 'A-3', 'A-6']\n",
      "\n",
      "Episode: 184\n",
      "Episode complete. Total Reward: [-175.78333333 -153.2        -153.2       ] jumlah step: 358 product completed:  20\n",
      "product completed:  ['C-4', 'A-2', 'B-1', 'C-5', 'B-2', 'B-4', 'C-6', 'B-3', 'C-7', 'A-7', 'B-6', 'A-5', 'A-3', 'A-4', 'A-1', 'B-7', 'C-2', 'C-1', 'B-5', 'C-3']\n",
      "\n",
      "Episode: 185\n",
      "Episode complete. Total Reward: [-260.26666667 -239.6        -234.35      ] jumlah step: 456 product completed:  20\n",
      "product completed:  ['A-1', 'C-3', 'A-5', 'B-3', 'B-4', 'A-6', 'A-4', 'B-2', 'C-4', 'B-6', 'C-6', 'C-7', 'B-5', 'B-7', 'C-5', 'A-3', 'C-2', 'A-2', 'B-1', 'A-7']\n",
      "\n",
      "Episode: 186\n"
     ]
    },
    {
     "name": "stderr",
     "output_type": "stream",
     "text": [
      " 19%|█▉        | 188/1000 [00:10<00:46, 17.59it/s]"
     ]
    },
    {
     "name": "stdout",
     "output_type": "stream",
     "text": [
      "Episode complete. Total Reward: [-190.76666667 -171.43333333 -167.85      ] jumlah step: 395 product completed:  20\n",
      "product completed:  ['C-2', 'C-1', 'B-1', 'C-3', 'A-5', 'B-3', 'C-5', 'A-4', 'C-6', 'A-1', 'C-4', 'B-2', 'B-4', 'C-7', 'A-3', 'A-7', 'B-5', 'A-6', 'A-2', 'B-6']\n",
      "\n",
      "Episode: 187\n",
      "Episode complete. Total Reward: [-347.23333333 -335.9        -316.9       ] jumlah step: 551 product completed:  20\n",
      "product completed:  ['A-1', 'C-2', 'B-4', 'A-2', 'B-2', 'C-3', 'A-4', 'C-1', 'C-4', 'C-6', 'B-1', 'A-5', 'B-6', 'C-7', 'C-5', 'A-3', 'B-3', 'B-7', 'A-7', 'A-6']\n",
      "\n",
      "Episode: 188\n",
      "Episode complete. Total Reward: [-381.78333333 -357.7        -359.45      ] jumlah step: 586 product completed:  20\n",
      "product completed:  ['B-5', 'C-2', 'A-2', 'B-2', 'C-4', 'C-3', 'B-6', 'B-3', 'C-7', 'A-1', 'C-6', 'B-7', 'C-1', 'A-4', 'A-5', 'B-1', 'B-4', 'C-5', 'A-3', 'A-6']\n",
      "\n",
      "Episode: 189\n",
      "Episode complete. Total Reward: [-203.03333333 -175.2        -191.7       ] jumlah step: 377 product completed:  20\n",
      "product completed:  ['C-1', 'B-1', 'A-4', 'C-4', 'C-2', 'B-3', 'C-5', 'A-1', 'A-2', 'A-5', 'B-2', 'C-6', 'C-3', 'C-7', 'A-6', 'A-7', 'A-3', 'B-7', 'B-5', 'B-4']\n",
      "\n",
      "Episode: 190\n"
     ]
    },
    {
     "name": "stderr",
     "output_type": "stream",
     "text": [
      " 19%|█▉        | 194/1000 [00:10<00:43, 18.48it/s]"
     ]
    },
    {
     "name": "stdout",
     "output_type": "stream",
     "text": [
      "Episode complete. Total Reward: [-224.03333333 -208.86666667 -208.7       ] jumlah step: 437 product completed:  20\n",
      "product completed:  ['B-1', 'A-1', 'C-1', 'B-2', 'A-3', 'B-3', 'C-5', 'C-2', 'C-7', 'C-6', 'A-6', 'C-4', 'B-7', 'B-4', 'A-2', 'C-3', 'A-7', 'A-5', 'B-6', 'B-5']\n",
      "\n",
      "Episode: 191\n",
      "Episode complete. Total Reward: [-190.76666667 -173.1        -170.6       ] jumlah step: 390 product completed:  20\n",
      "product completed:  ['C-1', 'C-3', 'B-1', 'A-1', 'C-7', 'C-5', 'C-4', 'A-2', 'B-3', 'A-3', 'B-6', 'A-4', 'A-7', 'A-5', 'B-4', 'B-5', 'C-6', 'C-2', 'B-2', 'B-7']\n",
      "\n",
      "Episode: 192\n",
      "Episode complete. Total Reward: [-185.53333333 -167.86666667 -167.7       ] jumlah step: 384 product completed:  20\n",
      "product completed:  ['C-1', 'B-2', 'C-2', 'B-1', 'B-3', 'A-2', 'A-1', 'A-6', 'C-3', 'C-5', 'B-5', 'C-4', 'B-7', 'A-7', 'B-6', 'C-7', 'A-4', 'B-4', 'A-5', 'C-6']\n",
      "\n",
      "Episode: 193\n",
      "Episode complete. Total Reward: [-233.61666667 -212.53333333 -217.7       ] jumlah step: 447 product completed:  20\n",
      "product completed:  ['C-3', 'C-1', 'A-3', 'C-5', 'C-2', 'B-2', 'B-1', 'C-6', 'B-3', 'C-7', 'A-2', 'A-4', 'A-7', 'A-6', 'B-5', 'A-5', 'B-6', 'B-7', 'B-4', 'C-4']\n",
      "\n",
      "Episode: 194\n",
      "Episode complete. Total Reward: [-301.31666667 -285.73333333 -279.65      ] jumlah step: 524 product completed:  20\n",
      "product completed:  ['C-2', 'C-1', 'C-5', 'B-2', 'C-7', 'B-1', 'C-6', 'A-2', 'A-6', 'B-3', 'A-3', 'C-4', 'A-1', 'A-4', 'A-5', 'B-5', 'A-7', 'B-7', 'C-3', 'B-4']\n"
     ]
    },
    {
     "name": "stderr",
     "output_type": "stream",
     "text": [
      " 20%|█▉        | 196/1000 [00:10<00:45, 17.82it/s]"
     ]
    },
    {
     "name": "stdout",
     "output_type": "stream",
     "text": [
      "\n",
      "Episode: 195\n",
      "Episode complete. Total Reward: [-231.15       -209.73333333 -208.65      ] jumlah step: 421 product completed:  20\n",
      "product completed:  ['C-2', 'C-3', 'B-3', 'B-4', 'C-4', 'C-1', 'A-2', 'B-1', 'A-3', 'C-6', 'A-1', 'B-5', 'A-5', 'B-7', 'B-2', 'C-5', 'C-7', 'A-4', 'B-6', 'A-7']\n",
      "\n",
      "Episode: 196\n",
      "Episode complete. Total Reward: [-370.55       -348.46666667 -339.8       ] jumlah step: 553 product completed:  20\n",
      "product completed:  ['C-1', 'A-3', 'C-2', 'C-5', 'B-2', 'B-5', 'C-3', 'C-4', 'A-1', 'B-6', 'A-4', 'B-7', 'B-3', 'B-1', 'C-6', 'B-4', 'A-5', 'A-7', 'A-6', 'A-2']\n",
      "\n",
      "Episode: 197\n",
      "Episode complete. Total Reward: [-191.55       -168.13333333 -171.8       ] jumlah step: 382 product completed:  20\n",
      "product completed:  ['C-1', 'B-3', 'C-3', 'B-4', 'A-1', 'B-7', 'C-2', 'C-4', 'A-3', 'B-6', 'B-1', 'B-5', 'A-2', 'C-7', 'C-6', 'A-5', 'C-5', 'B-2', 'A-4', 'A-7']\n",
      "\n",
      "Episode: 198\n"
     ]
    },
    {
     "name": "stderr",
     "output_type": "stream",
     "text": [
      " 20%|██        | 200/1000 [00:10<00:44, 17.98it/s]"
     ]
    },
    {
     "name": "stdout",
     "output_type": "stream",
     "text": [
      "Episode complete. Total Reward: [-186.33333333 -165.16666667 -171.        ] jumlah step: 383 product completed:  20\n",
      "product completed:  ['B-5', 'B-6', 'B-3', 'B-7', 'C-2', 'C-1', 'B-4', 'A-4', 'B-1', 'C-4', 'A-1', 'C-7', 'A-5', 'A-2', 'B-2', 'C-3', 'A-3', 'A-7', 'A-6', 'C-6']\n",
      "\n",
      "Episode: 199\n",
      "Episode complete. Total Reward: [-300.15 -281.9  -281.15] jumlah step: 510 product completed:  20\n",
      "product completed:  ['C-2', 'B-3', 'C-1', 'C-4', 'B-2', 'A-1', 'C-5', 'C-3', 'B-1', 'B-5', 'C-7', 'A-2', 'C-6', 'A-5', 'B-4', 'A-3', 'A-7', 'A-4', 'B-6', 'A-6']\n",
      "\n",
      "Episode: 200\n",
      "Episode complete. Total Reward: [-151.7  -141.2  -127.95] jumlah step: 356 product completed:  20\n",
      "product completed:  ['C-3', 'C-5', 'C-6', 'B-2', 'C-4', 'A-3', 'C-7', 'B-1', 'A-1', 'B-3', 'C-2', 'C-1', 'A-7', 'B-7', 'B-6', 'A-2', 'A-5', 'A-4', 'A-6', 'B-5']\n",
      "\n",
      "Episode: 201\n",
      "Episode complete. Total Reward: [-202.53333333 -179.36666667 -182.2       ] jumlah step: 385 product completed:  20\n",
      "product completed:  ['B-5', 'B-7', 'B-1', 'B-3', 'C-1', 'B-4', 'C-4', 'B-2', 'B-6', 'C-6', 'A-3', 'C-5', 'C-7', 'A-1', 'A-4', 'C-3', 'A-2', 'A-5', 'A-6', 'A-7']\n",
      "\n",
      "Episode: 202\n",
      "Episode complete. Total Reward: [-177.35       -156.43333333 -168.35      ] jumlah step: 387 product completed:  20\n",
      "product completed:  ['C-1', 'C-3', 'C-5', 'B-4', 'C-2', 'A-1', 'B-6', 'B-7', 'C-6', 'B-2', 'B-5', 'A-2', 'C-4', 'A-3', 'C-7', 'A-4', 'A-7', 'B-3', 'B-1', 'A-6']\n",
      "\n",
      "Episode: 203\n"
     ]
    },
    {
     "name": "stderr",
     "output_type": "stream",
     "text": [
      " 20%|██        | 205/1000 [00:11<00:45, 17.66it/s]"
     ]
    },
    {
     "name": "stdout",
     "output_type": "stream",
     "text": [
      "Episode complete. Total Reward: [-268.96666667 -249.96666667 -247.55      ] jumlah step: 484 product completed:  20\n",
      "product completed:  ['B-2', 'B-5', 'C-2', 'C-1', 'B-4', 'A-4', 'C-4', 'B-7', 'A-3', 'B-3', 'C-7', 'A-1', 'C-5', 'C-6', 'A-2', 'A-6', 'B-1', 'A-5', 'B-6', 'C-3']\n",
      "\n",
      "Episode: 204\n",
      "Episode complete. Total Reward: [-283.88333333 -265.3        -264.8       ] jumlah step: 490 product completed:  20\n",
      "product completed:  ['C-2', 'C-1', 'B-1', 'B-3', 'B-5', 'A-1', 'A-2', 'A-3', 'B-2', 'C-5', 'B-7', 'C-6', 'C-4', 'C-7', 'A-5', 'B-4', 'A-6', 'A-4', 'C-3', 'B-6']\n",
      "\n",
      "Episode: 205\n",
      "Episode complete. Total Reward: [-253.05       -225.96666667 -239.55      ] jumlah step: 473 product completed:  20\n",
      "product completed:  ['B-2', 'C-3', 'B-1', 'A-1', 'C-1', 'C-4', 'B-4', 'C-2', 'C-5', 'B-3', 'A-5', 'A-7', 'A-4', 'A-6', 'B-5', 'B-7', 'A-3', 'C-7', 'B-6', 'C-6']\n",
      "\n",
      "Episode: 206\n",
      "Episode complete. Total Reward: [-203.1        -187.43333333 -183.85      ] jumlah step: 390 product completed:  20\n",
      "product completed:  ['C-2', 'A-1', 'A-6', 'C-1', 'C-3', 'B-1', 'A-3', 'C-5', 'C-4', 'B-2', 'A-2', 'B-4', 'B-7', 'C-7', 'B-5', 'C-6', 'B-3', 'B-6', 'A-4', 'A-7']\n",
      "\n",
      "Episode: 207\n",
      "Episode complete. Total Reward: [-211.11666667 -188.03333333 -195.7       ] jumlah step: 413 product completed:  20\n",
      "product completed:  ['C-1', 'B-3', 'C-4', 'B-4', 'C-2', 'C-7', 'C-5', 'B-2', 'C-6', 'B-1', 'A-4', 'A-5', 'C-3', 'A-1', 'A-7', 'B-7', 'B-6', 'A-2', 'A-3', 'B-5']\n",
      "\n",
      "Episode: 208\n"
     ]
    },
    {
     "name": "stderr",
     "output_type": "stream",
     "text": [
      " 21%|██        | 210/1000 [00:11<00:43, 18.16it/s]"
     ]
    },
    {
     "name": "stdout",
     "output_type": "stream",
     "text": [
      "Episode complete. Total Reward: [-200.48333333 -180.23333333 -176.65      ] jumlah step: 375 product completed:  20\n",
      "product completed:  ['B-3', 'C-2', 'B-1', 'B-5', 'C-5', 'B-2', 'C-4', 'B-4', 'C-3', 'C-7', 'B-7', 'C-6', 'A-5', 'C-1', 'A-2', 'A-3', 'B-6', 'A-4', 'A-6', 'A-1']\n",
      "\n",
      "Episode: 209\n",
      "Episode complete. Total Reward: [-138.95       -115.03333333 -123.2       ] jumlah step: 326 product completed:  20\n",
      "product completed:  ['A-1', 'C-4', 'C-6', 'C-1', 'A-3', 'B-3', 'C-5', 'B-2', 'A-2', 'C-2', 'C-7', 'A-7', 'B-1', 'A-5', 'B-7', 'A-4', 'B-4', 'B-6', 'B-5', 'C-3']\n",
      "\n",
      "Episode: 210\n",
      "Episode complete. Total Reward: [-289.55 -268.3  -264.55] jumlah step: 486 product completed:  20\n",
      "product completed:  ['C-2', 'C-1', 'B-1', 'A-2', 'B-2', 'C-3', 'A-4', 'C-4', 'B-5', 'B-3', 'C-7', 'C-6', 'B-4', 'A-5', 'B-6', 'C-5', 'A-7', 'A-6', 'A-1', 'A-3']\n",
      "\n",
      "Episode: 211\n",
      "Episode complete. Total Reward: [-198.05       -172.63333333 -175.8       ] jumlah step: 380 product completed:  20\n",
      "product completed:  ['B-1', 'B-2', 'A-4', 'B-3', 'B-4', 'B-5', 'A-3', 'C-1', 'A-6', 'B-6', 'A-5', 'A-7', 'C-3', 'A-2', 'C-4', 'C-6', 'C-7', 'C-5', 'B-7', 'A-1']\n",
      "\n",
      "Episode: 212\n"
     ]
    },
    {
     "name": "stderr",
     "output_type": "stream",
     "text": [
      " 22%|██▏       | 215/1000 [00:11<00:40, 19.37it/s]"
     ]
    },
    {
     "name": "stdout",
     "output_type": "stream",
     "text": [
      "Episode complete. Total Reward: [-234.73333333 -216.73333333 -210.4       ] jumlah step: 425 product completed:  20\n",
      "product completed:  ['B-2', 'B-4', 'C-1', 'A-5', 'B-1', 'A-2', 'C-2', 'C-3', 'A-6', 'A-1', 'A-3', 'C-4', 'B-7', 'A-4', 'C-5', 'A-7', 'C-7', 'C-6', 'B-6', 'B-5']\n",
      "\n",
      "Episode: 213\n",
      "Episode complete. Total Reward: [-169.36666667 -149.53333333 -149.7       ] jumlah step: 348 product completed:  20\n",
      "product completed:  ['C-1', 'B-4', 'B-2', 'B-1', 'B-3', 'C-3', 'A-1', 'C-4', 'A-7', 'A-3', 'C-6', 'C-7', 'A-5', 'B-7', 'C-2', 'C-5', 'A-2', 'B-5', 'A-6', 'A-4']\n",
      "\n",
      "Episode: 214\n",
      "Episode complete. Total Reward: [-226.61666667 -209.53333333 -207.7       ] jumlah step: 444 product completed:  20\n",
      "product completed:  ['B-2', 'B-3', 'A-3', 'B-4', 'C-2', 'C-3', 'A-2', 'C-1', 'C-4', 'C-5', 'A-1', 'C-6', 'A-4', 'A-5', 'B-1', 'A-6', 'C-7', 'B-5', 'B-7', 'B-6']\n",
      "\n",
      "Episode: 215\n",
      "Episode complete. Total Reward: [-217.2        -199.36666667 -191.45      ] jumlah step: 462 product completed:  20\n",
      "product completed:  ['C-2', 'C-3', 'B-4', 'B-3', 'C-4', 'B-2', 'C-1', 'C-5', 'C-6', 'B-6', 'A-2', 'B-1', 'A-5', 'A-1', 'A-7', 'A-6', 'A-3', 'C-7', 'A-4', 'B-5']\n",
      "\n",
      "Episode: 216\n",
      "Episode complete. Total Reward: [-181.85       -168.26666667 -160.6       ] jumlah step: 391 product completed:  20\n",
      "product completed:  ['C-3', 'C-6', 'C-4', 'C-5', 'B-1', 'C-7', 'A-4', 'C-1', 'B-2', 'A-1', 'A-2', 'A-6', 'A-3', 'B-4', 'B-5', 'B-3', 'B-6', 'A-7', 'C-2', 'A-5']\n",
      "\n",
      "Episode: 217\n"
     ]
    },
    {
     "name": "stderr",
     "output_type": "stream",
     "text": [
      " 22%|██▏       | 221/1000 [00:11<00:38, 19.98it/s]"
     ]
    },
    {
     "name": "stdout",
     "output_type": "stream",
     "text": [
      "Episode complete. Total Reward: [-254.58333333 -231.         -237.75      ] jumlah step: 460 product completed:  20\n",
      "product completed:  ['C-1', 'C-2', 'B-4', 'B-3', 'B-1', 'B-2', 'C-5', 'C-3', 'A-2', 'B-5', 'B-7', 'A-3', 'B-6', 'C-4', 'C-7', 'A-5', 'A-1', 'A-4', 'A-7', 'C-6']\n",
      "\n",
      "Episode: 218\n",
      "Episode complete. Total Reward: [-278.65       -256.56666667 -271.65      ] jumlah step: 506 product completed:  20\n",
      "product completed:  ['C-2', 'C-3', 'C-5', 'C-1', 'B-1', 'C-6', 'A-1', 'C-7', 'C-4', 'A-3', 'B-3', 'B-2', 'A-5', 'B-6', 'B-5', 'B-7', 'B-4', 'A-4', 'A-6', 'A-2']\n",
      "\n",
      "Episode: 219\n",
      "Episode complete. Total Reward: [-191.18333333 -171.6        -171.35      ] jumlah step: 381 product completed:  20\n",
      "product completed:  ['B-1', 'C-2', 'B-4', 'C-1', 'B-6', 'A-4', 'A-3', 'A-2', 'C-3', 'C-4', 'C-5', 'B-7', 'C-7', 'A-5', 'B-3', 'B-5', 'B-2', 'C-6', 'A-1', 'A-6']\n",
      "\n",
      "Episode: 220\n",
      "Episode complete. Total Reward: [-210.06666667 -189.73333333 -187.65      ] jumlah step: 399 product completed:  20\n",
      "product completed:  ['C-3', 'C-2', 'C-5', 'C-6', 'B-2', 'C-7', 'B-5', 'B-3', 'B-1', 'B-6', 'B-7', 'A-1', 'A-2', 'C-1', 'B-4', 'A-4', 'C-4', 'A-3', 'A-7', 'A-5']\n",
      "\n",
      "Episode: 221\n",
      "Episode complete. Total Reward: [-238.95       -219.36666667 -215.45      ] jumlah step: 419 product completed:  20\n",
      "product completed:  ['C-4', 'B-2', 'C-1', 'C-2', 'A-6', 'B-1', 'C-3', 'A-5', 'A-1', 'B-3', 'A-3', 'B-5', 'A-2', 'C-6', 'C-7', 'C-5', 'B-6', 'A-7', 'B-7', 'B-4']\n"
     ]
    },
    {
     "name": "stderr",
     "output_type": "stream",
     "text": [
      " 22%|██▏       | 224/1000 [00:12<00:37, 20.77it/s]"
     ]
    },
    {
     "name": "stdout",
     "output_type": "stream",
     "text": [
      "\n",
      "Episode: 222\n",
      "Episode complete. Total Reward: [-192.18333333 -167.1        -168.1       ] jumlah step: 366 product completed:  20\n",
      "product completed:  ['B-4', 'A-1', 'B-1', 'C-5', 'B-5', 'B-3', 'A-2', 'C-4', 'A-6', 'C-3', 'A-3', 'C-7', 'B-6', 'A-4', 'C-6', 'B-7', 'C-2', 'C-1', 'A-5', 'B-2']\n",
      "\n",
      "Episode: 223\n",
      "Episode complete. Total Reward: [-274.68333333 -252.93333333 -252.1       ] jumlah step: 470 product completed:  20\n",
      "product completed:  ['B-4', 'B-1', 'C-2', 'C-3', 'B-5', 'B-2', 'A-2', 'C-6', 'C-1', 'C-4', 'C-7', 'A-4', 'A-7', 'A-5', 'B-6', 'B-3', 'C-5', 'A-6', 'B-7', 'A-3']\n",
      "\n",
      "Episode: 224\n",
      "Episode complete. Total Reward: [-159.43333333 -143.43333333 -136.85      ] jumlah step: 349 product completed:  20\n",
      "product completed:  ['B-1', 'B-2', 'C-1', 'B-3', 'B-4', 'C-2', 'C-3', 'A-4', 'A-1', 'A-2', 'C-6', 'B-6', 'A-3', 'C-7', 'B-5', 'C-4', 'B-7', 'A-6', 'A-7', 'C-5']\n",
      "\n",
      "Episode: 225\n",
      "Episode complete. Total Reward: [-179.33333333 -158.         -163.75      ] jumlah step: 385 product completed:  20\n",
      "product completed:  ['C-1', 'B-3', 'B-5', 'C-3', 'C-4', 'B-1', 'C-2', 'A-1', 'A-2', 'B-7', 'A-3', 'B-4', 'B-2', 'C-7', 'A-6', 'B-6', 'C-6', 'A-7', 'A-4', 'C-5']\n",
      "\n",
      "Episode: 226\n"
     ]
    },
    {
     "name": "stderr",
     "output_type": "stream",
     "text": [
      " 23%|██▎       | 227/1000 [00:12<00:37, 20.61it/s]"
     ]
    },
    {
     "name": "stdout",
     "output_type": "stream",
     "text": [
      "Episode complete. Total Reward: [-270.23333333 -256.4        -245.4       ] jumlah step: 470 product completed:  20\n",
      "product completed:  ['A-6', 'A-3', 'C-1', 'B-1', 'B-2', 'A-4', 'A-1', 'C-2', 'C-6', 'C-4', 'B-4', 'C-3', 'B-3', 'B-5', 'B-6', 'C-5', 'C-7', 'A-5', 'B-7', 'A-2']\n",
      "\n",
      "Episode: 227\n",
      "Episode complete. Total Reward: [-262.16666667 -238.66666667 -239.75      ] jumlah step: 426 product completed:  20\n",
      "product completed:  ['C-3', 'A-1', 'B-3', 'C-2', 'C-1', 'B-4', 'B-5', 'B-1', 'A-7', 'A-4', 'B-6', 'C-6', 'B-2', 'C-4', 'A-3', 'C-5', 'B-7', 'A-5', 'C-7', 'A-6']\n",
      "\n",
      "Episode: 228\n",
      "Episode complete. Total Reward: [-265.55 -250.8  -247.3 ] jumlah step: 463 product completed:  20\n",
      "product completed:  ['C-1', 'C-4', 'C-2', 'A-2', 'A-3', 'A-1', 'C-6', 'B-2', 'A-5', 'B-3', 'B-1', 'B-5', 'C-5', 'A-6', 'C-7', 'A-7', 'B-7', 'A-4', 'B-6', 'B-4']\n",
      "\n",
      "Episode: 229\n",
      "Episode complete. Total Reward: [-399.43333333 -372.93333333 -385.6       ] jumlah step: 611 product completed:  20\n",
      "product completed:  ['B-3', 'B-1', 'C-2', 'B-2', 'C-1', 'B-6', 'C-4', 'B-4', 'C-3', 'C-6', 'A-4', 'B-7', 'C-5', 'B-5', 'A-7', 'A-3', 'A-1', 'A-2', 'C-7', 'A-6']\n",
      "\n",
      "Episode: 230\n"
     ]
    },
    {
     "name": "stderr",
     "output_type": "stream",
     "text": [
      " 23%|██▎       | 233/1000 [00:12<00:38, 19.73it/s]"
     ]
    },
    {
     "name": "stdout",
     "output_type": "stream",
     "text": [
      "Episode complete. Total Reward: [-217.3        -195.63333333 -193.8       ] jumlah step: 405 product completed:  20\n",
      "product completed:  ['B-1', 'B-3', 'A-3', 'A-2', 'B-6', 'C-2', 'B-2', 'B-7', 'C-3', 'C-4', 'B-4', 'C-7', 'C-6', 'C-5', 'B-5', 'C-1', 'A-7', 'A-5', 'A-1', 'A-4']\n",
      "\n",
      "Episode: 231\n",
      "Episode complete. Total Reward: [-214.3  -200.3  -198.05] jumlah step: 412 product completed:  20\n",
      "product completed:  ['C-5', 'C-6', 'C-1', 'C-7', 'C-4', 'B-4', 'C-2', 'B-5', 'B-6', 'A-2', 'B-1', 'C-3', 'A-3', 'A-6', 'A-4', 'B-7', 'A-7', 'B-2', 'B-3', 'A-5']\n",
      "\n",
      "Episode: 232\n",
      "Episode complete. Total Reward: [-193.93333333 -176.93333333 -178.35      ] jumlah step: 413 product completed:  20\n",
      "product completed:  ['C-2', 'B-3', 'C-1', 'B-2', 'C-3', 'C-5', 'C-6', 'C-4', 'A-1', 'C-7', 'B-7', 'B-6', 'B-1', 'B-4', 'A-5', 'A-7', 'A-2', 'A-4', 'A-6', 'B-5']\n",
      "\n",
      "Episode: 233\n",
      "Episode complete. Total Reward: [-217.16666667 -193.33333333 -205.5       ] jumlah step: 427 product completed:  20\n",
      "product completed:  ['B-2', 'B-4', 'C-1', 'B-1', 'B-6', 'A-2', 'B-7', 'C-3', 'C-2', 'C-5', 'A-1', 'B-5', 'C-4', 'A-4', 'A-6', 'C-7', 'A-7', 'A-3', 'C-6', 'B-3']\n",
      "\n",
      "Episode: 234\n",
      "Episode complete. Total Reward: [-239.76666667 -221.6        -218.6       ] jumlah step: 440 product completed:  20\n",
      "product completed:  ['C-1', 'A-1', 'B-3', 'A-4', 'B-1', 'C-3', 'A-2', 'C-2', 'B-5', 'C-4', 'C-6', 'B-7', 'B-6', 'A-5', 'A-6', 'B-2', 'C-7', 'A-3', 'A-7', 'C-5']\n",
      "\n",
      "Episode: 235\n"
     ]
    },
    {
     "name": "stderr",
     "output_type": "stream",
     "text": [
      " 24%|██▍       | 238/1000 [00:12<00:40, 18.64it/s]"
     ]
    },
    {
     "name": "stdout",
     "output_type": "stream",
     "text": [
      "Episode complete. Total Reward: [-293.         -275.16666667 -272.        ] jumlah step: 488 product completed:  20\n",
      "product completed:  ['B-1', 'B-3', 'C-1', 'A-5', 'C-2', 'A-7', 'B-5', 'B-7', 'C-3', 'A-1', 'C-4', 'B-2', 'B-6', 'C-7', 'A-2', 'B-4', 'C-5', 'A-4', 'A-3', 'C-6']\n",
      "\n",
      "Episode: 236\n",
      "Episode complete. Total Reward: [-244.98333333 -227.73333333 -217.65      ] jumlah step: 436 product completed:  20\n",
      "product completed:  ['B-2', 'B-3', 'A-6', 'A-5', 'B-6', 'A-7', 'B-4', 'C-2', 'A-4', 'B-7', 'C-4', 'B-5', 'C-1', 'A-3', 'C-6', 'A-1', 'C-7', 'A-2', 'C-3', 'C-5']\n",
      "\n",
      "Episode: 237\n",
      "Episode complete. Total Reward: [-216.93333333 -192.43333333 -192.6       ] jumlah step: 392 product completed:  20\n",
      "product completed:  ['B-2', 'C-2', 'B-3', 'A-1', 'C-1', 'B-1', 'B-4', 'B-7', 'B-5', 'C-5', 'C-6', 'A-3', 'A-2', 'A-6', 'A-5', 'C-7', 'B-6', 'C-4', 'C-3', 'A-7']\n",
      "\n",
      "Episode: 238\n",
      "Episode complete. Total Reward: [-341.6        -324.26666667 -318.35      ] jumlah step: 529 product completed:  20\n",
      "product completed:  ['C-2', 'B-2', 'C-3', 'A-4', 'C-1', 'B-3', 'C-4', 'A-6', 'B-1', 'A-2', 'C-7', 'A-5', 'C-5', 'C-6', 'B-6', 'A-3', 'A-1', 'B-4', 'B-7', 'B-5']\n",
      "\n",
      "Episode: 239\n",
      "Episode complete. Total Reward: [-233.58333333 -222.         -207.75      ] jumlah step: 447 product completed:  20\n",
      "product completed:  ['C-2', 'A-4', 'B-2', 'C-1', 'A-6', 'C-3', 'C-5', 'C-4', 'C-7', 'A-3', 'A-2', 'C-6', 'B-3', 'A-5', 'A-7', 'B-1', 'B-5', 'B-6', 'B-7', 'B-4']\n",
      "\n",
      "Episode: 240\n"
     ]
    },
    {
     "name": "stderr",
     "output_type": "stream",
     "text": [
      " 24%|██▍       | 242/1000 [00:12<00:41, 18.35it/s]"
     ]
    },
    {
     "name": "stdout",
     "output_type": "stream",
     "text": [
      "Episode complete. Total Reward: [-281.31666667 -253.73333333 -264.15      ] jumlah step: 485 product completed:  20\n",
      "product completed:  ['B-1', 'C-1', 'C-2', 'C-4', 'C-3', 'B-6', 'B-7', 'B-3', 'C-5', 'C-7', 'A-4', 'A-2', 'C-6', 'B-5', 'B-2', 'A-7', 'A-1', 'A-5', 'A-6', 'B-4']\n",
      "\n",
      "Episode: 241\n",
      "Episode complete. Total Reward: [-159.38333333 -143.8        -137.3       ] jumlah step: 360 product completed:  20\n",
      "product completed:  ['C-3', 'C-4', 'C-1', 'B-2', 'B-5', 'A-5', 'C-2', 'B-6', 'B-1', 'C-6', 'A-1', 'B-7', 'C-5', 'B-4', 'A-3', 'A-4', 'B-3', 'C-7', 'A-2', 'A-6']\n",
      "\n",
      "Episode: 242\n",
      "Episode complete. Total Reward: [-241.23333333 -230.73333333 -221.4       ] jumlah step: 457 product completed:  20\n",
      "product completed:  ['C-1', 'B-4', 'C-2', 'C-4', 'B-2', 'B-3', 'A-3', 'C-5', 'C-3', 'C-6', 'A-7', 'C-7', 'A-6', 'A-1', 'A-4', 'B-1', 'A-5', 'A-2', 'B-6', 'B-7']\n",
      "\n",
      "Episode: 243\n",
      "Episode complete. Total Reward: [-172.01666667 -147.26666667 -162.35      ] jumlah step: 362 product completed:  20\n",
      "product completed:  ['A-2', 'C-1', 'C-2', 'B-6', 'B-5', 'B-2', 'B-4', 'B-3', 'A-4', 'B-7', 'C-3', 'C-4', 'C-6', 'A-6', 'C-5', 'A-1', 'A-3', 'A-7', 'A-5', 'C-7']\n",
      "\n",
      "Episode: 244\n",
      "Episode complete. Total Reward: [-191.96666667 -171.46666667 -176.55      ] jumlah step: 360 product completed:  20\n",
      "product completed:  ['C-2', 'C-1', 'B-6', 'B-3', 'C-3', 'B-4', 'C-7', 'A-2', 'C-5', 'A-1', 'C-6', 'B-2', 'A-3', 'B-5', 'A-7', 'B-1', 'B-7', 'C-4', 'A-4', 'A-6']\n",
      "\n",
      "Episode: 245\n"
     ]
    },
    {
     "name": "stderr",
     "output_type": "stream",
     "text": [
      " 25%|██▍       | 247/1000 [00:13<00:40, 18.79it/s]"
     ]
    },
    {
     "name": "stdout",
     "output_type": "stream",
     "text": [
      "Episode complete. Total Reward: [-281.8  -265.3  -254.05] jumlah step: 479 product completed:  20\n",
      "product completed:  ['C-3', 'C-4', 'B-1', 'B-2', 'C-5', 'B-4', 'A-1', 'C-6', 'B-3', 'C-1', 'C-2', 'B-5', 'A-2', 'C-7', 'A-3', 'A-4', 'B-7', 'A-7', 'A-5', 'B-6']\n",
      "\n",
      "Episode: 246\n",
      "Episode complete. Total Reward: [-130.31666667 -107.56666667 -116.9       ] jumlah step: 327 product completed:  20\n",
      "product completed:  ['C-1', 'B-4', 'B-7', 'A-2', 'C-2', 'B-5', 'A-4', 'B-3', 'B-2', 'C-3', 'B-1', 'C-7', 'A-3', 'C-5', 'B-6', 'A-5', 'C-6', 'A-7', 'C-4', 'A-6']\n",
      "\n",
      "Episode: 247\n",
      "Episode complete. Total Reward: [-143.93333333 -128.1        -124.35      ] jumlah step: 335 product completed:  20\n",
      "product completed:  ['C-1', 'A-4', 'A-2', 'B-4', 'B-5', 'B-2', 'C-2', 'A-6', 'C-4', 'A-3', 'C-5', 'C-3', 'C-7', 'A-5', 'B-1', 'B-6', 'A-1', 'B-3', 'C-6', 'A-7']\n",
      "\n",
      "Episode: 248\n",
      "Episode complete. Total Reward: [-261.05       -240.46666667 -236.05      ] jumlah step: 439 product completed:  20\n",
      "product completed:  ['C-1', 'A-1', 'C-4', 'A-3', 'C-3', 'B-3', 'C-2', 'B-4', 'C-5', 'C-6', 'A-4', 'B-5', 'C-7', 'B-6', 'B-1', 'B-2', 'A-7', 'B-7', 'A-5', 'A-6']\n",
      "\n",
      "Episode: 249\n"
     ]
    },
    {
     "name": "stderr",
     "output_type": "stream",
     "text": [
      " 25%|██▌       | 251/1000 [00:13<00:40, 18.48it/s]"
     ]
    },
    {
     "name": "stdout",
     "output_type": "stream",
     "text": [
      "Episode complete. Total Reward: [-218.8 -197.3 -197.3] jumlah step: 423 product completed:  20\n",
      "product completed:  ['C-3', 'B-2', 'C-5', 'C-2', 'C-1', 'C-7', 'C-6', 'B-1', 'B-5', 'A-1', 'B-7', 'A-4', 'B-4', 'C-4', 'A-5', 'B-6', 'A-6', 'B-3', 'A-7', 'A-2']\n",
      "\n",
      "Episode: 250\n",
      "Episode complete. Total Reward: [-260.91666667 -240.16666667 -242.        ] jumlah step: 469 product completed:  20\n",
      "product completed:  ['C-1', 'C-2', 'A-2', 'A-4', 'B-1', 'B-2', 'B-4', 'C-6', 'B-6', 'C-4', 'C-3', 'B-5', 'B-3', 'C-7', 'C-5', 'A-3', 'A-5', 'B-7', 'A-1', 'A-7']\n",
      "\n",
      "Episode: 251\n",
      "Episode complete. Total Reward: [-188.45 -168.7  -163.2 ] jumlah step: 385 product completed:  20\n",
      "product completed:  ['C-5', 'C-1', 'A-2', 'C-6', 'A-3', 'A-1', 'B-3', 'C-7', 'C-4', 'B-2', 'B-1', 'A-6', 'A-5', 'C-2', 'B-4', 'B-7', 'B-6', 'A-7', 'B-5', 'C-3']\n",
      "\n",
      "Episode: 252\n",
      "Episode complete. Total Reward: [-228.56666667 -209.73333333 -213.65      ] jumlah step: 428 product completed:  20\n",
      "product completed:  ['C-1', 'B-3', 'A-2', 'C-2', 'A-1', 'B-1', 'B-5', 'C-3', 'B-7', 'B-4', 'C-4', 'C-5', 'B-6', 'B-2', 'C-6', 'A-3', 'C-7', 'A-6', 'A-7', 'A-4']\n",
      "\n",
      "Episode: 253\n"
     ]
    },
    {
     "name": "stderr",
     "output_type": "stream",
     "text": [
      " 26%|██▌       | 255/1000 [00:13<00:41, 17.86it/s]"
     ]
    },
    {
     "name": "stdout",
     "output_type": "stream",
     "text": [
      "Episode complete. Total Reward: [-213.8        -198.63333333 -193.3       ] jumlah step: 411 product completed:  20\n",
      "product completed:  ['C-2', 'C-1', 'C-3', 'C-6', 'C-7', 'A-5', 'C-5', 'A-4', 'B-1', 'A-1', 'C-4', 'B-2', 'B-7', 'A-2', 'A-6', 'B-6', 'A-7', 'B-3', 'A-3', 'B-4']\n",
      "\n",
      "Episode: 254\n",
      "Episode complete. Total Reward: [-303.75       -281.66666667 -288.25      ] jumlah step: 507 product completed:  20\n",
      "product completed:  ['A-2', 'C-1', 'C-2', 'A-1', 'B-1', 'C-4', 'C-5', 'A-3', 'C-6', 'C-7', 'A-4', 'B-6', 'B-3', 'A-6', 'C-3', 'A-5', 'B-2', 'A-7', 'B-5', 'B-7']\n",
      "\n",
      "Episode: 255\n",
      "Episode complete. Total Reward: [-248.15 -224.4  -227.9 ] jumlah step: 414 product completed:  20\n",
      "product completed:  ['B-1', 'C-2', 'C-1', 'A-1', 'A-5', 'B-2', 'A-2', 'B-3', 'C-4', 'A-4', 'C-3', 'C-6', 'B-6', 'B-5', 'C-7', 'A-6', 'A-7', 'B-7', 'B-4', 'C-5']\n",
      "\n",
      "Episode: 256\n",
      "Episode complete. Total Reward: [-189.31666667 -170.23333333 -173.4       ] jumlah step: 371 product completed:  20\n",
      "product completed:  ['C-2', 'C-4', 'B-1', 'C-5', 'A-2', 'C-1', 'C-6', 'C-3', 'B-5', 'A-4', 'B-3', 'A-3', 'B-4', 'A-5', 'A-1', 'B-2', 'C-7', 'B-7', 'A-6', 'B-6']\n",
      "\n",
      "Episode: 257\n"
     ]
    },
    {
     "name": "stderr",
     "output_type": "stream",
     "text": [
      " 26%|██▌       | 260/1000 [00:13<00:39, 18.50it/s]"
     ]
    },
    {
     "name": "stdout",
     "output_type": "stream",
     "text": [
      "Episode complete. Total Reward: [-177.1 -159.6 -153.6] jumlah step: 340 product completed:  20\n",
      "product completed:  ['B-1', 'C-4', 'C-1', 'C-2', 'A-2', 'C-5', 'C-7', 'C-6', 'A-1', 'B-4', 'A-4', 'A-6', 'A-7', 'A-5', 'B-5', 'B-3', 'B-7', 'B-2', 'B-6', 'C-3']\n",
      "\n",
      "Episode: 258\n",
      "Episode complete. Total Reward: [-247.01666667 -231.6        -224.1       ] jumlah step: 453 product completed:  20\n",
      "product completed:  ['C-6', 'C-2', 'C-3', 'C-4', 'B-2', 'C-1', 'B-3', 'B-5', 'A-4', 'A-2', 'B-1', 'C-5', 'A-5', 'B-4', 'C-7', 'B-7', 'A-1', 'A-6', 'B-6', 'A-3']\n",
      "\n",
      "Episode: 259\n",
      "Episode complete. Total Reward: [-280.28333333 -260.53333333 -258.2       ] jumlah step: 475 product completed:  20\n",
      "product completed:  ['A-3', 'B-3', 'A-2', 'C-1', 'C-2', 'A-7', 'B-5', 'A-6', 'A-5', 'B-1', 'C-4', 'C-3', 'C-6', 'C-5', 'B-6', 'B-2', 'B-4', 'A-4', 'A-1', 'C-7']\n",
      "\n",
      "Episode: 260\n",
      "Episode complete. Total Reward: [-240.05       -214.96666667 -221.3       ] jumlah step: 432 product completed:  20\n",
      "product completed:  ['B-1', 'C-3', 'C-7', 'C-5', 'A-2', 'C-6', 'C-1', 'C-4', 'B-2', 'A-4', 'A-1', 'A-7', 'C-2', 'B-6', 'B-3', 'B-4', 'B-7', 'A-3', 'A-5', 'B-5']\n",
      "\n",
      "Episode: 261\n"
     ]
    },
    {
     "name": "stderr",
     "output_type": "stream",
     "text": [
      " 26%|██▋       | 264/1000 [00:14<00:42, 17.30it/s]"
     ]
    },
    {
     "name": "stdout",
     "output_type": "stream",
     "text": [
      "Episode complete. Total Reward: [-143.65       -124.23333333 -124.9       ] jumlah step: 315 product completed:  20\n",
      "product completed:  ['B-2', 'C-1', 'B-3', 'A-2', 'B-4', 'A-1', 'C-5', 'C-4', 'B-6', 'C-2', 'B-1', 'A-3', 'B-7', 'A-5', 'C-3', 'B-5', 'C-6', 'C-7', 'A-6', 'A-7']\n",
      "\n",
      "Episode: 262\n",
      "Episode complete. Total Reward: [-311.91666667 -290.5        -287.75      ] jumlah step: 501 product completed:  20\n",
      "product completed:  ['C-1', 'B-2', 'B-1', 'A-4', 'C-2', 'C-4', 'B-3', 'C-7', 'C-6', 'C-3', 'B-5', 'A-2', 'A-5', 'A-6', 'C-5', 'B-7', 'A-3', 'A-1', 'B-6', 'A-7']\n",
      "\n",
      "Episode: 263\n",
      "Episode complete. Total Reward: [-281.35       -262.93333333 -259.35      ] jumlah step: 494 product completed:  21\n",
      "product completed:  ['C-1', 'C-3', 'C-4', 'B-1', 'A-1', 'A-2', 'B-2', 'B-3', 'C-6', 'C-5', 'A-4', 'C-2', 'C-7', 'B-5', 'B-4', 'A-7', 'A-6', 'B-6', 'A-3', 'B-7', 'A-5']\n",
      "\n",
      "Episode: 264\n",
      "Episode complete. Total Reward: [-252.96666667 -229.63333333 -232.55      ] jumlah step: 459 product completed:  20\n",
      "product completed:  ['B-1', 'C-2', 'C-3', 'C-6', 'C-4', 'B-3', 'B-2', 'A-1', 'C-5', 'A-6', 'A-2', 'C-7', 'A-4', 'A-3', 'B-5', 'B-7', 'B-4', 'A-7', 'A-5', 'B-6']\n"
     ]
    },
    {
     "name": "stderr",
     "output_type": "stream",
     "text": [
      " 27%|██▋       | 266/1000 [00:14<00:42, 17.34it/s]"
     ]
    },
    {
     "name": "stdout",
     "output_type": "stream",
     "text": [
      "\n",
      "Episode: 265\n",
      "Episode complete. Total Reward: [-174.76666667 -157.6        -158.6       ] jumlah step: 365 product completed:  20\n",
      "product completed:  ['C-1', 'C-4', 'C-5', 'B-1', 'C-2', 'B-5', 'B-6', 'B-4', 'A-2', 'A-1', 'C-6', 'B-3', 'A-6', 'B-2', 'A-7', 'C-7', 'A-3', 'A-4', 'C-3', 'B-7']\n",
      "\n",
      "Episode: 266\n",
      "Episode complete. Total Reward: [-322.91666667 -298.5        -297.25      ] jumlah step: 533 product completed:  20\n",
      "product completed:  ['B-1', 'A-1', 'A-4', 'C-3', 'A-2', 'C-2', 'B-4', 'C-1', 'A-5', 'C-7', 'A-6', 'B-3', 'A-3', 'B-6', 'C-4', 'C-6', 'B-2', 'B-5', 'C-5', 'B-7']\n",
      "\n",
      "Episode: 267\n",
      "Episode complete. Total Reward: [-364.91666667 -349.         -335.25      ] jumlah step: 550 product completed:  20\n",
      "product completed:  ['B-1', 'C-3', 'C-5', 'C-2', 'C-1', 'B-2', 'C-4', 'A-4', 'B-3', 'A-1', 'B-5', 'A-5', 'B-7', 'B-4', 'C-7', 'C-6', 'B-6', 'A-2', 'A-6', 'A-7']\n",
      "\n",
      "Episode: 268\n"
     ]
    },
    {
     "name": "stderr",
     "output_type": "stream",
     "text": [
      " 27%|██▋       | 270/1000 [00:14<00:42, 17.34it/s]"
     ]
    },
    {
     "name": "stdout",
     "output_type": "stream",
     "text": [
      "Episode complete. Total Reward: [-200.51666667 -182.1        -182.35      ] jumlah step: 396 product completed:  20\n",
      "product completed:  ['C-1', 'B-2', 'B-1', 'C-2', 'C-4', 'A-1', 'C-3', 'A-2', 'B-4', 'B-5', 'B-6', 'C-6', 'A-3', 'C-7', 'C-5', 'B-3', 'A-7', 'B-7', 'A-4', 'A-5']\n",
      "\n",
      "Episode: 269\n",
      "Episode complete. Total Reward: [-309.56666667 -281.9        -292.15      ] jumlah step: 511 product completed:  20\n",
      "product completed:  ['C-1', 'C-2', 'B-2', 'B-1', 'A-5', 'A-1', 'A-3', 'B-3', 'C-3', 'B-7', 'C-6', 'A-2', 'B-6', 'C-7', 'B-4', 'C-5', 'A-4', 'A-7', 'A-6', 'C-4']\n",
      "\n",
      "Episode: 270\n",
      "Episode complete. Total Reward: [-206.41666667 -183.66666667 -186.75      ] jumlah step: 422 product completed:  20\n",
      "product completed:  ['C-1', 'B-4', 'C-4', 'C-2', 'C-6', 'C-5', 'A-1', 'A-2', 'B-1', 'B-3', 'C-3', 'B-2', 'C-7', 'B-6', 'B-5', 'A-3', 'B-7', 'A-7', 'A-5', 'A-6']\n",
      "\n",
      "Episode: 271\n",
      "Episode complete. Total Reward: [-255.65 -237.9  -229.9 ] jumlah step: 452 product completed:  20\n",
      "product completed:  ['C-2', 'B-4', 'B-3', 'B-1', 'C-3', 'C-1', 'B-7', 'B-2', 'C-4', 'C-5', 'C-7', 'B-5', 'A-1', 'B-6', 'C-6', 'A-2', 'A-5', 'A-7', 'A-6', 'A-3']\n",
      "\n",
      "Episode: 272\n"
     ]
    },
    {
     "name": "stderr",
     "output_type": "stream",
     "text": [
      " 27%|██▋       | 274/1000 [00:14<00:42, 17.17it/s]"
     ]
    },
    {
     "name": "stdout",
     "output_type": "stream",
     "text": [
      "Episode complete. Total Reward: [-214.16666667 -190.         -202.        ] jumlah step: 406 product completed:  20\n",
      "product completed:  ['B-1', 'B-2', 'C-2', 'A-3', 'C-1', 'A-6', 'A-2', 'C-3', 'B-5', 'A-4', 'A-7', 'C-4', 'C-7', 'C-5', 'B-7', 'B-3', 'C-6', 'B-4', 'B-6', 'A-5']\n",
      "\n",
      "Episode: 273\n",
      "Episode complete. Total Reward: [-287.36666667 -265.36666667 -265.2       ] jumlah step: 473 product completed:  20\n",
      "product completed:  ['B-6', 'C-1', 'C-4', 'B-4', 'C-5', 'C-3', 'C-7', 'B-5', 'A-4', 'B-7', 'A-5', 'B-3', 'A-1', 'C-6', 'A-2', 'C-2', 'B-1', 'B-2', 'A-7', 'A-6']\n",
      "\n",
      "Episode: 274\n",
      "Episode complete. Total Reward: [-245.16666667 -222.5        -224.        ] jumlah step: 461 product completed:  20\n",
      "product completed:  ['C-1', 'C-2', 'B-2', 'C-5', 'C-4', 'A-6', 'C-3', 'A-7', 'A-2', 'A-3', 'C-7', 'A-1', 'B-6', 'A-5', 'B-4', 'B-7', 'C-6', 'B-1', 'B-3', 'B-5']\n",
      "\n",
      "Episode: 275\n",
      "Episode complete. Total Reward: [-209.23333333 -191.9        -196.15      ] jumlah step: 423 product completed:  20\n",
      "product completed:  ['C-1', 'B-1', 'C-2', 'C-4', 'B-4', 'C-5', 'C-7', 'C-3', 'B-6', 'B-7', 'C-6', 'A-1', 'B-2', 'B-5', 'A-2', 'A-4', 'B-3', 'A-6', 'A-7', 'A-3']\n",
      "\n",
      "Episode: 276\n"
     ]
    },
    {
     "name": "stderr",
     "output_type": "stream",
     "text": [
      " 28%|██▊       | 278/1000 [00:15<00:43, 16.68it/s]"
     ]
    },
    {
     "name": "stdout",
     "output_type": "stream",
     "text": [
      "Episode complete. Total Reward: [-172.05 -154.8  -149.55] jumlah step: 343 product completed:  20\n",
      "product completed:  ['B-1', 'B-2', 'C-1', 'A-2', 'C-3', 'B-3', 'A-3', 'B-4', 'C-4', 'C-2', 'B-7', 'A-4', 'C-6', 'B-6', 'A-6', 'A-5', 'B-5', 'A-1', 'C-7', 'A-7']\n",
      "\n",
      "Episode: 277\n",
      "Episode complete. Total Reward: [-185.26666667 -162.6        -167.85      ] jumlah step: 385 product completed:  20\n",
      "product completed:  ['C-1', 'C-6', 'C-7', 'B-1', 'C-4', 'C-5', 'C-2', 'A-1', 'A-6', 'A-2', 'B-3', 'B-2', 'B-7', 'B-4', 'B-5', 'A-5', 'B-6', 'A-4', 'A-3', 'A-7']\n",
      "\n",
      "Episode: 278\n",
      "Episode complete. Total Reward: [-280.88333333 -257.8        -262.3       ] jumlah step: 472 product completed:  20\n",
      "product completed:  ['B-1', 'C-1', 'B-4', 'B-5', 'C-3', 'B-2', 'C-4', 'A-2', 'B-6', 'A-5', 'C-2', 'A-4', 'B-7', 'B-3', 'C-7', 'C-5', 'A-6', 'A-1', 'A-3', 'C-6']\n",
      "\n",
      "Episode: 279\n"
     ]
    },
    {
     "name": "stderr",
     "output_type": "stream",
     "text": [
      " 28%|██▊       | 282/1000 [00:15<00:44, 15.96it/s]"
     ]
    },
    {
     "name": "stdout",
     "output_type": "stream",
     "text": [
      "Episode complete. Total Reward: [-466.25 -440.   -440.25] jumlah step: 660 product completed:  20\n",
      "product completed:  ['B-1', 'C-6', 'C-4', 'A-1', 'C-7', 'C-2', 'C-1', 'C-3', 'A-4', 'C-5', 'A-5', 'B-4', 'A-2', 'A-7', 'A-3', 'B-2', 'B-5', 'A-6', 'B-3', 'B-6']\n",
      "\n",
      "Episode: 280\n",
      "Episode complete. Total Reward: [-258.23333333 -239.06666667 -236.65      ] jumlah step: 445 product completed:  20\n",
      "product completed:  ['C-1', 'C-2', 'B-3', 'B-1', 'B-4', 'B-6', 'B-5', 'A-1', 'C-4', 'B-7', 'C-7', 'C-6', 'A-3', 'C-5', 'C-3', 'A-6', 'B-2', 'A-2', 'A-7', 'A-4']\n",
      "\n",
      "Episode: 281\n",
      "Episode complete. Total Reward: [-309.86666667 -293.03333333 -289.2       ] jumlah step: 528 product completed:  20\n",
      "product completed:  ['C-5', 'C-6', 'C-7', 'C-1', 'C-2', 'C-4', 'B-6', 'B-2', 'B-5', 'B-1', 'B-3', 'A-2', 'C-3', 'A-3', 'A-4', 'A-5', 'A-1', 'B-4', 'A-6', 'B-7']\n",
      "\n",
      "Episode: 282\n",
      "Episode complete. Total Reward: [-265.03333333 -244.2        -242.7       ] jumlah step: 444 product completed:  20\n",
      "product completed:  ['C-1', 'C-2', 'C-3', 'B-3', 'B-4', 'B-1', 'C-5', 'A-2', 'C-4', 'C-6', 'B-5', 'B-7', 'C-7', 'A-3', 'A-6', 'B-6', 'A-1', 'A-7', 'B-2', 'A-4']\n",
      "\n",
      "Episode: 283\n"
     ]
    },
    {
     "name": "stderr",
     "output_type": "stream",
     "text": [
      " 29%|██▊       | 286/1000 [00:15<00:40, 17.46it/s]"
     ]
    },
    {
     "name": "stdout",
     "output_type": "stream",
     "text": [
      "Episode complete. Total Reward: [-252.76666667 -232.76666667 -227.85      ] jumlah step: 453 product completed:  20\n",
      "product completed:  ['C-1', 'C-2', 'B-2', 'C-5', 'B-1', 'B-4', 'A-3', 'C-7', 'C-6', 'B-7', 'B-6', 'B-3', 'C-3', 'A-2', 'A-7', 'A-1', 'A-6', 'B-5', 'A-4', 'A-5']\n",
      "\n",
      "Episode: 284\n",
      "Episode complete. Total Reward: [-200.51666667 -184.1        -182.1       ] jumlah step: 392 product completed:  20\n",
      "product completed:  ['C-4', 'C-2', 'B-2', 'A-1', 'C-3', 'C-1', 'C-5', 'C-6', 'B-1', 'B-4', 'B-7', 'A-3', 'A-4', 'B-6', 'C-7', 'A-6', 'A-5', 'B-3', 'A-2', 'A-7']\n",
      "\n",
      "Episode: 285\n",
      "Episode complete. Total Reward: [-231.15 -210.4  -212.65] jumlah step: 425 product completed:  20\n",
      "product completed:  ['B-2', 'B-1', 'C-1', 'B-3', 'C-3', 'B-4', 'A-4', 'A-2', 'C-6', 'C-7', 'C-5', 'A-5', 'A-3', 'A-6', 'B-6', 'A-1', 'C-2', 'A-7', 'C-4', 'B-7']\n",
      "\n",
      "Episode: 286\n",
      "Episode complete. Total Reward: [-173.96666667 -151.8        -158.55      ] jumlah step: 383 product completed:  20\n",
      "product completed:  ['C-1', 'C-4', 'C-3', 'B-4', 'B-2', 'A-1', 'C-7', 'C-5', 'B-5', 'A-4', 'B-1', 'C-6', 'A-2', 'B-3', 'C-2', 'A-6', 'B-7', 'A-5', 'A-3', 'A-7']\n",
      "\n",
      "Episode: 287\n",
      "Episode complete. Total Reward: [-179.56666667 -166.06666667 -158.4       ] jumlah step: 379 product completed:  20\n",
      "product completed:  ['C-1', 'C-2', 'B-3', 'A-2', 'B-1', 'C-5', 'C-3', 'B-6', 'B-7', 'B-5', 'A-5', 'A-3', 'A-4', 'B-4', 'A-1', 'C-4', 'C-6', 'A-6', 'C-7', 'A-7']\n",
      "\n",
      "Episode: 288\n"
     ]
    },
    {
     "name": "stderr",
     "output_type": "stream",
     "text": [
      " 29%|██▉       | 292/1000 [00:15<00:35, 20.04it/s]"
     ]
    },
    {
     "name": "stdout",
     "output_type": "stream",
     "text": [
      "Episode complete. Total Reward: [-218.96666667 -193.63333333 -206.55      ] jumlah step: 397 product completed:  20\n",
      "product completed:  ['A-1', 'C-2', 'B-3', 'A-2', 'B-4', 'B-2', 'C-4', 'C-5', 'C-1', 'B-6', 'C-6', 'C-7', 'B-5', 'C-3', 'A-4', 'A-3', 'A-7', 'B-7', 'A-6', 'B-1']\n",
      "\n",
      "Episode: 289\n",
      "Episode complete. Total Reward: [-172.21666667 -155.13333333 -156.3       ] jumlah step: 383 product completed:  20\n",
      "product completed:  ['C-4', 'C-2', 'A-1', 'C-3', 'A-2', 'A-3', 'A-4', 'C-7', 'C-6', 'C-1', 'A-7', 'B-3', 'B-2', 'C-5', 'B-4', 'B-1', 'B-7', 'B-6', 'B-5', 'A-6']\n",
      "\n",
      "Episode: 290\n",
      "Episode complete. Total Reward: [-163.08333333 -145.66666667 -142.75      ] jumlah step: 341 product completed:  20\n",
      "product completed:  ['A-4', 'C-2', 'B-1', 'C-3', 'C-6', 'C-5', 'A-5', 'A-2', 'C-4', 'C-7', 'A-7', 'B-2', 'A-6', 'B-3', 'B-7', 'B-4', 'C-1', 'B-5', 'A-1', 'A-3']\n",
      "\n",
      "Episode: 291\n",
      "Episode complete. Total Reward: [-185.68333333 -170.93333333 -161.1       ] jumlah step: 364 product completed:  20\n",
      "product completed:  ['C-2', 'B-6', 'C-1', 'A-2', 'B-5', 'B-1', 'B-2', 'A-3', 'C-3', 'A-4', 'B-4', 'B-3', 'B-7', 'C-6', 'C-5', 'C-4', 'A-6', 'A-7', 'C-7', 'A-5']\n",
      "\n",
      "Episode: 292\n",
      "Episode complete. Total Reward: [-271.33333333 -254.16666667 -249.        ] jumlah step: 452 product completed:  20\n",
      "product completed:  ['C-1', 'C-3', 'B-6', 'B-5', 'C-4', 'A-2', 'C-5', 'C-6', 'B-7', 'B-4', 'B-3', 'C-2', 'B-1', 'A-6', 'A-1', 'B-2', 'A-3', 'A-5', 'C-7', 'A-4']\n",
      "\n",
      "Episode: 293\n"
     ]
    },
    {
     "name": "stderr",
     "output_type": "stream",
     "text": [
      " 30%|██▉       | 296/1000 [00:16<00:38, 18.26it/s]"
     ]
    },
    {
     "name": "stdout",
     "output_type": "stream",
     "text": [
      "Episode complete. Total Reward: [-250.91666667 -218.5        -233.25      ] jumlah step: 442 product completed:  20\n",
      "product completed:  ['C-3', 'C-4', 'B-4', 'C-5', 'C-2', 'B-1', 'B-2', 'B-7', 'A-4', 'C-7', 'B-5', 'A-1', 'A-5', 'A-2', 'C-6', 'B-3', 'A-7', 'C-1', 'B-6', 'A-6']\n",
      "\n",
      "Episode: 294\n",
      "Episode complete. Total Reward: [-259.48333333 -236.4        -241.9       ] jumlah step: 477 product completed:  20\n",
      "product completed:  ['B-2', 'B-3', 'C-1', 'C-2', 'A-2', 'B-5', 'A-5', 'A-1', 'C-3', 'A-3', 'A-6', 'C-6', 'C-4', 'A-7', 'B-6', 'B-1', 'B-4', 'C-7', 'C-5', 'A-4']\n",
      "\n",
      "Episode: 295\n",
      "Episode complete. Total Reward: [-310.03333333 -289.7        -280.45      ] jumlah step: 481 product completed:  20\n",
      "product completed:  ['C-1', 'C-3', 'C-2', 'C-4', 'B-1', 'C-5', 'C-6', 'C-7', 'B-2', 'A-1', 'A-2', 'B-3', 'B-7', 'A-5', 'A-7', 'A-4', 'B-4', 'A-3', 'B-5', 'A-6']\n",
      "\n",
      "Episode: 296\n",
      "Episode complete. Total Reward: [-234.73333333 -211.4        -211.15      ] jumlah step: 424 product completed:  20\n",
      "product completed:  ['B-2', 'B-1', 'B-4', 'C-4', 'C-3', 'C-1', 'B-3', 'A-7', 'A-4', 'C-6', 'A-1', 'A-2', 'C-7', 'C-5', 'C-2', 'B-6', 'B-5', 'A-5', 'B-7', 'A-6']\n",
      "\n",
      "Episode: 297\n"
     ]
    },
    {
     "name": "stderr",
     "output_type": "stream",
     "text": [
      " 30%|███       | 300/1000 [00:16<00:41, 16.83it/s]"
     ]
    },
    {
     "name": "stdout",
     "output_type": "stream",
     "text": [
      "Episode complete. Total Reward: [-216.4 -195.4 -191.4] jumlah step: 406 product completed:  20\n",
      "product completed:  ['B-2', 'C-1', 'C-4', 'A-2', 'C-6', 'C-2', 'C-5', 'B-3', 'A-1', 'C-3', 'B-7', 'B-6', 'B-1', 'C-7', 'A-4', 'B-5', 'B-4', 'A-5', 'A-6', 'A-3']\n",
      "\n",
      "Episode: 298\n",
      "Episode complete. Total Reward: [-293.66666667 -274.83333333 -278.        ] jumlah step: 500 product completed:  20\n",
      "product completed:  ['C-1', 'A-2', 'C-3', 'A-3', 'C-5', 'A-5', 'C-2', 'A-1', 'C-6', 'B-5', 'B-2', 'B-1', 'A-7', 'B-7', 'A-6', 'A-4', 'B-4', 'C-4', 'C-7', 'B-3']\n",
      "\n",
      "Episode: 299\n",
      "Episode complete. Total Reward: [-249.75       -229.83333333 -232.75      ] jumlah step: 466 product completed:  20\n",
      "product completed:  ['C-3', 'B-2', 'B-5', 'C-1', 'A-1', 'C-6', 'B-1', 'B-3', 'C-4', 'C-2', 'C-7', 'C-5', 'A-6', 'B-4', 'B-6', 'A-7', 'B-7', 'A-3', 'A-2', 'A-5']\n",
      "\n",
      "Episode: 300\n",
      "Episode complete. Total Reward: [-289.76666667 -269.26666667 -265.6       ] jumlah step: 498 product completed:  20\n",
      "product completed:  ['C-2', 'B-3', 'A-1', 'C-1', 'B-2', 'C-4', 'C-3', 'B-1', 'B-7', 'B-6', 'B-5', 'C-6', 'C-5', 'A-7', 'A-4', 'A-5', 'A-6', 'A-2', 'A-3', 'B-4']\n"
     ]
    },
    {
     "name": "stderr",
     "output_type": "stream",
     "text": [
      " 30%|███       | 302/1000 [00:16<00:40, 17.12it/s]"
     ]
    },
    {
     "name": "stdout",
     "output_type": "stream",
     "text": [
      "\n",
      "Episode: 301\n",
      "Episode complete. Total Reward: [-182.75       -160.66666667 -160.75      ] jumlah step: 369 product completed:  20\n",
      "product completed:  ['B-2', 'A-2', 'A-1', 'A-3', 'C-1', 'B-4', 'A-4', 'B-1', 'B-5', 'A-6', 'C-3', 'C-6', 'C-4', 'C-2', 'B-7', 'A-5', 'C-5', 'B-3', 'C-7', 'B-6']\n",
      "\n",
      "Episode: 302\n",
      "Episode complete. Total Reward: [-300.75       -286.33333333 -272.        ] jumlah step: 499 product completed:  20\n",
      "product completed:  ['B-1', 'C-1', 'C-2', 'C-4', 'A-2', 'B-2', 'A-6', 'B-3', 'A-4', 'A-1', 'C-3', 'A-3', 'B-5', 'C-5', 'C-7', 'A-7', 'B-7', 'B-6', 'A-5', 'B-4']\n",
      "\n",
      "Episode: 303\n",
      "Episode complete. Total Reward: [-185.51666667 -175.26666667 -161.6       ] jumlah step: 378 product completed:  20\n",
      "product completed:  ['B-3', 'B-1', 'C-1', 'C-3', 'C-4', 'C-2', 'B-6', 'B-4', 'C-5', 'A-3', 'C-6', 'C-7', 'A-1', 'A-4', 'B-2', 'B-5', 'B-7', 'A-2', 'A-7', 'A-6']\n",
      "\n",
      "Episode: 304\n"
     ]
    },
    {
     "name": "stderr",
     "output_type": "stream",
     "text": [
      " 31%|███       | 307/1000 [00:16<00:38, 18.03it/s]"
     ]
    },
    {
     "name": "stdout",
     "output_type": "stream",
     "text": [
      "Episode complete. Total Reward: [-194.3  -182.8  -174.05] jumlah step: 392 product completed:  20\n",
      "product completed:  ['A-2', 'A-3', 'B-1', 'C-4', 'C-3', 'C-1', 'B-3', 'A-4', 'C-5', 'A-1', 'C-2', 'C-7', 'C-6', 'A-7', 'B-5', 'A-5', 'B-2', 'A-6', 'B-4', 'B-6']\n",
      "\n",
      "Episode: 305\n",
      "Episode complete. Total Reward: [-313.55       -290.13333333 -296.8       ] jumlah step: 509 product completed:  20\n",
      "product completed:  ['C-2', 'B-2', 'B-3', 'A-4', 'C-5', 'C-3', 'B-5', 'B-6', 'A-1', 'C-7', 'A-3', 'C-1', 'B-4', 'C-6', 'A-2', 'C-4', 'A-7', 'A-6', 'A-5', 'B-7']\n",
      "\n",
      "Episode: 306\n",
      "Episode complete. Total Reward: [-164.3        -148.13333333 -146.55      ] jumlah step: 346 product completed:  20\n",
      "product completed:  ['C-1', 'C-2', 'B-3', 'C-4', 'C-3', 'C-5', 'C-6', 'A-4', 'A-6', 'C-7', 'A-2', 'A-7', 'B-7', 'A-1', 'B-1', 'B-5', 'B-4', 'B-6', 'A-3', 'B-2']\n",
      "\n",
      "Episode: 307\n",
      "Episode complete. Total Reward: [-246.53333333 -227.03333333 -218.2       ] jumlah step: 412 product completed:  20\n",
      "product completed:  ['B-2', 'C-1', 'B-3', 'B-5', 'B-6', 'A-5', 'B-7', 'C-2', 'A-4', 'B-4', 'B-1', 'A-3', 'C-4', 'C-3', 'A-7', 'C-6', 'C-5', 'A-6', 'C-7', 'A-2']\n",
      "\n",
      "Episode: 308\n",
      "Episode complete. Total Reward: [-201.05       -183.13333333 -173.3       ] jumlah step: 379 product completed:  20\n",
      "product completed:  ['B-3', 'B-2', 'C-1', 'B-5', 'A-5', 'B-4', 'B-7', 'A-1', 'B-1', 'C-3', 'C-2', 'B-6', 'A-2', 'A-4', 'C-4', 'C-7', 'C-5', 'A-6', 'C-6', 'A-7']\n",
      "\n",
      "Episode: 309\n"
     ]
    },
    {
     "name": "stderr",
     "output_type": "stream",
     "text": [
      " 31%|███▏      | 313/1000 [00:16<00:34, 19.86it/s]"
     ]
    },
    {
     "name": "stdout",
     "output_type": "stream",
     "text": [
      "Episode complete. Total Reward: [-257.3  -238.8  -233.05] jumlah step: 435 product completed:  20\n",
      "product completed:  ['C-2', 'B-1', 'B-2', 'C-6', 'C-5', 'C-4', 'C-3', 'A-2', 'B-3', 'A-6', 'B-4', 'A-4', 'B-6', 'A-3', 'C-7', 'C-1', 'B-7', 'A-1', 'A-7', 'B-5']\n",
      "\n",
      "Episode: 310\n",
      "Episode complete. Total Reward: [-227.51666667 -209.6        -211.6       ] jumlah step: 447 product completed:  20\n",
      "product completed:  ['C-2', 'C-1', 'C-3', 'A-2', 'B-1', 'A-1', 'B-3', 'B-2', 'C-6', 'C-4', 'B-4', 'C-5', 'A-7', 'A-4', 'A-5', 'A-6', 'C-7', 'B-7', 'A-3', 'B-6']\n",
      "\n",
      "Episode: 311\n",
      "Episode complete. Total Reward: [-226.88333333 -205.3        -205.05      ] jumlah step: 423 product completed:  20\n",
      "product completed:  ['C-2', 'B-3', 'A-5', 'A-1', 'B-2', 'C-1', 'B-4', 'B-5', 'B-6', 'A-2', 'C-4', 'A-7', 'C-3', 'C-6', 'C-7', 'B-7', 'B-1', 'A-4', 'A-3', 'A-6']\n",
      "\n",
      "Episode: 312\n",
      "Episode complete. Total Reward: [-218.68333333 -192.76666667 -194.85      ] jumlah step: 394 product completed:  20\n",
      "product completed:  ['C-2', 'B-1', 'C-3', 'A-5', 'B-5', 'B-6', 'B-2', 'A-2', 'A-4', 'B-4', 'C-4', 'C-6', 'A-3', 'A-6', 'C-7', 'A-7', 'B-3', 'C-5', 'A-1', 'C-1']\n",
      "\n",
      "Episode: 313\n",
      "Episode complete. Total Reward: [-223.3        -200.96666667 -198.3       ] jumlah step: 418 product completed:  20\n",
      "product completed:  ['B-1', 'C-4', 'C-1', 'A-5', 'A-3', 'B-2', 'B-3', 'C-5', 'C-6', 'C-3', 'B-4', 'A-1', 'A-6', 'B-5', 'A-2', 'A-4', 'C-7', 'B-7', 'B-6', 'A-7']\n"
     ]
    },
    {
     "name": "stderr",
     "output_type": "stream",
     "text": [
      " 32%|███▏      | 315/1000 [00:17<00:35, 19.48it/s]"
     ]
    },
    {
     "name": "stdout",
     "output_type": "stream",
     "text": [
      "\n",
      "Episode: 314\n",
      "Episode complete. Total Reward: [-204.03333333 -185.53333333 -184.2       ] jumlah step: 388 product completed:  20\n",
      "product completed:  ['C-2', 'C-4', 'C-3', 'B-3', 'C-1', 'C-5', 'B-7', 'B-2', 'A-1', 'C-6', 'B-4', 'C-7', 'B-1', 'A-2', 'B-6', 'A-3', 'A-5', 'B-5', 'A-6', 'A-4']\n",
      "\n",
      "Episode: 315\n",
      "Episode complete. Total Reward: [-242.91666667 -223.         -222.        ] jumlah step: 446 product completed:  20\n",
      "product completed:  ['B-3', 'C-2', 'B-2', 'C-1', 'B-5', 'B-6', 'B-4', 'A-3', 'C-5', 'C-4', 'B-1', 'C-6', 'A-1', 'A-5', 'C-3', 'A-4', 'B-7', 'A-2', 'A-6', 'C-7']\n",
      "\n",
      "Episode: 316\n",
      "Episode complete. Total Reward: [-153.88333333 -134.46666667 -140.3       ] jumlah step: 349 product completed:  20\n",
      "product completed:  ['B-3', 'C-1', 'C-2', 'B-1', 'A-1', 'A-5', 'C-3', 'C-4', 'A-7', 'C-7', 'A-2', 'C-6', 'A-3', 'C-5', 'A-6', 'B-6', 'B-2', 'B-4', 'B-5', 'A-4']\n",
      "\n",
      "Episode: 317\n",
      "Episode complete. Total Reward: [-191.55       -171.13333333 -169.3       ] jumlah step: 373 product completed:  20\n",
      "product completed:  ['B-1', 'C-2', 'B-4', 'C-1', 'A-1', 'B-2', 'C-3', 'B-3', 'C-4', 'A-2', 'A-5', 'C-5', 'B-6', 'A-4', 'C-7', 'A-6', 'A-7', 'A-3', 'B-5', 'B-7']\n",
      "\n",
      "Episode: 318\n"
     ]
    },
    {
     "name": "stderr",
     "output_type": "stream",
     "text": [
      " 32%|███▏      | 321/1000 [00:17<00:34, 19.61it/s]"
     ]
    },
    {
     "name": "stdout",
     "output_type": "stream",
     "text": [
      "Episode complete. Total Reward: [-320.86666667 -304.53333333 -297.7       ] jumlah step: 541 product completed:  20\n",
      "product completed:  ['C-3', 'B-1', 'C-2', 'C-4', 'C-1', 'C-5', 'B-5', 'C-6', 'B-3', 'A-6', 'B-4', 'A-7', 'C-7', 'B-6', 'A-5', 'B-7', 'A-1', 'B-2', 'A-3', 'A-2']\n",
      "\n",
      "Episode: 319\n",
      "Episode complete. Total Reward: [-175.45       -163.86666667 -146.95      ] jumlah step: 360 product completed:  20\n",
      "product completed:  ['B-1', 'C-1', 'A-6', 'A-3', 'B-3', 'A-5', 'B-2', 'B-4', 'C-3', 'A-4', 'C-6', 'B-7', 'C-5', 'A-7', 'C-2', 'C-7', 'A-1', 'A-2', 'B-5', 'C-4']\n",
      "\n",
      "Episode: 320\n",
      "Episode complete. Total Reward: [-232.95 -210.2  -227.2 ] jumlah step: 445 product completed:  20\n",
      "product completed:  ['C-2', 'B-4', 'C-1', 'A-1', 'B-3', 'A-2', 'C-4', 'A-6', 'C-3', 'A-7', 'C-6', 'C-5', 'C-7', 'B-5', 'B-2', 'B-1', 'A-5', 'B-6', 'B-7', 'A-3']\n",
      "\n",
      "Episode: 321\n",
      "Episode complete. Total Reward: [-256.26666667 -239.93333333 -235.1       ] jumlah step: 477 product completed:  20\n",
      "product completed:  ['C-2', 'B-1', 'C-1', 'A-4', 'C-3', 'C-4', 'A-1', 'A-2', 'A-5', 'B-3', 'C-5', 'C-7', 'B-5', 'B-7', 'A-7', 'B-2', 'A-6', 'B-6', 'C-6', 'A-3']\n",
      "\n",
      "Episode: 322\n"
     ]
    },
    {
     "name": "stderr",
     "output_type": "stream",
     "text": [
      " 32%|███▎      | 325/1000 [00:17<00:38, 17.47it/s]"
     ]
    },
    {
     "name": "stdout",
     "output_type": "stream",
     "text": [
      "Episode complete. Total Reward: [-205.36666667 -183.36666667 -190.7       ] jumlah step: 391 product completed:  20\n",
      "product completed:  ['C-1', 'B-3', 'C-3', 'A-2', 'C-2', 'A-1', 'C-5', 'A-3', 'B-2', 'A-6', 'C-6', 'B-6', 'C-4', 'C-7', 'B-4', 'A-5', 'B-1', 'B-7', 'B-5', 'A-4']\n",
      "\n",
      "Episode: 323\n",
      "Episode complete. Total Reward: [-253.78333333 -234.36666667 -232.2       ] jumlah step: 452 product completed:  20\n",
      "product completed:  ['C-3', 'C-6', 'C-5', 'C-1', 'B-2', 'C-7', 'B-4', 'C-4', 'B-3', 'A-3', 'B-6', 'A-1', 'A-5', 'B-1', 'A-2', 'C-2', 'B-7', 'B-5', 'A-4', 'A-6']\n",
      "\n",
      "Episode: 324\n",
      "Episode complete. Total Reward: [-312.65       -288.06666667 -287.4       ] jumlah step: 498 product completed:  20\n",
      "product completed:  ['B-2', 'B-6', 'B-3', 'B-7', 'C-2', 'A-4', 'B-1', 'B-4', 'C-3', 'A-3', 'C-6', 'A-5', 'B-5', 'A-7', 'C-4', 'C-7', 'A-1', 'A-6', 'C-5', 'A-2']\n",
      "\n",
      "Episode: 325\n",
      "Episode complete. Total Reward: [-298.93333333 -273.26666667 -284.1       ] jumlah step: 486 product completed:  20\n",
      "product completed:  ['B-2', 'A-2', 'C-1', 'A-1', 'C-5', 'B-4', 'B-3', 'A-4', 'C-3', 'C-6', 'C-2', 'C-7', 'B-5', 'A-5', 'B-6', 'A-7', 'C-4', 'A-6', 'B-1', 'A-3']\n"
     ]
    },
    {
     "name": "stderr",
     "output_type": "stream",
     "text": [
      " 33%|███▎      | 327/1000 [00:17<00:40, 16.73it/s]"
     ]
    },
    {
     "name": "stdout",
     "output_type": "stream",
     "text": [
      "\n",
      "Episode: 326\n",
      "Episode complete. Total Reward: [-311.28333333 -292.53333333 -291.45      ] jumlah step: 530 product completed:  20\n",
      "product completed:  ['B-1', 'C-2', 'B-3', 'A-3', 'A-4', 'A-2', 'B-2', 'C-1', 'B-6', 'C-5', 'C-7', 'B-4', 'A-5', 'C-6', 'C-4', 'B-7', 'A-7', 'A-6', 'B-5', 'C-3']\n",
      "\n",
      "Episode: 327\n",
      "Episode complete. Total Reward: [-304.23333333 -285.9        -281.15      ] jumlah step: 503 product completed:  20\n",
      "product completed:  ['C-2', 'A-2', 'C-4', 'B-1', 'B-5', 'A-1', 'B-2', 'C-5', 'C-1', 'C-6', 'A-5', 'B-6', 'A-4', 'B-3', 'A-3', 'B-7', 'C-3', 'A-6', 'A-7', 'C-7']\n",
      "\n",
      "Episode: 328\n",
      "Episode complete. Total Reward: [-232.2        -216.36666667 -208.95      ] jumlah step: 428 product completed:  20\n",
      "product completed:  ['C-1', 'C-2', 'B-1', 'B-3', 'C-3', 'A-5', 'A-1', 'A-2', 'C-5', 'C-4', 'B-4', 'B-5', 'B-2', 'A-7', 'A-4', 'B-6', 'C-6', 'A-3', 'C-7', 'B-7']\n",
      "\n",
      "Episode: 329\n"
     ]
    },
    {
     "name": "stderr",
     "output_type": "stream",
     "text": [
      " 33%|███▎      | 331/1000 [00:17<00:38, 17.39it/s]"
     ]
    },
    {
     "name": "stdout",
     "output_type": "stream",
     "text": [
      "Episode complete. Total Reward: [-283.45       -273.03333333 -262.2       ] jumlah step: 475 product completed:  20\n",
      "product completed:  ['B-3', 'C-1', 'C-3', 'B-2', 'C-2', 'B-6', 'B-4', 'C-4', 'B-5', 'A-6', 'B-1', 'B-7', 'A-3', 'C-6', 'C-7', 'C-5', 'A-2', 'A-4', 'A-5', 'A-7']\n",
      "\n",
      "Episode: 330\n",
      "Episode complete. Total Reward: [-194.28333333 -175.36666667 -174.2       ] jumlah step: 378 product completed:  20\n",
      "product completed:  ['B-1', 'B-4', 'A-1', 'C-1', 'C-2', 'A-3', 'C-3', 'A-5', 'C-6', 'C-5', 'B-2', 'B-5', 'B-3', 'C-4', 'C-7', 'B-6', 'A-7', 'B-7', 'A-6', 'A-2']\n",
      "\n",
      "Episode: 331\n",
      "Episode complete. Total Reward: [-313.81666667 -288.73333333 -282.4       ] jumlah step: 519 product completed:  20\n",
      "product completed:  ['B-3', 'B-2', 'C-3', 'C-5', 'C-6', 'C-2', 'C-4', 'B-1', 'A-2', 'C-7', 'A-7', 'C-1', 'B-7', 'B-6', 'A-3', 'A-1', 'A-5', 'B-5', 'B-4', 'A-4']\n",
      "\n",
      "Episode: 332\n",
      "Episode complete. Total Reward: [-212.08333333 -194.66666667 -194.75      ] jumlah step: 404 product completed:  20\n",
      "product completed:  ['C-2', 'C-3', 'C-4', 'B-2', 'B-3', 'C-7', 'A-2', 'C-1', 'C-6', 'A-1', 'B-4', 'B-1', 'C-5', 'B-6', 'A-5', 'B-7', 'A-7', 'A-3', 'B-5', 'A-6']\n",
      "\n",
      "Episode: 333\n",
      "Episode complete. Total Reward: [-191.8  -168.3  -175.05] jumlah step: 382 product completed:  20\n",
      "product completed:  ['A-5', 'C-3', 'C-1', 'A-1', 'C-2', 'A-3', 'B-2', 'A-2', 'B-6', 'A-7', 'B-7', 'C-5', 'B-3', 'C-6', 'A-6', 'A-4', 'B-1', 'B-5', 'B-4', 'C-4']\n"
     ]
    },
    {
     "name": "stderr",
     "output_type": "stream",
     "text": [
      " 34%|███▎      | 336/1000 [00:18<00:34, 19.22it/s]"
     ]
    },
    {
     "name": "stdout",
     "output_type": "stream",
     "text": [
      "\n",
      "Episode: 334\n",
      "Episode complete. Total Reward: [-224.61666667 -214.2        -200.7       ] jumlah step: 410 product completed:  20\n",
      "product completed:  ['B-2', 'C-2', 'C-3', 'B-4', 'C-5', 'A-5', 'B-5', 'C-4', 'C-1', 'B-3', 'C-7', 'A-1', 'B-6', 'C-6', 'A-2', 'A-3', 'B-7', 'A-4', 'A-7', 'A-6']\n",
      "\n",
      "Episode: 335\n",
      "Episode complete. Total Reward: [-204.71666667 -185.63333333 -181.05      ] jumlah step: 392 product completed:  20\n",
      "product completed:  ['B-3', 'A-3', 'A-2', 'C-1', 'C-2', 'C-3', 'A-1', 'C-4', 'A-5', 'A-4', 'B-6', 'C-5', 'A-6', 'B-4', 'B-1', 'C-7', 'B-5', 'B-7', 'B-2', 'C-6']\n",
      "\n",
      "Episode: 336\n",
      "Episode complete. Total Reward: [-210.95       -191.53333333 -190.45      ] jumlah step: 403 product completed:  20\n",
      "product completed:  ['B-1', 'B-5', 'B-2', 'C-2', 'C-1', 'A-2', 'C-4', 'B-6', 'A-1', 'B-3', 'A-3', 'C-6', 'C-3', 'A-6', 'B-7', 'C-5', 'C-7', 'A-5', 'B-4', 'A-7']\n",
      "\n",
      "Episode: 337\n",
      "Episode complete. Total Reward: [-166.58333333 -143.33333333 -147.25      ] jumlah step: 344 product completed:  20\n",
      "product completed:  ['C-1', 'C-2', 'B-4', 'B-3', 'C-4', 'C-5', 'C-3', 'A-4', 'B-7', 'B-1', 'B-2', 'C-7', 'B-6', 'B-5', 'A-6', 'A-5', 'A-1', 'C-6', 'A-7', 'A-3']\n",
      "\n",
      "Episode: 338\n",
      "Episode complete. Total Reward: [-132.5        -113.66666667 -111.        ] jumlah step: 341 product completed:  20\n",
      "product completed:  ['B-1', 'C-3', 'C-5', 'B-3', 'C-1', 'C-4', 'A-3', 'A-1', 'B-2', 'C-2', 'B-5', 'C-6', 'C-7', 'B-4', 'A-4', 'A-7', 'A-6', 'A-5', 'B-7', 'B-6']\n",
      "\n",
      "Episode: 339\n"
     ]
    },
    {
     "name": "stderr",
     "output_type": "stream",
     "text": [
      " 34%|███▍      | 342/1000 [00:18<00:32, 20.01it/s]"
     ]
    },
    {
     "name": "stdout",
     "output_type": "stream",
     "text": [
      "Episode complete. Total Reward: [-254.41666667 -231.66666667 -232.        ] jumlah step: 442 product completed:  20\n",
      "product completed:  ['C-1', 'C-2', 'B-1', 'C-5', 'B-4', 'C-4', 'B-5', 'C-6', 'A-1', 'A-2', 'B-2', 'C-3', 'B-7', 'A-7', 'C-7', 'A-4', 'B-3', 'A-6', 'A-5', 'A-3']\n",
      "\n",
      "Episode: 340\n",
      "Episode complete. Total Reward: [-247.35       -225.43333333 -220.1       ] jumlah step: 415 product completed:  20\n",
      "product completed:  ['C-3', 'B-1', 'C-7', 'C-6', 'A-2', 'B-4', 'A-1', 'B-3', 'C-1', 'B-6', 'C-4', 'C-2', 'A-3', 'A-6', 'B-5', 'B-2', 'A-7', 'C-5', 'B-7', 'A-4']\n",
      "\n",
      "Episode: 341\n",
      "Episode complete. Total Reward: [-173.73333333 -156.23333333 -161.65      ] jumlah step: 362 product completed:  20\n",
      "product completed:  ['C-1', 'B-4', 'B-2', 'B-1', 'C-2', 'B-7', 'B-6', 'A-1', 'C-5', 'A-2', 'C-6', 'C-4', 'A-5', 'C-7', 'A-4', 'A-7', 'C-3', 'B-3', 'A-3', 'B-5']\n",
      "\n",
      "Episode: 342\n",
      "Episode complete. Total Reward: [-320.15 -297.9  -293.4 ] jumlah step: 529 product completed:  20\n",
      "product completed:  ['B-1', 'C-1', 'C-3', 'B-6', 'B-3', 'B-5', 'A-2', 'B-7', 'A-3', 'C-4', 'B-2', 'C-6', 'A-7', 'C-2', 'B-4', 'C-7', 'A-1', 'A-5', 'A-6', 'C-5']\n",
      "\n",
      "Episode: 343\n"
     ]
    },
    {
     "name": "stderr",
     "output_type": "stream",
     "text": [
      " 35%|███▍      | 346/1000 [00:18<00:35, 18.36it/s]"
     ]
    },
    {
     "name": "stdout",
     "output_type": "stream",
     "text": [
      "Episode complete. Total Reward: [-163.26666667 -145.26666667 -146.1       ] jumlah step: 355 product completed:  20\n",
      "product completed:  ['C-1', 'B-1', 'C-4', 'A-5', 'B-2', 'C-2', 'C-6', 'B-3', 'C-7', 'A-4', 'C-3', 'B-5', 'B-4', 'B-6', 'A-2', 'A-3', 'A-6', 'B-7', 'C-5', 'A-1']\n",
      "\n",
      "Episode: 344\n",
      "Episode complete. Total Reward: [-201.83333333 -185.5        -183.25      ] jumlah step: 399 product completed:  20\n",
      "product completed:  ['B-2', 'C-2', 'C-1', 'B-4', 'B-3', 'A-3', 'B-6', 'B-1', 'A-2', 'C-4', 'B-5', 'C-3', 'C-7', 'B-7', 'A-6', 'A-1', 'C-5', 'A-7', 'A-4', 'C-6']\n",
      "\n",
      "Episode: 345\n",
      "Episode complete. Total Reward: [-223.43333333 -209.6        -208.35      ] jumlah step: 429 product completed:  20\n",
      "product completed:  ['C-1', 'B-4', 'C-3', 'A-2', 'B-2', 'C-4', 'B-6', 'A-3', 'A-4', 'C-2', 'C-5', 'B-5', 'C-6', 'B-7', 'B-3', 'C-7', 'A-7', 'B-1', 'A-1', 'A-5']\n",
      "\n",
      "Episode: 346\n",
      "Episode complete. Total Reward: [-329.6        -310.76666667 -297.35      ] jumlah step: 540 product completed:  20\n",
      "product completed:  ['A-2', 'B-2', 'A-3', 'C-3', 'B-3', 'B-1', 'C-4', 'A-7', 'C-5', 'A-1', 'A-4', 'B-6', 'B-7', 'C-1', 'C-2', 'C-7', 'C-6', 'B-5', 'A-5', 'B-4']\n",
      "\n",
      "Episode: 347\n",
      "Episode complete. Total Reward: [-219.53333333 -202.36666667 -193.95      ] jumlah step: 390 product completed:  20\n",
      "product completed:  ['B-3', 'C-5', 'C-2', 'B-1', 'C-6', 'B-2', 'A-2', 'B-4', 'C-7', 'C-3', 'C-1', 'B-6', 'B-5', 'A-6', 'C-4', 'B-7', 'A-3', 'A-4', 'A-7', 'A-1']\n",
      "\n",
      "Episode: 348\n",
      "Episode complete. Total Reward: [-172.48333333 -151.23333333 -156.15      ] jumlah step: 366 product completed:  20\n",
      "product completed:  ['C-1', 'A-4', 'C-2', 'B-3', 'C-4', 'C-3', 'A-1', 'B-1', 'C-7', 'B-2', 'A-6', 'A-7', 'C-6', 'A-2', 'A-5', 'B-5', 'A-3', 'B-7', 'B-4', 'B-6']\n",
      "\n",
      "Episode: 349\n"
     ]
    },
    {
     "name": "stderr",
     "output_type": "stream",
     "text": [
      " 35%|███▌      | 351/1000 [00:18<00:33, 19.36it/s]"
     ]
    },
    {
     "name": "stdout",
     "output_type": "stream",
     "text": [
      "Episode complete. Total Reward: [-266.5  -244.5  -247.25] jumlah step: 451 product completed:  20\n",
      "product completed:  ['A-1', 'C-1', 'C-2', 'C-3', 'B-2', 'B-3', 'A-3', 'C-4', 'B-6', 'B-7', 'B-4', 'C-5', 'A-4', 'A-7', 'B-1', 'B-5', 'C-6', 'A-5', 'A-2', 'C-7']\n",
      "\n",
      "Episode: 350\n",
      "Episode complete. Total Reward: [-250.38333333 -225.13333333 -229.3       ] jumlah step: 443 product completed:  20\n",
      "product completed:  ['B-2', 'C-2', 'A-1', 'C-1', 'B-6', 'A-6', 'C-3', 'B-4', 'A-5', 'C-4', 'C-6', 'A-7', 'C-7', 'B-7', 'B-5', 'A-2', 'A-4', 'C-5', 'B-3', 'A-3']\n",
      "\n",
      "Episode: 351\n",
      "Episode complete. Total Reward: [-276.43333333 -256.76666667 -251.6       ] jumlah step: 445 product completed:  20\n",
      "product completed:  ['C-3', 'A-3', 'C-4', 'B-2', 'C-1', 'C-6', 'C-5', 'B-1', 'C-7', 'B-4', 'B-3', 'B-7', 'B-5', 'C-2', 'A-2', 'A-7', 'A-5', 'A-4', 'A-6', 'B-6']\n",
      "\n",
      "Episode: 352\n",
      "Episode complete. Total Reward: [-160.91666667 -141.         -138.25      ] jumlah step: 325 product completed:  20\n",
      "product completed:  ['C-2', 'C-4', 'C-3', 'B-5', 'B-1', 'B-3', 'A-3', 'B-2', 'B-4', 'B-6', 'C-6', 'C-5', 'B-7', 'C-7', 'A-7', 'A-6', 'A-4', 'A-5', 'A-2', 'A-1']\n",
      "\n",
      "Episode: 353\n",
      "Episode complete. Total Reward: [-182.21666667 -159.8        -162.8       ] jumlah step: 335 product completed:  20\n",
      "product completed:  ['B-1', 'C-2', 'B-2', 'C-4', 'A-4', 'A-5', 'B-3', 'C-5', 'C-7', 'C-6', 'A-3', 'C-1', 'C-3', 'B-5', 'A-7', 'B-6', 'A-1', 'B-4', 'A-2', 'A-6']\n",
      "\n",
      "Episode: 354\n"
     ]
    },
    {
     "name": "stderr",
     "output_type": "stream",
     "text": [
      " 36%|███▌      | 357/1000 [00:19<00:31, 20.45it/s]"
     ]
    },
    {
     "name": "stdout",
     "output_type": "stream",
     "text": [
      "Episode complete. Total Reward: [-267.15 -246.9  -238.9 ] jumlah step: 448 product completed:  20\n",
      "product completed:  ['C-1', 'C-3', 'B-1', 'A-2', 'B-5', 'A-1', 'C-4', 'B-6', 'C-2', 'B-4', 'C-6', 'A-4', 'B-2', 'B-7', 'C-7', 'C-5', 'B-3', 'A-3', 'A-7', 'A-5']\n",
      "\n",
      "Episode: 355\n",
      "Episode complete. Total Reward: [-281.46666667 -265.3        -247.05      ] jumlah step: 474 product completed:  20\n",
      "product completed:  ['C-2', 'B-1', 'C-4', 'C-3', 'C-1', 'A-5', 'B-2', 'B-3', 'B-4', 'C-6', 'B-6', 'B-7', 'A-1', 'C-7', 'A-3', 'A-2', 'C-5', 'B-5', 'A-7', 'A-4']\n",
      "\n",
      "Episode: 356\n",
      "Episode complete. Total Reward: [-210.36666667 -194.2        -182.95      ] jumlah step: 399 product completed:  20\n",
      "product completed:  ['C-1', 'B-4', 'C-3', 'B-1', 'C-5', 'A-2', 'C-6', 'B-3', 'B-7', 'A-1', 'B-5', 'A-5', 'C-4', 'C-2', 'A-6', 'A-3', 'A-7', 'C-7', 'B-6', 'B-2']\n",
      "\n",
      "Episode: 357\n",
      "Episode complete. Total Reward: [-174.78333333 -154.86666667 -151.45      ] jumlah step: 395 product completed:  20\n",
      "product completed:  ['C-1', 'B-3', 'B-4', 'A-2', 'C-4', 'B-1', 'C-5', 'B-6', 'A-3', 'B-7', 'B-5', 'C-3', 'C-2', 'B-2', 'C-7', 'A-5', 'A-7', 'A-6', 'C-6', 'A-1']\n",
      "\n",
      "Episode: 358\n",
      "Episode complete. Total Reward: [-166.26666667 -148.26666667 -142.35      ] jumlah step: 365 product completed:  20\n",
      "product completed:  ['C-1', 'B-1', 'B-2', 'C-2', 'A-3', 'A-4', 'B-4', 'C-4', 'B-3', 'C-5', 'C-6', 'A-5', 'C-7', 'B-6', 'A-1', 'A-7', 'B-7', 'C-3', 'B-5', 'A-2']\n",
      "\n",
      "Episode: 359\n"
     ]
    },
    {
     "name": "stderr",
     "output_type": "stream",
     "text": [
      " 36%|███▋      | 363/1000 [00:19<00:31, 20.34it/s]"
     ]
    },
    {
     "name": "stdout",
     "output_type": "stream",
     "text": [
      "Episode complete. Total Reward: [-257.28333333 -231.36666667 -234.95      ] jumlah step: 442 product completed:  20\n",
      "product completed:  ['C-1', 'C-2', 'C-3', 'B-2', 'A-5', 'B-3', 'C-5', 'C-6', 'B-4', 'A-4', 'C-7', 'B-1', 'B-7', 'A-7', 'B-6', 'A-6', 'B-5', 'A-1', 'A-3', 'C-4']\n",
      "\n",
      "Episode: 360\n",
      "Episode complete. Total Reward: [-294.15       -274.56666667 -273.15      ] jumlah step: 480 product completed:  20\n",
      "product completed:  ['A-6', 'C-2', 'C-3', 'A-4', 'A-7', 'C-6', 'B-2', 'C-1', 'B-1', 'C-4', 'A-2', 'B-5', 'C-7', 'C-5', 'B-3', 'B-7', 'B-6', 'A-5', 'B-4', 'A-3']\n",
      "\n",
      "Episode: 361\n",
      "Episode complete. Total Reward: [-299.91666667 -280.33333333 -277.5       ] jumlah step: 485 product completed:  20\n",
      "product completed:  ['C-2', 'C-3', 'B-3', 'C-4', 'C-1', 'A-1', 'C-5', 'A-2', 'C-7', 'B-2', 'B-6', 'B-7', 'B-1', 'C-6', 'A-4', 'B-5', 'B-4', 'A-5', 'A-7', 'A-6']\n",
      "\n",
      "Episode: 362\n",
      "Episode complete. Total Reward: [-245.6        -229.43333333 -219.1       ] jumlah step: 437 product completed:  20\n",
      "product completed:  ['C-1', 'B-4', 'C-3', 'B-6', 'C-4', 'C-6', 'C-2', 'B-1', 'B-3', 'B-5', 'A-1', 'C-7', 'A-3', 'B-7', 'A-2', 'C-5', 'A-6', 'A-7', 'A-4', 'B-2']\n",
      "\n",
      "Episode: 363\n",
      "Episode complete. Total Reward: [-201.91666667 -183.83333333 -178.        ] jumlah step: 403 product completed:  20\n",
      "product completed:  ['C-1', 'A-2', 'C-5', 'C-2', 'B-4', 'A-3', 'B-2', 'B-3', 'A-4', 'A-1', 'B-6', 'C-4', 'B-1', 'B-7', 'C-7', 'A-7', 'A-6', 'B-5', 'C-3', 'C-6']\n"
     ]
    },
    {
     "name": "stderr",
     "output_type": "stream",
     "text": [
      " 37%|███▋      | 366/1000 [00:19<00:30, 20.46it/s]"
     ]
    },
    {
     "name": "stdout",
     "output_type": "stream",
     "text": [
      "\n",
      "Episode: 364\n",
      "Episode complete. Total Reward: [-234.88333333 -214.46666667 -214.3       ] jumlah step: 441 product completed:  20\n",
      "product completed:  ['B-2', 'B-5', 'B-7', 'B-1', 'A-1', 'A-2', 'C-1', 'C-3', 'C-4', 'C-2', 'B-4', 'A-3', 'C-7', 'B-3', 'B-6', 'C-6', 'A-5', 'C-5', 'A-7', 'A-6']\n",
      "\n",
      "Episode: 365\n",
      "Episode complete. Total Reward: [-260.         -237.33333333 -244.5       ] jumlah step: 464 product completed:  20\n",
      "product completed:  ['C-2', 'C-1', 'A-5', 'C-3', 'C-4', 'A-1', 'B-4', 'C-5', 'B-3', 'C-7', 'A-3', 'A-4', 'A-6', 'B-6', 'C-6', 'B-7', 'A-2', 'B-5', 'B-2', 'B-1']\n",
      "\n",
      "Episode: 366\n",
      "Episode complete. Total Reward: [-222.35       -203.76666667 -205.85      ] jumlah step: 418 product completed:  20\n",
      "product completed:  ['B-1', 'C-1', 'C-5', 'C-3', 'C-4', 'B-2', 'C-2', 'B-5', 'A-5', 'C-6', 'B-6', 'C-7', 'A-3', 'B-4', 'A-7', 'B-7', 'A-2', 'A-1', 'A-6', 'A-4']\n",
      "\n",
      "Episode: 367\n",
      "Episode complete. Total Reward: [-179.08333333 -165.5        -156.5       ] jumlah step: 358 product completed:  20\n",
      "product completed:  ['C-2', 'A-3', 'C-1', 'B-2', 'B-1', 'B-3', 'C-5', 'A-1', 'B-5', 'B-6', 'A-4', 'C-6', 'C-7', 'A-7', 'A-2', 'C-4', 'A-6', 'C-3', 'B-4', 'A-5']\n",
      "\n",
      "Episode: 368\n"
     ]
    },
    {
     "name": "stderr",
     "output_type": "stream",
     "text": [
      " 37%|███▋      | 372/1000 [00:20<00:31, 20.22it/s]"
     ]
    },
    {
     "name": "stdout",
     "output_type": "stream",
     "text": [
      "Episode complete. Total Reward: [-320.31666667 -302.23333333 -290.9       ] jumlah step: 492 product completed:  20\n",
      "product completed:  ['C-6', 'B-3', 'C-5', 'C-2', 'B-2', 'C-3', 'B-6', 'C-1', 'B-5', 'B-1', 'A-2', 'C-7', 'A-1', 'A-6', 'C-4', 'A-5', 'B-7', 'A-3', 'B-4', 'A-7']\n",
      "\n",
      "Episode: 369\n",
      "Episode complete. Total Reward: [-229.48333333 -210.56666667 -208.65      ] jumlah step: 448 product completed:  20\n",
      "product completed:  ['A-1', 'C-1', 'C-2', 'C-4', 'C-3', 'B-1', 'B-2', 'C-6', 'B-4', 'C-5', 'C-7', 'A-6', 'B-6', 'B-5', 'A-3', 'A-7', 'B-3', 'B-7', 'A-4', 'A-2']\n",
      "\n",
      "Episode: 370\n",
      "Episode complete. Total Reward: [-201.36666667 -181.36666667 -184.2       ] jumlah step: 381 product completed:  20\n",
      "product completed:  ['C-1', 'B-1', 'B-2', 'A-1', 'A-6', 'C-4', 'C-3', 'A-5', 'C-5', 'A-4', 'B-5', 'C-6', 'A-7', 'C-7', 'B-6', 'C-2', 'B-3', 'A-2', 'B-7', 'B-4']\n",
      "\n",
      "Episode: 371\n",
      "Episode complete. Total Reward: [-208.26666667 -189.6        -186.6       ] jumlah step: 413 product completed:  20\n",
      "product completed:  ['B-1', 'A-5', 'C-2', 'C-1', 'A-1', 'C-3', 'A-7', 'A-6', 'A-3', 'A-2', 'C-5', 'B-2', 'C-6', 'A-4', 'B-5', 'B-6', 'B-3', 'C-7', 'C-4', 'B-4']\n",
      "\n",
      "Episode: 372\n",
      "Episode complete. Total Reward: [-237.58333333 -217.33333333 -216.25      ] jumlah step: 458 product completed:  20\n",
      "product completed:  ['C-3', 'B-3', 'C-1', 'C-2', 'C-4', 'B-4', 'B-7', 'B-2', 'A-1', 'B-1', 'C-6', 'A-5', 'B-6', 'C-7', 'A-3', 'B-5', 'A-6', 'A-4', 'A-2', 'A-7']\n"
     ]
    },
    {
     "name": "stderr",
     "output_type": "stream",
     "text": [
      " 38%|███▊      | 375/1000 [00:20<00:30, 20.54it/s]"
     ]
    },
    {
     "name": "stdout",
     "output_type": "stream",
     "text": [
      "\n",
      "Episode: 373\n",
      "Episode complete. Total Reward: [-175.35       -149.43333333 -170.85      ] jumlah step: 402 product completed:  20\n",
      "product completed:  ['C-1', 'A-1', 'B-3', 'C-5', 'A-4', 'A-2', 'B-2', 'C-3', 'C-4', 'B-5', 'B-1', 'C-6', 'C-7', 'A-7', 'B-6', 'A-5', 'B-4', 'C-2', 'A-6', 'A-3']\n",
      "\n",
      "Episode: 374\n",
      "Episode complete. Total Reward: [-230.16666667 -213.5        -212.75      ] jumlah step: 409 product completed:  20\n",
      "product completed:  ['C-2', 'A-1', 'C-4', 'C-1', 'C-6', 'B-2', 'C-7', 'C-3', 'B-1', 'A-4', 'B-4', 'A-2', 'B-6', 'B-5', 'B-7', 'A-7', 'B-3', 'C-5', 'A-6', 'A-3']\n",
      "\n",
      "Episode: 375\n",
      "Episode complete. Total Reward: [-229.8        -213.96666667 -202.8       ] jumlah step: 421 product completed:  20\n",
      "product completed:  ['B-1', 'C-2', 'A-4', 'B-4', 'A-2', 'A-1', 'C-3', 'C-4', 'B-6', 'C-1', 'B-3', 'A-3', 'A-6', 'B-5', 'B-2', 'A-5', 'C-7', 'C-6', 'C-5', 'A-7']\n",
      "\n",
      "Episode: 376\n",
      "Episode complete. Total Reward: [-168.93333333 -152.6        -146.85      ] jumlah step: 346 product completed:  20\n",
      "product completed:  ['A-2', 'A-4', 'A-1', 'C-4', 'B-2', 'A-7', 'C-3', 'C-2', 'C-5', 'A-3', 'A-5', 'C-1', 'B-5', 'C-7', 'B-7', 'B-1', 'B-4', 'B-6', 'B-3', 'C-6']\n",
      "\n",
      "Episode: 377\n"
     ]
    },
    {
     "name": "stderr",
     "output_type": "stream",
     "text": [
      " 38%|███▊      | 378/1000 [00:20<00:29, 21.32it/s]"
     ]
    },
    {
     "name": "stdout",
     "output_type": "stream",
     "text": [
      "Episode complete. Total Reward: [-159.7  -136.2  -144.95] jumlah step: 356 product completed:  20\n",
      "product completed:  ['C-1', 'A-3', 'A-4', 'A-5', 'B-5', 'B-3', 'A-1', 'B-6', 'C-3', 'B-4', 'C-4', 'B-7', 'C-6', 'C-7', 'C-5', 'B-2', 'A-2', 'A-7', 'A-6', 'B-1']\n",
      "\n",
      "Episode: 378\n",
      "Episode complete. Total Reward: [-258.38333333 -237.3        -236.3       ] jumlah step: 437 product completed:  20\n",
      "product completed:  ['B-2', 'C-2', 'B-1', 'C-1', 'A-3', 'C-3', 'A-2', 'B-5', 'B-3', 'A-1', 'A-4', 'C-7', 'B-7', 'C-6', 'C-5', 'C-4', 'A-7', 'B-6', 'A-5', 'A-6']\n",
      "\n",
      "Episode: 379\n",
      "Episode complete. Total Reward: [-226.93333333 -213.6        -204.35      ] jumlah step: 427 product completed:  20\n",
      "product completed:  ['C-1', 'B-2', 'C-2', 'B-4', 'B-7', 'B-1', 'C-4', 'A-3', 'C-5', 'A-2', 'B-3', 'C-3', 'A-1', 'C-6', 'C-7', 'B-5', 'A-6', 'A-4', 'A-7', 'B-6']\n",
      "\n",
      "Episode: 380\n",
      "Episode complete. Total Reward: [-334.55       -318.63333333 -311.3       ] jumlah step: 533 product completed:  20\n",
      "product completed:  ['C-1', 'A-6', 'C-2', 'A-7', 'A-4', 'C-3', 'B-2', 'B-3', 'A-5', 'B-5', 'B-6', 'A-2', 'B-7', 'C-7', 'C-4', 'C-6', 'B-4', 'B-1', 'A-3', 'C-5']\n",
      "\n",
      "Episode: 381\n",
      "Episode complete. Total Reward: [-204.73333333 -184.73333333 -180.15      ] jumlah step: 399 product completed:  20\n",
      "product completed:  ['C-4', 'C-2', 'C-6', 'B-2', 'C-3', 'B-1', 'C-7', 'C-5', 'A-3', 'B-5', 'A-1', 'C-1', 'B-7', 'A-4', 'A-6', 'B-4', 'A-2', 'B-3', 'B-6', 'A-5']\n"
     ]
    },
    {
     "name": "stderr",
     "output_type": "stream",
     "text": [
      " 38%|███▊      | 384/1000 [00:20<00:32, 19.03it/s]"
     ]
    },
    {
     "name": "stdout",
     "output_type": "stream",
     "text": [
      "\n",
      "Episode: 382\n",
      "Episode complete. Total Reward: [-227.01666667 -209.93333333 -214.1       ] jumlah step: 437 product completed:  20\n",
      "product completed:  ['C-1', 'C-3', 'A-3', 'A-2', 'C-4', 'B-4', 'B-3', 'C-6', 'B-1', 'C-5', 'B-5', 'C-7', 'A-6', 'C-2', 'A-5', 'B-7', 'A-7', 'A-4', 'A-1', 'B-6']\n",
      "\n",
      "Episode: 383\n",
      "Episode complete. Total Reward: [-473.6        -452.76666667 -448.35      ] jumlah step: 667 product completed:  20\n",
      "product completed:  ['C-1', 'C-2', 'B-2', 'C-3', 'B-3', 'B-6', 'A-2', 'B-5', 'B-1', 'C-7', 'A-5', 'C-6', 'A-6', 'C-4', 'B-4', 'B-7', 'C-5', 'A-1', 'A-4', 'A-3']\n",
      "\n",
      "Episode: 384\n",
      "Episode complete. Total Reward: [-194.98333333 -174.9        -174.4       ] jumlah step: 389 product completed:  20\n",
      "product completed:  ['A-3', 'B-1', 'C-2', 'B-4', 'C-3', 'A-5', 'C-1', 'B-3', 'B-2', 'C-6', 'A-2', 'A-6', 'C-7', 'B-6', 'B-7', 'A-7', 'C-4', 'C-5', 'A-4', 'A-1']\n"
     ]
    },
    {
     "name": "stderr",
     "output_type": "stream",
     "text": [
      " 39%|███▉      | 388/1000 [00:20<00:32, 18.73it/s]"
     ]
    },
    {
     "name": "stdout",
     "output_type": "stream",
     "text": [
      "\n",
      "Episode: 385\n",
      "Episode complete. Total Reward: [-141.83333333 -122.33333333 -129.        ] jumlah step: 342 product completed:  20\n",
      "product completed:  ['C-1', 'C-2', 'C-3', 'A-2', 'A-1', 'A-3', 'B-3', 'B-2', 'C-5', 'B-4', 'C-6', 'B-1', 'B-6', 'B-7', 'A-6', 'A-5', 'A-7', 'A-4', 'C-7', 'B-5']\n",
      "\n",
      "Episode: 386\n",
      "Episode complete. Total Reward: [-245.96666667 -218.63333333 -223.05      ] jumlah step: 439 product completed:  20\n",
      "product completed:  ['C-2', 'B-5', 'A-1', 'C-3', 'B-1', 'A-3', 'C-1', 'B-7', 'B-3', 'B-6', 'B-4', 'B-2', 'C-7', 'C-6', 'A-7', 'A-2', 'C-4', 'A-5', 'A-6', 'A-4']\n",
      "\n",
      "Episode: 387\n",
      "Episode complete. Total Reward: [-193.1        -170.43333333 -173.1       ] jumlah step: 378 product completed:  20\n",
      "product completed:  ['B-3', 'B-4', 'C-4', 'B-1', 'C-1', 'B-7', 'A-2', 'B-2', 'C-3', 'B-5', 'A-5', 'B-6', 'C-6', 'C-2', 'C-7', 'C-5', 'A-3', 'A-7', 'A-1', 'A-4']\n",
      "\n",
      "Episode: 388\n",
      "Episode complete. Total Reward: [-251.65       -229.06666667 -226.15      ] jumlah step: 414 product completed:  20\n",
      "product completed:  ['C-4', 'C-3', 'A-1', 'B-3', 'C-2', 'B-2', 'B-4', 'A-2', 'C-5', 'B-7', 'C-1', 'C-6', 'A-5', 'B-1', 'B-6', 'A-7', 'A-6', 'A-3', 'A-4', 'B-5']\n",
      "\n",
      "Episode: 389\n"
     ]
    },
    {
     "name": "stderr",
     "output_type": "stream",
     "text": [
      " 39%|███▉      | 393/1000 [00:21<00:30, 19.62it/s]"
     ]
    },
    {
     "name": "stdout",
     "output_type": "stream",
     "text": [
      "Episode complete. Total Reward: [-337.61666667 -306.2        -323.95      ] jumlah step: 509 product completed:  20\n",
      "product completed:  ['C-2', 'C-4', 'C-5', 'C-7', 'B-2', 'C-1', 'B-6', 'B-3', 'B-5', 'A-2', 'B-4', 'B-7', 'B-1', 'A-7', 'A-3', 'C-3', 'C-6', 'A-1', 'A-5', 'A-6']\n",
      "\n",
      "Episode: 390\n",
      "Episode complete. Total Reward: [-161.48333333 -144.23333333 -142.4       ] jumlah step: 347 product completed:  20\n",
      "product completed:  ['C-2', 'C-1', 'B-5', 'C-3', 'B-4', 'C-5', 'C-4', 'A-1', 'B-1', 'C-6', 'B-2', 'C-7', 'A-4', 'B-7', 'B-6', 'A-6', 'A-3', 'B-3', 'A-5', 'A-2']\n",
      "\n",
      "Episode: 391\n",
      "Episode complete. Total Reward: [-167.06666667 -148.9        -152.65      ] jumlah step: 356 product completed:  20\n",
      "product completed:  ['C-1', 'C-2', 'B-4', 'A-2', 'C-5', 'C-6', 'B-1', 'B-5', 'C-4', 'C-3', 'B-6', 'C-7', 'A-6', 'B-2', 'A-3', 'A-4', 'A-1', 'B-7', 'B-3', 'A-7']\n",
      "\n",
      "Episode: 392\n",
      "Episode complete. Total Reward: [-254.01666667 -234.76666667 -227.35      ] jumlah step: 449 product completed:  20\n",
      "product completed:  ['B-1', 'C-2', 'C-5', 'C-3', 'A-3', 'B-4', 'B-3', 'C-4', 'B-2', 'B-5', 'C-6', 'B-7', 'B-6', 'A-1', 'A-2', 'C-1', 'A-5', 'A-4', 'A-7', 'A-6']\n",
      "\n",
      "Episode: 393\n",
      "Episode complete. Total Reward: [-231.1 -216.1 -208.1] jumlah step: 432 product completed:  20\n",
      "product completed:  ['C-3', 'A-1', 'C-6', 'A-2', 'C-1', 'C-2', 'C-7', 'B-2', 'C-4', 'B-3', 'B-1', 'B-6', 'B-7', 'B-4', 'B-5', 'A-6', 'A-5', 'A-7', 'C-5', 'A-4']\n",
      "\n",
      "Episode: 394\n"
     ]
    },
    {
     "name": "stderr",
     "output_type": "stream",
     "text": [
      " 40%|███▉      | 397/1000 [00:21<00:32, 18.59it/s]"
     ]
    },
    {
     "name": "stdout",
     "output_type": "stream",
     "text": [
      "Episode complete. Total Reward: [-214.01666667 -194.43333333 -192.6       ] jumlah step: 399 product completed:  20\n",
      "product completed:  ['B-1', 'C-2', 'C-1', 'B-2', 'A-1', 'A-7', 'A-2', 'B-4', 'A-5', 'C-3', 'B-3', 'A-6', 'B-6', 'C-5', 'A-4', 'B-7', 'C-6', 'B-5', 'C-7', 'A-3']\n",
      "\n",
      "Episode: 395\n",
      "Episode complete. Total Reward: [-252.66666667 -234.33333333 -231.75      ] jumlah step: 454 product completed:  20\n",
      "product completed:  ['B-2', 'B-1', 'B-3', 'C-2', 'A-4', 'C-3', 'A-1', 'A-2', 'B-6', 'B-5', 'A-5', 'C-1', 'A-7', 'C-6', 'C-7', 'B-7', 'C-4', 'C-5', 'B-4', 'A-6']\n",
      "\n",
      "Episode: 396\n",
      "Episode complete. Total Reward: [-175.4  -147.9  -166.65] jumlah step: 363 product completed:  20\n",
      "product completed:  ['B-1', 'C-1', 'C-4', 'C-2', 'A-2', 'A-1', 'B-6', 'B-5', 'B-7', 'B-3', 'C-5', 'A-6', 'B-2', 'A-7', 'C-7', 'A-4', 'A-3', 'C-3', 'A-5', 'C-6']\n",
      "\n",
      "Episode: 397\n",
      "Episode complete. Total Reward: [-284.96666667 -265.8        -250.8       ] jumlah step: 486 product completed:  20\n",
      "product completed:  ['B-2', 'B-1', 'B-3', 'A-3', 'C-2', 'C-5', 'C-1', 'A-2', 'C-4', 'A-4', 'B-6', 'C-3', 'C-6', 'A-6', 'B-5', 'B-4', 'A-7', 'A-1', 'A-5', 'B-7']\n",
      "\n",
      "Episode: 398\n",
      "Episode complete. Total Reward: [-211.25       -191.83333333 -195.25      ] jumlah step: 422 product completed:  20\n",
      "product completed:  ['C-2', 'A-1', 'C-3', 'C-1', 'A-3', 'C-4', 'B-3', 'A-5', 'C-7', 'C-5', 'C-6', 'B-1', 'B-6', 'B-4', 'A-6', 'A-4', 'B-2', 'A-7', 'B-5', 'A-2']\n",
      "\n",
      "Episode: 399\n"
     ]
    },
    {
     "name": "stderr",
     "output_type": "stream",
     "text": [
      " 40%|████      | 401/1000 [00:21<00:31, 18.96it/s]"
     ]
    },
    {
     "name": "stdout",
     "output_type": "stream",
     "text": [
      "Episode complete. Total Reward: [-200.61666667 -184.53333333 -179.45      ] jumlah step: 413 product completed:  20\n",
      "product completed:  ['C-1', 'C-3', 'B-1', 'B-2', 'C-4', 'B-3', 'A-1', 'B-6', 'A-4', 'C-2', 'C-6', 'C-7', 'B-5', 'A-6', 'C-5', 'A-3', 'B-4', 'A-2', 'A-7', 'B-7']\n",
      "\n",
      "Episode: 400\n",
      "Episode complete. Total Reward: [-178.63333333 -159.63333333 -162.8       ] jumlah step: 388 product completed:  20\n",
      "product completed:  ['C-3', 'A-3', 'A-1', 'A-2', 'C-5', 'C-1', 'C-4', 'C-6', 'A-4', 'B-4', 'B-2', 'C-2', 'B-3', 'B-1', 'C-7', 'A-5', 'B-7', 'B-6', 'A-7', 'A-6']\n",
      "\n",
      "Episode: 401\n",
      "Episode complete. Total Reward: [-296.38333333 -269.8        -270.3       ] jumlah step: 498 product completed:  20\n",
      "product completed:  ['B-3', 'B-1', 'B-5', 'C-1', 'B-6', 'B-4', 'C-3', 'A-4', 'C-4', 'C-2', 'A-3', 'A-6', 'A-5', 'C-6', 'A-2', 'C-5', 'A-1', 'B-7', 'B-2', 'A-7']\n",
      "\n",
      "Episode: 402\n",
      "Episode complete. Total Reward: [-259.71666667 -237.46666667 -242.3       ] jumlah step: 452 product completed:  20\n",
      "product completed:  ['C-1', 'B-3', 'C-3', 'C-5', 'C-6', 'C-4', 'C-7', 'B-1', 'C-2', 'B-2', 'A-5', 'B-7', 'A-3', 'B-6', 'A-7', 'A-6', 'A-1', 'A-2', 'B-5', 'A-4']\n",
      "\n",
      "Episode: 403\n",
      "Episode complete. Total Reward: [-265.66666667 -247.83333333 -240.75      ] jumlah step: 460 product completed:  20\n",
      "product completed:  ['B-4', 'B-2', 'C-5', 'B-1', 'C-1', 'C-6', 'A-1', 'B-5', 'C-7', 'B-6', 'B-3', 'C-4', 'A-2', 'B-7', 'A-3', 'C-3', 'C-2', 'A-6', 'A-5', 'A-4']\n"
     ]
    },
    {
     "name": "stderr",
     "output_type": "stream",
     "text": [
      " 40%|████      | 405/1000 [00:21<00:32, 18.57it/s]"
     ]
    },
    {
     "name": "stdout",
     "output_type": "stream",
     "text": [
      "\n",
      "Episode: 404\n",
      "Episode complete. Total Reward: [-360.41666667 -335.16666667 -339.25      ] jumlah step: 545 product completed:  20\n",
      "product completed:  ['C-1', 'C-2', 'C-3', 'B-5', 'B-1', 'A-1', 'B-2', 'A-3', 'B-7', 'C-4', 'C-5', 'C-6', 'B-4', 'A-7', 'A-2', 'C-7', 'A-5', 'B-3', 'A-6', 'B-6']\n",
      "\n",
      "Episode: 405\n",
      "Episode complete. Total Reward: [-281.18333333 -270.26666667 -258.35      ] jumlah step: 465 product completed:  20\n",
      "product completed:  ['B-1', 'C-1', 'A-1', 'C-2', 'C-3', 'A-4', 'B-2', 'C-4', 'A-6', 'C-5', 'C-6', 'A-3', 'B-5', 'B-7', 'A-5', 'B-6', 'B-4', 'B-3', 'C-7', 'A-7']\n",
      "\n",
      "Episode: 406\n",
      "Episode complete. Total Reward: [-235.2  -219.7  -215.45] jumlah step: 429 product completed:  20\n",
      "product completed:  ['B-3', 'B-2', 'C-3', 'B-4', 'C-2', 'C-4', 'B-6', 'B-5', 'C-1', 'B-7', 'C-5', 'A-2', 'C-7', 'B-1', 'C-6', 'A-5', 'A-4', 'A-7', 'A-6', 'A-1']\n",
      "\n",
      "Episode: 407\n"
     ]
    },
    {
     "name": "stderr",
     "output_type": "stream",
     "text": [
      " 41%|████      | 409/1000 [00:21<00:34, 17.30it/s]"
     ]
    },
    {
     "name": "stdout",
     "output_type": "stream",
     "text": [
      "Episode complete. Total Reward: [-390.33333333 -364.5        -359.75      ] jumlah step: 608 product completed:  20\n",
      "product completed:  ['C-2', 'C-3', 'C-4', 'C-1', 'A-4', 'A-3', 'A-5', 'B-1', 'B-3', 'B-2', 'B-4', 'C-5', 'B-7', 'C-7', 'A-6', 'B-5', 'A-2', 'C-6', 'B-6', 'A-1']\n",
      "\n",
      "Episode: 408\n",
      "Episode complete. Total Reward: [-160.21666667 -144.3        -139.8       ] jumlah step: 352 product completed:  20\n",
      "product completed:  ['C-1', 'A-1', 'C-4', 'A-2', 'A-5', 'C-3', 'C-2', 'A-3', 'C-5', 'B-4', 'C-6', 'A-7', 'B-2', 'A-4', 'C-7', 'B-3', 'B-5', 'B-1', 'A-6', 'B-7']\n",
      "\n",
      "Episode: 409\n",
      "Episode complete. Total Reward: [-178.91666667 -158.33333333 -167.        ] jumlah step: 385 product completed:  20\n",
      "product completed:  ['C-5', 'C-6', 'C-2', 'C-4', 'C-3', 'C-7', 'C-1', 'B-5', 'B-3', 'B-2', 'B-6', 'A-3', 'B-4', 'A-1', 'B-7', 'A-6', 'A-5', 'A-2', 'B-1', 'A-7']\n",
      "\n",
      "Episode: 410\n",
      "Episode complete. Total Reward: [-238.36666667 -224.36666667 -219.7       ] jumlah step: 432 product completed:  20\n",
      "product completed:  ['C-2', 'B-3', 'C-1', 'C-6', 'A-3', 'C-5', 'B-5', 'B-1', 'B-4', 'C-7', 'C-3', 'A-1', 'B-7', 'A-6', 'B-2', 'C-4', 'A-5', 'A-2', 'B-6', 'A-7']\n",
      "\n",
      "Episode: 411\n"
     ]
    },
    {
     "name": "stderr",
     "output_type": "stream",
     "text": [
      " 41%|████▏     | 414/1000 [00:22<00:31, 18.54it/s]"
     ]
    },
    {
     "name": "stdout",
     "output_type": "stream",
     "text": [
      "Episode complete. Total Reward: [-198.35 -176.6  -175.6 ] jumlah step: 396 product completed:  20\n",
      "product completed:  ['B-3', 'C-2', 'B-4', 'A-2', 'B-5', 'B-2', 'A-5', 'A-6', 'C-3', 'C-5', 'B-6', 'A-1', 'C-4', 'A-4', 'C-6', 'C-1', 'A-7', 'C-7', 'A-3', 'B-7']\n",
      "\n",
      "Episode: 412\n",
      "Episode complete. Total Reward: [-157.25       -131.83333333 -141.5       ] jumlah step: 338 product completed:  20\n",
      "product completed:  ['C-2', 'B-4', 'C-4', 'C-1', 'B-1', 'C-5', 'A-2', 'B-5', 'C-3', 'A-1', 'B-6', 'A-3', 'B-3', 'A-7', 'A-6', 'B-2', 'C-7', 'A-4', 'A-5', 'B-7']\n",
      "\n",
      "Episode: 413\n",
      "Episode complete. Total Reward: [-173.23333333 -157.9        -158.65      ] jumlah step: 377 product completed:  20\n",
      "product completed:  ['C-4', 'A-2', 'C-1', 'B-4', 'C-3', 'B-2', 'A-3', 'C-2', 'C-5', 'B-6', 'B-7', 'C-7', 'C-6', 'B-5', 'A-5', 'A-6', 'A-7', 'A-1', 'A-4', 'B-3']\n",
      "\n",
      "Episode: 414\n",
      "Episode complete. Total Reward: [-207.01666667 -187.6        -182.85      ] jumlah step: 402 product completed:  20\n",
      "product completed:  ['C-2', 'C-1', 'B-3', 'C-6', 'C-7', 'B-5', 'C-4', 'B-1', 'C-3', 'B-4', 'A-5', 'B-6', 'A-3', 'A-1', 'A-7', 'B-7', 'B-2', 'C-5', 'A-2', 'A-6']\n",
      "\n",
      "Episode: 415\n"
     ]
    },
    {
     "name": "stderr",
     "output_type": "stream",
     "text": [
      " 42%|████▏     | 419/1000 [00:22<00:29, 19.67it/s]"
     ]
    },
    {
     "name": "stdout",
     "output_type": "stream",
     "text": [
      "Episode complete. Total Reward: [-274.48333333 -260.9        -251.65      ] jumlah step: 475 product completed:  20\n",
      "product completed:  ['C-1', 'B-1', 'C-2', 'B-5', 'C-3', 'B-2', 'A-2', 'A-1', 'B-4', 'C-4', 'C-5', 'B-3', 'B-6', 'C-7', 'A-3', 'B-7', 'A-4', 'C-6', 'A-5', 'A-6']\n",
      "\n",
      "Episode: 416\n",
      "Episode complete. Total Reward: [-217.96666667 -196.96666667 -199.8       ] jumlah step: 427 product completed:  20\n",
      "product completed:  ['C-2', 'C-6', 'C-4', 'A-1', 'B-2', 'C-5', 'C-7', 'B-3', 'A-2', 'C-3', 'C-1', 'B-5', 'A-3', 'B-6', 'A-6', 'B-1', 'A-4', 'A-7', 'B-7', 'A-5']\n",
      "\n",
      "Episode: 417\n",
      "Episode complete. Total Reward: [-118.95 -105.2  -102.7 ] jumlah step: 326 product completed:  20\n",
      "product completed:  ['B-1', 'C-5', 'C-4', 'A-2', 'C-2', 'C-7', 'C-6', 'C-3', 'A-3', 'C-1', 'A-4', 'A-5', 'B-5', 'A-6', 'B-2', 'B-7', 'B-3', 'A-1', 'B-4', 'B-6']\n",
      "\n",
      "Episode: 418\n",
      "Episode complete. Total Reward: [-140.33333333 -120.5        -123.5       ] jumlah step: 313 product completed:  20\n",
      "product completed:  ['A-2', 'C-4', 'C-5', 'B-3', 'C-2', 'A-1', 'C-3', 'B-5', 'B-2', 'A-3', 'A-6', 'A-4', 'C-7', 'A-5', 'C-6', 'B-6', 'C-1', 'B-1', 'B-7', 'B-4']\n",
      "\n",
      "Episode: 419\n",
      "Episode complete. Total Reward: [-155.41666667 -140.         -133.25      ] jumlah step: 339 product completed:  20\n",
      "product completed:  ['C-1', 'C-2', 'B-3', 'B-1', 'C-3', 'B-2', 'C-4', 'A-1', 'C-5', 'A-2', 'A-6', 'C-7', 'C-6', 'B-7', 'B-6', 'B-5', 'A-3', 'B-4', 'A-7', 'A-5']\n"
     ]
    },
    {
     "name": "stderr",
     "output_type": "stream",
     "text": [
      " 42%|████▏     | 421/1000 [00:22<00:29, 19.52it/s]"
     ]
    },
    {
     "name": "stdout",
     "output_type": "stream",
     "text": [
      "\n",
      "Episode: 420\n",
      "Episode complete. Total Reward: [-216.98333333 -200.23333333 -195.65      ] jumlah step: 380 product completed:  20\n",
      "product completed:  ['B-1', 'B-2', 'C-1', 'C-2', 'C-4', 'C-3', 'A-5', 'C-5', 'B-4', 'B-5', 'B-3', 'A-2', 'C-6', 'A-6', 'B-6', 'A-3', 'A-1', 'A-7', 'B-7', 'C-7']\n",
      "\n",
      "Episode: 421\n",
      "Episode complete. Total Reward: [-336.         -317.33333333 -320.75      ] jumlah step: 555 product completed:  20\n",
      "product completed:  ['C-1', 'C-3', 'C-4', 'C-2', 'C-5', 'A-1', 'B-3', 'A-2', 'B-2', 'C-7', 'A-5', 'B-1', 'C-6', 'B-4', 'A-4', 'A-3', 'A-6', 'A-7', 'B-6', 'B-5']\n",
      "\n",
      "Episode: 422\n",
      "Episode complete. Total Reward: [-146.4        -128.23333333 -127.4       ] jumlah step: 335 product completed:  20\n",
      "product completed:  ['C-2', 'C-1', 'C-4', 'B-1', 'A-3', 'C-7', 'C-3', 'C-6', 'A-2', 'C-5', 'B-3', 'A-6', 'B-7', 'A-5', 'A-1', 'B-4', 'B-6', 'A-7', 'B-5', 'A-4']\n",
      "\n",
      "Episode: 423\n",
      "Episode complete. Total Reward: [-235.78333333 -217.36666667 -215.7       ] jumlah step: 434 product completed:  20\n",
      "product completed:  ['C-1', 'C-2', 'C-5', 'B-2', 'C-6', 'C-4', 'B-6', 'A-1', 'C-7', 'B-3', 'C-3', 'A-3', 'A-7', 'B-7', 'B-5', 'A-6', 'B-1', 'B-4', 'A-4', 'A-5']\n",
      "\n",
      "Episode: 424\n"
     ]
    },
    {
     "name": "stderr",
     "output_type": "stream",
     "text": [
      " 43%|████▎     | 426/1000 [00:22<00:29, 19.27it/s]"
     ]
    },
    {
     "name": "stdout",
     "output_type": "stream",
     "text": [
      "Episode complete. Total Reward: [-228.25 -208.   -205.5 ] jumlah step: 412 product completed:  20\n",
      "product completed:  ['C-2', 'C-3', 'C-4', 'B-3', 'C-1', 'A-1', 'C-5', 'B-1', 'B-5', 'B-7', 'A-7', 'A-4', 'C-6', 'B-6', 'B-4', 'B-2', 'A-5', 'A-2', 'C-7', 'A-6']\n",
      "\n",
      "Episode: 425\n",
      "Episode complete. Total Reward: [-188.2 -174.2 -167.2] jumlah step: 406 product completed:  20\n",
      "product completed:  ['C-1', 'B-2', 'A-4', 'A-1', 'B-1', 'C-2', 'C-3', 'A-2', 'A-3', 'B-3', 'B-4', 'C-4', 'C-6', 'A-7', 'C-7', 'A-5', 'B-5', 'B-6', 'B-7', 'C-5']\n",
      "\n",
      "Episode: 426\n",
      "Episode complete. Total Reward: [-240.88333333 -219.3        -222.8       ] jumlah step: 424 product completed:  20\n",
      "product completed:  ['C-2', 'C-4', 'C-3', 'A-2', 'B-3', 'A-5', 'B-4', 'B-2', 'A-4', 'C-6', 'C-1', 'C-5', 'C-7', 'A-1', 'B-7', 'A-7', 'A-3', 'B-5', 'B-6', 'B-1']\n",
      "\n",
      "Episode: 427\n",
      "Episode complete. Total Reward: [-324.78333333 -301.36666667 -297.95      ] jumlah step: 496 product completed:  20\n",
      "product completed:  ['C-2', 'C-3', 'C-7', 'C-6', 'C-5', 'A-5', 'A-1', 'B-1', 'A-2', 'A-3', 'B-3', 'C-4', 'C-1', 'B-5', 'A-4', 'B-4', 'A-6', 'B-2', 'B-7', 'A-7']\n",
      "\n",
      "Episode: 428\n"
     ]
    },
    {
     "name": "stderr",
     "output_type": "stream",
     "text": [
      " 43%|████▎     | 430/1000 [00:23<00:30, 18.58it/s]"
     ]
    },
    {
     "name": "stdout",
     "output_type": "stream",
     "text": [
      "Episode complete. Total Reward: [-279.9 -260.4 -266.4] jumlah step: 499 product completed:  20\n",
      "product completed:  ['B-1', 'C-2', 'C-5', 'A-1', 'C-6', 'C-1', 'A-3', 'C-4', 'C-7', 'A-4', 'B-3', 'A-7', 'B-7', 'A-5', 'B-5', 'B-2', 'A-2', 'C-3', 'B-6', 'B-4']\n",
      "\n",
      "Episode: 429\n",
      "Episode complete. Total Reward: [-312.6        -296.93333333 -279.35      ] jumlah step: 509 product completed:  20\n",
      "product completed:  ['C-2', 'B-4', 'C-5', 'B-5', 'B-1', 'A-1', 'C-1', 'A-2', 'B-2', 'B-6', 'C-6', 'C-7', 'B-7', 'C-3', 'A-3', 'A-6', 'A-7', 'A-5', 'C-4', 'B-3']\n",
      "\n",
      "Episode: 430\n",
      "Episode complete. Total Reward: [-233.6        -213.76666667 -213.1       ] jumlah step: 407 product completed:  20\n",
      "product completed:  ['B-2', 'C-2', 'B-7', 'C-3', 'B-6', 'A-3', 'B-4', 'A-2', 'C-1', 'B-1', 'A-4', 'C-6', 'C-4', 'B-5', 'C-5', 'A-7', 'A-1', 'B-3', 'C-7', 'A-5']\n",
      "\n",
      "Episode: 431\n",
      "Episode complete. Total Reward: [-192.61666667 -170.7        -168.95      ] jumlah step: 371 product completed:  20\n",
      "product completed:  ['B-1', 'A-1', 'C-3', 'B-2', 'C-4', 'C-2', 'C-1', 'A-6', 'A-3', 'C-7', 'B-3', 'B-5', 'A-2', 'A-4', 'C-6', 'A-5', 'B-6', 'B-4', 'B-7', 'C-5']\n",
      "\n",
      "Episode: 432\n"
     ]
    },
    {
     "name": "stderr",
     "output_type": "stream",
     "text": [
      " 43%|████▎     | 434/1000 [00:23<00:32, 17.34it/s]"
     ]
    },
    {
     "name": "stdout",
     "output_type": "stream",
     "text": [
      "Episode complete. Total Reward: [-361.75 -338.   -338.75] jumlah step: 560 product completed:  20\n",
      "product completed:  ['B-3', 'C-1', 'C-4', 'B-2', 'A-2', 'C-3', 'B-4', 'C-6', 'C-2', 'A-1', 'B-6', 'C-7', 'B-5', 'A-3', 'B-1', 'A-6', 'B-7', 'A-4', 'A-5', 'C-5']\n",
      "\n",
      "Episode: 433\n",
      "Episode complete. Total Reward: [-340.95       -321.53333333 -317.7       ] jumlah step: 537 product completed:  20\n",
      "product completed:  ['C-1', 'B-2', 'C-4', 'C-3', 'B-1', 'C-5', 'A-2', 'B-3', 'B-5', 'A-4', 'C-6', 'C-2', 'C-7', 'B-6', 'A-6', 'B-7', 'A-3', 'B-4', 'A-1', 'A-5']\n",
      "\n",
      "Episode: 434\n",
      "Episode complete. Total Reward: [-215.13333333 -194.63333333 -194.8       ] jumlah step: 430 product completed:  20\n",
      "product completed:  ['C-1', 'C-2', 'C-4', 'B-2', 'B-4', 'B-1', 'C-7', 'B-3', 'C-5', 'B-5', 'C-3', 'C-6', 'B-6', 'A-2', 'A-6', 'B-7', 'A-1', 'A-3', 'A-4', 'A-5']\n",
      "\n",
      "Episode: 435\n",
      "Episode complete. Total Reward: [-260.28333333 -244.36666667 -235.95      ] jumlah step: 449 product completed:  20\n",
      "product completed:  ['C-1', 'C-3', 'C-5', 'C-4', 'B-2', 'B-1', 'B-5', 'C-6', 'B-4', 'C-7', 'A-2', 'B-3', 'A-4', 'B-7', 'B-6', 'A-3', 'A-5', 'A-7', 'A-6', 'A-1']\n",
      "\n",
      "Episode: 436\n"
     ]
    },
    {
     "name": "stderr",
     "output_type": "stream",
     "text": [
      " 44%|████▍     | 438/1000 [00:23<00:31, 17.70it/s]"
     ]
    },
    {
     "name": "stdout",
     "output_type": "stream",
     "text": [
      "Episode complete. Total Reward: [-294.1        -272.26666667 -270.6       ] jumlah step: 509 product completed:  20\n",
      "product completed:  ['C-3', 'C-4', 'C-2', 'B-1', 'A-1', 'C-6', 'A-2', 'C-5', 'B-2', 'B-5', 'C-1', 'B-6', 'B-4', 'A-3', 'A-5', 'B-7', 'A-4', 'C-7', 'A-6', 'A-7']\n",
      "\n",
      "Episode: 437\n",
      "Episode complete. Total Reward: [-175.53333333 -156.53333333 -157.7       ] jumlah step: 360 product completed:  20\n",
      "product completed:  ['C-1', 'C-4', 'C-2', 'C-5', 'C-6', 'B-2', 'B-1', 'C-7', 'A-3', 'A-2', 'B-3', 'B-4', 'A-4', 'B-6', 'C-3', 'B-5', 'A-6', 'A-1', 'A-5', 'B-7']\n",
      "\n",
      "Episode: 438\n",
      "Episode complete. Total Reward: [-285.63333333 -266.3        -263.05      ] jumlah step: 473 product completed:  20\n",
      "product completed:  ['C-2', 'C-3', 'C-1', 'A-1', 'B-1', 'B-3', 'C-6', 'C-4', 'B-4', 'C-5', 'B-6', 'A-3', 'A-2', 'A-6', 'B-2', 'B-5', 'A-5', 'C-7', 'A-7', 'A-4']\n",
      "\n",
      "Episode: 439\n",
      "Episode complete. Total Reward: [-293.95 -278.7  -274.95] jumlah step: 507 product completed:  20\n",
      "product completed:  ['C-2', 'C-1', 'C-4', 'B-5', 'C-6', 'B-1', 'C-7', 'C-5', 'B-6', 'B-7', 'B-4', 'C-3', 'A-6', 'B-3', 'B-2', 'A-7', 'A-5', 'A-3', 'A-2', 'A-1']\n",
      "\n",
      "Episode: 440\n",
      "Episode complete. Total Reward: [-235.65       -218.06666667 -211.65      ] jumlah step: 435 product completed:  20\n",
      "product completed:  ['C-1', 'A-1', 'C-2', 'B-2', 'A-4', 'A-2', 'A-3', 'C-3', 'B-1', 'C-6', 'A-6', 'A-5', 'B-4', 'B-7', 'C-7', 'C-5', 'A-7', 'C-4', 'B-3', 'B-5']\n"
     ]
    },
    {
     "name": "stderr",
     "output_type": "stream",
     "text": [
      " 44%|████▍     | 443/1000 [00:23<00:29, 19.06it/s]"
     ]
    },
    {
     "name": "stdout",
     "output_type": "stream",
     "text": [
      "\n",
      "Episode: 441\n",
      "Episode complete. Total Reward: [-219.65       -204.23333333 -193.9       ] jumlah step: 392 product completed:  20\n",
      "product completed:  ['C-1', 'B-2', 'C-2', 'C-3', 'A-1', 'A-4', 'B-4', 'B-3', 'B-7', 'B-5', 'C-7', 'A-3', 'A-6', 'C-6', 'A-5', 'C-5', 'A-2', 'B-6', 'C-4', 'B-1']\n",
      "\n",
      "Episode: 442\n",
      "Episode complete. Total Reward: [-168.33333333 -151.16666667 -145.5       ] jumlah step: 337 product completed:  20\n",
      "product completed:  ['C-1', 'B-2', 'B-1', 'C-2', 'C-4', 'A-3', 'C-3', 'A-5', 'C-5', 'B-4', 'B-5', 'A-4', 'B-3', 'B-7', 'C-7', 'A-6', 'B-6', 'C-6', 'A-2', 'A-1']\n",
      "\n",
      "Episode: 443\n",
      "Episode complete. Total Reward: [-280.83333333 -266.5        -263.        ] jumlah step: 498 product completed:  20\n",
      "product completed:  ['C-1', 'B-1', 'C-3', 'A-2', 'C-5', 'C-2', 'C-4', 'A-1', 'C-6', 'B-7', 'A-4', 'B-5', 'B-4', 'A-3', 'C-7', 'B-2', 'B-6', 'A-5', 'A-7', 'A-6']\n",
      "\n",
      "Episode: 444\n"
     ]
    },
    {
     "name": "stderr",
     "output_type": "stream",
     "text": [
      " 45%|████▍     | 447/1000 [00:24<00:30, 17.86it/s]"
     ]
    },
    {
     "name": "stdout",
     "output_type": "stream",
     "text": [
      "Episode complete. Total Reward: [-240.66666667 -220.5        -219.25      ] jumlah step: 457 product completed:  20\n",
      "product completed:  ['C-3', 'B-3', 'C-2', 'B-4', 'A-4', 'B-2', 'A-3', 'C-6', 'A-2', 'C-1', 'A-6', 'A-7', 'C-5', 'C-4', 'A-1', 'B-1', 'A-5', 'B-7', 'B-6', 'C-7']\n",
      "\n",
      "Episode: 445\n",
      "Episode complete. Total Reward: [-176.98333333 -159.73333333 -161.15      ] jumlah step: 371 product completed:  20\n",
      "product completed:  ['B-4', 'C-3', 'C-4', 'C-2', 'C-1', 'A-2', 'B-1', 'A-3', 'B-3', 'B-5', 'C-5', 'A-1', 'B-6', 'C-7', 'A-6', 'C-6', 'B-2', 'A-7', 'A-4', 'B-7']\n",
      "\n",
      "Episode: 446\n",
      "Episode complete. Total Reward: [-323.2        -301.03333333 -300.95      ] jumlah step: 512 product completed:  20\n",
      "product completed:  ['B-1', 'B-3', 'B-5', 'C-3', 'A-4', 'C-4', 'C-2', 'C-5', 'B-4', 'A-3', 'C-1', 'B-6', 'C-6', 'A-2', 'B-2', 'A-7', 'A-1', 'A-6', 'B-7', 'C-7']\n",
      "\n",
      "Episode: 447\n",
      "Episode complete. Total Reward: [-336.83333333 -318.33333333 -311.5       ] jumlah step: 497 product completed:  20\n",
      "product completed:  ['C-1', 'C-2', 'C-5', 'B-3', 'B-2', 'B-6', 'C-4', 'C-3', 'C-7', 'B-5', 'A-4', 'B-1', 'C-6', 'A-1', 'A-5', 'A-7', 'B-4', 'A-3', 'A-2', 'B-7']\n",
      "\n",
      "Episode: 448\n"
     ]
    },
    {
     "name": "stderr",
     "output_type": "stream",
     "text": [
      " 45%|████▌     | 451/1000 [00:24<00:31, 17.45it/s]"
     ]
    },
    {
     "name": "stdout",
     "output_type": "stream",
     "text": [
      "Episode complete. Total Reward: [-206.4        -189.73333333 -188.65      ] jumlah step: 415 product completed:  20\n",
      "product completed:  ['C-1', 'B-2', 'C-3', 'C-2', 'B-7', 'C-5', 'B-6', 'B-3', 'C-7', 'A-2', 'C-4', 'C-6', 'B-1', 'A-4', 'A-5', 'B-4', 'A-3', 'A-1', 'A-7', 'B-5']\n",
      "\n",
      "Episode: 449\n",
      "Episode complete. Total Reward: [-423.28333333 -404.7        -392.2       ] jumlah step: 639 product completed:  20\n",
      "product completed:  ['C-6', 'C-4', 'C-7', 'C-5', 'C-2', 'B-1', 'B-3', 'B-2', 'A-3', 'B-7', 'B-5', 'C-1', 'B-4', 'A-1', 'B-6', 'C-3', 'A-6', 'A-4', 'A-5', 'A-7']\n",
      "\n",
      "Episode: 450\n",
      "Episode complete. Total Reward: [-272.26666667 -250.76666667 -251.1       ] jumlah step: 467 product completed:  20\n",
      "product completed:  ['C-1', 'C-4', 'A-4', 'B-2', 'A-1', 'C-2', 'C-3', 'B-4', 'C-7', 'B-3', 'C-6', 'B-7', 'A-3', 'C-5', 'B-6', 'B-5', 'A-6', 'A-5', 'A-2', 'B-1']\n",
      "\n",
      "Episode: 451\n",
      "Episode complete. Total Reward: [-215.55       -191.96666667 -192.55      ] jumlah step: 375 product completed:  20\n",
      "product completed:  ['A-1', 'B-4', 'B-6', 'B-2', 'C-1', 'A-5', 'B-5', 'C-4', 'B-3', 'A-3', 'B-1', 'B-7', 'C-5', 'A-2', 'C-7', 'C-2', 'A-4', 'C-6', 'A-6', 'C-3']\n"
     ]
    },
    {
     "name": "stderr",
     "output_type": "stream",
     "text": [
      " 45%|████▌     | 453/1000 [00:24<00:32, 16.81it/s]"
     ]
    },
    {
     "name": "stdout",
     "output_type": "stream",
     "text": [
      "\n",
      "Episode: 452\n",
      "Episode complete. Total Reward: [-474.23333333 -448.23333333 -451.65      ] jumlah step: 700 product completed:  20\n",
      "product completed:  ['C-3', 'C-4', 'B-4', 'A-3', 'C-6', 'B-2', 'C-1', 'B-5', 'C-7', 'A-1', 'C-2', 'C-5', 'B-6', 'B-1', 'A-4', 'A-6', 'B-7', 'B-3', 'A-7', 'A-2']\n",
      "\n",
      "Episode: 453\n",
      "Episode complete. Total Reward: [-254.91666667 -237.         -234.5       ] jumlah step: 481 product completed:  20\n",
      "product completed:  ['C-3', 'C-1', 'C-2', 'B-5', 'B-3', 'B-6', 'B-4', 'B-2', 'B-7', 'C-7', 'B-1', 'C-5', 'A-2', 'A-6', 'A-4', 'A-3', 'A-5', 'A-7', 'C-4', 'C-6']\n",
      "\n",
      "Episode: 454\n",
      "Episode complete. Total Reward: [-210.96666667 -196.13333333 -189.8       ] jumlah step: 388 product completed:  20\n",
      "product completed:  ['B-4', 'C-2', 'C-4', 'B-1', 'B-5', 'A-2', 'B-2', 'A-1', 'B-3', 'C-6', 'B-7', 'A-3', 'C-5', 'B-6', 'C-7', 'A-7', 'C-3', 'C-1', 'A-5', 'A-6']\n",
      "\n",
      "Episode: 455\n"
     ]
    },
    {
     "name": "stderr",
     "output_type": "stream",
     "text": [
      " 46%|████▌     | 457/1000 [00:24<00:31, 17.12it/s]"
     ]
    },
    {
     "name": "stdout",
     "output_type": "stream",
     "text": [
      "Episode complete. Total Reward: [-211.06666667 -192.56666667 -197.9       ] jumlah step: 438 product completed:  20\n",
      "product completed:  ['B-1', 'C-1', 'B-2', 'C-2', 'A-3', 'C-5', 'C-7', 'C-6', 'B-3', 'C-3', 'C-4', 'B-7', 'A-1', 'B-4', 'A-5', 'A-6', 'A-4', 'B-5', 'B-6', 'A-2']\n",
      "\n",
      "Episode: 456\n",
      "Episode complete. Total Reward: [-202.81666667 -181.73333333 -188.4       ] jumlah step: 397 product completed:  20\n",
      "product completed:  ['C-1', 'A-1', 'A-4', 'C-2', 'B-1', 'C-5', 'C-3', 'C-4', 'A-7', 'A-6', 'A-5', 'B-4', 'A-2', 'C-7', 'B-6', 'B-5', 'B-7', 'A-3', 'B-2', 'C-6']\n",
      "\n",
      "Episode: 457\n",
      "Episode complete. Total Reward: [-297.5        -278.16666667 -275.5       ] jumlah step: 473 product completed:  20\n",
      "product completed:  ['A-1', 'B-2', 'C-1', 'A-4', 'A-3', 'B-1', 'C-2', 'C-4', 'A-2', 'B-4', 'C-5', 'C-6', 'B-7', 'A-6', 'A-7', 'C-7', 'B-3', 'A-5', 'B-5', 'C-3']\n",
      "\n",
      "Episode: 458\n",
      "Episode complete. Total Reward: [-231.16666667 -205.66666667 -216.25      ] jumlah step: 383 product completed:  20\n",
      "product completed:  ['B-1', 'C-3', 'C-1', 'B-3', 'C-4', 'A-2', 'C-6', 'C-5', 'A-1', 'B-2', 'B-5', 'B-6', 'C-2', 'A-4', 'B-7', 'A-7', 'A-6', 'C-7', 'B-4', 'A-3']\n",
      "\n",
      "Episode: 459\n",
      "Episode complete. Total Reward: [-216.91666667 -200.33333333 -197.75      ] jumlah step: 396 product completed:  20\n",
      "product completed:  ['C-1', 'C-2', 'B-3', 'B-2', 'B-1', 'A-5', 'A-2', 'C-3', 'A-1', 'B-5', 'A-3', 'C-4', 'B-4', 'B-6', 'C-7', 'A-7', 'C-6', 'A-4', 'C-5', 'B-7']\n",
      "\n",
      "Episode: 460\n"
     ]
    },
    {
     "name": "stderr",
     "output_type": "stream",
     "text": [
      " 46%|████▌     | 462/1000 [00:24<00:30, 17.73it/s]"
     ]
    },
    {
     "name": "stdout",
     "output_type": "stream",
     "text": [
      "Episode complete. Total Reward: [-271.53333333 -247.36666667 -245.7       ] jumlah step: 479 product completed:  20\n",
      "product completed:  ['C-1', 'B-1', 'A-2', 'C-4', 'B-3', 'C-6', 'C-7', 'C-2', 'A-4', 'B-2', 'C-3', 'A-5', 'C-5', 'B-5', 'B-7', 'B-6', 'A-6', 'B-4', 'A-1', 'A-3']\n",
      "\n",
      "Episode: 461\n",
      "Episode complete. Total Reward: [-232.38333333 -212.63333333 -204.3       ] jumlah step: 418 product completed:  20\n",
      "product completed:  ['B-1', 'A-3', 'B-2', 'C-3', 'C-5', 'A-6', 'C-2', 'A-7', 'B-3', 'C-1', 'B-6', 'A-1', 'C-4', 'C-6', 'B-4', 'C-7', 'A-5', 'A-2', 'A-4', 'B-5']\n",
      "\n",
      "Episode: 462\n",
      "Episode complete. Total Reward: [-276.31666667 -253.06666667 -256.15      ] jumlah step: 462 product completed:  20\n",
      "product completed:  ['C-2', 'A-3', 'B-3', 'C-3', 'C-4', 'C-7', 'C-5', 'C-6', 'A-1', 'B-2', 'B-6', 'B-4', 'C-1', 'B-5', 'A-4', 'A-6', 'B-1', 'A-7', 'A-5', 'B-7']\n",
      "\n",
      "Episode: 463\n",
      "Episode complete. Total Reward: [-209.65       -183.06666667 -191.15      ] jumlah step: 385 product completed:  20\n",
      "product completed:  ['C-1', 'C-3', 'A-3', 'B-3', 'A-5', 'A-2', 'A-1', 'A-6', 'B-4', 'C-4', 'B-5', 'C-5', 'A-7', 'B-2', 'C-7', 'B-7', 'C-6', 'C-2', 'B-6', 'B-1']\n",
      "\n",
      "Episode: 464\n"
     ]
    },
    {
     "name": "stderr",
     "output_type": "stream",
     "text": [
      " 47%|████▋     | 467/1000 [00:25<00:28, 18.66it/s]"
     ]
    },
    {
     "name": "stdout",
     "output_type": "stream",
     "text": [
      "Episode complete. Total Reward: [-226.01666667 -205.6        -202.85      ] jumlah step: 416 product completed:  20\n",
      "product completed:  ['B-2', 'B-3', 'C-1', 'C-3', 'C-2', 'A-4', 'C-4', 'B-1', 'A-1', 'A-3', 'C-7', 'B-5', 'A-5', 'B-6', 'B-4', 'A-6', 'C-6', 'C-5', 'A-7', 'B-7']\n",
      "\n",
      "Episode: 465\n",
      "Episode complete. Total Reward: [-191.51666667 -176.43333333 -168.1       ] jumlah step: 373 product completed:  20\n",
      "product completed:  ['C-2', 'B-1', 'B-2', 'C-4', 'B-4', 'C-1', 'A-2', 'A-4', 'A-1', 'C-5', 'C-7', 'A-5', 'B-7', 'C-6', 'A-3', 'A-6', 'B-5', 'C-3', 'A-7', 'B-3']\n",
      "\n",
      "Episode: 466\n",
      "Episode complete. Total Reward: [-167.   -148.   -155.25] jumlah step: 374 product completed:  20\n",
      "product completed:  ['B-1', 'C-1', 'C-3', 'B-2', 'B-6', 'A-2', 'B-4', 'A-5', 'C-4', 'C-2', 'B-5', 'C-6', 'C-7', 'A-6', 'B-3', 'A-4', 'C-5', 'A-3', 'A-1', 'A-7']\n",
      "\n",
      "Episode: 467\n",
      "Episode complete. Total Reward: [-240.7        -226.36666667 -220.7       ] jumlah step: 450 product completed:  20\n",
      "product completed:  ['C-2', 'A-7', 'B-1', 'C-1', 'A-3', 'A-5', 'A-2', 'C-4', 'A-4', 'A-6', 'B-2', 'C-5', 'B-6', 'C-6', 'B-7', 'C-7', 'C-3', 'B-4', 'B-3', 'B-5']\n",
      "\n",
      "Episode: 468\n"
     ]
    },
    {
     "name": "stderr",
     "output_type": "stream",
     "text": [
      " 47%|████▋     | 471/1000 [00:25<00:30, 17.57it/s]"
     ]
    },
    {
     "name": "stdout",
     "output_type": "stream",
     "text": [
      "Episode complete. Total Reward: [-146.48333333 -123.4        -136.4       ] jumlah step: 348 product completed:  20\n",
      "product completed:  ['C-1', 'C-2', 'B-5', 'A-2', 'C-3', 'B-3', 'A-3', 'A-1', 'C-4', 'A-7', 'C-5', 'B-6', 'B-1', 'B-7', 'B-4', 'C-6', 'B-2', 'C-7', 'A-4', 'A-6']\n",
      "\n",
      "Episode: 469\n",
      "Episode complete. Total Reward: [-189.48333333 -176.4        -175.65      ] jumlah step: 399 product completed:  20\n",
      "product completed:  ['B-2', 'C-1', 'C-5', 'B-3', 'C-3', 'C-2', 'B-1', 'C-7', 'B-5', 'C-6', 'B-6', 'A-6', 'B-7', 'C-4', 'A-5', 'A-3', 'A-1', 'A-7', 'A-2', 'A-4']\n",
      "\n",
      "Episode: 470\n",
      "Episode complete. Total Reward: [-171.93333333 -148.1        -155.1       ] jumlah step: 362 product completed:  20\n",
      "product completed:  ['B-4', 'B-6', 'B-5', 'C-1', 'C-2', 'B-2', 'C-4', 'C-5', 'C-6', 'A-3', 'A-5', 'B-3', 'B-1', 'A-4', 'B-7', 'C-7', 'C-3', 'A-7', 'A-2', 'A-1']\n",
      "\n",
      "Episode: 471\n",
      "Episode complete. Total Reward: [-191.95 -172.7  -177.45] jumlah step: 395 product completed:  20\n",
      "product completed:  ['C-3', 'B-1', 'A-4', 'C-1', 'C-5', 'C-4', 'A-6', 'A-7', 'A-1', 'A-3', 'B-2', 'A-5', 'C-2', 'B-5', 'B-6', 'C-7', 'B-3', 'C-6', 'B-4', 'B-7']\n"
     ]
    },
    {
     "name": "stderr",
     "output_type": "stream",
     "text": [
      " 47%|████▋     | 473/1000 [00:25<00:30, 17.43it/s]"
     ]
    },
    {
     "name": "stdout",
     "output_type": "stream",
     "text": [
      "\n",
      "Episode: 472\n",
      "Episode complete. Total Reward: [-255.61666667 -238.7        -236.7       ] jumlah step: 431 product completed:  20\n",
      "product completed:  ['B-3', 'C-1', 'C-2', 'A-3', 'C-4', 'A-2', 'C-6', 'B-2', 'B-4', 'C-5', 'C-7', 'B-6', 'C-3', 'B-1', 'A-7', 'A-6', 'B-7', 'B-5', 'A-4', 'A-5']\n",
      "\n",
      "Episode: 473\n",
      "Episode complete. Total Reward: [-321.6        -299.26666667 -303.85      ] jumlah step: 528 product completed:  20\n",
      "product completed:  ['A-1', 'A-4', 'C-3', 'C-4', 'A-2', 'C-2', 'A-7', 'C-5', 'C-1', 'B-3', 'B-5', 'C-7', 'B-7', 'C-6', 'B-4', 'B-2', 'B-6', 'A-6', 'A-3', 'A-5']\n",
      "\n",
      "Episode: 474\n",
      "Episode complete. Total Reward: [-266.78333333 -246.2        -237.7       ] jumlah step: 465 product completed:  20\n",
      "product completed:  ['B-4', 'C-5', 'C-3', 'C-4', 'B-3', 'B-6', 'B-1', 'C-7', 'C-6', 'C-1', 'A-4', 'B-2', 'C-2', 'A-5', 'A-2', 'B-5', 'B-7', 'A-3', 'A-1', 'A-7']\n",
      "\n",
      "Episode: 475\n",
      "Episode complete. Total Reward: [-244.45       -231.36666667 -221.45      ] jumlah step: 444 product completed:  20\n",
      "product completed:  ['C-1', 'C-2', 'C-3', 'B-3', 'B-7', 'A-3', 'B-6', 'C-4', 'B-1', 'A-1', 'C-5', 'B-5', 'C-6', 'B-2', 'A-6', 'A-5', 'A-2', 'C-7', 'A-4', 'B-4']\n",
      "\n",
      "Episode: 476\n"
     ]
    },
    {
     "name": "stderr",
     "output_type": "stream",
     "text": [
      " 48%|████▊     | 479/1000 [00:25<00:26, 19.46it/s]"
     ]
    },
    {
     "name": "stdout",
     "output_type": "stream",
     "text": [
      "Episode complete. Total Reward: [-178.16666667 -158.33333333 -159.5       ] jumlah step: 374 product completed:  20\n",
      "product completed:  ['B-1', 'A-2', 'C-2', 'C-4', 'C-3', 'B-6', 'B-4', 'A-6', 'B-2', 'B-5', 'C-7', 'A-1', 'C-6', 'C-1', 'C-5', 'A-3', 'A-4', 'B-7', 'B-3', 'A-7']\n",
      "\n",
      "Episode: 477\n",
      "Episode complete. Total Reward: [-190.51666667 -170.1        -171.85      ] jumlah step: 363 product completed:  20\n",
      "product completed:  ['B-4', 'C-3', 'B-2', 'C-2', 'C-4', 'A-6', 'B-6', 'A-3', 'B-7', 'A-1', 'C-6', 'B-3', 'A-7', 'B-1', 'C-7', 'A-4', 'C-5', 'A-2', 'C-1', 'B-5']\n",
      "\n",
      "Episode: 478\n",
      "Episode complete. Total Reward: [-115.21666667 -101.63333333  -96.8       ] jumlah step: 311 product completed:  20\n",
      "product completed:  ['C-1', 'B-1', 'C-3', 'C-6', 'A-3', 'C-2', 'A-2', 'C-4', 'C-7', 'A-5', 'A-6', 'B-5', 'B-2', 'B-3', 'A-4', 'C-5', 'B-7', 'B-6', 'A-7', 'B-4']\n",
      "\n",
      "Episode: 479\n",
      "Episode complete. Total Reward: [-290.33333333 -277.33333333 -275.5       ] jumlah step: 507 product completed:  20\n",
      "product completed:  ['C-2', 'B-1', 'C-4', 'C-5', 'C-3', 'C-1', 'C-6', 'B-2', 'C-7', 'A-4', 'A-1', 'A-6', 'B-5', 'B-7', 'A-2', 'B-3', 'B-4', 'A-7', 'B-6', 'A-3']\n",
      "\n",
      "Episode: 480\n",
      "Episode complete. Total Reward: [-183.78333333 -161.7        -166.45      ] jumlah step: 405 product completed:  20\n",
      "product completed:  ['C-2', 'B-3', 'B-4', 'C-1', 'B-5', 'B-6', 'C-4', 'C-5', 'B-2', 'B-7', 'C-7', 'B-1', 'C-3', 'A-7', 'A-2', 'A-1', 'A-6', 'C-6', 'A-4', 'A-3']\n",
      "\n",
      "Episode: 481\n"
     ]
    },
    {
     "name": "stderr",
     "output_type": "stream",
     "text": [
      " 48%|████▊     | 483/1000 [00:26<00:28, 18.11it/s]"
     ]
    },
    {
     "name": "stdout",
     "output_type": "stream",
     "text": [
      "Episode complete. Total Reward: [-201.53333333 -183.86666667 -182.45      ] jumlah step: 371 product completed:  20\n",
      "product completed:  ['C-1', 'C-2', 'B-3', 'A-2', 'B-1', 'B-2', 'A-4', 'A-7', 'A-3', 'A-1', 'C-4', 'C-7', 'C-5', 'B-7', 'C-3', 'B-6', 'A-6', 'B-5', 'A-5', 'C-6']\n",
      "\n",
      "Episode: 482\n",
      "Episode complete. Total Reward: [-208.   -190.5  -192.25] jumlah step: 401 product completed:  20\n",
      "product completed:  ['C-2', 'A-1', 'A-3', 'B-5', 'B-4', 'C-1', 'C-5', 'C-3', 'B-1', 'C-4', 'B-7', 'A-2', 'C-7', 'B-6', 'B-2', 'C-6', 'A-4', 'B-3', 'A-7', 'A-6']\n",
      "\n",
      "Episode: 483\n",
      "Episode complete. Total Reward: [-365.16666667 -337.83333333 -343.25      ] jumlah step: 564 product completed:  20\n",
      "product completed:  ['C-1', 'B-4', 'B-3', 'C-3', 'A-2', 'B-6', 'B-5', 'C-2', 'C-6', 'C-4', 'A-1', 'A-5', 'C-5', 'B-7', 'B-2', 'A-7', 'A-3', 'A-4', 'C-7', 'A-6']\n",
      "\n",
      "Episode: 484\n"
     ]
    },
    {
     "name": "stderr",
     "output_type": "stream",
     "text": [
      " 49%|████▊     | 487/1000 [00:26<00:29, 17.32it/s]"
     ]
    },
    {
     "name": "stdout",
     "output_type": "stream",
     "text": [
      "Episode complete. Total Reward: [-241.98333333 -221.23333333 -227.9       ] jumlah step: 432 product completed:  20\n",
      "product completed:  ['A-2', 'C-3', 'C-2', 'C-6', 'B-1', 'B-2', 'C-7', 'A-4', 'C-1', 'C-5', 'B-4', 'A-6', 'C-4', 'A-3', 'B-6', 'B-3', 'A-1', 'B-5', 'A-7', 'B-7']\n",
      "\n",
      "Episode: 485\n",
      "Episode complete. Total Reward: [-220.18333333 -203.93333333 -202.35      ] jumlah step: 412 product completed:  20\n",
      "product completed:  ['C-4', 'B-1', 'B-3', 'C-1', 'B-5', 'C-3', 'B-4', 'A-4', 'C-5', 'A-3', 'C-6', 'B-7', 'B-2', 'C-7', 'A-5', 'A-7', 'C-2', 'B-6', 'A-1', 'A-2']\n",
      "\n",
      "Episode: 486\n",
      "Episode complete. Total Reward: [-344.61666667 -329.7        -321.7       ] jumlah step: 562 product completed:  20\n",
      "product completed:  ['C-1', 'C-3', 'B-3', 'B-4', 'B-6', 'C-2', 'B-5', 'A-3', 'A-5', 'C-4', 'B-1', 'C-5', 'B-7', 'A-4', 'C-7', 'C-6', 'A-1', 'A-7', 'B-2', 'A-2']\n",
      "\n",
      "Episode: 487\n",
      "Episode complete. Total Reward: [-166.36666667 -143.36666667 -148.2       ] jumlah step: 340 product completed:  20\n",
      "product completed:  ['B-3', 'C-1', 'B-1', 'C-2', 'B-2', 'B-5', 'C-4', 'A-2', 'C-5', 'C-3', 'B-6', 'A-1', 'B-4', 'A-5', 'A-4', 'C-7', 'A-7', 'A-6', 'B-7', 'C-6']\n",
      "\n",
      "Episode: 488\n"
     ]
    },
    {
     "name": "stderr",
     "output_type": "stream",
     "text": [
      " 49%|████▉     | 491/1000 [00:26<00:30, 16.63it/s]"
     ]
    },
    {
     "name": "stdout",
     "output_type": "stream",
     "text": [
      "Episode complete. Total Reward: [-318.2        -300.53333333 -294.45      ] jumlah step: 513 product completed:  20\n",
      "product completed:  ['C-1', 'C-2', 'B-3', 'B-2', 'C-3', 'A-2', 'B-4', 'A-3', 'A-1', 'A-4', 'A-5', 'A-6', 'B-5', 'B-1', 'C-7', 'C-5', 'C-4', 'B-6', 'C-6', 'A-7']\n",
      "\n",
      "Episode: 489\n",
      "Episode complete. Total Reward: [-202.3        -182.96666667 -184.8       ] jumlah step: 412 product completed:  21\n",
      "product completed:  ['C-4', 'C-1', 'C-2', 'C-5', 'C-7', 'C-3', 'B-2', 'B-4', 'A-1', 'B-1', 'B-5', 'A-5', 'C-6', 'A-4', 'A-2', 'A-3', 'B-3', 'B-7', 'B-6', 'A-6', 'A-7']\n",
      "\n",
      "Episode: 490\n",
      "Episode complete. Total Reward: [-184.51666667 -168.6        -161.85      ] jumlah step: 362 product completed:  20\n",
      "product completed:  ['C-1', 'C-3', 'C-4', 'C-5', 'C-6', 'C-2', 'B-2', 'A-5', 'A-4', 'B-3', 'A-6', 'A-3', 'A-1', 'B-7', 'B-1', 'B-6', 'B-5', 'C-7', 'A-7', 'B-4']\n",
      "\n",
      "Episode: 491\n",
      "Episode complete. Total Reward: [-279.56666667 -264.06666667 -252.65      ] jumlah step: 475 product completed:  20\n",
      "product completed:  ['B-2', 'C-3', 'C-4', 'B-3', 'C-1', 'B-4', 'A-3', 'B-5', 'C-5', 'C-2', 'A-1', 'B-1', 'C-6', 'C-7', 'A-4', 'A-6', 'B-6', 'A-5', 'A-2', 'B-7']\n",
      "\n",
      "Episode: 492\n"
     ]
    },
    {
     "name": "stderr",
     "output_type": "stream",
     "text": [
      " 50%|████▉     | 495/1000 [00:26<00:29, 16.87it/s]"
     ]
    },
    {
     "name": "stdout",
     "output_type": "stream",
     "text": [
      "Episode complete. Total Reward: [-200.95       -181.03333333 -180.45      ] jumlah step: 408 product completed:  20\n",
      "product completed:  ['C-1', 'C-2', 'B-2', 'C-6', 'C-4', 'C-5', 'A-5', 'C-3', 'A-3', 'A-1', 'A-7', 'B-1', 'A-2', 'C-7', 'B-4', 'A-6', 'B-5', 'B-7', 'A-4', 'B-6']\n",
      "\n",
      "Episode: 493\n",
      "Episode complete. Total Reward: [-170.36666667 -157.36666667 -154.45      ] jumlah step: 351 product completed:  20\n",
      "product completed:  ['B-2', 'B-1', 'C-1', 'A-1', 'B-5', 'C-3', 'C-6', 'C-5', 'C-4', 'A-2', 'B-4', 'C-2', 'A-5', 'C-7', 'A-7', 'B-7', 'A-3', 'A-4', 'B-3', 'B-6']\n",
      "\n",
      "Episode: 494\n",
      "Episode complete. Total Reward: [-410.08333333 -384.66666667 -378.25      ] jumlah step: 600 product completed:  20\n",
      "product completed:  ['C-2', 'A-1', 'C-1', 'C-6', 'C-4', 'B-5', 'A-2', 'A-3', 'C-7', 'C-5', 'B-3', 'B-6', 'B-4', 'B-7', 'C-3', 'A-4', 'A-7', 'B-1', 'A-6', 'A-5']\n",
      "\n",
      "Episode: 495\n",
      "Episode complete. Total Reward: [-188.36666667 -171.03333333 -167.2       ] jumlah step: 391 product completed:  20\n",
      "product completed:  ['B-2', 'A-1', 'C-2', 'B-6', 'B-7', 'B-4', 'A-2', 'B-5', 'C-5', 'A-3', 'C-1', 'A-4', 'C-4', 'C-7', 'C-3', 'B-3', 'B-1', 'A-7', 'C-6', 'A-5']\n",
      "\n",
      "Episode: 496\n"
     ]
    },
    {
     "name": "stderr",
     "output_type": "stream",
     "text": [
      " 50%|████▉     | 499/1000 [00:26<00:29, 16.76it/s]"
     ]
    },
    {
     "name": "stdout",
     "output_type": "stream",
     "text": [
      "Episode complete. Total Reward: [-208.86666667 -185.86666667 -195.2       ] jumlah step: 398 product completed:  20\n",
      "product completed:  ['C-2', 'A-3', 'C-1', 'B-5', 'B-6', 'B-7', 'B-3', 'A-2', 'C-3', 'C-4', 'B-1', 'C-7', 'C-5', 'A-5', 'A-4', 'B-4', 'A-7', 'A-6', 'C-6', 'B-2']\n",
      "\n",
      "Episode: 497\n",
      "Episode complete. Total Reward: [-300.45       -277.86666667 -282.45      ] jumlah step: 513 product completed:  20\n",
      "product completed:  ['A-2', 'B-3', 'C-4', 'B-4', 'C-2', 'C-3', 'B-2', 'C-1', 'A-1', 'A-7', 'C-5', 'A-4', 'C-7', 'B-6', 'C-6', 'B-1', 'B-7', 'A-3', 'B-5', 'A-5']\n",
      "\n",
      "Episode: 498\n",
      "Episode complete. Total Reward: [-346.8        -322.96666667 -328.05      ] jumlah step: 541 product completed:  20\n",
      "product completed:  ['C-3', 'C-4', 'B-1', 'B-2', 'C-2', 'B-4', 'C-1', 'B-3', 'C-6', 'A-1', 'A-4', 'B-5', 'C-7', 'A-3', 'C-5', 'A-7', 'B-7', 'A-5', 'B-6', 'A-2']\n",
      "\n",
      "Episode: 499\n",
      "Episode complete. Total Reward: [-266.85 -251.6  -245.6 ] jumlah step: 469 product completed:  20\n",
      "product completed:  ['C-3', 'B-1', 'B-2', 'A-3', 'C-4', 'A-1', 'A-5', 'A-6', 'C-1', 'C-7', 'B-5', 'A-7', 'A-4', 'C-5', 'B-7', 'B-3', 'C-2', 'B-6', 'B-4', 'C-6']\n",
      "\n",
      "Episode: 500\n"
     ]
    },
    {
     "name": "stderr",
     "output_type": "stream",
     "text": [
      " 50%|█████     | 503/1000 [00:27<00:30, 16.40it/s]"
     ]
    },
    {
     "name": "stdout",
     "output_type": "stream",
     "text": [
      "Episode complete. Total Reward: [-165.13333333 -146.96666667 -147.55      ] jumlah step: 375 product completed:  20\n",
      "product completed:  ['B-3', 'C-1', 'B-2', 'C-2', 'C-4', 'C-3', 'B-6', 'B-4', 'A-4', 'A-5', 'C-6', 'B-1', 'A-1', 'B-5', 'C-7', 'A-2', 'A-3', 'A-6', 'A-7', 'B-7']\n",
      "\n",
      "Episode: 501\n",
      "Episode complete. Total Reward: [-300.45       -279.86666667 -275.45      ] jumlah step: 500 product completed:  20\n",
      "product completed:  ['B-3', 'B-5', 'C-3', 'C-5', 'B-1', 'A-1', 'C-4', 'A-3', 'C-2', 'B-7', 'B-4', 'A-4', 'C-1', 'A-5', 'C-7', 'C-6', 'B-6', 'A-2', 'B-2', 'A-6']\n",
      "\n",
      "Episode: 502\n",
      "Episode complete. Total Reward: [-333.4 -304.9 -315.4] jumlah step: 527 product completed:  20\n",
      "product completed:  ['B-1', 'C-5', 'C-4', 'A-4', 'C-2', 'B-2', 'B-4', 'B-3', 'B-6', 'A-7', 'A-2', 'C-6', 'C-3', 'A-3', 'C-7', 'A-1', 'A-5', 'A-6', 'B-5', 'B-7']\n",
      "\n",
      "Episode: 503\n",
      "Episode complete. Total Reward: [-287.96666667 -269.63333333 -262.8       ] jumlah step: 488 product completed:  21\n",
      "product completed:  ['C-1', 'A-5', 'A-3', 'C-2', 'B-3', 'C-3', 'B-5', 'B-2', 'C-4', 'B-4', 'C-5', 'C-7', 'A-2', 'A-7', 'C-6', 'B-7', 'A-1', 'B-6', 'A-6', 'B-1', 'A-4']\n"
     ]
    },
    {
     "name": "stderr",
     "output_type": "stream",
     "text": [
      " 50%|█████     | 505/1000 [00:27<00:30, 16.45it/s]"
     ]
    },
    {
     "name": "stdout",
     "output_type": "stream",
     "text": [
      "\n",
      "Episode: 504\n",
      "Episode complete. Total Reward: [-202.51666667 -182.26666667 -177.35      ] jumlah step: 374 product completed:  20\n",
      "product completed:  ['C-1', 'C-2', 'A-4', 'C-3', 'B-1', 'C-4', 'B-3', 'B-6', 'B-2', 'A-5', 'A-1', 'B-5', 'B-7', 'C-7', 'C-5', 'A-2', 'C-6', 'A-6', 'A-3', 'A-7']\n",
      "\n",
      "Episode: 505\n",
      "Episode complete. Total Reward: [-310.38333333 -284.3        -288.8       ] jumlah step: 496 product completed:  20\n",
      "product completed:  ['B-2', 'B-3', 'A-1', 'C-2', 'B-4', 'B-1', 'C-1', 'B-6', 'C-3', 'B-5', 'A-4', 'B-7', 'C-5', 'A-2', 'C-7', 'C-4', 'A-3', 'A-7', 'C-6', 'A-5']\n",
      "\n",
      "Episode: 506\n",
      "Episode complete. Total Reward: [-227.51666667 -212.76666667 -200.6       ] jumlah step: 417 product completed:  20\n",
      "product completed:  ['C-2', 'C-1', 'C-4', 'B-4', 'B-7', 'C-6', 'B-5', 'B-6', 'B-3', 'B-1', 'C-3', 'C-5', 'C-7', 'A-7', 'A-5', 'A-1', 'B-2', 'A-2', 'A-3', 'A-4']\n",
      "\n",
      "Episode: 507\n"
     ]
    },
    {
     "name": "stderr",
     "output_type": "stream",
     "text": [
      " 51%|█████     | 510/1000 [00:27<00:28, 17.48it/s]"
     ]
    },
    {
     "name": "stdout",
     "output_type": "stream",
     "text": [
      "Episode complete. Total Reward: [-176.48333333 -154.73333333 -156.65      ] jumlah step: 347 product completed:  20\n",
      "product completed:  ['C-1', 'B-1', 'C-2', 'A-2', 'B-4', 'B-3', 'A-4', 'C-5', 'B-6', 'A-6', 'C-4', 'A-5', 'C-7', 'C-3', 'B-5', 'A-3', 'B-2', 'B-7', 'C-6', 'A-1']\n",
      "\n",
      "Episode: 508\n",
      "Episode complete. Total Reward: [-268.63333333 -246.63333333 -243.05      ] jumlah step: 484 product completed:  20\n",
      "product completed:  ['C-3', 'C-2', 'B-2', 'B-3', 'C-4', 'A-2', 'B-4', 'A-1', 'A-4', 'B-6', 'A-3', 'C-6', 'A-5', 'B-1', 'A-6', 'B-5', 'C-5', 'C-7', 'B-7', 'C-1']\n",
      "\n",
      "Episode: 509\n",
      "Episode complete. Total Reward: [-224.53333333 -201.03333333 -202.2       ] jumlah step: 390 product completed:  20\n",
      "product completed:  ['B-1', 'B-2', 'B-4', 'B-6', 'C-1', 'A-2', 'B-5', 'A-4', 'C-3', 'B-7', 'C-4', 'C-6', 'C-7', 'A-3', 'A-1', 'C-2', 'A-5', 'B-3', 'A-7', 'C-5']\n",
      "\n",
      "Episode: 510\n",
      "Episode complete. Total Reward: [-270.7        -250.03333333 -250.45      ] jumlah step: 448 product completed:  20\n",
      "product completed:  ['B-1', 'C-2', 'C-4', 'B-2', 'C-7', 'A-3', 'C-5', 'C-3', 'A-2', 'B-7', 'B-4', 'A-1', 'A-7', 'C-6', 'B-6', 'A-4', 'C-1', 'B-5', 'A-5', 'B-3']\n",
      "\n",
      "Episode: 511\n"
     ]
    },
    {
     "name": "stderr",
     "output_type": "stream",
     "text": [
      " 52%|█████▏    | 515/1000 [00:27<00:25, 18.69it/s]"
     ]
    },
    {
     "name": "stdout",
     "output_type": "stream",
     "text": [
      "Episode complete. Total Reward: [-263.13333333 -242.3        -240.3       ] jumlah step: 461 product completed:  20\n",
      "product completed:  ['C-2', 'C-4', 'A-4', 'C-3', 'A-1', 'B-1', 'C-1', 'B-2', 'A-2', 'A-3', 'B-5', 'A-6', 'C-5', 'B-7', 'A-5', 'C-7', 'B-4', 'A-7', 'B-3', 'C-6']\n",
      "\n",
      "Episode: 512\n",
      "Episode complete. Total Reward: [-246.51666667 -226.43333333 -232.1       ] jumlah step: 439 product completed:  20\n",
      "product completed:  ['C-1', 'C-2', 'A-3', 'B-2', 'A-7', 'A-4', 'C-5', 'C-4', 'B-1', 'C-6', 'C-7', 'B-7', 'A-2', 'B-5', 'B-6', 'C-3', 'B-4', 'A-6', 'A-5', 'A-1']\n",
      "\n",
      "Episode: 513\n",
      "Episode complete. Total Reward: [-144.03333333 -130.36666667 -119.45      ] jumlah step: 322 product completed:  20\n",
      "product completed:  ['C-1', 'B-3', 'C-2', 'B-6', 'C-3', 'B-7', 'A-4', 'C-4', 'B-2', 'A-5', 'C-6', 'B-5', 'A-1', 'B-1', 'A-2', 'B-4', 'A-3', 'C-7', 'C-5', 'A-7']\n",
      "\n",
      "Episode: 514\n",
      "Episode complete. Total Reward: [-247.46666667 -232.63333333 -221.3       ] jumlah step: 458 product completed:  20\n",
      "product completed:  ['B-6', 'B-2', 'B-4', 'B-3', 'C-2', 'C-1', 'A-4', 'C-4', 'B-5', 'C-3', 'A-3', 'C-5', 'B-1', 'A-5', 'C-7', 'A-2', 'B-7', 'C-6', 'A-1', 'A-6']\n",
      "\n",
      "Episode: 515\n",
      "Episode complete. Total Reward: [-247.98333333 -220.73333333 -226.4       ] jumlah step: 418 product completed:  20\n",
      "product completed:  ['B-2', 'C-4', 'B-4', 'C-5', 'A-1', 'A-3', 'B-1', 'A-4', 'B-6', 'C-3', 'A-2', 'B-3', 'C-2', 'B-5', 'C-6', 'C-7', 'B-7', 'A-5', 'A-7', 'C-1']\n"
     ]
    },
    {
     "name": "stderr",
     "output_type": "stream",
     "text": [
      " 52%|█████▏    | 519/1000 [00:28<00:25, 18.53it/s]"
     ]
    },
    {
     "name": "stdout",
     "output_type": "stream",
     "text": [
      "\n",
      "Episode: 516\n",
      "Episode complete. Total Reward: [-129.63333333 -110.46666667 -111.8       ] jumlah step: 311 product completed:  20\n",
      "product completed:  ['C-2', 'B-2', 'B-5', 'B-6', 'C-1', 'A-2', 'C-3', 'B-7', 'B-4', 'A-1', 'C-5', 'A-3', 'B-1', 'B-3', 'C-4', 'C-6', 'A-5', 'C-7', 'A-7', 'A-4']\n",
      "\n",
      "Episode: 517\n",
      "Episode complete. Total Reward: [-250.88333333 -237.96666667 -233.8       ] jumlah step: 458 product completed:  20\n",
      "product completed:  ['C-3', 'C-5', 'C-2', 'C-7', 'C-4', 'A-3', 'C-1', 'A-2', 'C-6', 'B-3', 'A-7', 'A-5', 'B-4', 'B-1', 'A-6', 'A-1', 'B-6', 'B-7', 'B-5', 'B-2']\n",
      "\n",
      "Episode: 518\n",
      "Episode complete. Total Reward: [-208.96666667 -188.8        -188.05      ] jumlah step: 418 product completed:  20\n",
      "product completed:  ['B-1', 'B-3', 'B-5', 'C-2', 'C-1', 'A-2', 'B-6', 'C-3', 'B-2', 'C-4', 'A-1', 'B-4', 'B-7', 'A-6', 'C-7', 'C-5', 'A-3', 'A-7', 'C-6', 'A-4']\n",
      "\n",
      "Episode: 519\n",
      "Episode complete. Total Reward: [-205.9        -188.06666667 -192.65      ] jumlah step: 402 product completed:  20\n",
      "product completed:  ['C-3', 'C-4', 'C-2', 'A-1', 'C-7', 'B-2', 'B-3', 'A-4', 'C-5', 'C-1', 'B-7', 'A-3', 'B-6', 'A-5', 'A-6', 'A-7', 'A-2', 'B-4', 'B-5', 'C-6']\n"
     ]
    },
    {
     "name": "stderr",
     "output_type": "stream",
     "text": [
      " 52%|█████▏    | 522/1000 [00:28<00:24, 19.40it/s]"
     ]
    },
    {
     "name": "stdout",
     "output_type": "stream",
     "text": [
      "\n",
      "Episode: 520\n",
      "Episode complete. Total Reward: [-187.28333333 -170.7        -169.95      ] jumlah step: 385 product completed:  20\n",
      "product completed:  ['A-1', 'B-5', 'B-3', 'B-1', 'B-7', 'C-3', 'C-1', 'B-6', 'B-4', 'C-4', 'A-3', 'A-2', 'C-6', 'A-6', 'A-7', 'B-2', 'C-5', 'C-7', 'C-2', 'A-5']\n",
      "\n",
      "Episode: 521\n",
      "Episode complete. Total Reward: [-228.23333333 -210.73333333 -202.4       ] jumlah step: 404 product completed:  20\n",
      "product completed:  ['C-3', 'C-2', 'C-5', 'C-6', 'B-1', 'B-2', 'C-4', 'A-6', 'A-3', 'C-1', 'B-6', 'B-5', 'A-7', 'C-7', 'A-2', 'B-4', 'A-5', 'A-1', 'B-3', 'A-4']\n",
      "\n",
      "Episode: 522\n",
      "Episode complete. Total Reward: [-227.9        -207.23333333 -203.65      ] jumlah step: 398 product completed:  20\n",
      "product completed:  ['B-2', 'C-3', 'B-4', 'C-4', 'A-2', 'A-5', 'B-5', 'C-2', 'C-1', 'B-1', 'C-7', 'C-6', 'B-7', 'C-5', 'A-4', 'B-6', 'B-3', 'A-1', 'A-3', 'A-6']\n",
      "\n",
      "Episode: 523\n",
      "Episode complete. Total Reward: [-174.71666667 -151.3        -158.55      ] jumlah step: 357 product completed:  20\n",
      "product completed:  ['B-2', 'C-3', 'B-3', 'C-2', 'B-1', 'C-4', 'A-5', 'C-1', 'C-5', 'A-1', 'C-6', 'A-4', 'B-5', 'B-4', 'C-7', 'B-6', 'B-7', 'A-3', 'A-2', 'A-6']\n",
      "\n",
      "Episode: 524\n"
     ]
    },
    {
     "name": "stderr",
     "output_type": "stream",
     "text": [
      " 53%|█████▎    | 526/1000 [00:28<00:26, 17.82it/s]"
     ]
    },
    {
     "name": "stdout",
     "output_type": "stream",
     "text": [
      "Episode complete. Total Reward: [-257.05       -236.46666667 -236.55      ] jumlah step: 452 product completed:  20\n",
      "product completed:  ['B-3', 'C-5', 'B-1', 'A-3', 'A-2', 'B-2', 'B-4', 'C-7', 'C-1', 'C-6', 'B-6', 'C-3', 'C-4', 'C-2', 'B-5', 'A-5', 'A-6', 'B-7', 'A-7', 'A-1']\n",
      "\n",
      "Episode: 525\n",
      "Episode complete. Total Reward: [-189.15 -172.9  -172.4 ] jumlah step: 407 product completed:  20\n",
      "product completed:  ['C-3', 'C-2', 'B-4', 'B-2', 'C-5', 'C-4', 'B-6', 'C-1', 'C-6', 'B-7', 'A-1', 'A-4', 'B-1', 'B-3', 'A-2', 'C-7', 'B-5', 'A-7', 'A-3', 'A-5']\n",
      "\n",
      "Episode: 526\n",
      "Episode complete. Total Reward: [-378.73333333 -354.06666667 -358.4       ] jumlah step: 571 product completed:  20\n",
      "product completed:  ['C-3', 'A-6', 'C-4', 'C-1', 'B-2', 'A-7', 'A-3', 'C-7', 'B-1', 'C-2', 'C-6', 'A-4', 'B-3', 'B-5', 'B-6', 'C-5', 'A-5', 'B-7', 'A-1', 'A-2']\n",
      "\n",
      "Episode: 527\n",
      "Episode complete. Total Reward: [-263.7        -246.36666667 -240.95      ] jumlah step: 462 product completed:  20\n",
      "product completed:  ['B-1', 'C-4', 'C-2', 'B-4', 'C-5', 'C-3', 'B-3', 'A-2', 'C-1', 'B-2', 'C-7', 'B-6', 'A-4', 'C-6', 'B-5', 'A-5', 'A-7', 'B-7', 'A-3', 'A-1']\n",
      "\n",
      "Episode: 528\n"
     ]
    },
    {
     "name": "stderr",
     "output_type": "stream",
     "text": [
      " 53%|█████▎    | 531/1000 [00:28<00:24, 19.16it/s]"
     ]
    },
    {
     "name": "stdout",
     "output_type": "stream",
     "text": [
      "Episode complete. Total Reward: [-291.03333333 -271.53333333 -262.7       ] jumlah step: 485 product completed:  20\n",
      "product completed:  ['C-1', 'B-2', 'C-4', 'C-5', 'A-1', 'A-2', 'C-6', 'B-7', 'B-5', 'C-2', 'B-4', 'C-7', 'B-1', 'A-3', 'B-3', 'A-4', 'A-5', 'C-3', 'B-6', 'A-6']\n",
      "\n",
      "Episode: 529\n",
      "Episode complete. Total Reward: [-251.26666667 -225.76666667 -230.35      ] jumlah step: 451 product completed:  20\n",
      "product completed:  ['C-3', 'A-2', 'C-1', 'A-7', 'A-4', 'C-5', 'B-3', 'C-4', 'B-4', 'A-3', 'C-7', 'C-2', 'B-1', 'B-2', 'C-6', 'B-5', 'A-6', 'B-6', 'B-7', 'A-5']\n",
      "\n",
      "Episode: 530\n",
      "Episode complete. Total Reward: [-117.93333333 -102.26666667 -102.85      ] jumlah step: 316 product completed:  20\n",
      "product completed:  ['C-1', 'C-4', 'B-5', 'C-3', 'B-4', 'C-5', 'B-3', 'C-7', 'B-2', 'A-3', 'C-2', 'C-6', 'B-7', 'A-2', 'A-1', 'B-6', 'A-6', 'A-5', 'A-7', 'B-1']\n",
      "\n",
      "Episode: 531\n",
      "Episode complete. Total Reward: [-177.05 -156.8  -159.3 ] jumlah step: 387 product completed:  20\n",
      "product completed:  ['C-1', 'A-2', 'C-2', 'B-1', 'B-3', 'A-6', 'C-4', 'C-5', 'C-6', 'A-3', 'C-3', 'A-4', 'A-7', 'B-5', 'B-7', 'C-7', 'B-6', 'B-2', 'A-5', 'A-1']\n",
      "\n",
      "Episode: 532\n",
      "Episode complete. Total Reward: [-316.73333333 -294.4        -292.9       ] jumlah step: 507 product completed:  20\n",
      "product completed:  ['B-5', 'B-7', 'C-1', 'B-3', 'C-4', 'C-6', 'C-3', 'A-1', 'C-7', 'A-4', 'B-2', 'B-6', 'C-2', 'B-1', 'C-5', 'A-2', 'A-3', 'A-6', 'B-4', 'A-7']\n",
      "\n",
      "Episode: 533\n"
     ]
    },
    {
     "name": "stderr",
     "output_type": "stream",
     "text": [
      " 54%|█████▎    | 536/1000 [00:29<00:23, 19.55it/s]"
     ]
    },
    {
     "name": "stdout",
     "output_type": "stream",
     "text": [
      "Episode complete. Total Reward: [-232.96666667 -208.13333333 -211.8       ] jumlah step: 418 product completed:  20\n",
      "product completed:  ['C-2', 'B-5', 'B-4', 'B-2', 'C-5', 'C-3', 'C-6', 'C-4', 'A-3', 'B-1', 'A-1', 'C-1', 'C-7', 'B-7', 'A-4', 'A-6', 'A-5', 'A-2', 'A-7', 'B-3']\n",
      "\n",
      "Episode: 534\n",
      "Episode complete. Total Reward: [-179.08333333 -158.         -161.        ] jumlah step: 356 product completed:  20\n",
      "product completed:  ['C-4', 'C-6', 'B-3', 'C-7', 'C-2', 'B-5', 'B-1', 'B-4', 'B-2', 'C-5', 'A-2', 'C-3', 'B-6', 'A-1', 'A-6', 'C-1', 'B-7', 'A-4', 'A-3', 'A-7']\n",
      "\n",
      "Episode: 535\n",
      "Episode complete. Total Reward: [-186.61666667 -163.7        -163.2       ] jumlah step: 337 product completed:  20\n",
      "product completed:  ['B-2', 'C-1', 'C-3', 'C-4', 'B-6', 'B-4', 'A-3', 'A-1', 'C-5', 'A-4', 'B-3', 'A-2', 'B-1', 'B-5', 'C-2', 'A-7', 'A-6', 'C-6', 'B-7', 'C-7']\n",
      "\n",
      "Episode: 536\n",
      "Episode complete. Total Reward: [-217.21666667 -204.96666667 -189.3       ] jumlah step: 406 product completed:  20\n",
      "product completed:  ['C-3', 'B-2', 'B-1', 'A-3', 'B-4', 'C-5', 'A-1', 'B-5', 'A-4', 'C-1', 'B-3', 'C-6', 'B-6', 'C-4', 'A-6', 'A-2', 'A-7', 'C-7', 'C-2', 'B-7']\n",
      "\n",
      "Episode: 537\n",
      "Episode complete. Total Reward: [-221.08333333 -195.83333333 -202.5       ] jumlah step: 404 product completed:  20\n",
      "product completed:  ['C-1', 'C-3', 'B-3', 'B-4', 'A-2', 'B-2', 'B-5', 'B-1', 'B-7', 'A-3', 'C-6', 'C-5', 'A-4', 'A-1', 'B-6', 'C-4', 'C-2', 'C-7', 'A-5', 'A-7']\n",
      "\n",
      "Episode: 538\n"
     ]
    },
    {
     "name": "stderr",
     "output_type": "stream",
     "text": [
      " 54%|█████▍    | 540/1000 [00:29<00:26, 17.53it/s]"
     ]
    },
    {
     "name": "stdout",
     "output_type": "stream",
     "text": [
      "Episode complete. Total Reward: [-230.7        -200.86666667 -216.45      ] jumlah step: 432 product completed:  20\n",
      "product completed:  ['B-3', 'C-1', 'B-1', 'A-3', 'A-2', 'B-6', 'C-2', 'C-4', 'C-3', 'A-5', 'A-1', 'A-4', 'A-6', 'C-7', 'C-6', 'B-4', 'C-5', 'B-2', 'A-7', 'B-5']\n",
      "\n",
      "Episode: 539\n",
      "Episode complete. Total Reward: [-322.53333333 -300.86666667 -309.7       ] jumlah step: 537 product completed:  20\n",
      "product completed:  ['C-2', 'C-3', 'C-4', 'C-1', 'C-5', 'A-5', 'C-7', 'A-2', 'C-6', 'A-3', 'A-4', 'B-5', 'B-2', 'B-3', 'B-1', 'B-7', 'B-6', 'A-7', 'A-1', 'A-6']\n",
      "\n",
      "Episode: 540\n",
      "Episode complete. Total Reward: [-324.55       -307.46666667 -292.05      ] jumlah step: 522 product completed:  20\n",
      "product completed:  ['C-1', 'B-1', 'C-3', 'B-2', 'A-1', 'A-4', 'C-5', 'C-2', 'A-5', 'C-6', 'B-3', 'A-3', 'B-5', 'C-4', 'C-7', 'B-4', 'B-6', 'B-7', 'A-6', 'A-2']\n",
      "\n",
      "Episode: 541\n",
      "Episode complete. Total Reward: [-260.65       -234.56666667 -240.65      ] jumlah step: 427 product completed:  20\n",
      "product completed:  ['B-2', 'C-3', 'C-1', 'A-3', 'C-4', 'C-2', 'C-5', 'B-3', 'A-1', 'B-1', 'C-6', 'A-5', 'A-7', 'B-6', 'B-7', 'C-7', 'A-4', 'B-4', 'B-5', 'A-6']\n",
      "\n",
      "Episode: 542\n"
     ]
    },
    {
     "name": "stderr",
     "output_type": "stream",
     "text": [
      " 54%|█████▍    | 544/1000 [00:29<00:26, 17.41it/s]"
     ]
    },
    {
     "name": "stdout",
     "output_type": "stream",
     "text": [
      "Episode complete. Total Reward: [-170.55       -152.13333333 -154.05      ] jumlah step: 376 product completed:  20\n",
      "product completed:  ['B-2', 'C-1', 'B-5', 'B-4', 'B-1', 'C-2', 'A-1', 'C-5', 'C-6', 'B-6', 'C-3', 'B-7', 'B-3', 'C-7', 'A-2', 'A-5', 'A-4', 'C-4', 'A-3', 'A-7']\n",
      "\n",
      "Episode: 543\n",
      "Episode complete. Total Reward: [-368.63333333 -355.46666667 -340.05      ] jumlah step: 546 product completed:  20\n",
      "product completed:  ['B-3', 'C-4', 'C-2', 'C-3', 'C-5', 'A-3', 'A-1', 'B-2', 'B-5', 'B-4', 'B-6', 'C-7', 'B-1', 'C-1', 'A-4', 'A-2', 'C-6', 'A-5', 'A-6', 'A-7']\n",
      "\n",
      "Episode: 544\n",
      "Episode complete. Total Reward: [-218.33333333 -199.66666667 -193.25      ] jumlah step: 425 product completed:  20\n",
      "product completed:  ['C-1', 'B-4', 'A-2', 'C-2', 'B-3', 'B-2', 'B-1', 'B-6', 'A-5', 'C-5', 'A-6', 'B-7', 'A-1', 'B-5', 'C-4', 'C-3', 'C-7', 'A-7', 'A-3', 'C-6']\n",
      "\n",
      "Episode: 545\n",
      "Episode complete. Total Reward: [-203.43333333 -191.6        -178.6       ] jumlah step: 386 product completed:  20\n",
      "product completed:  ['B-2', 'A-3', 'C-1', 'A-4', 'C-3', 'B-1', 'A-6', 'C-2', 'B-3', 'A-2', 'C-6', 'B-4', 'C-4', 'B-7', 'A-7', 'A-1', 'B-6', 'C-7', 'A-5', 'B-5']\n",
      "\n",
      "Episode: 546\n"
     ]
    },
    {
     "name": "stderr",
     "output_type": "stream",
     "text": [
      " 55%|█████▍    | 548/1000 [00:29<00:26, 16.75it/s]"
     ]
    },
    {
     "name": "stdout",
     "output_type": "stream",
     "text": [
      "Episode complete. Total Reward: [-306.35       -287.93333333 -285.1       ] jumlah step: 505 product completed:  20\n",
      "product completed:  ['C-2', 'B-3', 'A-3', 'C-1', 'B-2', 'C-4', 'A-5', 'B-7', 'A-1', 'C-5', 'B-1', 'A-2', 'C-3', 'C-7', 'A-4', 'B-5', 'B-6', 'C-6', 'A-6', 'B-4']\n",
      "\n",
      "Episode: 547\n",
      "Episode complete. Total Reward: [-173.65 -157.4  -151.65] jumlah step: 376 product completed:  20\n",
      "product completed:  ['C-3', 'C-2', 'C-1', 'A-6', 'A-5', 'A-2', 'C-4', 'B-1', 'A-1', 'B-4', 'C-6', 'A-4', 'B-6', 'C-7', 'B-5', 'B-3', 'C-5', 'B-2', 'A-7', 'A-3']\n",
      "\n",
      "Episode: 548\n",
      "Episode complete. Total Reward: [-269.33333333 -249.83333333 -243.25      ] jumlah step: 457 product completed:  20\n",
      "product completed:  ['B-3', 'B-4', 'A-5', 'C-1', 'C-2', 'B-2', 'B-5', 'B-6', 'A-3', 'A-1', 'C-4', 'B-1', 'C-7', 'A-7', 'C-3', 'C-6', 'A-4', 'C-5', 'A-2', 'A-6']\n",
      "\n",
      "Episode: 549\n",
      "Episode complete. Total Reward: [-184.16666667 -168.5        -158.75      ] jumlah step: 363 product completed:  20\n",
      "product completed:  ['B-1', 'A-1', 'C-4', 'A-2', 'B-2', 'C-5', 'B-3', 'A-4', 'C-3', 'C-1', 'C-6', 'B-4', 'B-5', 'C-7', 'C-2', 'A-7', 'B-6', 'A-3', 'A-6', 'B-7']\n",
      "\n",
      "Episode: 550\n"
     ]
    },
    {
     "name": "stderr",
     "output_type": "stream",
     "text": [
      " 55%|█████▌    | 552/1000 [00:30<00:29, 15.38it/s]"
     ]
    },
    {
     "name": "stdout",
     "output_type": "stream",
     "text": [
      "Episode complete. Total Reward: [-179.08333333 -161.         -161.        ] jumlah step: 367 product completed:  20\n",
      "product completed:  ['C-1', 'C-3', 'C-4', 'B-2', 'B-6', 'C-2', 'B-1', 'A-2', 'C-7', 'C-5', 'B-3', 'A-3', 'C-6', 'B-7', 'B-4', 'A-5', 'A-6', 'A-4', 'A-1', 'B-5']\n",
      "\n",
      "Episode: 551\n",
      "Episode complete. Total Reward: [-317.73333333 -296.23333333 -295.4       ] jumlah step: 507 product completed:  20\n",
      "product completed:  ['C-1', 'C-3', 'B-3', 'A-2', 'B-7', 'C-4', 'A-4', 'C-5', 'B-6', 'C-6', 'B-2', 'B-1', 'C-2', 'A-5', 'A-1', 'B-5', 'A-3', 'B-4', 'C-7', 'A-7']\n",
      "\n",
      "Episode: 552\n",
      "Episode complete. Total Reward: [-251.88333333 -225.96666667 -224.55      ] jumlah step: 433 product completed:  20\n",
      "product completed:  ['C-2', 'B-2', 'A-4', 'B-4', 'C-3', 'A-1', 'B-6', 'B-7', 'A-2', 'C-5', 'B-1', 'C-4', 'B-3', 'A-7', 'A-6', 'C-7', 'C-6', 'B-5', 'A-3', 'C-1']\n",
      "\n",
      "Episode: 553\n"
     ]
    },
    {
     "name": "stderr",
     "output_type": "stream",
     "text": [
      " 55%|█████▌    | 554/1000 [00:30<00:28, 15.41it/s]"
     ]
    },
    {
     "name": "stdout",
     "output_type": "stream",
     "text": [
      "Episode complete. Total Reward: [-194.11666667 -179.36666667 -175.2       ] jumlah step: 393 product completed:  20\n",
      "product completed:  ['B-3', 'C-1', 'A-6', 'A-2', 'C-2', 'A-1', 'B-4', 'B-2', 'C-4', 'A-4', 'C-3', 'C-5', 'A-7', 'A-3', 'C-7', 'C-6', 'B-1', 'B-6', 'B-5', 'B-7']\n",
      "\n",
      "Episode: 554\n",
      "Episode complete. Total Reward: [-241.03333333 -220.36666667 -215.7       ] jumlah step: 416 product completed:  20\n",
      "product completed:  ['C-4', 'B-1', 'A-3', 'B-3', 'C-2', 'C-5', 'B-4', 'C-6', 'C-3', 'A-2', 'A-4', 'C-7', 'B-7', 'B-6', 'B-5', 'A-5', 'A-6', 'A-7', 'B-2', 'A-1']\n",
      "\n",
      "Episode: 555\n",
      "Episode complete. Total Reward: [-163.51666667 -149.43333333 -138.35      ] jumlah step: 349 product completed:  20\n",
      "product completed:  ['C-1', 'B-2', 'C-2', 'A-5', 'A-3', 'C-4', 'C-5', 'B-4', 'C-3', 'B-5', 'A-2', 'A-6', 'B-3', 'C-7', 'A-4', 'B-7', 'A-1', 'B-6', 'C-6', 'A-7']\n",
      "\n",
      "Episode: 556\n",
      "Episode complete. Total Reward: [-257.03333333 -241.03333333 -230.7       ] jumlah step: 418 product completed:  20\n",
      "product completed:  ['C-1', 'C-3', 'B-1', 'C-4', 'C-5', 'A-1', 'A-6', 'B-4', 'A-3', 'C-2', 'A-2', 'A-5', 'B-2', 'C-6', 'A-4', 'C-7', 'B-7', 'B-5', 'A-7', 'B-3']\n",
      "\n",
      "Episode: 557\n"
     ]
    },
    {
     "name": "stderr",
     "output_type": "stream",
     "text": [
      " 56%|█████▌    | 559/1000 [00:30<00:27, 15.95it/s]"
     ]
    },
    {
     "name": "stdout",
     "output_type": "stream",
     "text": [
      "Episode complete. Total Reward: [-237.68333333 -216.43333333 -219.6       ] jumlah step: 414 product completed:  20\n",
      "product completed:  ['C-1', 'A-1', 'C-2', 'B-1', 'C-4', 'C-3', 'C-5', 'B-2', 'C-7', 'C-6', 'B-5', 'B-4', 'B-3', 'A-2', 'A-3', 'B-6', 'A-7', 'A-5', 'A-4', 'A-6']\n",
      "\n",
      "Episode: 558\n",
      "Episode complete. Total Reward: [-325.16666667 -298.5        -309.75      ] jumlah step: 535 product completed:  20\n",
      "product completed:  ['B-5', 'B-2', 'C-1', 'B-4', 'C-3', 'C-2', 'B-3', 'A-2', 'B-7', 'C-4', 'A-3', 'B-6', 'C-7', 'C-5', 'A-6', 'B-1', 'A-7', 'C-6', 'A-5', 'A-1']\n",
      "\n",
      "Episode: 559\n",
      "Episode complete. Total Reward: [-292.6        -274.26666667 -274.1       ] jumlah step: 493 product completed:  20\n",
      "product completed:  ['C-1', 'B-3', 'B-6', 'B-4', 'C-3', 'A-5', 'B-2', 'B-5', 'C-2', 'C-6', 'A-6', 'B-1', 'A-4', 'C-5', 'A-2', 'C-7', 'A-1', 'C-4', 'A-7', 'B-7']\n",
      "\n",
      "Episode: 560\n",
      "Episode complete. Total Reward: [-224.15 -210.9  -204.4 ] jumlah step: 429 product completed:  20\n",
      "product completed:  ['C-1', 'C-4', 'A-1', 'C-5', 'C-6', 'C-2', 'A-2', 'A-5', 'C-3', 'B-4', 'C-7', 'A-3', 'B-2', 'A-7', 'B-1', 'B-7', 'B-6', 'B-5', 'A-4', 'A-6']\n",
      "\n",
      "Episode: 561\n"
     ]
    },
    {
     "name": "stderr",
     "output_type": "stream",
     "text": [
      " 56%|█████▋    | 563/1000 [00:30<00:27, 15.96it/s]"
     ]
    },
    {
     "name": "stdout",
     "output_type": "stream",
     "text": [
      "Episode complete. Total Reward: [-177.26666667 -158.93333333 -155.1       ] jumlah step: 345 product completed:  20\n",
      "product completed:  ['C-2', 'C-1', 'B-2', 'B-3', 'A-6', 'C-3', 'B-1', 'C-4', 'B-5', 'B-4', 'A-7', 'A-2', 'B-7', 'A-3', 'C-7', 'C-5', 'A-4', 'C-6', 'B-6', 'A-5']\n",
      "\n",
      "Episode: 562\n",
      "Episode complete. Total Reward: [-269.2        -251.36666667 -248.95      ] jumlah step: 446 product completed:  20\n",
      "product completed:  ['C-1', 'A-1', 'C-4', 'C-3', 'B-2', 'B-3', 'B-1', 'A-4', 'C-7', 'C-5', 'C-6', 'A-6', 'A-7', 'B-5', 'A-2', 'B-7', 'A-5', 'C-2', 'B-6', 'B-4']\n",
      "\n",
      "Episode: 563\n",
      "Episode complete. Total Reward: [-292.21666667 -272.46666667 -274.05      ] jumlah step: 477 product completed:  20\n",
      "product completed:  ['C-2', 'B-2', 'C-5', 'A-2', 'C-3', 'C-1', 'C-4', 'A-1', 'B-5', 'C-7', 'B-1', 'C-6', 'B-3', 'B-4', 'A-6', 'B-7', 'A-4', 'A-3', 'A-7', 'B-6']\n",
      "\n",
      "Episode: 564\n",
      "Episode complete. Total Reward: [-230.05 -212.8  -211.55] jumlah step: 418 product completed:  20\n",
      "product completed:  ['B-1', 'C-2', 'C-3', 'B-6', 'C-5', 'C-1', 'B-4', 'B-3', 'C-7', 'A-1', 'B-5', 'C-4', 'A-7', 'B-2', 'C-6', 'A-4', 'B-7', 'A-3', 'A-6', 'A-5']\n",
      "\n",
      "Episode: 565\n"
     ]
    },
    {
     "name": "stderr",
     "output_type": "stream",
     "text": [
      " 57%|█████▋    | 567/1000 [00:30<00:26, 16.39it/s]"
     ]
    },
    {
     "name": "stdout",
     "output_type": "stream",
     "text": [
      "Episode complete. Total Reward: [-287.76666667 -266.26666667 -267.6       ] jumlah step: 484 product completed:  20\n",
      "product completed:  ['B-1', 'C-2', 'C-1', 'B-2', 'A-1', 'B-5', 'A-6', 'B-6', 'A-3', 'B-4', 'C-6', 'C-4', 'C-7', 'B-3', 'A-2', 'C-5', 'A-7', 'C-3', 'B-7', 'A-4']\n",
      "\n",
      "Episode: 566\n",
      "Episode complete. Total Reward: [-192.6 -178.1 -173.6] jumlah step: 384 product completed:  20\n",
      "product completed:  ['C-1', 'A-2', 'B-3', 'C-4', 'C-3', 'A-3', 'C-2', 'B-2', 'C-6', 'B-4', 'A-4', 'C-7', 'B-7', 'A-7', 'B-1', 'C-5', 'A-5', 'A-1', 'A-6', 'B-6']\n",
      "\n",
      "Episode: 567\n",
      "Episode complete. Total Reward: [-334.21666667 -312.13333333 -313.8       ] jumlah step: 550 product completed:  20\n",
      "product completed:  ['B-1', 'A-2', 'C-5', 'C-4', 'B-2', 'C-3', 'C-2', 'C-7', 'C-1', 'A-4', 'B-6', 'B-3', 'C-6', 'B-5', 'B-4', 'B-7', 'A-6', 'A-1', 'A-3', 'A-7']\n",
      "\n",
      "Episode: 568\n",
      "Episode complete. Total Reward: [-186.41666667 -170.83333333 -163.        ] jumlah step: 393 product completed:  20\n",
      "product completed:  ['B-3', 'B-2', 'A-3', 'B-5', 'B-6', 'C-1', 'A-1', 'C-2', 'C-3', 'A-5', 'B-7', 'B-1', 'A-2', 'A-4', 'C-4', 'C-7', 'C-6', 'C-5', 'B-4', 'A-7']\n",
      "\n",
      "Episode: 569\n"
     ]
    },
    {
     "name": "stderr",
     "output_type": "stream",
     "text": [
      " 57%|█████▋    | 571/1000 [00:31<00:25, 16.57it/s]"
     ]
    },
    {
     "name": "stdout",
     "output_type": "stream",
     "text": [
      "Episode complete. Total Reward: [-273.86666667 -260.36666667 -250.95      ] jumlah step: 466 product completed:  20\n",
      "product completed:  ['B-4', 'B-2', 'A-4', 'B-6', 'B-5', 'B-1', 'A-2', 'B-3', 'C-1', 'B-7', 'A-3', 'C-3', 'C-2', 'A-1', 'A-6', 'C-7', 'C-5', 'C-6', 'C-4', 'A-5']\n",
      "\n",
      "Episode: 570\n",
      "Episode complete. Total Reward: [-168.3 -148.8 -146.8] jumlah step: 337 product completed:  20\n",
      "product completed:  ['C-3', 'B-4', 'C-1', 'A-4', 'C-5', 'B-1', 'A-3', 'C-4', 'C-2', 'B-7', 'C-6', 'B-5', 'A-6', 'C-7', 'A-2', 'B-3', 'B-2', 'A-5', 'A-7', 'A-1']\n",
      "\n",
      "Episode: 571\n",
      "Episode complete. Total Reward: [-217.85       -194.26666667 -198.6       ] jumlah step: 398 product completed:  20\n",
      "product completed:  ['B-1', 'C-1', 'B-3', 'C-4', 'C-2', 'B-6', 'B-2', 'A-2', 'C-5', 'B-5', 'B-4', 'A-4', 'C-7', 'C-3', 'A-5', 'A-7', 'C-6', 'A-3', 'A-6', 'B-7']\n",
      "\n",
      "Episode: 572\n",
      "Episode complete. Total Reward: [-102.43333333  -86.93333333  -87.35      ] jumlah step: 288 product completed:  20\n",
      "product completed:  ['C-3', 'B-1', 'C-5', 'C-1', 'C-6', 'A-2', 'C-2', 'C-7', 'C-4', 'B-2', 'B-4', 'B-5', 'B-6', 'B-7', 'A-7', 'A-4', 'A-5', 'B-3', 'A-3', 'A-6']\n",
      "\n",
      "Episode: 573\n"
     ]
    },
    {
     "name": "stderr",
     "output_type": "stream",
     "text": [
      " 57%|█████▊    | 575/1000 [00:31<00:24, 17.56it/s]"
     ]
    },
    {
     "name": "stdout",
     "output_type": "stream",
     "text": [
      "Episode complete. Total Reward: [-296.86666667 -274.53333333 -271.2       ] jumlah step: 500 product completed:  20\n",
      "product completed:  ['C-2', 'B-4', 'A-4', 'A-5', 'B-1', 'A-2', 'B-5', 'C-4', 'C-1', 'C-3', 'B-6', 'B-2', 'B-3', 'C-6', 'C-5', 'A-1', 'A-7', 'A-3', 'A-6', 'B-7']\n",
      "\n",
      "Episode: 574\n",
      "Episode complete. Total Reward: [-253.66666667 -232.33333333 -233.5       ] jumlah step: 432 product completed:  20\n",
      "product completed:  ['C-1', 'C-2', 'B-2', 'B-3', 'C-4', 'B-1', 'C-6', 'B-5', 'A-2', 'B-6', 'A-3', 'B-7', 'C-7', 'C-5', 'A-5', 'B-4', 'C-3', 'A-6', 'A-1', 'A-4']\n",
      "\n",
      "Episode: 575\n",
      "Episode complete. Total Reward: [-204.05       -183.63333333 -190.05      ] jumlah step: 418 product completed:  20\n",
      "product completed:  ['C-2', 'C-3', 'C-1', 'C-5', 'C-7', 'B-1', 'C-4', 'A-2', 'A-3', 'C-6', 'A-4', 'B-5', 'A-6', 'B-2', 'B-4', 'B-7', 'A-1', 'B-3', 'A-5', 'A-7']\n",
      "\n",
      "Episode: 576\n",
      "Episode complete. Total Reward: [-226.36666667 -206.7        -203.95      ] jumlah step: 410 product completed:  20\n",
      "product completed:  ['C-1', 'B-5', 'A-4', 'B-2', 'C-2', 'B-7', 'B-3', 'B-1', 'B-6', 'C-4', 'C-5', 'C-7', 'B-4', 'A-2', 'A-6', 'A-3', 'A-5', 'C-6', 'C-3', 'A-1']\n",
      "\n",
      "Episode: 577\n"
     ]
    },
    {
     "name": "stderr",
     "output_type": "stream",
     "text": [
      " 58%|█████▊    | 580/1000 [00:31<00:22, 19.04it/s]"
     ]
    },
    {
     "name": "stdout",
     "output_type": "stream",
     "text": [
      "Episode complete. Total Reward: [-257.35       -229.93333333 -238.1       ] jumlah step: 419 product completed:  20\n",
      "product completed:  ['C-2', 'C-3', 'B-1', 'B-4', 'B-3', 'C-6', 'A-3', 'C-1', 'C-5', 'B-6', 'A-5', 'A-7', 'B-7', 'B-2', 'A-2', 'A-4', 'C-4', 'A-6', 'A-1', 'C-7']\n",
      "\n",
      "Episode: 578\n",
      "Episode complete. Total Reward: [-233.01666667 -206.6        -213.6       ] jumlah step: 415 product completed:  20\n",
      "product completed:  ['C-1', 'B-3', 'C-5', 'C-3', 'C-4', 'B-1', 'C-2', 'A-3', 'B-2', 'A-4', 'B-4', 'C-6', 'B-7', 'A-6', 'C-7', 'B-6', 'A-1', 'B-5', 'A-7', 'A-5']\n",
      "\n",
      "Episode: 579\n",
      "Episode complete. Total Reward: [-124.33333333 -101.16666667 -110.25      ] jumlah step: 295 product completed:  20\n",
      "product completed:  ['C-1', 'C-3', 'A-1', 'C-4', 'A-3', 'A-2', 'B-5', 'B-3', 'B-7', 'A-6', 'C-5', 'A-4', 'B-4', 'C-6', 'C-2', 'A-7', 'B-6', 'B-2', 'C-7', 'A-5']\n",
      "\n",
      "Episode: 580\n",
      "Episode complete. Total Reward: [-243.46666667 -221.3        -220.8       ] jumlah step: 426 product completed:  20\n",
      "product completed:  ['A-2', 'A-1', 'C-3', 'C-4', 'A-4', 'C-2', 'A-5', 'C-1', 'B-5', 'B-1', 'A-3', 'A-6', 'B-4', 'C-6', 'B-6', 'B-3', 'C-5', 'B-2', 'C-7', 'B-7']\n",
      "\n",
      "Episode: 581\n",
      "Episode complete. Total Reward: [-273.23333333 -244.9        -258.15      ] jumlah step: 482 product completed:  20\n",
      "product completed:  ['C-3', 'A-4', 'C-6', 'C-5', 'A-1', 'C-4', 'C-7', 'C-2', 'A-2', 'A-5', 'A-6', 'C-1', 'B-3', 'B-1', 'B-7', 'B-6', 'B-5', 'A-3', 'B-4', 'A-7']\n",
      "\n",
      "Episode: 582\n"
     ]
    },
    {
     "name": "stderr",
     "output_type": "stream",
     "text": [
      " 58%|█████▊    | 584/1000 [00:31<00:24, 17.05it/s]"
     ]
    },
    {
     "name": "stdout",
     "output_type": "stream",
     "text": [
      "Episode complete. Total Reward: [-301.86666667 -279.86666667 -283.95      ] jumlah step: 502 product completed:  20\n",
      "product completed:  ['B-4', 'B-6', 'C-3', 'C-4', 'B-1', 'C-1', 'A-1', 'A-5', 'C-2', 'C-5', 'A-4', 'C-6', 'B-5', 'C-7', 'B-2', 'A-7', 'A-2', 'A-3', 'B-3', 'A-6']\n",
      "\n",
      "Episode: 583\n",
      "Episode complete. Total Reward: [-189.48333333 -166.23333333 -172.65      ] jumlah step: 368 product completed:  20\n",
      "product completed:  ['C-2', 'C-5', 'C-6', 'C-1', 'B-4', 'C-4', 'B-1', 'A-5', 'C-7', 'B-5', 'B-3', 'A-2', 'A-7', 'B-2', 'C-3', 'B-7', 'A-3', 'A-6', 'A-1', 'A-4']\n",
      "\n",
      "Episode: 584\n",
      "Episode complete. Total Reward: [-253.75 -235.   -237.75] jumlah step: 470 product completed:  20\n",
      "product completed:  ['C-1', 'B-1', 'B-2', 'C-2', 'C-4', 'A-4', 'B-5', 'C-3', 'A-3', 'C-6', 'A-2', 'B-4', 'C-5', 'B-6', 'B-7', 'B-3', 'A-5', 'A-1', 'C-7', 'A-7']\n",
      "\n",
      "Episode: 585\n",
      "Episode complete. Total Reward: [-397.35 -372.1  -374.85] jumlah step: 581 product completed:  20\n",
      "product completed:  ['C-2', 'C-3', 'C-1', 'B-1', 'A-1', 'C-4', 'A-3', 'B-2', 'C-6', 'C-7', 'B-4', 'A-2', 'C-5', 'B-3', 'B-7', 'B-5', 'A-4', 'A-6', 'A-5', 'A-7']\n",
      "\n",
      "Episode: 586\n"
     ]
    },
    {
     "name": "stderr",
     "output_type": "stream",
     "text": [
      " 59%|█████▉    | 588/1000 [00:32<00:24, 16.56it/s]"
     ]
    },
    {
     "name": "stdout",
     "output_type": "stream",
     "text": [
      "Episode complete. Total Reward: [-302.55       -278.96666667 -272.55      ] jumlah step: 480 product completed:  20\n",
      "product completed:  ['B-2', 'B-1', 'C-5', 'C-4', 'C-6', 'A-3', 'C-7', 'B-4', 'B-3', 'A-5', 'A-1', 'C-3', 'A-4', 'B-6', 'C-2', 'B-7', 'A-2', 'C-1', 'A-6', 'A-7']\n",
      "\n",
      "Episode: 587\n",
      "Episode complete. Total Reward: [-192.46666667 -169.3        -176.3       ] jumlah step: 374 product completed:  20\n",
      "product completed:  ['C-2', 'C-1', 'B-3', 'C-5', 'B-2', 'A-6', 'C-4', 'A-1', 'C-3', 'C-6', 'B-6', 'B-5', 'A-3', 'B-4', 'C-7', 'A-5', 'A-7', 'A-2', 'B-1', 'B-7']\n",
      "\n",
      "Episode: 588\n",
      "Episode complete. Total Reward: [-174.25       -157.83333333 -151.5       ] jumlah step: 380 product completed:  20\n",
      "product completed:  ['B-3', 'B-2', 'A-2', 'C-1', 'C-4', 'A-3', 'C-3', 'C-5', 'B-1', 'A-6', 'A-5', 'B-6', 'A-1', 'B-5', 'B-7', 'C-6', 'A-7', 'C-7', 'C-2', 'B-4']\n",
      "\n",
      "Episode: 589\n",
      "Episode complete. Total Reward: [-190.61666667 -167.86666667 -173.95      ] jumlah step: 365 product completed:  20\n",
      "product completed:  ['C-2', 'B-2', 'A-1', 'B-1', 'C-4', 'C-3', 'B-5', 'A-2', 'C-7', 'B-4', 'B-3', 'C-1', 'C-5', 'B-6', 'A-5', 'A-3', 'C-6', 'B-7', 'A-7', 'A-6']\n",
      "\n",
      "Episode: 590\n"
     ]
    },
    {
     "name": "stderr",
     "output_type": "stream",
     "text": [
      " 59%|█████▉    | 592/1000 [00:32<00:23, 17.35it/s]"
     ]
    },
    {
     "name": "stdout",
     "output_type": "stream",
     "text": [
      "Episode complete. Total Reward: [-227.13333333 -211.63333333 -200.3       ] jumlah step: 428 product completed:  20\n",
      "product completed:  ['C-2', 'B-3', 'C-5', 'B-2', 'A-2', 'A-1', 'B-4', 'C-4', 'C-6', 'C-3', 'A-5', 'A-4', 'A-7', 'B-1', 'B-6', 'B-5', 'C-1', 'B-7', 'C-7', 'A-3']\n",
      "\n",
      "Episode: 591\n",
      "Episode complete. Total Reward: [-239.61666667 -210.7        -218.45      ] jumlah step: 432 product completed:  20\n",
      "product completed:  ['C-1', 'C-2', 'B-1', 'B-2', 'C-4', 'B-4', 'C-6', 'B-5', 'B-7', 'C-3', 'B-6', 'C-5', 'A-3', 'A-7', 'C-7', 'A-1', 'A-6', 'A-4', 'B-3', 'A-5']\n",
      "\n",
      "Episode: 592\n",
      "Episode complete. Total Reward: [-250.  -233.5 -231.5] jumlah step: 454 product completed:  20\n",
      "product completed:  ['C-4', 'A-1', 'A-2', 'C-2', 'B-1', 'C-1', 'C-7', 'C-3', 'C-5', 'C-6', 'A-3', 'B-3', 'A-7', 'B-2', 'B-7', 'B-5', 'B-6', 'B-4', 'A-6', 'A-5']\n",
      "\n",
      "Episode: 593\n",
      "Episode complete. Total Reward: [-158.61666667 -138.86666667 -135.7       ] jumlah step: 356 product completed:  20\n",
      "product completed:  ['C-1', 'C-3', 'B-1', 'A-2', 'C-5', 'C-2', 'A-3', 'A-1', 'B-5', 'C-6', 'C-4', 'B-2', 'A-5', 'B-3', 'A-4', 'A-6', 'C-7', 'B-6', 'A-7', 'B-4']\n",
      "\n",
      "Episode: 594\n"
     ]
    },
    {
     "name": "stderr",
     "output_type": "stream",
     "text": [
      " 60%|█████▉    | 596/1000 [00:32<00:23, 17.11it/s]"
     ]
    },
    {
     "name": "stdout",
     "output_type": "stream",
     "text": [
      "Episode complete. Total Reward: [-155.81666667 -138.23333333 -138.9       ] jumlah step: 332 product completed:  20\n",
      "product completed:  ['C-1', 'C-3', 'B-2', 'C-2', 'C-5', 'C-4', 'A-2', 'C-6', 'A-1', 'A-3', 'C-7', 'B-6', 'A-6', 'B-7', 'B-3', 'A-5', 'A-4', 'B-4', 'B-1', 'A-7']\n",
      "\n",
      "Episode: 595\n",
      "Episode complete. Total Reward: [-221.56666667 -202.56666667 -203.15      ] jumlah step: 416 product completed:  20\n",
      "product completed:  ['C-1', 'C-3', 'A-3', 'B-4', 'B-2', 'C-2', 'B-3', 'C-4', 'C-6', 'C-5', 'A-1', 'B-5', 'C-7', 'A-2', 'B-1', 'B-7', 'A-7', 'A-5', 'B-6', 'A-4']\n",
      "\n",
      "Episode: 596\n",
      "Episode complete. Total Reward: [-285.31666667 -272.9        -257.65      ] jumlah step: 486 product completed:  20\n",
      "product completed:  ['C-1', 'B-1', 'A-1', 'B-4', 'C-2', 'A-2', 'A-4', 'C-4', 'B-2', 'A-3', 'A-5', 'C-5', 'A-6', 'B-5', 'C-3', 'B-3', 'C-7', 'B-7', 'C-6', 'B-6']\n",
      "\n",
      "Episode: 597\n",
      "Episode complete. Total Reward: [-161.85 -138.6  -145.85] jumlah step: 315 product completed:  20\n",
      "product completed:  ['C-1', 'B-2', 'C-2', 'B-1', 'B-3', 'B-5', 'C-4', 'A-4', 'A-3', 'B-4', 'C-5', 'C-6', 'C-3', 'A-6', 'A-1', 'C-7', 'B-6', 'A-2', 'A-5', 'B-7']\n",
      "\n",
      "Episode: 598\n"
     ]
    },
    {
     "name": "stderr",
     "output_type": "stream",
     "text": [
      " 60%|██████    | 601/1000 [00:32<00:21, 18.60it/s]"
     ]
    },
    {
     "name": "stdout",
     "output_type": "stream",
     "text": [
      "Episode complete. Total Reward: [-259.65 -237.4  -235.65] jumlah step: 436 product completed:  20\n",
      "product completed:  ['B-2', 'A-2', 'A-1', 'B-1', 'A-3', 'C-1', 'C-2', 'C-3', 'A-5', 'B-4', 'B-3', 'A-7', 'C-7', 'A-6', 'A-4', 'B-7', 'C-5', 'C-4', 'B-5', 'C-6']\n",
      "\n",
      "Episode: 599\n",
      "Episode complete. Total Reward: [-233.15 -212.4  -215.65] jumlah step: 460 product completed:  20\n",
      "product completed:  ['B-1', 'C-4', 'C-2', 'C-6', 'C-3', 'B-5', 'C-7', 'B-4', 'A-2', 'B-3', 'C-5', 'A-5', 'A-1', 'B-7', 'A-3', 'B-2', 'B-6', 'A-6', 'A-7', 'A-4']\n",
      "\n",
      "Episode: 600\n",
      "Episode complete. Total Reward: [-243.38333333 -218.8        -223.3       ] jumlah step: 443 product completed:  20\n",
      "product completed:  ['B-4', 'B-5', 'B-7', 'B-2', 'C-2', 'C-4', 'B-3', 'A-1', 'C-6', 'C-5', 'A-4', 'B-1', 'A-5', 'A-3', 'C-1', 'A-7', 'B-6', 'C-7', 'A-2', 'C-3']\n",
      "\n",
      "Episode: 601\n",
      "Episode complete. Total Reward: [-223.13333333 -200.13333333 -207.8       ] jumlah step: 415 product completed:  20\n",
      "product completed:  ['C-2', 'C-1', 'C-3', 'B-6', 'A-1', 'B-7', 'B-1', 'A-4', 'B-2', 'B-4', 'C-4', 'B-5', 'A-5', 'C-6', 'C-5', 'A-3', 'C-7', 'A-7', 'A-6', 'A-2']\n",
      "\n",
      "Episode: 602\n",
      "Episode complete. Total Reward: [-212.81666667 -199.9        -190.9       ] jumlah step: 427 product completed:  20\n",
      "product completed:  ['C-1', 'B-3', 'A-5', 'A-3', 'B-1', 'B-2', 'C-5', 'A-1', 'C-2', 'A-4', 'B-6', 'C-7', 'C-3', 'B-7', 'A-2', 'C-6', 'A-7', 'C-4', 'B-5', 'A-6']\n"
     ]
    },
    {
     "name": "stderr",
     "output_type": "stream",
     "text": [
      " 60%|██████    | 605/1000 [00:33<00:22, 17.50it/s]"
     ]
    },
    {
     "name": "stdout",
     "output_type": "stream",
     "text": [
      "\n",
      "Episode: 603\n",
      "Episode complete. Total Reward: [-175.63333333 -160.8        -159.05      ] jumlah step: 372 product completed:  20\n",
      "product completed:  ['C-3', 'B-2', 'A-4', 'A-5', 'A-1', 'C-2', 'B-3', 'B-4', 'A-3', 'C-4', 'C-5', 'A-7', 'C-6', 'B-1', 'B-6', 'B-5', 'A-2', 'C-7', 'C-1', 'B-7']\n",
      "\n",
      "Episode: 604\n",
      "Episode complete. Total Reward: [-278.7        -255.53333333 -267.95      ] jumlah step: 515 product completed:  20\n",
      "product completed:  ['C-3', 'C-4', 'C-5', 'C-1', 'A-4', 'C-2', 'B-1', 'C-7', 'B-4', 'B-7', 'B-2', 'C-6', 'B-6', 'A-6', 'B-3', 'A-7', 'A-2', 'A-1', 'A-5', 'B-5']\n",
      "\n",
      "Episode: 605\n",
      "Episode complete. Total Reward: [-237.9        -225.73333333 -218.65      ] jumlah step: 443 product completed:  20\n",
      "product completed:  ['C-1', 'C-2', 'C-3', 'B-3', 'C-5', 'A-1', 'B-2', 'B-7', 'C-6', 'C-4', 'A-3', 'C-7', 'B-4', 'A-5', 'B-6', 'A-2', 'A-4', 'A-6', 'B-5', 'B-1']\n"
     ]
    },
    {
     "name": "stderr",
     "output_type": "stream",
     "text": [
      " 61%|██████    | 609/1000 [00:33<00:23, 16.52it/s]"
     ]
    },
    {
     "name": "stdout",
     "output_type": "stream",
     "text": [
      "\n",
      "Episode: 606\n",
      "Episode complete. Total Reward: [-184.23333333 -165.06666667 -163.15      ] jumlah step: 392 product completed:  20\n",
      "product completed:  ['B-4', 'A-2', 'C-1', 'B-2', 'B-5', 'C-3', 'C-4', 'A-3', 'B-3', 'A-7', 'A-6', 'C-6', 'B-6', 'B-7', 'C-2', 'C-5', 'A-5', 'A-4', 'C-7', 'B-1']\n",
      "\n",
      "Episode: 607\n",
      "Episode complete. Total Reward: [-175.63333333 -162.63333333 -152.55      ] jumlah step: 363 product completed:  20\n",
      "product completed:  ['C-1', 'C-3', 'C-5', 'B-3', 'A-4', 'C-6', 'C-4', 'A-1', 'C-2', 'A-2', 'A-7', 'C-7', 'A-6', 'B-5', 'B-4', 'B-1', 'B-2', 'A-3', 'B-7', 'B-6']\n",
      "\n",
      "Episode: 608\n",
      "Episode complete. Total Reward: [-267.93333333 -249.43333333 -243.6       ] jumlah step: 482 product completed:  20\n",
      "product completed:  ['B-5', 'B-3', 'B-6', 'C-1', 'B-1', 'A-1', 'B-2', 'C-4', 'A-4', 'C-3', 'C-2', 'A-6', 'C-6', 'C-5', 'A-7', 'B-7', 'C-7', 'A-5', 'A-3', 'A-2']\n",
      "\n",
      "Episode: 609\n",
      "Episode complete. Total Reward: [-289.8        -272.13333333 -271.05      ] jumlah step: 501 product completed:  20\n",
      "product completed:  ['C-2', 'C-6', 'C-4', 'B-4', 'B-1', 'C-5', 'A-1', 'C-7', 'C-3', 'C-1', 'A-3', 'B-2', 'B-5', 'B-3', 'A-5', 'A-4', 'B-7', 'A-6', 'A-7', 'B-6']\n",
      "\n",
      "Episode: 610\n"
     ]
    },
    {
     "name": "stderr",
     "output_type": "stream",
     "text": [
      " 61%|██████▏   | 613/1000 [00:33<00:24, 15.74it/s]"
     ]
    },
    {
     "name": "stdout",
     "output_type": "stream",
     "text": [
      "Episode complete. Total Reward: [-321.98333333 -306.4        -298.4       ] jumlah step: 520 product completed:  20\n",
      "product completed:  ['C-2', 'B-5', 'C-3', 'B-2', 'B-4', 'C-1', 'C-5', 'B-1', 'A-2', 'C-6', 'A-1', 'C-4', 'A-3', 'B-6', 'B-3', 'A-4', 'C-7', 'A-6', 'B-7', 'A-5']\n",
      "\n",
      "Episode: 611\n",
      "Episode complete. Total Reward: [-238.98333333 -222.06666667 -219.65      ] jumlah step: 443 product completed:  20\n",
      "product completed:  ['C-1', 'C-4', 'C-2', 'A-2', 'B-3', 'C-6', 'C-5', 'C-3', 'C-7', 'B-4', 'A-6', 'B-6', 'B-2', 'B-1', 'A-4', 'A-5', 'A-1', 'B-7', 'A-7', 'A-3']\n",
      "\n",
      "Episode: 612\n",
      "Episode complete. Total Reward: [-193.18333333 -183.26666667 -169.85      ] jumlah step: 417 product completed:  20\n",
      "product completed:  ['B-4', 'B-2', 'C-1', 'A-3', 'B-1', 'C-2', 'B-6', 'A-1', 'A-5', 'A-6', 'B-7', 'C-7', 'A-2', 'C-5', 'A-7', 'C-3', 'C-6', 'B-3', 'C-4', 'A-4']\n",
      "\n",
      "Episode: 613\n",
      "Episode complete. Total Reward: [-345.         -331.83333333 -316.5       ] jumlah step: 546 product completed:  20\n",
      "product completed:  ['C-4', 'B-2', 'C-1', 'C-3', 'B-3', 'B-1', 'C-5', 'C-2', 'A-5', 'A-3', 'A-1', 'C-7', 'B-7', 'B-4', 'B-5', 'C-6', 'A-4', 'A-2', 'A-7', 'B-6']\n"
     ]
    },
    {
     "name": "stderr",
     "output_type": "stream",
     "text": [
      " 62%|██████▏   | 615/1000 [00:33<00:23, 16.04it/s]"
     ]
    },
    {
     "name": "stdout",
     "output_type": "stream",
     "text": [
      "\n",
      "Episode: 614\n",
      "Episode complete. Total Reward: [-251.16666667 -231.5        -234.25      ] jumlah step: 472 product completed:  20\n",
      "product completed:  ['C-1', 'C-2', 'B-4', 'B-3', 'B-2', 'B-1', 'B-7', 'C-3', 'B-6', 'A-4', 'C-5', 'C-6', 'C-4', 'A-6', 'B-5', 'A-1', 'A-7', 'A-5', 'A-2', 'A-3']\n",
      "\n",
      "Episode: 615\n",
      "Episode complete. Total Reward: [-179.55       -157.96666667 -166.8       ] jumlah step: 375 product completed:  20\n",
      "product completed:  ['C-1', 'C-3', 'B-1', 'A-2', 'B-6', 'C-5', 'C-2', 'B-4', 'A-4', 'C-7', 'C-4', 'B-3', 'A-3', 'B-5', 'A-1', 'A-7', 'A-6', 'B-7', 'A-5', 'C-6']\n",
      "\n",
      "Episode: 616\n",
      "Episode complete. Total Reward: [-247.26666667 -222.76666667 -225.1       ] jumlah step: 427 product completed:  20\n",
      "product completed:  ['B-1', 'B-5', 'C-4', 'A-2', 'C-1', 'B-6', 'B-2', 'A-3', 'C-3', 'C-2', 'B-3', 'B-4', 'C-7', 'A-1', 'A-5', 'A-7', 'B-7', 'A-4', 'C-5', 'C-6']\n",
      "\n",
      "Episode: 617\n"
     ]
    },
    {
     "name": "stderr",
     "output_type": "stream",
     "text": [
      " 62%|██████▏   | 619/1000 [00:33<00:22, 16.95it/s]"
     ]
    },
    {
     "name": "stdout",
     "output_type": "stream",
     "text": [
      "Episode complete. Total Reward: [-224.91666667 -205.83333333 -205.75      ] jumlah step: 408 product completed:  20\n",
      "product completed:  ['C-1', 'C-3', 'C-4', 'A-4', 'C-2', 'B-1', 'C-6', 'A-5', 'A-1', 'A-7', 'B-3', 'C-7', 'B-6', 'C-5', 'B-2', 'A-3', 'B-5', 'B-7', 'A-6', 'A-2']\n",
      "\n",
      "Episode: 618\n",
      "Episode complete. Total Reward: [-238.98333333 -220.06666667 -213.4       ] jumlah step: 419 product completed:  20\n",
      "product completed:  ['B-2', 'C-2', 'C-3', 'B-3', 'C-5', 'C-4', 'B-6', 'B-7', 'C-6', 'B-4', 'A-5', 'A-2', 'A-1', 'B-5', 'C-1', 'A-6', 'C-7', 'B-1', 'A-7', 'A-4']\n",
      "\n",
      "Episode: 619\n",
      "Episode complete. Total Reward: [-229.6 -212.1 -213.6] jumlah step: 426 product completed:  20\n",
      "product completed:  ['C-1', 'C-3', 'C-4', 'B-2', 'C-5', 'B-5', 'A-4', 'C-6', 'B-6', 'A-2', 'A-5', 'B-7', 'B-4', 'B-3', 'A-7', 'C-2', 'A-3', 'B-1', 'C-7', 'A-1']\n",
      "\n",
      "Episode: 620\n",
      "Episode complete. Total Reward: [-149.43333333 -133.43333333 -128.1       ] jumlah step: 326 product completed:  20\n",
      "product completed:  ['B-1', 'C-3', 'B-2', 'A-3', 'B-3', 'C-1', 'A-2', 'C-2', 'C-4', 'B-7', 'B-4', 'B-5', 'C-6', 'A-4', 'B-6', 'A-1', 'C-7', 'A-5', 'C-5', 'A-7']\n",
      "\n",
      "Episode: 621\n",
      "Episode complete. Total Reward: [-326.85       -305.93333333 -300.35      ] jumlah step: 513 product completed:  20\n",
      "product completed:  ['B-2', 'C-2', 'C-5', 'C-4', 'A-2', 'C-3', 'C-6', 'C-1', 'B-1', 'B-3', 'A-4', 'B-7', 'A-1', 'B-4', 'B-5', 'A-6', 'A-5', 'B-6', 'A-7', 'A-3']\n",
      "\n",
      "Episode: 622\n"
     ]
    },
    {
     "name": "stderr",
     "output_type": "stream",
     "text": [
      " 62%|██████▏   | 624/1000 [00:34<00:21, 17.61it/s]"
     ]
    },
    {
     "name": "stdout",
     "output_type": "stream",
     "text": [
      "Episode complete. Total Reward: [-249.71666667 -224.63333333 -231.55      ] jumlah step: 441 product completed:  20\n",
      "product completed:  ['A-2', 'C-4', 'C-1', 'C-5', 'C-2', 'C-7', 'C-6', 'C-3', 'A-7', 'B-1', 'B-2', 'B-5', 'A-5', 'A-6', 'A-3', 'B-6', 'B-3', 'B-4', 'A-4', 'B-7']\n",
      "\n",
      "Episode: 623\n",
      "Episode complete. Total Reward: [-252.78333333 -240.2        -226.45      ] jumlah step: 452 product completed:  20\n",
      "product completed:  ['C-1', 'B-3', 'B-6', 'C-2', 'B-4', 'B-7', 'C-3', 'B-5', 'C-4', 'A-2', 'A-1', 'B-2', 'C-6', 'C-5', 'A-6', 'C-7', 'B-1', 'A-5', 'A-7', 'A-4']\n",
      "\n",
      "Episode: 624\n",
      "Episode complete. Total Reward: [-117.26666667  -99.1         -98.6       ] jumlah step: 292 product completed:  20\n",
      "product completed:  ['C-2', 'C-3', 'A-1', 'B-2', 'B-5', 'B-4', 'C-4', 'C-5', 'A-5', 'C-7', 'A-4', 'B-1', 'B-3', 'B-6', 'A-6', 'A-7', 'B-7', 'C-6', 'C-1', 'A-3']\n",
      "\n",
      "Episode: 625\n",
      "Episode complete. Total Reward: [-221.71666667 -201.46666667 -198.3       ] jumlah step: 432 product completed:  20\n",
      "product completed:  ['A-2', 'B-1', 'B-2', 'C-2', 'B-5', 'C-3', 'A-4', 'B-3', 'C-6', 'B-4', 'C-7', 'A-5', 'B-7', 'C-5', 'C-4', 'C-1', 'B-6', 'A-3', 'A-7', 'A-1']\n",
      "\n",
      "Episode: 626\n"
     ]
    },
    {
     "name": "stderr",
     "output_type": "stream",
     "text": [
      " 63%|██████▎   | 628/1000 [00:34<00:21, 17.29it/s]"
     ]
    },
    {
     "name": "stdout",
     "output_type": "stream",
     "text": [
      "Episode complete. Total Reward: [-205.61666667 -184.36666667 -190.2       ] jumlah step: 394 product completed:  20\n",
      "product completed:  ['B-2', 'C-2', 'C-3', 'C-4', 'A-1', 'B-3', 'A-3', 'A-2', 'A-4', 'C-5', 'B-7', 'A-6', 'A-5', 'C-7', 'A-7', 'C-1', 'B-6', 'C-6', 'B-4', 'B-1']\n",
      "\n",
      "Episode: 627\n",
      "Episode complete. Total Reward: [-171.48333333 -150.56666667 -149.15      ] jumlah step: 351 product completed:  20\n",
      "product completed:  ['C-4', 'C-2', 'C-6', 'B-2', 'B-1', 'C-5', 'A-2', 'B-4', 'A-4', 'A-1', 'B-6', 'C-3', 'A-5', 'A-6', 'A-3', 'B-5', 'B-7', 'C-1', 'B-3', 'C-7']\n",
      "\n",
      "Episode: 628\n",
      "Episode complete. Total Reward: [-288.81666667 -263.56666667 -265.4       ] jumlah step: 484 product completed:  20\n",
      "product completed:  ['A-1', 'C-1', 'C-5', 'B-2', 'C-3', 'C-4', 'C-2', 'C-6', 'A-6', 'B-1', 'A-7', 'A-4', 'B-7', 'B-3', 'B-5', 'A-5', 'B-6', 'C-7', 'B-4', 'A-2']\n",
      "\n",
      "Episode: 629\n",
      "Episode complete. Total Reward: [-273.81666667 -262.73333333 -260.15      ] jumlah step: 508 product completed:  20\n",
      "product completed:  ['C-1', 'C-2', 'C-4', 'C-3', 'C-6', 'C-7', 'A-4', 'A-6', 'A-1', 'A-2', 'C-5', 'A-3', 'A-5', 'B-1', 'B-3', 'B-7', 'B-2', 'B-4', 'B-5', 'A-7']\n",
      "\n",
      "Episode: 630\n"
     ]
    },
    {
     "name": "stderr",
     "output_type": "stream",
     "text": [
      " 63%|██████▎   | 633/1000 [00:34<00:20, 18.31it/s]"
     ]
    },
    {
     "name": "stdout",
     "output_type": "stream",
     "text": [
      "Episode complete. Total Reward: [-303.21666667 -285.63333333 -274.3       ] jumlah step: 510 product completed:  20\n",
      "product completed:  ['A-3', 'C-1', 'C-4', 'A-1', 'A-6', 'C-3', 'C-6', 'A-7', 'B-1', 'C-5', 'B-4', 'B-5', 'B-2', 'C-2', 'B-3', 'A-5', 'A-4', 'B-7', 'B-6', 'A-2']\n",
      "\n",
      "Episode: 631\n",
      "Episode complete. Total Reward: [-186.93333333 -165.6        -171.85      ] jumlah step: 368 product completed:  20\n",
      "product completed:  ['B-2', 'C-1', 'B-4', 'A-5', 'A-6', 'A-1', 'C-2', 'B-5', 'B-6', 'A-2', 'C-3', 'C-7', 'A-7', 'C-6', 'A-4', 'B-3', 'C-4', 'B-7', 'C-5', 'B-1']\n",
      "\n",
      "Episode: 632\n",
      "Episode complete. Total Reward: [-135.86666667 -117.86666667 -121.45      ] jumlah step: 319 product completed:  20\n",
      "product completed:  ['C-2', 'C-1', 'B-2', 'B-5', 'B-4', 'A-2', 'C-5', 'B-1', 'C-4', 'C-6', 'A-5', 'C-3', 'B-3', 'A-3', 'C-7', 'A-6', 'B-6', 'A-4', 'B-7', 'A-7']\n",
      "\n",
      "Episode: 633\n",
      "Episode complete. Total Reward: [-294.15 -268.4  -283.4 ] jumlah step: 513 product completed:  20\n",
      "product completed:  ['C-2', 'C-3', 'B-2', 'A-4', 'C-1', 'A-2', 'A-5', 'C-4', 'C-6', 'A-1', 'A-7', 'A-3', 'B-6', 'B-4', 'B-7', 'C-5', 'B-5', 'A-6', 'C-7', 'B-3']\n",
      "\n",
      "Episode: 634\n",
      "Episode complete. Total Reward: [-193.28333333 -173.53333333 -171.2       ] jumlah step: 359 product completed:  20\n",
      "product completed:  ['C-3', 'B-1', 'C-2', 'B-2', 'C-6', 'C-1', 'A-3', 'C-4', 'C-7', 'B-3', 'B-5', 'B-6', 'B-4', 'A-4', 'C-5', 'A-6', 'A-1', 'A-5', 'A-7', 'A-2']\n",
      "\n",
      "Episode: 635\n"
     ]
    },
    {
     "name": "stderr",
     "output_type": "stream",
     "text": [
      " 64%|██████▎   | 637/1000 [00:34<00:21, 17.00it/s]"
     ]
    },
    {
     "name": "stdout",
     "output_type": "stream",
     "text": [
      "Episode complete. Total Reward: [-340.         -319.83333333 -317.25      ] jumlah step: 529 product completed:  20\n",
      "product completed:  ['B-1', 'C-1', 'A-2', 'C-3', 'C-4', 'A-4', 'C-5', 'B-2', 'C-7', 'B-3', 'B-5', 'B-6', 'C-2', 'A-6', 'B-7', 'A-1', 'B-4', 'C-6', 'A-5', 'A-3']\n",
      "\n",
      "Episode: 636\n",
      "Episode complete. Total Reward: [-331.1  -314.1  -309.35] jumlah step: 533 product completed:  20\n",
      "product completed:  ['C-1', 'C-2', 'A-2', 'C-6', 'C-4', 'B-4', 'C-3', 'A-3', 'C-5', 'B-5', 'B-1', 'B-7', 'C-7', 'A-4', 'B-3', 'B-6', 'A-5', 'B-2', 'A-7', 'A-6']\n",
      "\n",
      "Episode: 637\n",
      "Episode complete. Total Reward: [-238.06666667 -218.9        -213.65      ] jumlah step: 442 product completed:  20\n",
      "product completed:  ['B-1', 'C-3', 'B-4', 'B-3', 'C-1', 'A-1', 'C-2', 'B-5', 'A-2', 'C-5', 'B-6', 'B-7', 'B-2', 'C-7', 'A-4', 'A-3', 'C-4', 'A-5', 'A-6', 'C-6']\n",
      "\n",
      "Episode: 638\n",
      "Episode complete. Total Reward: [-219.43333333 -205.76666667 -200.6       ] jumlah step: 417 product completed:  20\n",
      "product completed:  ['A-2', 'B-3', 'C-3', 'A-1', 'C-4', 'B-4', 'B-2', 'C-2', 'C-1', 'A-4', 'C-7', 'C-5', 'A-6', 'B-6', 'A-3', 'C-6', 'A-5', 'B-7', 'B-1', 'A-7']\n",
      "\n",
      "Episode: 639\n"
     ]
    },
    {
     "name": "stderr",
     "output_type": "stream",
     "text": [
      " 64%|██████▍   | 641/1000 [00:35<00:20, 17.39it/s]"
     ]
    },
    {
     "name": "stdout",
     "output_type": "stream",
     "text": [
      "Episode complete. Total Reward: [-224.88333333 -210.46666667 -198.55      ] jumlah step: 427 product completed:  20\n",
      "product completed:  ['B-2', 'C-4', 'C-2', 'B-3', 'C-1', 'B-1', 'B-4', 'A-1', 'A-2', 'C-7', 'B-5', 'C-6', 'A-3', 'C-5', 'B-6', 'A-7', 'B-7', 'A-5', 'A-6', 'C-3']\n",
      "\n",
      "Episode: 640\n",
      "Episode complete. Total Reward: [-251.91666667 -235.66666667 -233.5       ] jumlah step: 463 product completed:  20\n",
      "product completed:  ['C-2', 'C-3', 'C-4', 'A-3', 'C-1', 'A-2', 'C-6', 'A-1', 'C-7', 'B-5', 'B-2', 'C-5', 'B-3', 'A-5', 'A-4', 'A-6', 'B-7', 'B-4', 'A-7', 'B-6']\n",
      "\n",
      "Episode: 641\n",
      "Episode complete. Total Reward: [-303.16666667 -287.83333333 -271.75      ] jumlah step: 501 product completed:  20\n",
      "product completed:  ['C-2', 'C-3', 'C-1', 'C-6', 'C-5', 'C-7', 'B-2', 'B-5', 'C-4', 'A-2', 'A-1', 'A-5', 'A-3', 'B-1', 'B-3', 'A-6', 'B-4', 'A-7', 'A-4', 'B-7']\n",
      "\n",
      "Episode: 642\n",
      "Episode complete. Total Reward: [-148.2        -135.53333333 -128.2       ] jumlah step: 337 product completed:  20\n",
      "product completed:  ['B-2', 'C-1', 'B-4', 'C-5', 'B-1', 'C-2', 'C-4', 'A-1', 'B-5', 'C-3', 'B-3', 'C-7', 'A-2', 'B-7', 'C-6', 'B-6', 'A-6', 'A-4', 'A-5', 'A-7']\n",
      "\n",
      "Episode: 643\n",
      "Episode complete. Total Reward: [-186.31666667 -170.56666667 -167.15      ] jumlah step: 372 product completed:  20\n",
      "product completed:  ['C-1', 'C-3', 'B-4', 'A-1', 'B-7', 'C-6', 'C-4', 'C-2', 'C-5', 'B-2', 'B-1', 'B-3', 'B-6', 'C-7', 'A-2', 'A-5', 'A-6', 'A-4', 'A-3', 'B-5']\n",
      "\n",
      "Episode: 644\n"
     ]
    },
    {
     "name": "stderr",
     "output_type": "stream",
     "text": [
      " 65%|██████▍   | 646/1000 [00:35<00:21, 16.49it/s]"
     ]
    },
    {
     "name": "stdout",
     "output_type": "stream",
     "text": [
      "Episode complete. Total Reward: [-223.68333333 -203.1        -203.1       ] jumlah step: 399 product completed:  20\n",
      "product completed:  ['C-2', 'C-5', 'C-7', 'C-1', 'C-6', 'C-3', 'C-4', 'B-5', 'B-2', 'A-1', 'B-6', 'B-7', 'A-4', 'B-3', 'A-5', 'B-4', 'A-2', 'A-3', 'A-6', 'A-7']\n",
      "\n",
      "Episode: 645\n",
      "Episode complete. Total Reward: [-222.35 -203.6  -208.6 ] jumlah step: 432 product completed:  20\n",
      "product completed:  ['C-2', 'A-1', 'B-2', 'C-5', 'C-4', 'C-6', 'C-7', 'B-4', 'C-1', 'C-3', 'A-2', 'B-3', 'B-5', 'B-7', 'A-5', 'A-4', 'B-6', 'A-7', 'B-1', 'A-6']\n",
      "\n",
      "Episode: 646\n",
      "Episode complete. Total Reward: [-304.3        -284.96666667 -280.55      ] jumlah step: 500 product completed:  20\n",
      "product completed:  ['C-1', 'C-2', 'A-1', 'B-5', 'C-4', 'B-6', 'C-3', 'B-2', 'A-3', 'B-1', 'B-4', 'A-5', 'B-7', 'A-2', 'C-5', 'B-3', 'C-6', 'C-7', 'A-6', 'A-7']\n",
      "\n",
      "Episode: 647\n",
      "Episode complete. Total Reward: [-168.81666667 -148.4        -152.15      ] jumlah step: 363 product completed:  20\n",
      "product completed:  ['C-3', 'C-4', 'B-1', 'B-2', 'C-1', 'C-5', 'B-7', 'B-4', 'B-5', 'B-3', 'A-1', 'C-6', 'A-4', 'B-6', 'A-3', 'C-2', 'C-7', 'A-5', 'A-2', 'A-6']\n",
      "\n",
      "Episode: 648\n"
     ]
    },
    {
     "name": "stderr",
     "output_type": "stream",
     "text": [
      " 65%|██████▌   | 652/1000 [00:35<00:18, 18.35it/s]"
     ]
    },
    {
     "name": "stdout",
     "output_type": "stream",
     "text": [
      "Episode complete. Total Reward: [-137.88333333 -114.96666667 -119.05      ] jumlah step: 332 product completed:  20\n",
      "product completed:  ['B-1', 'C-4', 'C-2', 'C-1', 'A-1', 'B-4', 'B-5', 'C-5', 'C-7', 'B-2', 'B-7', 'C-3', 'A-2', 'B-6', 'A-5', 'B-3', 'A-4', 'C-6', 'A-6', 'A-7']\n",
      "\n",
      "Episode: 649\n",
      "Episode complete. Total Reward: [-331.28333333 -308.53333333 -313.7       ] jumlah step: 511 product completed:  20\n",
      "product completed:  ['C-1', 'C-2', 'A-4', 'A-1', 'C-7', 'C-5', 'B-1', 'C-3', 'A-2', 'C-4', 'B-4', 'B-2', 'A-7', 'A-6', 'C-6', 'B-3', 'A-3', 'B-5', 'A-5', 'B-7']\n",
      "\n",
      "Episode: 650\n",
      "Episode complete. Total Reward: [-231.3        -212.63333333 -206.8       ] jumlah step: 427 product completed:  20\n",
      "product completed:  ['C-3', 'C-4', 'C-2', 'C-5', 'C-1', 'A-6', 'A-1', 'A-4', 'A-3', 'B-2', 'B-3', 'A-5', 'B-7', 'B-5', 'B-6', 'C-7', 'C-6', 'B-4', 'B-1', 'A-7']\n",
      "\n",
      "Episode: 651\n",
      "Episode complete. Total Reward: [-184.86666667 -163.36666667 -164.7       ] jumlah step: 368 product completed:  20\n",
      "product completed:  ['B-5', 'B-1', 'B-2', 'B-4', 'C-1', 'C-3', 'B-3', 'B-7', 'A-3', 'A-5', 'C-2', 'A-1', 'A-2', 'C-7', 'B-6', 'C-4', 'A-7', 'C-6', 'C-5', 'A-4']\n",
      "\n",
      "Episode: 652\n",
      "Episode complete. Total Reward: [-231.68333333 -210.76666667 -210.85      ] jumlah step: 430 product completed:  20\n",
      "product completed:  ['A-2', 'C-1', 'B-3', 'B-7', 'A-6', 'A-1', 'C-3', 'A-3', 'C-4', 'B-1', 'B-2', 'B-5', 'A-5', 'C-6', 'C-7', 'C-5', 'C-2', 'B-6', 'B-4', 'A-4']\n"
     ]
    },
    {
     "name": "stderr",
     "output_type": "stream",
     "text": [
      " 66%|██████▌   | 655/1000 [00:35<00:18, 18.54it/s]"
     ]
    },
    {
     "name": "stdout",
     "output_type": "stream",
     "text": [
      "\n",
      "Episode: 653\n",
      "Episode complete. Total Reward: [-183.13333333 -164.8        -166.3       ] jumlah step: 393 product completed:  20\n",
      "product completed:  ['C-1', 'B-1', 'A-4', 'A-6', 'C-3', 'C-2', 'C-4', 'A-5', 'C-6', 'A-3', 'C-7', 'A-7', 'B-3', 'B-2', 'B-5', 'A-1', 'B-4', 'C-5', 'A-2', 'B-6']\n",
      "\n",
      "Episode: 654\n",
      "Episode complete. Total Reward: [-147.21666667 -127.63333333 -127.3       ] jumlah step: 319 product completed:  20\n",
      "product completed:  ['C-1', 'B-1', 'A-3', 'C-4', 'C-2', 'B-3', 'C-3', 'A-2', 'C-5', 'A-4', 'C-6', 'A-5', 'B-5', 'B-4', 'B-7', 'B-2', 'A-1', 'A-6', 'A-7', 'C-7']\n",
      "\n",
      "Episode: 655\n",
      "Episode complete. Total Reward: [-293.3        -276.63333333 -267.05      ] jumlah step: 467 product completed:  20\n",
      "product completed:  ['C-2', 'C-1', 'B-2', 'C-5', 'B-5', 'B-3', 'C-4', 'C-6', 'B-1', 'C-3', 'B-4', 'A-5', 'A-1', 'C-7', 'B-7', 'A-3', 'A-4', 'B-6', 'A-2', 'A-6']\n",
      "\n",
      "Episode: 656\n"
     ]
    },
    {
     "name": "stderr",
     "output_type": "stream",
     "text": [
      " 66%|██████▌   | 660/1000 [00:36<00:18, 18.78it/s]"
     ]
    },
    {
     "name": "stdout",
     "output_type": "stream",
     "text": [
      "Episode complete. Total Reward: [-256.28333333 -232.03333333 -233.7       ] jumlah step: 464 product completed:  20\n",
      "product completed:  ['C-2', 'C-1', 'A-2', 'C-3', 'A-1', 'C-4', 'B-3', 'A-5', 'C-5', 'B-2', 'B-4', 'A-3', 'B-7', 'C-6', 'B-1', 'A-6', 'A-4', 'A-7', 'B-5', 'B-6']\n",
      "\n",
      "Episode: 657\n",
      "Episode complete. Total Reward: [-333.9  -311.4  -321.65] jumlah step: 530 product completed:  20\n",
      "product completed:  ['C-2', 'C-3', 'B-3', 'C-5', 'C-4', 'C-7', 'C-6', 'A-2', 'A-3', 'B-5', 'C-1', 'B-7', 'A-6', 'B-2', 'B-6', 'B-4', 'A-7', 'A-5', 'B-1', 'A-4']\n",
      "\n",
      "Episode: 658\n",
      "Episode complete. Total Reward: [-158.65       -146.56666667 -143.65      ] jumlah step: 362 product completed:  20\n",
      "product completed:  ['B-2', 'A-1', 'B-6', 'C-3', 'B-3', 'C-1', 'B-7', 'C-6', 'B-4', 'C-7', 'C-5', 'C-2', 'B-1', 'A-4', 'A-2', 'B-5', 'A-6', 'C-4', 'A-3', 'A-7']\n",
      "\n",
      "Episode: 659\n",
      "Episode complete. Total Reward: [-151.86666667 -134.86666667 -136.95      ] jumlah step: 350 product completed:  20\n",
      "product completed:  ['B-1', 'C-1', 'A-3', 'A-2', 'A-1', 'B-5', 'B-2', 'C-2', 'C-3', 'C-5', 'B-7', 'B-6', 'B-4', 'C-6', 'A-4', 'A-6', 'A-5', 'A-7', 'C-7', 'C-4']\n",
      "\n",
      "Episode: 660\n",
      "Episode complete. Total Reward: [-170.65       -159.56666667 -144.15      ] jumlah step: 370 product completed:  20\n",
      "product completed:  ['B-1', 'C-1', 'B-5', 'B-2', 'A-6', 'C-2', 'A-5', 'B-6', 'C-3', 'B-7', 'A-4', 'C-6', 'B-4', 'C-5', 'C-4', 'A-1', 'A-2', 'A-7', 'A-3', 'B-3']\n"
     ]
    },
    {
     "name": "stderr",
     "output_type": "stream",
     "text": [
      " 66%|██████▌   | 662/1000 [00:36<00:19, 17.75it/s]"
     ]
    },
    {
     "name": "stdout",
     "output_type": "stream",
     "text": [
      "\n",
      "Episode: 661\n",
      "Episode complete. Total Reward: [-334.1        -314.43333333 -302.1       ] jumlah step: 518 product completed:  20\n",
      "product completed:  ['A-2', 'C-2', 'C-3', 'B-2', 'A-1', 'B-1', 'C-7', 'C-6', 'B-4', 'C-5', 'C-1', 'A-4', 'B-5', 'C-4', 'A-3', 'A-6', 'B-6', 'B-7', 'A-7', 'A-5']\n",
      "\n",
      "Episode: 662\n",
      "Episode complete. Total Reward: [-322.65 -303.4  -295.9 ] jumlah step: 504 product completed:  20\n",
      "product completed:  ['A-3', 'B-5', 'C-1', 'B-3', 'B-4', 'A-4', 'B-6', 'C-2', 'B-1', 'C-5', 'B-2', 'A-2', 'B-7', 'C-7', 'C-3', 'A-5', 'C-4', 'C-6', 'A-6', 'A-7']\n",
      "\n",
      "Episode: 663\n",
      "Episode complete. Total Reward: [-210.8        -190.63333333 -196.55      ] jumlah step: 408 product completed:  20\n",
      "product completed:  ['C-1', 'C-2', 'C-3', 'B-2', 'B-1', 'C-6', 'C-4', 'C-7', 'B-6', 'B-7', 'A-1', 'A-2', 'B-3', 'C-5', 'A-5', 'A-7', 'B-4', 'A-6', 'A-3', 'A-4']\n",
      "\n",
      "Episode: 664\n"
     ]
    },
    {
     "name": "stderr",
     "output_type": "stream",
     "text": [
      " 67%|██████▋   | 666/1000 [00:36<00:20, 16.55it/s]"
     ]
    },
    {
     "name": "stdout",
     "output_type": "stream",
     "text": [
      "Episode complete. Total Reward: [-275.71666667 -264.63333333 -246.8       ] jumlah step: 464 product completed:  20\n",
      "product completed:  ['C-1', 'B-3', 'C-3', 'C-4', 'B-4', 'B-1', 'C-2', 'C-5', 'C-7', 'C-6', 'B-6', 'A-2', 'B-2', 'A-5', 'A-1', 'B-5', 'A-4', 'B-7', 'A-6', 'A-3']\n",
      "\n",
      "Episode: 665\n",
      "Episode complete. Total Reward: [-271.6        -253.43333333 -250.35      ] jumlah step: 445 product completed:  20\n",
      "product completed:  ['C-1', 'C-3', 'B-1', 'C-2', 'B-3', 'C-7', 'A-1', 'B-2', 'C-6', 'B-4', 'B-5', 'B-6', 'C-5', 'B-7', 'C-4', 'A-5', 'A-3', 'A-7', 'A-2', 'A-6']\n",
      "\n",
      "Episode: 666\n",
      "Episode complete. Total Reward: [-292.8        -276.13333333 -271.8       ] jumlah step: 495 product completed:  20\n",
      "product completed:  ['C-1', 'A-4', 'C-2', 'B-4', 'C-5', 'B-2', 'C-4', 'B-1', 'A-6', 'B-3', 'A-5', 'A-2', 'C-3', 'B-5', 'A-3', 'C-7', 'A-7', 'C-6', 'B-7', 'B-6']\n",
      "\n",
      "Episode: 667\n",
      "Episode complete. Total Reward: [-182.45 -161.2  -164.7 ] jumlah step: 362 product completed:  20\n",
      "product completed:  ['A-1', 'C-2', 'C-3', 'C-6', 'C-1', 'B-1', 'B-3', 'C-5', 'A-5', 'B-2', 'B-5', 'A-3', 'A-2', 'A-7', 'C-4', 'B-4', 'B-6', 'A-4', 'C-7', 'B-7']\n",
      "\n",
      "Episode: 668\n"
     ]
    },
    {
     "name": "stderr",
     "output_type": "stream",
     "text": [
      " 67%|██████▋   | 671/1000 [00:36<00:18, 17.66it/s]"
     ]
    },
    {
     "name": "stdout",
     "output_type": "stream",
     "text": [
      "Episode complete. Total Reward: [-173.03333333 -162.7        -147.45      ] jumlah step: 376 product completed:  20\n",
      "product completed:  ['B-1', 'C-2', 'A-6', 'B-2', 'C-3', 'C-1', 'C-5', 'A-2', 'C-4', 'C-6', 'B-4', 'A-5', 'C-7', 'B-3', 'A-1', 'A-4', 'B-5', 'B-7', 'A-3', 'B-6']\n",
      "\n",
      "Episode: 669\n",
      "Episode complete. Total Reward: [-206.11666667 -186.36666667 -183.95      ] jumlah step: 404 product completed:  20\n",
      "product completed:  ['C-2', 'A-4', 'B-1', 'C-3', 'B-3', 'C-4', 'C-1', 'C-5', 'B-2', 'A-3', 'B-4', 'A-2', 'A-1', 'B-7', 'C-6', 'A-7', 'B-5', 'A-6', 'A-5', 'B-6']\n",
      "\n",
      "Episode: 670\n",
      "Episode complete. Total Reward: [-264.63333333 -248.63333333 -248.05      ] jumlah step: 472 product completed:  20\n",
      "product completed:  ['B-5', 'B-4', 'B-1', 'B-2', 'A-4', 'A-2', 'C-5', 'C-4', 'C-6', 'C-2', 'B-6', 'C-1', 'B-3', 'A-1', 'B-7', 'C-3', 'C-7', 'A-6', 'A-7', 'A-5']\n",
      "\n",
      "Episode: 671\n",
      "Episode complete. Total Reward: [-242.83333333 -221.5        -225.        ] jumlah step: 407 product completed:  20\n",
      "product completed:  ['B-1', 'C-3', 'B-2', 'C-1', 'C-4', 'C-2', 'A-3', 'C-5', 'B-4', 'A-1', 'B-3', 'B-5', 'C-6', 'A-5', 'C-7', 'A-2', 'A-6', 'A-7', 'B-7', 'A-4']\n",
      "\n",
      "Episode: 672\n",
      "Episode complete. Total Reward: [-253.45 -234.7  -230.95] jumlah step: 447 product completed:  20\n",
      "product completed:  ['A-2', 'C-3', 'B-3', 'C-4', 'C-1', 'C-5', 'B-2', 'C-2', 'A-3', 'B-1', 'C-6', 'B-6', 'A-6', 'C-7', 'A-4', 'B-5', 'A-1', 'B-7', 'B-4', 'A-7']\n",
      "\n",
      "Episode: 673\n"
     ]
    },
    {
     "name": "stderr",
     "output_type": "stream",
     "text": [
      " 68%|██████▊   | 676/1000 [00:37<00:17, 18.49it/s]"
     ]
    },
    {
     "name": "stdout",
     "output_type": "stream",
     "text": [
      "Episode complete. Total Reward: [-203.9 -189.4 -178.9] jumlah step: 371 product completed:  20\n",
      "product completed:  ['C-1', 'C-2', 'A-1', 'B-1', 'A-3', 'A-5', 'A-7', 'B-3', 'C-5', 'C-3', 'C-6', 'B-2', 'B-4', 'C-7', 'A-2', 'C-4', 'B-7', 'A-4', 'B-5', 'A-6']\n",
      "\n",
      "Episode: 674\n",
      "Episode complete. Total Reward: [-247.35 -230.1  -217.6 ] jumlah step: 433 product completed:  20\n",
      "product completed:  ['B-1', 'B-2', 'C-1', 'C-5', 'C-4', 'C-7', 'C-3', 'A-2', 'C-6', 'A-3', 'A-1', 'B-7', 'A-5', 'B-5', 'C-2', 'B-3', 'B-6', 'A-7', 'A-6', 'B-4']\n",
      "\n",
      "Episode: 675\n",
      "Episode complete. Total Reward: [-310.26666667 -275.1        -285.85      ] jumlah step: 494 product completed:  20\n",
      "product completed:  ['C-3', 'C-4', 'B-2', 'C-2', 'C-7', 'B-3', 'C-5', 'B-1', 'A-2', 'A-1', 'B-7', 'B-4', 'B-5', 'B-6', 'C-1', 'A-3', 'A-4', 'A-5', 'A-6', 'C-6']\n",
      "\n",
      "Episode: 676\n",
      "Episode complete. Total Reward: [-304.1        -279.26666667 -282.6       ] jumlah step: 489 product completed:  20\n",
      "product completed:  ['C-1', 'B-1', 'B-2', 'C-3', 'C-5', 'B-5', 'C-6', 'B-7', 'B-6', 'B-4', 'A-3', 'A-2', 'C-7', 'C-4', 'A-1', 'A-6', 'B-3', 'C-2', 'A-7', 'A-4']\n",
      "\n",
      "Episode: 677\n",
      "Episode complete. Total Reward: [-263.23333333 -245.06666667 -246.15      ] jumlah step: 472 product completed:  20\n",
      "product completed:  ['B-1', 'C-3', 'A-2', 'C-2', 'C-1', 'A-5', 'B-4', 'B-2', 'A-1', 'A-3', 'A-4', 'C-6', 'C-7', 'C-5', 'A-6', 'B-3', 'B-6', 'A-7', 'B-7', 'C-4']\n",
      "\n",
      "Episode: 678\n"
     ]
    },
    {
     "name": "stderr",
     "output_type": "stream",
     "text": [
      " 68%|██████▊   | 680/1000 [00:37<00:17, 18.25it/s]"
     ]
    },
    {
     "name": "stdout",
     "output_type": "stream",
     "text": [
      "Episode complete. Total Reward: [-218.26666667 -200.93333333 -192.35      ] jumlah step: 425 product completed:  20\n",
      "product completed:  ['C-1', 'C-5', 'C-3', 'C-2', 'B-2', 'C-4', 'B-1', 'A-2', 'C-6', 'A-3', 'A-6', 'B-5', 'A-7', 'B-4', 'A-1', 'C-7', 'B-3', 'A-4', 'A-5', 'B-6']\n",
      "\n",
      "Episode: 679\n",
      "Episode complete. Total Reward: [-185.15       -159.06666667 -164.15      ] jumlah step: 359 product completed:  20\n",
      "product completed:  ['C-2', 'C-4', 'A-3', 'C-1', 'B-3', 'B-1', 'C-6', 'A-2', 'B-2', 'B-4', 'C-3', 'A-1', 'A-4', 'B-6', 'A-5', 'A-7', 'C-7', 'B-7', 'B-5', 'A-6']\n",
      "\n",
      "Episode: 680\n",
      "Episode complete. Total Reward: [-300.41666667 -282.33333333 -290.5       ] jumlah step: 523 product completed:  20\n",
      "product completed:  ['B-2', 'C-2', 'C-4', 'C-1', 'A-1', 'C-5', 'C-3', 'C-6', 'A-2', 'B-4', 'A-4', 'B-3', 'C-7', 'B-6', 'A-7', 'A-5', 'B-1', 'B-7', 'A-6', 'A-3']\n",
      "\n",
      "Episode: 681\n",
      "Episode complete. Total Reward: [-282.6        -266.26666667 -259.6       ] jumlah step: 470 product completed:  20\n",
      "product completed:  ['B-2', 'C-2', 'B-3', 'A-2', 'C-4', 'B-4', 'B-6', 'C-6', 'C-1', 'C-3', 'C-7', 'B-7', 'C-5', 'A-1', 'A-5', 'A-4', 'A-6', 'B-1', 'A-7', 'B-5']\n",
      "\n",
      "Episode: 682\n"
     ]
    },
    {
     "name": "stderr",
     "output_type": "stream",
     "text": [
      " 68%|██████▊   | 684/1000 [00:37<00:17, 18.34it/s]"
     ]
    },
    {
     "name": "stdout",
     "output_type": "stream",
     "text": [
      "Episode complete. Total Reward: [-268.53333333 -246.53333333 -240.45      ] jumlah step: 463 product completed:  20\n",
      "product completed:  ['C-1', 'B-2', 'C-3', 'A-3', 'A-1', 'B-1', 'B-3', 'C-4', 'C-5', 'C-2', 'A-6', 'B-6', 'A-7', 'A-5', 'B-7', 'A-4', 'B-4', 'C-7', 'B-5', 'C-6']\n",
      "\n",
      "Episode: 683\n",
      "Episode complete. Total Reward: [-213.21666667 -192.13333333 -188.55      ] jumlah step: 386 product completed:  20\n",
      "product completed:  ['C-3', 'B-3', 'C-5', 'B-5', 'A-1', 'B-1', 'A-4', 'C-4', 'C-1', 'C-6', 'A-3', 'B-4', 'A-5', 'A-2', 'B-2', 'B-7', 'C-7', 'C-2', 'A-6', 'B-6']\n",
      "\n",
      "Episode: 684\n",
      "Episode complete. Total Reward: [-201.06666667 -176.23333333 -192.9       ] jumlah step: 390 product completed:  20\n",
      "product completed:  ['C-3', 'C-1', 'C-5', 'A-1', 'B-4', 'A-3', 'C-6', 'B-2', 'A-2', 'C-2', 'C-7', 'B-7', 'A-5', 'A-4', 'B-1', 'C-4', 'A-7', 'A-6', 'B-6', 'B-3']\n",
      "\n",
      "Episode: 685\n",
      "Episode complete. Total Reward: [-278.9        -262.56666667 -259.9       ] jumlah step: 466 product completed:  20\n",
      "product completed:  ['C-3', 'C-4', 'C-1', 'C-2', 'B-3', 'C-6', 'B-2', 'C-5', 'B-4', 'A-1', 'A-4', 'C-7', 'A-2', 'A-5', 'B-6', 'A-3', 'B-1', 'B-7', 'A-7', 'B-5']\n",
      "\n",
      "Episode: 686\n"
     ]
    },
    {
     "name": "stderr",
     "output_type": "stream",
     "text": [
      " 69%|██████▉   | 688/1000 [00:37<00:17, 17.50it/s]"
     ]
    },
    {
     "name": "stdout",
     "output_type": "stream",
     "text": [
      "Episode complete. Total Reward: [-215.61666667 -191.03333333 -190.45      ] jumlah step: 394 product completed:  20\n",
      "product completed:  ['B-5', 'C-2', 'B-3', 'C-3', 'C-5', 'A-2', 'A-3', 'B-2', 'A-1', 'C-6', 'B-6', 'A-6', 'A-4', 'B-7', 'A-5', 'B-4', 'C-4', 'C-7', 'A-7', 'B-1']\n",
      "\n",
      "Episode: 687\n",
      "Episode complete. Total Reward: [-222.5        -199.66666667 -203.25      ] jumlah step: 443 product completed:  20\n",
      "product completed:  ['C-3', 'B-3', 'C-1', 'C-6', 'C-5', 'A-1', 'C-4', 'C-2', 'B-2', 'C-7', 'A-3', 'B-5', 'B-4', 'A-2', 'A-4', 'B-1', 'B-6', 'A-7', 'B-7', 'A-5']\n",
      "\n",
      "Episode: 688\n",
      "Episode complete. Total Reward: [-276.46666667 -257.3        -250.05      ] jumlah step: 460 product completed:  20\n",
      "product completed:  ['C-4', 'C-3', 'B-1', 'C-6', 'C-5', 'C-7', 'C-2', 'A-2', 'B-4', 'B-5', 'C-1', 'A-4', 'A-5', 'B-3', 'A-3', 'B-7', 'B-2', 'A-6', 'B-6', 'A-7']\n",
      "\n",
      "Episode: 689\n",
      "Episode complete. Total Reward: [-213.08333333 -196.33333333 -189.5       ] jumlah step: 388 product completed:  20\n",
      "product completed:  ['A-1', 'B-3', 'B-2', 'C-1', 'C-2', 'C-3', 'C-4', 'B-4', 'A-2', 'C-6', 'A-5', 'B-1', 'C-5', 'A-4', 'B-6', 'A-7', 'B-7', 'A-3', 'A-6', 'C-7']\n",
      "\n",
      "Episode: 690\n"
     ]
    },
    {
     "name": "stderr",
     "output_type": "stream",
     "text": [
      " 69%|██████▉   | 692/1000 [00:38<00:19, 16.08it/s]"
     ]
    },
    {
     "name": "stdout",
     "output_type": "stream",
     "text": [
      "Episode complete. Total Reward: [-315.85 -284.6  -293.1 ] jumlah step: 492 product completed:  20\n",
      "product completed:  ['B-2', 'A-2', 'B-1', 'B-3', 'C-2', 'C-4', 'C-3', 'A-4', 'B-6', 'B-5', 'A-3', 'B-4', 'C-1', 'C-5', 'A-7', 'A-6', 'A-1', 'C-6', 'B-7', 'A-5']\n",
      "\n",
      "Episode: 691\n",
      "Episode complete. Total Reward: [-260.23333333 -239.73333333 -240.9       ] jumlah step: 451 product completed:  20\n",
      "product completed:  ['C-1', 'B-3', 'B-5', 'B-6', 'C-2', 'C-4', 'C-5', 'A-2', 'C-6', 'B-2', 'C-3', 'B-7', 'B-1', 'A-7', 'B-4', 'C-7', 'A-1', 'A-3', 'A-4', 'A-5']\n",
      "\n",
      "Episode: 692\n",
      "Episode complete. Total Reward: [-183.81666667 -157.23333333 -170.15      ] jumlah step: 371 product completed:  20\n",
      "product completed:  ['B-1', 'B-2', 'B-5', 'C-4', 'A-2', 'C-2', 'A-4', 'C-1', 'A-1', 'B-7', 'C-6', 'B-4', 'C-5', 'B-3', 'B-6', 'A-5', 'A-7', 'C-7', 'C-3', 'A-6']\n",
      "\n",
      "Episode: 693\n"
     ]
    },
    {
     "name": "stderr",
     "output_type": "stream",
     "text": [
      " 70%|██████▉   | 696/1000 [00:38<00:19, 15.68it/s]"
     ]
    },
    {
     "name": "stdout",
     "output_type": "stream",
     "text": [
      "Episode complete. Total Reward: [-506.46666667 -485.63333333 -485.3       ] jumlah step: 700 product completed:  19\n",
      "product completed:  ['C-1', 'C-2', 'C-3', 'A-5', 'C-4', 'A-4', 'A-6', 'C-5', 'A-1', 'B-1', 'A-7', 'C-6', 'B-5', 'A-3', 'B-2', 'A-2', 'C-7', 'B-3', 'B-6']\n",
      "\n",
      "Episode: 694\n",
      "Episode complete. Total Reward: [-252.         -226.66666667 -226.25      ] jumlah step: 447 product completed:  20\n",
      "product completed:  ['B-5', 'A-1', 'C-2', 'B-3', 'B-6', 'A-2', 'B-1', 'B-4', 'B-2', 'C-5', 'A-5', 'C-1', 'A-6', 'C-7', 'C-4', 'A-3', 'A-7', 'B-7', 'C-6', 'A-4']\n",
      "\n",
      "Episode: 695\n",
      "Episode complete. Total Reward: [-199.8        -181.96666667 -182.55      ] jumlah step: 410 product completed:  20\n",
      "product completed:  ['B-4', 'C-1', 'B-2', 'B-1', 'C-2', 'C-3', 'B-6', 'A-3', 'A-2', 'C-4', 'A-1', 'C-6', 'A-4', 'B-5', 'B-3', 'B-7', 'C-5', 'A-5', 'C-7', 'A-6']\n",
      "\n",
      "Episode: 696\n",
      "Episode complete. Total Reward: [-301.15 -274.9  -269.4 ] jumlah step: 463 product completed:  20\n",
      "product completed:  ['C-2', 'C-3', 'C-1', 'B-1', 'B-2', 'C-4', 'C-5', 'B-3', 'A-4', 'A-1', 'A-3', 'A-6', 'B-7', 'A-2', 'B-4', 'B-5', 'A-7', 'A-5', 'B-6', 'C-6']\n",
      "\n",
      "Episode: 697\n"
     ]
    },
    {
     "name": "stderr",
     "output_type": "stream",
     "text": [
      " 70%|███████   | 700/1000 [00:38<00:18, 15.97it/s]"
     ]
    },
    {
     "name": "stdout",
     "output_type": "stream",
     "text": [
      "Episode complete. Total Reward: [-190.1        -174.93333333 -173.6       ] jumlah step: 395 product completed:  20\n",
      "product completed:  ['C-3', 'C-5', 'C-4', 'C-1', 'C-6', 'C-7', 'B-2', 'A-1', 'B-1', 'C-2', 'B-7', 'B-3', 'A-3', 'B-4', 'A-6', 'A-2', 'A-5', 'B-5', 'A-4', 'B-6']\n",
      "\n",
      "Episode: 698\n",
      "Episode complete. Total Reward: [-201.93333333 -183.6        -186.6       ] jumlah step: 402 product completed:  20\n",
      "product completed:  ['C-1', 'B-1', 'A-5', 'C-3', 'A-3', 'C-4', 'B-3', 'C-2', 'C-5', 'C-6', 'A-2', 'C-7', 'A-4', 'B-2', 'B-6', 'B-4', 'A-6', 'A-1', 'B-7', 'A-7']\n",
      "\n",
      "Episode: 699\n",
      "Episode complete. Total Reward: [-301.4 -280.9 -278.4] jumlah step: 528 product completed:  21\n",
      "product completed:  ['A-4', 'C-3', 'C-2', 'C-4', 'B-2', 'C-6', 'C-5', 'C-7', 'B-1', 'A-6', 'A-2', 'B-4', 'A-5', 'A-1', 'A-3', 'B-5', 'B-6', 'B-3', 'A-7', 'B-7', 'C-1']\n",
      "\n",
      "Episode: 700\n",
      "Episode complete. Total Reward: [-273.1        -253.26666667 -248.35      ] jumlah step: 446 product completed:  20\n",
      "product completed:  ['C-2', 'B-1', 'C-3', 'C-6', 'B-3', 'C-5', 'C-4', 'B-4', 'C-7', 'B-2', 'C-1', 'A-4', 'B-6', 'A-7', 'B-7', 'A-6', 'A-5', 'A-2', 'A-1', 'B-5']\n",
      "\n",
      "Episode: 701\n"
     ]
    },
    {
     "name": "stderr",
     "output_type": "stream",
     "text": [
      " 70%|███████   | 704/1000 [00:38<00:17, 16.93it/s]"
     ]
    },
    {
     "name": "stdout",
     "output_type": "stream",
     "text": [
      "Episode complete. Total Reward: [-211.63333333 -188.46666667 -190.05      ] jumlah step: 407 product completed:  20\n",
      "product completed:  ['C-3', 'C-4', 'C-6', 'A-3', 'C-1', 'A-2', 'C-2', 'C-7', 'C-5', 'B-3', 'A-6', 'A-4', 'B-7', 'A-1', 'B-1', 'B-5', 'A-5', 'A-7', 'B-6', 'B-4']\n",
      "\n",
      "Episode: 702\n",
      "Episode complete. Total Reward: [-175.73333333 -148.06666667 -161.9       ] jumlah step: 326 product completed:  20\n",
      "product completed:  ['B-1', 'C-2', 'B-5', 'C-4', 'C-1', 'C-7', 'C-5', 'B-4', 'A-2', 'B-2', 'C-6', 'A-5', 'C-3', 'A-1', 'A-7', 'A-6', 'A-4', 'B-7', 'B-6', 'B-3']\n",
      "\n",
      "Episode: 703\n",
      "Episode complete. Total Reward: [-256.9        -229.56666667 -234.65      ] jumlah step: 438 product completed:  20\n",
      "product completed:  ['C-1', 'B-3', 'A-3', 'B-1', 'A-1', 'B-2', 'C-3', 'C-2', 'B-4', 'C-6', 'A-4', 'C-7', 'C-5', 'B-6', 'C-4', 'B-7', 'A-6', 'B-5', 'A-2', 'A-7']\n",
      "\n",
      "Episode: 704\n",
      "Episode complete. Total Reward: [-175.68333333 -160.6        -153.35      ] jumlah step: 362 product completed:  20\n",
      "product completed:  ['C-2', 'C-3', 'C-6', 'B-2', 'C-4', 'C-1', 'C-5', 'A-1', 'B-3', 'B-5', 'B-4', 'B-7', 'B-6', 'A-5', 'C-7', 'A-4', 'A-3', 'A-2', 'B-1', 'A-6']\n",
      "\n",
      "Episode: 705\n",
      "Episode complete. Total Reward: [-224.11666667 -209.2        -199.45      ] jumlah step: 400 product completed:  20\n",
      "product completed:  ['C-2', 'C-4', 'C-3', 'C-6', 'C-1', 'C-7', 'B-1', 'A-2', 'B-4', 'A-3', 'B-3', 'A-7', 'B-6', 'A-5', 'B-2', 'B-7', 'C-5', 'A-1', 'A-6', 'B-5']\n",
      "\n",
      "Episode: 706\n"
     ]
    },
    {
     "name": "stderr",
     "output_type": "stream",
     "text": [
      " 71%|███████   | 709/1000 [00:39<00:16, 17.59it/s]"
     ]
    },
    {
     "name": "stdout",
     "output_type": "stream",
     "text": [
      "Episode complete. Total Reward: [-177.9        -167.06666667 -155.4       ] jumlah step: 392 product completed:  20\n",
      "product completed:  ['C-1', 'A-1', 'C-4', 'C-5', 'C-2', 'A-2', 'B-4', 'C-7', 'B-5', 'C-6', 'B-1', 'A-4', 'A-5', 'C-3', 'B-3', 'B-2', 'A-6', 'A-7', 'B-7', 'B-6']\n",
      "\n",
      "Episode: 707\n",
      "Episode complete. Total Reward: [-353.93333333 -335.93333333 -328.6       ] jumlah step: 543 product completed:  20\n",
      "product completed:  ['B-1', 'A-1', 'B-5', 'C-2', 'A-3', 'B-6', 'A-4', 'B-2', 'C-1', 'B-3', 'C-3', 'C-4', 'C-5', 'A-2', 'B-7', 'A-5', 'C-7', 'C-6', 'B-4', 'A-7']\n",
      "\n",
      "Episode: 708\n",
      "Episode complete. Total Reward: [-280.03333333 -263.2        -268.45      ] jumlah step: 512 product completed:  20\n",
      "product completed:  ['C-1', 'B-3', 'C-2', 'C-3', 'C-4', 'C-5', 'C-7', 'B-5', 'B-4', 'A-2', 'B-1', 'A-3', 'B-6', 'B-7', 'C-6', 'A-7', 'B-2', 'A-4', 'A-5', 'A-6']\n",
      "\n",
      "Episode: 709\n",
      "Episode complete. Total Reward: [-171.63333333 -150.13333333 -153.3       ] jumlah step: 362 product completed:  20\n",
      "product completed:  ['C-4', 'A-1', 'C-1', 'B-1', 'A-5', 'C-5', 'C-2', 'A-3', 'B-3', 'B-4', 'C-7', 'C-3', 'C-6', 'A-2', 'B-5', 'A-6', 'B-2', 'A-7', 'B-6', 'B-7']\n",
      "\n",
      "Episode: 710\n"
     ]
    },
    {
     "name": "stderr",
     "output_type": "stream",
     "text": [
      " 71%|███████▏  | 713/1000 [00:39<00:17, 16.42it/s]"
     ]
    },
    {
     "name": "stdout",
     "output_type": "stream",
     "text": [
      "Episode complete. Total Reward: [-238.06666667 -222.23333333 -220.9       ] jumlah step: 439 product completed:  20\n",
      "product completed:  ['B-1', 'C-1', 'A-5', 'C-2', 'A-7', 'C-3', 'A-2', 'B-7', 'A-1', 'C-6', 'C-5', 'C-7', 'B-5', 'A-4', 'B-6', 'B-4', 'C-4', 'B-2', 'A-6', 'B-3']\n",
      "\n",
      "Episode: 711\n",
      "Episode complete. Total Reward: [-308.18333333 -280.26666667 -288.1       ] jumlah step: 471 product completed:  20\n",
      "product completed:  ['B-1', 'C-1', 'C-6', 'B-2', 'A-1', 'C-4', 'C-2', 'C-5', 'C-3', 'A-4', 'B-6', 'B-4', 'A-2', 'C-7', 'B-5', 'B-7', 'A-6', 'A-5', 'B-3', 'A-7']\n",
      "\n",
      "Episode: 712\n",
      "Episode complete. Total Reward: [-163.7        -145.36666667 -143.95      ] jumlah step: 342 product completed:  20\n",
      "product completed:  ['B-1', 'C-3', 'B-3', 'A-1', 'C-2', 'B-5', 'C-1', 'A-2', 'C-4', 'C-5', 'B-7', 'B-4', 'B-2', 'A-7', 'A-4', 'C-7', 'A-6', 'C-6', 'B-6', 'A-3']\n",
      "\n",
      "Episode: 713\n",
      "Episode complete. Total Reward: [-302.45 -291.2  -269.45] jumlah step: 503 product completed:  20\n",
      "product completed:  ['C-2', 'C-3', 'B-1', 'A-4', 'C-5', 'B-3', 'A-1', 'A-5', 'B-6', 'C-6', 'A-3', 'C-4', 'B-5', 'C-7', 'B-2', 'B-7', 'C-1', 'A-7', 'A-2', 'B-4']\n",
      "\n",
      "Episode: 714\n"
     ]
    },
    {
     "name": "stderr",
     "output_type": "stream",
     "text": [
      " 72%|███████▏  | 716/1000 [00:39<00:16, 17.39it/s]"
     ]
    },
    {
     "name": "stdout",
     "output_type": "stream",
     "text": [
      "Episode complete. Total Reward: [-182.28333333 -158.36666667 -160.7       ] jumlah step: 365 product completed:  20\n",
      "product completed:  ['C-1', 'C-2', 'B-4', 'C-3', 'B-3', 'B-2', 'C-5', 'C-4', 'A-4', 'A-2', 'B-6', 'A-5', 'C-7', 'B-1', 'B-5', 'A-1', 'C-6', 'B-7', 'A-7', 'A-6']\n",
      "\n",
      "Episode: 715\n",
      "Episode complete. Total Reward: [-146.8        -128.96666667 -134.3       ] jumlah step: 352 product completed:  20\n",
      "product completed:  ['A-2', 'B-3', 'C-1', 'B-1', 'B-5', 'B-7', 'C-2', 'A-7', 'A-3', 'C-5', 'B-6', 'C-6', 'C-7', 'C-3', 'A-5', 'B-2', 'A-4', 'B-4', 'A-6', 'A-1']\n",
      "\n",
      "Episode: 716\n",
      "Episode complete. Total Reward: [-255.4  -234.9  -232.15] jumlah step: 441 product completed:  20\n",
      "product completed:  ['B-1', 'C-3', 'C-1', 'B-4', 'A-3', 'B-2', 'B-3', 'B-7', 'C-4', 'A-2', 'C-2', 'C-5', 'C-7', 'C-6', 'A-4', 'A-5', 'B-5', 'A-1', 'A-7', 'A-6']\n",
      "\n",
      "Episode: 717\n",
      "Episode complete. Total Reward: [-215.33333333 -200.         -187.25      ] jumlah step: 403 product completed:  20\n",
      "product completed:  ['C-2', 'B-5', 'B-4', 'B-6', 'A-1', 'A-2', 'C-5', 'B-1', 'B-7', 'C-6', 'C-7', 'C-3', 'A-3', 'A-6', 'A-4', 'A-5', 'C-1', 'B-2', 'B-3', 'C-4']\n",
      "\n",
      "Episode: 718\n"
     ]
    },
    {
     "name": "stderr",
     "output_type": "stream",
     "text": [
      " 72%|███████▏  | 720/1000 [00:39<00:16, 17.30it/s]"
     ]
    },
    {
     "name": "stdout",
     "output_type": "stream",
     "text": [
      "Episode complete. Total Reward: [-293.5        -273.66666667 -280.75      ] jumlah step: 511 product completed:  20\n",
      "product completed:  ['C-1', 'C-2', 'C-4', 'C-6', 'C-3', 'B-1', 'A-1', 'A-6', 'A-2', 'B-2', 'C-7', 'A-7', 'B-5', 'B-6', 'A-3', 'A-4', 'C-5', 'B-3', 'A-5', 'B-7']\n",
      "\n",
      "Episode: 719\n",
      "Episode complete. Total Reward: [-198.46666667 -178.96666667 -178.8       ] jumlah step: 404 product completed:  20\n",
      "product completed:  ['B-1', 'C-2', 'A-3', 'A-5', 'B-3', 'B-2', 'C-1', 'A-1', 'C-5', 'C-3', 'B-6', 'A-2', 'A-4', 'C-4', 'A-6', 'B-5', 'C-6', 'B-7', 'C-7', 'B-4']\n",
      "\n",
      "Episode: 720\n",
      "Episode complete. Total Reward: [-185.91666667 -171.16666667 -161.        ] jumlah step: 350 product completed:  20\n",
      "product completed:  ['C-2', 'B-4', 'C-4', 'C-6', 'A-2', 'C-7', 'C-1', 'C-5', 'B-5', 'B-6', 'B-3', 'B-1', 'B-7', 'A-5', 'A-1', 'B-2', 'C-3', 'A-3', 'A-4', 'A-6']\n",
      "\n",
      "Episode: 721\n",
      "Episode complete. Total Reward: [-189.46666667 -166.3        -166.55      ] jumlah step: 347 product completed:  20\n",
      "product completed:  ['B-4', 'B-1', 'C-1', 'A-2', 'C-4', 'B-2', 'C-2', 'B-6', 'A-3', 'B-3', 'B-5', 'C-3', 'C-7', 'C-5', 'A-5', 'A-7', 'C-6', 'B-7', 'A-4', 'A-1']\n",
      "\n",
      "Episode: 722\n",
      "Episode complete. Total Reward: [-250.33333333 -228.5        -233.25      ] jumlah step: 452 product completed:  20\n",
      "product completed:  ['B-1', 'C-1', 'B-4', 'C-3', 'B-5', 'C-5', 'B-2', 'A-1', 'A-2', 'C-2', 'A-3', 'C-7', 'A-6', 'A-4', 'B-7', 'C-4', 'C-6', 'A-5', 'B-3', 'A-7']\n",
      "\n",
      "Episode: 723\n"
     ]
    },
    {
     "name": "stderr",
     "output_type": "stream",
     "text": [
      " 73%|███████▎  | 726/1000 [00:40<00:14, 18.83it/s]"
     ]
    },
    {
     "name": "stdout",
     "output_type": "stream",
     "text": [
      "Episode complete. Total Reward: [-267.83333333 -247.66666667 -247.        ] jumlah step: 489 product completed:  20\n",
      "product completed:  ['C-1', 'B-6', 'C-3', 'B-1', 'C-2', 'A-1', 'B-2', 'C-6', 'C-4', 'C-7', 'B-5', 'A-5', 'A-7', 'B-4', 'B-3', 'A-6', 'B-7', 'A-3', 'A-2', 'C-5']\n",
      "\n",
      "Episode: 724\n",
      "Episode complete. Total Reward: [-203.11666667 -186.03333333 -178.7       ] jumlah step: 377 product completed:  20\n",
      "product completed:  ['C-4', 'A-2', 'C-1', 'C-6', 'C-5', 'C-7', 'A-3', 'A-5', 'C-2', 'A-4', 'B-6', 'B-3', 'B-5', 'B-7', 'B-1', 'B-4', 'A-7', 'B-2', 'C-3', 'A-1']\n",
      "\n",
      "Episode: 725\n",
      "Episode complete. Total Reward: [-216.5 -198.  -197. ] jumlah step: 404 product completed:  20\n",
      "product completed:  ['C-1', 'C-4', 'B-1', 'C-3', 'C-2', 'A-2', 'B-2', 'C-6', 'B-3', 'A-6', 'B-4', 'A-4', 'B-6', 'A-5', 'C-7', 'B-5', 'B-7', 'A-1', 'C-5', 'A-3']\n",
      "\n",
      "Episode: 726\n",
      "Episode complete. Total Reward: [-190.91666667 -175.         -173.75      ] jumlah step: 383 product completed:  20\n",
      "product completed:  ['C-1', 'B-2', 'C-4', 'C-3', 'A-3', 'A-4', 'B-4', 'A-2', 'B-5', 'C-5', 'C-6', 'B-7', 'A-7', 'C-2', 'C-7', 'A-5', 'A-1', 'A-6', 'B-1', 'B-6']\n",
      "\n",
      "Episode: 727\n",
      "Episode complete. Total Reward: [-316.61666667 -292.2        -297.95      ] jumlah step: 500 product completed:  21\n",
      "product completed:  ['C-1', 'C-2', 'B-1', 'C-4', 'A-2', 'B-4', 'A-1', 'B-2', 'B-3', 'C-5', 'B-7', 'C-6', 'B-6', 'C-7', 'C-3', 'A-7', 'A-3', 'A-6', 'B-5', 'A-4', 'A-5']\n",
      "\n",
      "Episode: 728\n"
     ]
    },
    {
     "name": "stderr",
     "output_type": "stream",
     "text": [
      " 73%|███████▎  | 730/1000 [00:40<00:15, 17.06it/s]"
     ]
    },
    {
     "name": "stdout",
     "output_type": "stream",
     "text": [
      "Episode complete. Total Reward: [-212.1        -196.93333333 -193.1       ] jumlah step: 431 product completed:  20\n",
      "product completed:  ['B-2', 'B-6', 'C-2', 'C-4', 'C-1', 'B-7', 'B-5', 'A-3', 'C-3', 'B-3', 'A-5', 'B-1', 'C-7', 'C-5', 'C-6', 'B-4', 'A-2', 'A-4', 'A-1', 'A-7']\n",
      "\n",
      "Episode: 729\n",
      "Episode complete. Total Reward: [-317.51666667 -295.76666667 -295.1       ] jumlah step: 515 product completed:  20\n",
      "product completed:  ['B-2', 'C-2', 'C-4', 'B-3', 'B-1', 'C-5', 'A-5', 'A-1', 'C-3', 'C-1', 'B-4', 'A-3', 'A-2', 'B-6', 'A-7', 'A-6', 'C-7', 'A-4', 'C-6', 'B-7']\n",
      "\n",
      "Episode: 730\n",
      "Episode complete. Total Reward: [-246.58333333 -229.16666667 -224.25      ] jumlah step: 454 product completed:  20\n",
      "product completed:  ['B-3', 'C-3', 'C-4', 'B-7', 'B-5', 'A-1', 'C-2', 'B-6', 'B-1', 'C-1', 'C-7', 'B-4', 'A-5', 'C-6', 'A-4', 'C-5', 'A-7', 'A-2', 'B-2', 'A-3']\n",
      "\n",
      "Episode: 731\n",
      "Episode complete. Total Reward: [-161.45       -147.53333333 -140.45      ] jumlah step: 355 product completed:  20\n",
      "product completed:  ['B-2', 'B-5', 'C-3', 'B-4', 'C-4', 'C-5', 'C-2', 'C-6', 'A-1', 'C-1', 'C-7', 'A-2', 'B-1', 'A-4', 'B-3', 'A-6', 'B-7', 'A-3', 'B-6', 'A-5']\n",
      "\n",
      "Episode: 732\n"
     ]
    },
    {
     "name": "stderr",
     "output_type": "stream",
     "text": [
      " 73%|███████▎  | 734/1000 [00:40<00:15, 16.93it/s]"
     ]
    },
    {
     "name": "stdout",
     "output_type": "stream",
     "text": [
      "Episode complete. Total Reward: [-204.46666667 -182.8        -184.05      ] jumlah step: 386 product completed:  20\n",
      "product completed:  ['C-1', 'A-1', 'B-5', 'B-2', 'B-3', 'C-3', 'B-4', 'A-6', 'C-4', 'B-6', 'C-2', 'A-2', 'B-7', 'C-5', 'A-7', 'A-3', 'A-5', 'B-1', 'A-4', 'C-6']\n",
      "\n",
      "Episode: 733\n",
      "Episode complete. Total Reward: [-139.2        -126.53333333 -121.95      ] jumlah step: 346 product completed:  20\n",
      "product completed:  ['C-3', 'C-1', 'B-2', 'C-2', 'C-4', 'B-1', 'C-5', 'A-3', 'C-6', 'A-5', 'B-3', 'C-7', 'A-4', 'A-6', 'B-7', 'B-5', 'B-6', 'A-2', 'A-7', 'A-1']\n",
      "\n",
      "Episode: 734\n",
      "Episode complete. Total Reward: [-317.81666667 -301.23333333 -287.9       ] jumlah step: 515 product completed:  20\n",
      "product completed:  ['B-2', 'A-1', 'C-2', 'B-1', 'C-1', 'B-3', 'C-4', 'A-4', 'B-4', 'C-5', 'B-6', 'C-7', 'A-2', 'A-3', 'B-5', 'A-5', 'C-3', 'A-7', 'C-6', 'B-7']\n",
      "\n",
      "Episode: 735\n",
      "Episode complete. Total Reward: [-187.68333333 -168.43333333 -175.6       ] jumlah step: 388 product completed:  20\n",
      "product completed:  ['C-2', 'C-1', 'C-3', 'A-3', 'C-4', 'B-2', 'B-6', 'C-5', 'B-7', 'B-5', 'B-1', 'A-4', 'C-7', 'B-3', 'A-1', 'A-2', 'A-6', 'A-5', 'C-6', 'B-4']\n",
      "\n",
      "Episode: 736\n"
     ]
    },
    {
     "name": "stderr",
     "output_type": "stream",
     "text": [
      " 74%|███████▍  | 738/1000 [00:40<00:16, 15.90it/s]"
     ]
    },
    {
     "name": "stdout",
     "output_type": "stream",
     "text": [
      "Episode complete. Total Reward: [-180.63333333 -163.13333333 -163.05      ] jumlah step: 367 product completed:  20\n",
      "product completed:  ['C-1', 'B-2', 'C-3', 'C-2', 'B-5', 'A-1', 'C-5', 'C-4', 'A-4', 'A-5', 'B-4', 'B-6', 'A-2', 'A-7', 'B-7', 'A-6', 'C-6', 'B-3', 'B-1', 'A-3']\n",
      "\n",
      "Episode: 737\n",
      "Episode complete. Total Reward: [-343.36666667 -320.53333333 -324.2       ] jumlah step: 558 product completed:  20\n",
      "product completed:  ['A-2', 'C-2', 'C-4', 'C-1', 'A-5', 'C-5', 'A-4', 'B-2', 'C-6', 'A-1', 'B-1', 'B-5', 'A-3', 'C-7', 'B-7', 'B-4', 'B-6', 'B-3', 'C-3', 'A-7']\n",
      "\n",
      "Episode: 738\n",
      "Episode complete. Total Reward: [-281.23333333 -256.73333333 -268.9       ] jumlah step: 509 product completed:  20\n",
      "product completed:  ['C-3', 'C-2', 'B-4', 'C-5', 'C-1', 'C-7', 'B-1', 'C-4', 'B-2', 'C-6', 'B-3', 'A-2', 'B-6', 'A-3', 'A-4', 'B-7', 'A-6', 'A-1', 'A-7', 'B-5']\n",
      "\n",
      "Episode: 739\n"
     ]
    },
    {
     "name": "stderr",
     "output_type": "stream",
     "text": [
      " 74%|███████▍  | 742/1000 [00:41<00:15, 16.38it/s]"
     ]
    },
    {
     "name": "stdout",
     "output_type": "stream",
     "text": [
      "Episode complete. Total Reward: [-211.3 -189.8 -193.8] jumlah step: 398 product completed:  20\n",
      "product completed:  ['B-1', 'B-5', 'B-2', 'B-7', 'B-3', 'C-4', 'A-1', 'C-2', 'C-5', 'C-6', 'C-7', 'C-3', 'A-5', 'A-7', 'B-6', 'A-4', 'C-1', 'B-4', 'A-2', 'A-6']\n",
      "\n",
      "Episode: 740\n",
      "Episode complete. Total Reward: [-315.36666667 -288.7        -300.45      ] jumlah step: 528 product completed:  20\n",
      "product completed:  ['B-2', 'B-5', 'C-5', 'C-2', 'C-1', 'B-3', 'C-4', 'A-1', 'C-7', 'C-3', 'B-6', 'A-2', 'C-6', 'B-1', 'A-4', 'A-5', 'A-3', 'A-6', 'B-4', 'A-7']\n",
      "\n",
      "Episode: 741\n",
      "Episode complete. Total Reward: [-250.16666667 -225.5        -240.        ] jumlah step: 443 product completed:  20\n",
      "product completed:  ['C-1', 'C-6', 'C-3', 'C-7', 'C-4', 'B-3', 'C-2', 'B-4', 'C-5', 'A-3', 'B-6', 'A-4', 'B-7', 'B-5', 'B-2', 'A-6', 'A-5', 'B-1', 'A-1', 'A-2']\n",
      "\n",
      "Episode: 742\n",
      "Episode complete. Total Reward: [-249.1        -227.26666667 -225.1       ] jumlah step: 421 product completed:  20\n",
      "product completed:  ['B-1', 'B-2', 'C-2', 'B-3', 'C-1', 'A-4', 'C-3', 'C-5', 'A-3', 'A-5', 'C-6', 'C-4', 'C-7', 'B-5', 'A-2', 'A-7', 'A-1', 'B-4', 'A-6', 'B-7']\n",
      "\n",
      "Episode: 743\n"
     ]
    },
    {
     "name": "stderr",
     "output_type": "stream",
     "text": [
      " 75%|███████▍  | 746/1000 [00:41<00:16, 15.44it/s]"
     ]
    },
    {
     "name": "stdout",
     "output_type": "stream",
     "text": [
      "Episode complete. Total Reward: [-272.2        -245.53333333 -255.45      ] jumlah step: 461 product completed:  20\n",
      "product completed:  ['B-5', 'C-2', 'B-6', 'B-1', 'A-2', 'B-7', 'C-4', 'C-1', 'B-4', 'B-2', 'C-7', 'C-6', 'C-5', 'A-7', 'C-3', 'A-6', 'A-1', 'A-4', 'A-3', 'B-3']\n",
      "\n",
      "Episode: 744\n",
      "Episode complete. Total Reward: [-237.28333333 -215.53333333 -218.95      ] jumlah step: 445 product completed:  20\n",
      "product completed:  ['C-2', 'A-3', 'B-3', 'C-1', 'C-4', 'B-1', 'B-2', 'B-5', 'A-2', 'C-6', 'A-5', 'B-4', 'B-6', 'A-1', 'C-5', 'A-7', 'C-3', 'A-4', 'B-7', 'C-7']\n",
      "\n",
      "Episode: 745\n",
      "Episode complete. Total Reward: [-352.31666667 -326.23333333 -335.15      ] jumlah step: 561 product completed:  20\n",
      "product completed:  ['C-3', 'B-3', 'B-1', 'B-2', 'C-4', 'C-1', 'A-2', 'B-4', 'C-2', 'C-7', 'B-5', 'A-6', 'B-7', 'C-5', 'A-4', 'A-1', 'C-6', 'A-5', 'B-6', 'A-3']\n",
      "\n",
      "Episode: 746\n",
      "Episode complete. Total Reward: [-227.53333333 -210.86666667 -205.95      ] jumlah step: 413 product completed:  20\n",
      "product completed:  ['C-3', 'C-4', 'B-2', 'C-7', 'B-4', 'C-2', 'B-5', 'A-1', 'C-1', 'C-6', 'B-1', 'B-3', 'B-7', 'A-4', 'A-3', 'C-5', 'A-6', 'A-2', 'B-6', 'A-5']\n"
     ]
    },
    {
     "name": "stderr",
     "output_type": "stream",
     "text": [
      " 75%|███████▍  | 748/1000 [00:41<00:15, 15.99it/s]"
     ]
    },
    {
     "name": "stdout",
     "output_type": "stream",
     "text": [
      "\n",
      "Episode: 747\n",
      "Episode complete. Total Reward: [-167.65       -147.56666667 -147.65      ] jumlah step: 348 product completed:  20\n",
      "product completed:  ['C-1', 'C-2', 'B-4', 'B-3', 'B-1', 'A-4', 'A-2', 'C-4', 'B-2', 'C-6', 'A-3', 'A-6', 'C-3', 'C-7', 'C-5', 'B-6', 'B-5', 'B-7', 'A-1', 'A-7']\n",
      "\n",
      "Episode: 748\n",
      "Episode complete. Total Reward: [-267.18333333 -247.93333333 -243.35      ] jumlah step: 454 product completed:  20\n",
      "product completed:  ['B-1', 'B-3', 'C-4', 'C-1', 'B-2', 'C-2', 'B-5', 'A-1', 'B-7', 'C-5', 'C-3', 'C-7', 'C-6', 'A-4', 'A-3', 'A-5', 'B-6', 'A-2', 'A-6', 'A-7']\n",
      "\n",
      "Episode: 749\n",
      "Episode complete. Total Reward: [-129.83333333 -114.         -112.25      ] jumlah step: 308 product completed:  20\n",
      "product completed:  ['B-2', 'C-3', 'C-2', 'A-2', 'B-6', 'C-5', 'B-1', 'B-3', 'C-6', 'C-1', 'C-4', 'B-7', 'C-7', 'A-1', 'B-5', 'A-6', 'A-7', 'A-3', 'A-4', 'B-4']\n",
      "\n",
      "Episode: 750\n"
     ]
    },
    {
     "name": "stderr",
     "output_type": "stream",
     "text": [
      " 75%|███████▌  | 752/1000 [00:41<00:15, 15.97it/s]"
     ]
    },
    {
     "name": "stdout",
     "output_type": "stream",
     "text": [
      "Episode complete. Total Reward: [-318.55       -300.96666667 -299.8       ] jumlah step: 539 product completed:  20\n",
      "product completed:  ['C-4', 'C-3', 'A-4', 'A-1', 'C-2', 'B-1', 'C-7', 'C-1', 'A-3', 'A-2', 'C-5', 'A-5', 'A-6', 'B-2', 'B-5', 'C-6', 'B-7', 'B-3', 'A-7', 'B-6']\n",
      "\n",
      "Episode: 751\n",
      "Episode complete. Total Reward: [-238.58333333 -215.83333333 -220.        ] jumlah step: 426 product completed:  20\n",
      "product completed:  ['B-3', 'C-2', 'B-1', 'C-3', 'C-1', 'A-1', 'A-2', 'A-4', 'C-5', 'A-5', 'C-7', 'A-7', 'A-6', 'A-3', 'C-4', 'C-6', 'B-4', 'B-6', 'B-2', 'B-7']\n",
      "\n",
      "Episode: 752\n",
      "Episode complete. Total Reward: [-308.88333333 -285.63333333 -291.3       ] jumlah step: 487 product completed:  20\n",
      "product completed:  ['B-3', 'C-2', 'C-4', 'A-2', 'B-1', 'A-1', 'B-2', 'C-7', 'B-6', 'C-6', 'A-3', 'B-4', 'C-1', 'B-7', 'C-3', 'B-5', 'C-5', 'A-5', 'A-6', 'A-4']\n",
      "\n",
      "Episode: 753\n"
     ]
    },
    {
     "name": "stderr",
     "output_type": "stream",
     "text": [
      " 76%|███████▌  | 756/1000 [00:41<00:14, 16.32it/s]"
     ]
    },
    {
     "name": "stdout",
     "output_type": "stream",
     "text": [
      "Episode complete. Total Reward: [-209.38333333 -191.8        -187.05      ] jumlah step: 410 product completed:  20\n",
      "product completed:  ['A-2', 'C-4', 'C-3', 'B-3', 'B-4', 'C-1', 'B-6', 'A-1', 'C-5', 'C-2', 'B-5', 'A-3', 'B-1', 'B-7', 'C-7', 'A-7', 'A-4', 'A-5', 'B-2', 'C-6']\n",
      "\n",
      "Episode: 754\n",
      "Episode complete. Total Reward: [-192.         -165.16666667 -177.5       ] jumlah step: 396 product completed:  20\n",
      "product completed:  ['B-1', 'C-1', 'B-3', 'B-4', 'B-2', 'B-5', 'A-4', 'C-2', 'C-5', 'B-6', 'A-5', 'A-2', 'A-1', 'C-4', 'C-6', 'B-7', 'C-7', 'C-3', 'A-7', 'A-3']\n",
      "\n",
      "Episode: 755\n",
      "Episode complete. Total Reward: [-198.88333333 -185.96666667 -178.05      ] jumlah step: 400 product completed:  20\n",
      "product completed:  ['B-2', 'C-4', 'C-3', 'C-2', 'C-1', 'A-2', 'B-1', 'B-5', 'B-4', 'A-3', 'B-3', 'C-7', 'B-7', 'B-6', 'C-5', 'A-7', 'A-1', 'A-6', 'C-6', 'A-5']\n",
      "\n",
      "Episode: 756\n",
      "Episode complete. Total Reward: [-272.         -253.16666667 -243.5       ] jumlah step: 484 product completed:  20\n",
      "product completed:  ['C-1', 'B-4', 'C-3', 'B-1', 'B-7', 'B-5', 'C-2', 'A-2', 'B-2', 'C-5', 'C-7', 'B-3', 'C-6', 'C-4', 'A-4', 'B-6', 'A-3', 'A-5', 'A-7', 'A-6']\n",
      "\n",
      "Episode: 757\n"
     ]
    },
    {
     "name": "stderr",
     "output_type": "stream",
     "text": [
      " 76%|███████▌  | 760/1000 [00:42<00:13, 17.26it/s]"
     ]
    },
    {
     "name": "stdout",
     "output_type": "stream",
     "text": [
      "Episode complete. Total Reward: [-217.06666667 -193.73333333 -199.9       ] jumlah step: 407 product completed:  20\n",
      "product completed:  ['C-1', 'C-4', 'C-2', 'B-4', 'B-5', 'B-2', 'C-3', 'B-7', 'A-3', 'C-6', 'C-7', 'C-5', 'A-2', 'B-1', 'A-4', 'A-6', 'B-3', 'A-5', 'A-1', 'B-6']\n",
      "\n",
      "Episode: 758\n",
      "Episode complete. Total Reward: [-279.41666667 -262.         -257.25      ] jumlah step: 486 product completed:  20\n",
      "product completed:  ['A-6', 'B-2', 'C-3', 'C-1', 'B-1', 'A-5', 'C-5', 'C-2', 'C-6', 'A-2', 'A-4', 'B-7', 'C-7', 'A-1', 'B-4', 'B-6', 'A-7', 'A-3', 'C-4', 'B-3']\n",
      "\n",
      "Episode: 759\n",
      "Episode complete. Total Reward: [-229.35       -211.26666667 -208.1       ] jumlah step: 401 product completed:  20\n",
      "product completed:  ['C-2', 'C-5', 'C-7', 'B-4', 'B-3', 'C-6', 'C-1', 'B-1', 'C-4', 'B-6', 'B-5', 'A-2', 'C-3', 'A-5', 'B-7', 'A-3', 'A-4', 'B-2', 'A-7', 'A-6']\n",
      "\n",
      "Episode: 760\n",
      "Episode complete. Total Reward: [-209.03333333 -190.36666667 -187.2       ] jumlah step: 393 product completed:  20\n",
      "product completed:  ['C-3', 'B-2', 'B-1', 'B-3', 'B-4', 'C-2', 'C-5', 'C-1', 'A-7', 'C-4', 'B-6', 'A-5', 'C-6', 'A-6', 'A-3', 'C-7', 'A-4', 'A-2', 'B-5', 'B-7']\n",
      "\n",
      "Episode: 761\n"
     ]
    },
    {
     "name": "stderr",
     "output_type": "stream",
     "text": [
      " 76%|███████▌  | 762/1000 [00:42<00:14, 16.64it/s]"
     ]
    },
    {
     "name": "stdout",
     "output_type": "stream",
     "text": [
      "Episode complete. Total Reward: [-197.8  -186.3  -178.05] jumlah step: 409 product completed:  20\n",
      "product completed:  ['C-1', 'B-1', 'C-4', 'C-2', 'B-4', 'B-6', 'C-6', 'B-2', 'B-7', 'A-3', 'C-3', 'A-1', 'B-5', 'C-7', 'C-5', 'A-2', 'A-6', 'A-7', 'A-5', 'B-3']\n",
      "\n",
      "Episode: 762\n",
      "Episode complete. Total Reward: [-248.96666667 -227.8        -231.05      ] jumlah step: 418 product completed:  20\n",
      "product completed:  ['C-1', 'C-3', 'C-2', 'B-1', 'C-6', 'B-4', 'C-4', 'A-2', 'A-1', 'C-5', 'B-3', 'A-5', 'C-7', 'A-3', 'B-5', 'A-7', 'A-6', 'A-4', 'B-6', 'B-2']\n",
      "\n",
      "Episode: 763\n",
      "Episode complete. Total Reward: [-222.88333333 -208.63333333 -198.05      ] jumlah step: 417 product completed:  20\n",
      "product completed:  ['C-2', 'B-2', 'B-3', 'C-3', 'A-1', 'B-7', 'B-5', 'C-1', 'A-2', 'B-1', 'C-6', 'B-4', 'C-7', 'C-4', 'A-4', 'A-3', 'A-5', 'C-5', 'A-7', 'A-6']\n",
      "\n",
      "Episode: 764\n"
     ]
    },
    {
     "name": "stderr",
     "output_type": "stream",
     "text": [
      " 77%|███████▋  | 766/1000 [00:42<00:14, 16.60it/s]"
     ]
    },
    {
     "name": "stdout",
     "output_type": "stream",
     "text": [
      "Episode complete. Total Reward: [-358.23333333 -336.4        -329.4       ] jumlah step: 539 product completed:  20\n",
      "product completed:  ['B-2', 'C-1', 'B-3', 'B-6', 'A-2', 'C-3', 'C-2', 'A-4', 'A-1', 'B-4', 'C-6', 'B-1', 'B-7', 'C-7', 'B-5', 'A-5', 'C-4', 'A-3', 'C-5', 'A-7']\n",
      "\n",
      "Episode: 765\n",
      "Episode complete. Total Reward: [-204.78333333 -190.03333333 -188.2       ] jumlah step: 413 product completed:  20\n",
      "product completed:  ['C-2', 'A-4', 'C-1', 'A-3', 'B-3', 'B-4', 'C-3', 'C-4', 'A-5', 'A-1', 'C-6', 'B-1', 'C-7', 'A-7', 'B-5', 'B-7', 'A-6', 'C-5', 'B-6', 'B-2']\n",
      "\n",
      "Episode: 766\n",
      "Episode complete. Total Reward: [-325.66666667 -310.16666667 -304.        ] jumlah step: 536 product completed:  20\n",
      "product completed:  ['B-2', 'B-3', 'B-5', 'C-3', 'A-3', 'C-2', 'C-1', 'C-5', 'B-6', 'B-4', 'C-6', 'C-4', 'C-7', 'A-1', 'B-1', 'A-4', 'A-2', 'A-5', 'A-7', 'A-6']\n",
      "\n",
      "Episode: 767\n",
      "Episode complete. Total Reward: [-170.85       -150.93333333 -159.35      ] jumlah step: 376 product completed:  20\n",
      "product completed:  ['C-1', 'A-1', 'B-3', 'C-4', 'C-2', 'C-5', 'C-6', 'B-6', 'A-2', 'B-5', 'C-3', 'B-4', 'A-4', 'A-5', 'C-7', 'A-7', 'B-1', 'B-7', 'A-6', 'A-3']\n",
      "\n",
      "Episode: 768\n"
     ]
    },
    {
     "name": "stderr",
     "output_type": "stream",
     "text": [
      " 77%|███████▋  | 770/1000 [00:42<00:13, 16.79it/s]"
     ]
    },
    {
     "name": "stdout",
     "output_type": "stream",
     "text": [
      "Episode complete. Total Reward: [-325.26666667 -308.1        -302.6       ] jumlah step: 516 product completed:  20\n",
      "product completed:  ['C-1', 'C-4', 'C-3', 'B-3', 'B-2', 'C-2', 'A-3', 'B-5', 'A-2', 'C-5', 'C-7', 'B-1', 'B-7', 'A-1', 'B-4', 'A-4', 'A-7', 'A-6', 'C-6', 'A-5']\n",
      "\n",
      "Episode: 769\n",
      "Episode complete. Total Reward: [-208.55       -187.13333333 -183.3       ] jumlah step: 398 product completed:  20\n",
      "product completed:  ['B-2', 'B-1', 'A-3', 'C-1', 'A-4', 'C-6', 'C-2', 'B-5', 'C-3', 'A-2', 'B-4', 'C-4', 'C-5', 'B-7', 'C-7', 'B-6', 'A-1', 'A-6', 'B-3', 'A-5']\n",
      "\n",
      "Episode: 770\n",
      "Episode complete. Total Reward: [-233.         -206.83333333 -213.5       ] jumlah step: 389 product completed:  20\n",
      "product completed:  ['C-1', 'B-1', 'C-4', 'A-4', 'C-2', 'A-1', 'B-5', 'C-3', 'B-3', 'C-5', 'A-6', 'B-2', 'A-7', 'B-6', 'C-6', 'A-5', 'B-4', 'A-3', 'C-7', 'A-2']\n",
      "\n",
      "Episode: 771\n",
      "Episode complete. Total Reward: [-263.86666667 -237.03333333 -239.95      ] jumlah step: 452 product completed:  20\n",
      "product completed:  ['C-4', 'B-3', 'B-2', 'C-2', 'B-5', 'C-6', 'C-1', 'B-7', 'C-5', 'B-1', 'B-4', 'A-4', 'C-3', 'C-7', 'B-6', 'A-1', 'A-7', 'A-3', 'A-6', 'A-2']\n",
      "\n",
      "Episode: 772\n"
     ]
    },
    {
     "name": "stderr",
     "output_type": "stream",
     "text": [
      " 77%|███████▋  | 774/1000 [00:42<00:12, 17.45it/s]"
     ]
    },
    {
     "name": "stdout",
     "output_type": "stream",
     "text": [
      "Episode complete. Total Reward: [-285.66666667 -271.16666667 -262.25      ] jumlah step: 462 product completed:  20\n",
      "product completed:  ['B-3', 'C-2', 'C-1', 'A-3', 'C-3', 'B-1', 'A-5', 'B-4', 'C-4', 'B-6', 'A-4', 'C-5', 'A-1', 'B-2', 'C-6', 'C-7', 'A-7', 'A-6', 'B-7', 'A-2']\n",
      "\n",
      "Episode: 773\n",
      "Episode complete. Total Reward: [-196.68333333 -178.43333333 -170.6       ] jumlah step: 372 product completed:  20\n",
      "product completed:  ['B-1', 'C-1', 'C-4', 'B-4', 'B-2', 'A-1', 'B-7', 'C-5', 'B-5', 'B-6', 'C-3', 'B-3', 'A-4', 'A-7', 'C-2', 'A-6', 'A-5', 'C-6', 'A-2', 'A-3']\n",
      "\n",
      "Episode: 774\n",
      "Episode complete. Total Reward: [-222.75 -203.   -189.75] jumlah step: 421 product completed:  20\n",
      "product completed:  ['B-2', 'C-2', 'B-4', 'A-4', 'C-4', 'C-1', 'C-3', 'A-2', 'A-3', 'B-1', 'C-5', 'B-3', 'C-6', 'B-7', 'A-7', 'C-7', 'A-1', 'A-5', 'B-5', 'A-6']\n",
      "\n",
      "Episode: 775\n",
      "Episode complete. Total Reward: [-220.68333333 -201.76666667 -201.85      ] jumlah step: 435 product completed:  20\n",
      "product completed:  ['C-1', 'C-4', 'C-2', 'C-3', 'B-4', 'C-6', 'A-1', 'B-3', 'C-7', 'B-6', 'A-2', 'B-1', 'B-7', 'C-5', 'B-5', 'B-2', 'A-3', 'A-4', 'A-6', 'A-7']\n",
      "\n",
      "Episode: 776\n",
      "Episode complete. Total Reward: [-229.38333333 -209.13333333 -208.05      ] jumlah step: 402 product completed:  20\n",
      "product completed:  ['B-3', 'B-7', 'B-4', 'B-6', 'B-5', 'C-3', 'A-1', 'A-3', 'C-5', 'B-2', 'C-7', 'B-1', 'C-6', 'A-2', 'C-1', 'C-4', 'C-2', 'A-7', 'A-4', 'A-5']\n",
      "\n",
      "Episode: 777\n"
     ]
    },
    {
     "name": "stderr",
     "output_type": "stream",
     "text": [
      " 78%|███████▊  | 779/1000 [00:43<00:12, 18.32it/s]"
     ]
    },
    {
     "name": "stdout",
     "output_type": "stream",
     "text": [
      "Episode complete. Total Reward: [-270.21666667 -249.46666667 -259.3       ] jumlah step: 509 product completed:  20\n",
      "product completed:  ['C-1', 'C-5', 'A-2', 'C-4', 'B-3', 'C-2', 'B-4', 'C-3', 'A-3', 'A-1', 'A-6', 'C-7', 'B-1', 'B-2', 'C-6', 'A-5', 'A-7', 'B-7', 'B-5', 'A-4']\n",
      "\n",
      "Episode: 778\n",
      "Episode complete. Total Reward: [-205.15 -191.9  -179.9 ] jumlah step: 401 product completed:  20\n",
      "product completed:  ['C-1', 'C-5', 'A-2', 'A-3', 'B-1', 'C-2', 'C-6', 'C-4', 'C-3', 'B-5', 'C-7', 'B-6', 'B-2', 'A-5', 'B-4', 'B-7', 'A-7', 'A-6', 'A-4', 'B-3']\n",
      "\n",
      "Episode: 779\n",
      "Episode complete. Total Reward: [-212.71666667 -195.13333333 -190.55      ] jumlah step: 385 product completed:  20\n",
      "product completed:  ['B-2', 'C-2', 'B-3', 'C-1', 'C-4', 'C-6', 'C-7', 'B-4', 'C-3', 'B-5', 'B-7', 'A-6', 'A-5', 'A-1', 'A-2', 'C-5', 'B-6', 'A-4', 'A-7', 'A-3']\n",
      "\n",
      "Episode: 780\n",
      "Episode complete. Total Reward: [-164.05 -147.3  -139.8 ] jumlah step: 364 product completed:  20\n",
      "product completed:  ['C-5', 'C-3', 'C-1', 'B-1', 'A-2', 'B-3', 'B-2', 'C-6', 'A-5', 'C-4', 'C-2', 'B-5', 'B-4', 'C-7', 'A-4', 'A-3', 'A-1', 'A-7', 'A-6', 'B-7']\n",
      "\n",
      "Episode: 781\n",
      "Episode complete. Total Reward: [-224.65 -211.4  -201.65] jumlah step: 415 product completed:  20\n",
      "product completed:  ['B-3', 'C-1', 'B-4', 'C-4', 'B-5', 'C-2', 'C-5', 'C-3', 'A-2', 'B-6', 'C-7', 'B-2', 'B-7', 'A-5', 'A-1', 'B-1', 'C-6', 'A-4', 'A-6', 'A-3']\n",
      "\n",
      "Episode: 782\n"
     ]
    },
    {
     "name": "stderr",
     "output_type": "stream",
     "text": [
      " 78%|███████▊  | 784/1000 [00:43<00:12, 17.72it/s]"
     ]
    },
    {
     "name": "stdout",
     "output_type": "stream",
     "text": [
      "Episode complete. Total Reward: [-195.73333333 -171.56666667 -176.4       ] jumlah step: 366 product completed:  20\n",
      "product completed:  ['C-3', 'C-5', 'C-1', 'C-2', 'C-7', 'C-6', 'B-3', 'A-3', 'A-6', 'A-7', 'A-4', 'B-4', 'C-4', 'B-6', 'A-2', 'B-2', 'B-7', 'A-5', 'A-1', 'B-5']\n",
      "\n",
      "Episode: 783\n",
      "Episode complete. Total Reward: [-278.56666667 -260.56666667 -251.65      ] jumlah step: 469 product completed:  20\n",
      "product completed:  ['B-4', 'C-3', 'B-2', 'A-1', 'C-1', 'B-5', 'B-3', 'B-1', 'C-2', 'B-6', 'A-5', 'C-6', 'C-7', 'A-3', 'A-6', 'B-7', 'A-7', 'A-4', 'C-4', 'C-5']\n",
      "\n",
      "Episode: 784\n",
      "Episode complete. Total Reward: [-258.71666667 -240.3        -234.8       ] jumlah step: 464 product completed:  20\n",
      "product completed:  ['B-5', 'B-4', 'B-2', 'B-7', 'B-3', 'C-3', 'A-1', 'C-2', 'C-1', 'B-6', 'A-3', 'A-4', 'B-1', 'C-4', 'C-7', 'A-2', 'A-6', 'C-6', 'A-7', 'A-5']\n",
      "\n",
      "Episode: 785\n"
     ]
    },
    {
     "name": "stderr",
     "output_type": "stream",
     "text": [
      " 79%|███████▉  | 788/1000 [00:43<00:13, 16.05it/s]"
     ]
    },
    {
     "name": "stdout",
     "output_type": "stream",
     "text": [
      "Episode complete. Total Reward: [-276.11666667 -258.03333333 -252.95      ] jumlah step: 471 product completed:  20\n",
      "product completed:  ['C-5', 'C-3', 'C-1', 'C-2', 'B-4', 'A-2', 'C-4', 'A-4', 'B-2', 'A-7', 'B-1', 'C-6', 'A-3', 'B-5', 'B-7', 'B-6', 'A-1', 'A-5', 'B-3', 'A-6']\n",
      "\n",
      "Episode: 786\n",
      "Episode complete. Total Reward: [-309.06666667 -291.06666667 -290.4       ] jumlah step: 496 product completed:  20\n",
      "product completed:  ['C-3', 'C-1', 'B-6', 'B-1', 'C-4', 'B-2', 'B-7', 'C-5', 'C-6', 'B-4', 'C-2', 'C-7', 'A-1', 'A-6', 'A-2', 'B-3', 'A-5', 'A-3', 'B-5', 'A-4']\n",
      "\n",
      "Episode: 787\n",
      "Episode complete. Total Reward: [-230.21666667 -218.46666667 -213.8       ] jumlah step: 447 product completed:  20\n",
      "product completed:  ['C-3', 'C-4', 'B-1', 'C-1', 'A-2', 'C-6', 'C-2', 'C-5', 'C-7', 'A-5', 'B-5', 'A-4', 'A-1', 'B-6', 'B-7', 'B-3', 'A-7', 'A-3', 'B-2', 'B-4']\n",
      "\n",
      "Episode: 788\n",
      "Episode complete. Total Reward: [-341.93333333 -323.76666667 -326.85      ] jumlah step: 557 product completed:  20\n",
      "product completed:  ['C-1', 'B-2', 'C-3', 'A-1', 'A-2', 'C-2', 'C-5', 'B-4', 'B-1', 'C-4', 'B-5', 'A-6', 'B-6', 'B-3', 'C-6', 'C-7', 'A-4', 'B-7', 'A-3', 'A-5']\n"
     ]
    },
    {
     "name": "stderr",
     "output_type": "stream",
     "text": [
      " 79%|███████▉  | 790/1000 [00:43<00:13, 15.72it/s]"
     ]
    },
    {
     "name": "stdout",
     "output_type": "stream",
     "text": [
      "\n",
      "Episode: 789\n",
      "Episode complete. Total Reward: [-312.9  -291.4  -295.65] jumlah step: 515 product completed:  20\n",
      "product completed:  ['C-2', 'B-1', 'C-4', 'C-5', 'C-3', 'C-7', 'B-5', 'B-6', 'B-2', 'C-6', 'B-7', 'C-1', 'B-4', 'A-1', 'A-5', 'A-7', 'A-2', 'A-3', 'A-6', 'B-3']\n",
      "\n",
      "Episode: 790\n",
      "Episode complete. Total Reward: [-269.51666667 -249.26666667 -241.6       ] jumlah step: 460 product completed:  20\n",
      "product completed:  ['B-1', 'B-2', 'C-3', 'C-1', 'C-5', 'A-3', 'C-4', 'B-3', 'A-1', 'C-2', 'C-6', 'A-6', 'B-6', 'A-5', 'A-4', 'B-5', 'B-4', 'A-7', 'A-2', 'C-7']\n",
      "\n",
      "Episode: 791\n"
     ]
    },
    {
     "name": "stderr",
     "output_type": "stream",
     "text": [
      " 79%|███████▉  | 794/1000 [00:44<00:13, 15.31it/s]"
     ]
    },
    {
     "name": "stdout",
     "output_type": "stream",
     "text": [
      "Episode complete. Total Reward: [-163.16666667 -145.         -143.25      ] jumlah step: 374 product completed:  20\n",
      "product completed:  ['B-1', 'C-3', 'A-1', 'C-4', 'B-3', 'C-6', 'C-5', 'C-2', 'C-7', 'A-3', 'B-5', 'B-2', 'B-4', 'A-6', 'A-2', 'A-4', 'C-1', 'B-7', 'B-6', 'A-5']\n",
      "\n",
      "Episode: 792\n",
      "Episode complete. Total Reward: [-260.25       -240.16666667 -238.75      ] jumlah step: 472 product completed:  20\n",
      "product completed:  ['C-1', 'B-2', 'C-3', 'C-4', 'B-5', 'A-1', 'B-6', 'C-5', 'C-2', 'B-7', 'C-7', 'C-6', 'A-4', 'B-3', 'A-3', 'B-1', 'A-5', 'B-4', 'A-6', 'A-7']\n",
      "\n",
      "Episode: 793\n",
      "Episode complete. Total Reward: [-256.16666667 -231.5        -238.5       ] jumlah step: 454 product completed:  20\n",
      "product completed:  ['B-2', 'A-2', 'C-1', 'C-4', 'C-2', 'C-3', 'C-5', 'B-5', 'B-6', 'A-4', 'B-1', 'B-3', 'C-6', 'B-4', 'A-3', 'A-1', 'B-7', 'A-7', 'A-5', 'C-7']\n",
      "\n",
      "Episode: 794\n",
      "Episode complete. Total Reward: [-290.76666667 -268.1        -272.85      ] jumlah step: 492 product completed:  20\n",
      "product completed:  ['C-3', 'C-1', 'C-5', 'C-4', 'C-7', 'B-1', 'A-2', 'B-6', 'C-6', 'A-1', 'B-5', 'C-2', 'A-4', 'B-4', 'A-3', 'B-2', 'B-3', 'A-7', 'A-5', 'A-6']\n"
     ]
    },
    {
     "name": "stderr",
     "output_type": "stream",
     "text": [
      " 80%|███████▉  | 798/1000 [00:44<00:12, 15.85it/s]"
     ]
    },
    {
     "name": "stdout",
     "output_type": "stream",
     "text": [
      "\n",
      "Episode: 795\n",
      "Episode complete. Total Reward: [-271.91666667 -256.33333333 -243.        ] jumlah step: 475 product completed:  20\n",
      "product completed:  ['C-1', 'B-2', 'B-1', 'B-4', 'C-3', 'B-3', 'B-5', 'C-4', 'A-4', 'C-2', 'C-5', 'A-5', 'A-3', 'A-1', 'B-7', 'B-6', 'A-7', 'A-6', 'C-6', 'A-2']\n",
      "\n",
      "Episode: 796\n",
      "Episode complete. Total Reward: [-193.75       -176.83333333 -176.25      ] jumlah step: 386 product completed:  20\n",
      "product completed:  ['C-1', 'A-3', 'B-3', 'B-1', 'B-4', 'A-7', 'C-3', 'A-4', 'C-4', 'B-6', 'C-2', 'B-5', 'A-5', 'C-5', 'C-6', 'A-2', 'A-6', 'A-1', 'B-2', 'C-7']\n",
      "\n",
      "Episode: 797\n",
      "Episode complete. Total Reward: [-323.03333333 -300.53333333 -304.95      ] jumlah step: 533 product completed:  20\n",
      "product completed:  ['C-1', 'C-2', 'C-6', 'B-3', 'B-1', 'C-4', 'A-2', 'B-2', 'A-3', 'A-4', 'C-5', 'C-7', 'A-1', 'B-7', 'C-3', 'B-4', 'B-5', 'A-6', 'A-5', 'B-6']\n",
      "\n",
      "Episode: 798\n",
      "Episode complete. Total Reward: [-211.5        -193.16666667 -187.        ] jumlah step: 390 product completed:  20\n",
      "product completed:  ['B-1', 'C-5', 'C-4', 'A-3', 'B-2', 'C-2', 'C-3', 'C-6', 'A-4', 'A-5', 'A-2', 'B-3', 'A-6', 'A-1', 'B-5', 'B-7', 'C-1', 'C-7', 'B-6', 'A-7']\n"
     ]
    },
    {
     "name": "stderr",
     "output_type": "stream",
     "text": [
      " 80%|████████  | 800/1000 [00:44<00:12, 16.45it/s]"
     ]
    },
    {
     "name": "stdout",
     "output_type": "stream",
     "text": [
      "\n",
      "Episode: 799\n",
      "Episode complete. Total Reward: [-177.9  -152.4  -158.65] jumlah step: 342 product completed:  20\n",
      "product completed:  ['C-1', 'B-1', 'C-5', 'C-3', 'A-2', 'C-6', 'A-5', 'C-4', 'B-5', 'B-6', 'B-2', 'B-4', 'B-3', 'A-6', 'C-7', 'B-7', 'C-2', 'A-4', 'A-7', 'A-1']\n",
      "\n",
      "Episode: 800\n",
      "Episode complete. Total Reward: [-302.28333333 -286.2        -288.7       ] jumlah step: 503 product completed:  20\n",
      "product completed:  ['C-1', 'B-1', 'C-4', 'C-2', 'B-2', 'A-1', 'C-5', 'A-4', 'C-3', 'C-6', 'B-5', 'A-3', 'C-7', 'A-5', 'B-4', 'B-7', 'B-3', 'A-2', 'A-6', 'B-6']\n",
      "\n",
      "Episode: 801\n",
      "Episode complete. Total Reward: [-148.43333333 -123.26666667 -126.1       ] jumlah step: 327 product completed:  20\n",
      "product completed:  ['B-1', 'B-3', 'B-5', 'B-4', 'A-4', 'A-1', 'A-3', 'A-5', 'A-2', 'C-4', 'C-6', 'C-5', 'A-6', 'C-7', 'B-2', 'B-6', 'B-7', 'C-3', 'A-7', 'C-1']\n",
      "\n",
      "Episode: 802\n"
     ]
    },
    {
     "name": "stderr",
     "output_type": "stream",
     "text": [
      " 80%|████████  | 805/1000 [00:44<00:11, 17.10it/s]"
     ]
    },
    {
     "name": "stdout",
     "output_type": "stream",
     "text": [
      "Episode complete. Total Reward: [-327.18333333 -305.1        -296.1       ] jumlah step: 499 product completed:  20\n",
      "product completed:  ['B-2', 'C-1', 'B-1', 'C-5', 'A-4', 'A-3', 'B-3', 'C-4', 'A-5', 'C-2', 'A-6', 'A-2', 'B-6', 'B-5', 'C-7', 'C-6', 'B-7', 'B-4', 'C-3', 'A-1']\n",
      "\n",
      "Episode: 803\n",
      "Episode complete. Total Reward: [-169.6  -148.6  -149.85] jumlah step: 346 product completed:  20\n",
      "product completed:  ['B-1', 'B-2', 'C-6', 'C-5', 'C-3', 'C-1', 'A-3', 'B-6', 'B-5', 'B-4', 'A-2', 'A-1', 'A-5', 'B-3', 'C-4', 'A-7', 'A-6', 'C-7', 'B-7', 'C-2']\n",
      "\n",
      "Episode: 804\n",
      "Episode complete. Total Reward: [-266.95       -249.53333333 -247.45      ] jumlah step: 458 product completed:  20\n",
      "product completed:  ['C-4', 'C-1', 'C-5', 'B-5', 'C-7', 'B-1', 'B-3', 'C-6', 'C-2', 'B-4', 'B-2', 'A-3', 'B-7', 'C-3', 'B-6', 'A-5', 'A-1', 'A-2', 'A-6', 'A-4']\n",
      "\n",
      "Episode: 805\n",
      "Episode complete. Total Reward: [-379.3        -364.13333333 -359.05      ] jumlah step: 569 product completed:  20\n",
      "product completed:  ['C-2', 'B-1', 'B-4', 'C-1', 'B-5', 'A-1', 'C-4', 'B-6', 'A-2', 'C-5', 'C-7', 'B-2', 'C-3', 'C-6', 'B-7', 'B-3', 'A-4', 'A-5', 'A-3', 'A-7']\n",
      "\n",
      "Episode: 806\n"
     ]
    },
    {
     "name": "stderr",
     "output_type": "stream",
     "text": [
      " 81%|████████  | 809/1000 [00:45<00:11, 16.02it/s]"
     ]
    },
    {
     "name": "stdout",
     "output_type": "stream",
     "text": [
      "Episode complete. Total Reward: [-282.06666667 -255.9        -263.65      ] jumlah step: 486 product completed:  20\n",
      "product completed:  ['B-1', 'B-3', 'B-2', 'C-4', 'C-1', 'B-4', 'C-2', 'A-4', 'A-1', 'C-3', 'B-7', 'C-5', 'A-7', 'B-6', 'C-7', 'C-6', 'B-5', 'A-2', 'A-3', 'A-6']\n",
      "\n",
      "Episode: 807\n",
      "Episode complete. Total Reward: [-262.76666667 -239.26666667 -245.6       ] jumlah step: 441 product completed:  20\n",
      "product completed:  ['B-1', 'B-2', 'C-3', 'A-2', 'B-3', 'C-5', 'C-2', 'A-5', 'C-4', 'C-6', 'C-1', 'A-7', 'B-4', 'B-7', 'A-6', 'C-7', 'A-4', 'B-6', 'A-1', 'A-3']\n",
      "\n",
      "Episode: 808\n",
      "Episode complete. Total Reward: [-224.23333333 -200.23333333 -202.65      ] jumlah step: 422 product completed:  20\n",
      "product completed:  ['C-1', 'A-1', 'B-4', 'A-3', 'B-3', 'C-2', 'A-4', 'C-3', 'B-6', 'C-5', 'B-1', 'B-5', 'C-6', 'B-2', 'A-5', 'A-6', 'B-7', 'C-7', 'A-7', 'A-2']\n",
      "\n",
      "Episode: 809\n",
      "Episode complete. Total Reward: [-233.9 -214.4 -214.9] jumlah step: 420 product completed:  20\n",
      "product completed:  ['C-1', 'C-2', 'B-1', 'A-4', 'C-4', 'C-3', 'C-5', 'A-1', 'B-2', 'B-4', 'C-7', 'B-6', 'C-6', 'B-3', 'B-7', 'A-6', 'A-7', 'A-5', 'A-2', 'B-5']\n"
     ]
    },
    {
     "name": "stderr",
     "output_type": "stream",
     "text": [
      " 81%|████████  | 811/1000 [00:45<00:12, 15.28it/s]"
     ]
    },
    {
     "name": "stdout",
     "output_type": "stream",
     "text": [
      "\n",
      "Episode: 810\n",
      "Episode complete. Total Reward: [-175.66666667 -154.5        -158.5       ] jumlah step: 390 product completed:  20\n",
      "product completed:  ['B-1', 'C-4', 'B-2', 'C-5', 'C-1', 'A-5', 'B-3', 'A-3', 'C-6', 'B-4', 'A-2', 'A-1', 'C-7', 'C-3', 'B-6', 'C-2', 'B-5', 'A-6', 'A-7', 'B-7']\n",
      "\n",
      "Episode: 811\n",
      "Episode complete. Total Reward: [-343.95       -325.03333333 -312.45      ] jumlah step: 534 product completed:  20\n",
      "product completed:  ['C-2', 'A-3', 'C-4', 'C-5', 'B-1', 'A-6', 'B-4', 'C-1', 'C-6', 'B-6', 'C-7', 'A-4', 'B-3', 'B-2', 'B-5', 'A-7', 'A-2', 'C-3', 'B-7', 'A-1']\n",
      "\n",
      "Episode: 812\n"
     ]
    },
    {
     "name": "stderr",
     "output_type": "stream",
     "text": [
      " 82%|████████▏ | 815/1000 [00:45<00:11, 15.46it/s]"
     ]
    },
    {
     "name": "stdout",
     "output_type": "stream",
     "text": [
      "Episode complete. Total Reward: [-360.48333333 -338.4        -329.15      ] jumlah step: 563 product completed:  20\n",
      "product completed:  ['C-2', 'A-3', 'B-3', 'C-3', 'B-1', 'C-4', 'B-4', 'C-7', 'C-6', 'B-2', 'B-6', 'A-2', 'A-4', 'A-5', 'B-5', 'C-5', 'A-1', 'B-7', 'C-1', 'A-6']\n",
      "\n",
      "Episode: 813\n",
      "Episode complete. Total Reward: [-238.81666667 -216.23333333 -221.9       ] jumlah step: 442 product completed:  20\n",
      "product completed:  ['B-1', 'C-1', 'C-2', 'B-3', 'C-3', 'A-2', 'B-4', 'A-4', 'A-1', 'C-5', 'C-4', 'B-6', 'C-7', 'B-5', 'A-3', 'B-2', 'C-6', 'A-5', 'A-6', 'B-7']\n",
      "\n",
      "Episode: 814\n",
      "Episode complete. Total Reward: [-161.15       -141.23333333 -146.65      ] jumlah step: 336 product completed:  20\n",
      "product completed:  ['B-5', 'C-1', 'B-2', 'B-7', 'B-1', 'B-3', 'A-3', 'C-2', 'B-4', 'C-5', 'C-6', 'C-7', 'A-4', 'C-4', 'A-1', 'A-6', 'A-5', 'B-6', 'C-3', 'A-2']\n",
      "\n",
      "Episode: 815\n",
      "Episode complete. Total Reward: [-186.45       -169.03333333 -172.95      ] jumlah step: 413 product completed:  20\n",
      "product completed:  ['B-3', 'C-4', 'C-3', 'C-6', 'C-1', 'C-2', 'B-6', 'C-5', 'C-7', 'B-5', 'A-1', 'A-4', 'A-2', 'A-5', 'B-7', 'A-3', 'B-4', 'B-2', 'A-7', 'A-6']\n",
      "\n",
      "Episode: 816\n"
     ]
    },
    {
     "name": "stderr",
     "output_type": "stream",
     "text": [
      " 82%|████████▏ | 819/1000 [00:45<00:11, 15.35it/s]"
     ]
    },
    {
     "name": "stdout",
     "output_type": "stream",
     "text": [
      "Episode complete. Total Reward: [-293. -278. -269.] jumlah step: 520 product completed:  20\n",
      "product completed:  ['C-1', 'C-3', 'A-1', 'C-5', 'B-2', 'C-2', 'C-6', 'B-4', 'B-3', 'A-2', 'C-4', 'C-7', 'A-4', 'B-5', 'B-1', 'B-7', 'A-6', 'A-5', 'B-6', 'A-7']\n",
      "\n",
      "Episode: 817\n",
      "Episode complete. Total Reward: [-217.81666667 -203.06666667 -196.65      ] jumlah step: 413 product completed:  20\n",
      "product completed:  ['C-1', 'A-4', 'C-3', 'C-2', 'A-1', 'A-3', 'A-6', 'B-2', 'C-5', 'B-5', 'C-4', 'C-7', 'B-6', 'C-6', 'B-4', 'B-3', 'B-7', 'A-5', 'B-1', 'A-7']\n",
      "\n",
      "Episode: 818\n",
      "Episode complete. Total Reward: [-311.25       -284.16666667 -294.5       ] jumlah step: 514 product completed:  20\n",
      "product completed:  ['B-2', 'A-2', 'A-5', 'C-2', 'C-1', 'C-4', 'B-1', 'C-5', 'A-4', 'C-3', 'C-6', 'A-1', 'A-6', 'B-7', 'A-3', 'A-7', 'C-7', 'B-5', 'B-6', 'B-4']\n",
      "\n",
      "Episode: 819\n",
      "Episode complete. Total Reward: [-227.73333333 -212.9        -211.15      ] jumlah step: 447 product completed:  20\n",
      "product completed:  ['A-2', 'C-3', 'C-1', 'C-4', 'C-5', 'A-4', 'C-7', 'A-5', 'A-7', 'A-1', 'B-4', 'B-2', 'B-6', 'C-6', 'C-2', 'B-5', 'B-7', 'B-1', 'B-3', 'A-6']\n"
     ]
    },
    {
     "name": "stderr",
     "output_type": "stream",
     "text": [
      " 82%|████████▏ | 821/1000 [00:45<00:11, 15.00it/s]"
     ]
    },
    {
     "name": "stdout",
     "output_type": "stream",
     "text": [
      "\n",
      "Episode: 820\n",
      "Episode complete. Total Reward: [-200.51666667 -180.76666667 -186.35      ] jumlah step: 405 product completed:  20\n",
      "product completed:  ['B-1', 'C-2', 'A-3', 'C-4', 'C-3', 'A-1', 'B-5', 'B-4', 'C-5', 'C-6', 'B-2', 'C-7', 'A-4', 'C-1', 'B-7', 'B-3', 'B-6', 'A-7', 'A-5', 'A-6']\n",
      "\n",
      "Episode: 821\n",
      "Episode complete. Total Reward: [-327.26666667 -301.76666667 -309.6       ] jumlah step: 510 product completed:  20\n",
      "product completed:  ['C-1', 'B-3', 'A-2', 'C-2', 'B-1', 'A-3', 'A-6', 'A-5', 'C-4', 'B-2', 'B-4', 'C-3', 'C-7', 'B-6', 'B-7', 'B-5', 'A-7', 'C-6', 'A-4', 'A-1']\n",
      "\n",
      "Episode: 822\n",
      "Episode complete. Total Reward: [-269.73333333 -254.73333333 -248.15      ] jumlah step: 456 product completed:  20\n",
      "product completed:  ['C-2', 'C-4', 'C-1', 'B-2', 'B-1', 'B-4', 'C-5', 'B-6', 'B-3', 'A-2', 'A-4', 'A-1', 'A-5', 'C-3', 'C-6', 'C-7', 'A-3', 'B-7', 'A-6', 'B-5']\n",
      "\n",
      "Episode: 823\n"
     ]
    },
    {
     "name": "stderr",
     "output_type": "stream",
     "text": [
      " 82%|████████▎ | 825/1000 [00:46<00:11, 15.15it/s]"
     ]
    },
    {
     "name": "stdout",
     "output_type": "stream",
     "text": [
      "Episode complete. Total Reward: [-230.   -206.   -216.75] jumlah step: 438 product completed:  20\n",
      "product completed:  ['C-4', 'C-1', 'C-5', 'B-2', 'A-1', 'C-2', 'A-2', 'C-3', 'C-6', 'B-6', 'A-4', 'C-7', 'B-5', 'B-3', 'A-7', 'B-7', 'B-4', 'A-5', 'A-3', 'A-6']\n",
      "\n",
      "Episode: 824\n",
      "Episode complete. Total Reward: [-194.61666667 -177.2        -169.45      ] jumlah step: 364 product completed:  20\n",
      "product completed:  ['C-2', 'B-1', 'A-1', 'B-3', 'A-2', 'A-4', 'C-7', 'B-4', 'B-2', 'A-5', 'A-6', 'A-3', 'C-1', 'B-5', 'B-7', 'C-3', 'B-6', 'C-6', 'C-5', 'A-7']\n",
      "\n",
      "Episode: 825\n",
      "Episode complete. Total Reward: [-236.78333333 -216.86666667 -213.7       ] jumlah step: 431 product completed:  20\n",
      "product completed:  ['C-2', 'B-2', 'B-1', 'B-4', 'B-7', 'C-4', 'A-2', 'C-5', 'B-6', 'C-6', 'C-1', 'A-3', 'C-3', 'C-7', 'A-5', 'A-1', 'B-5', 'A-6', 'A-4', 'A-7']\n",
      "\n",
      "Episode: 826\n",
      "Episode complete. Total Reward: [-136.25 -118.5  -121.  ] jumlah step: 332 product completed:  20\n",
      "product completed:  ['C-3', 'A-4', 'C-5', 'C-4', 'C-2', 'C-6', 'A-2', 'C-1', 'B-4', 'A-6', 'A-5', 'C-7', 'B-1', 'A-3', 'B-3', 'B-5', 'B-2', 'B-6', 'A-7', 'B-7']\n",
      "\n",
      "Episode: 827\n"
     ]
    },
    {
     "name": "stderr",
     "output_type": "stream",
     "text": [
      " 83%|████████▎ | 831/1000 [00:46<00:09, 17.51it/s]"
     ]
    },
    {
     "name": "stdout",
     "output_type": "stream",
     "text": [
      "Episode complete. Total Reward: [-279.96666667 -260.46666667 -255.3       ] jumlah step: 485 product completed:  20\n",
      "product completed:  ['B-2', 'C-1', 'C-2', 'B-6', 'B-3', 'B-5', 'A-2', 'A-1', 'B-7', 'A-4', 'C-4', 'B-4', 'A-3', 'C-3', 'C-7', 'B-1', 'C-5', 'A-6', 'A-7', 'C-6']\n",
      "\n",
      "Episode: 828\n",
      "Episode complete. Total Reward: [-163.21666667 -145.8        -141.3       ] jumlah step: 340 product completed:  20\n",
      "product completed:  ['B-1', 'C-2', 'C-1', 'C-3', 'A-5', 'A-1', 'B-2', 'A-6', 'B-4', 'A-4', 'C-6', 'B-7', 'A-2', 'C-5', 'C-4', 'B-6', 'C-7', 'B-5', 'A-7', 'B-3']\n",
      "\n",
      "Episode: 829\n",
      "Episode complete. Total Reward: [-201.36666667 -181.36666667 -188.45      ] jumlah step: 409 product completed:  20\n",
      "product completed:  ['C-1', 'C-3', 'B-1', 'A-4', 'A-1', 'A-5', 'C-4', 'C-6', 'B-3', 'C-7', 'A-2', 'C-2', 'B-2', 'B-5', 'A-3', 'B-6', 'C-5', 'A-6', 'B-7', 'A-7']\n",
      "\n",
      "Episode: 830\n",
      "Episode complete. Total Reward: [-211.65       -189.56666667 -188.65      ] jumlah step: 394 product completed:  20\n",
      "product completed:  ['C-2', 'B-1', 'B-5', 'B-2', 'A-1', 'C-5', 'B-7', 'C-1', 'B-4', 'B-3', 'B-6', 'C-7', 'A-5', 'A-7', 'C-6', 'A-2', 'A-4', 'A-3', 'C-4', 'C-3']\n",
      "\n",
      "Episode: 831\n",
      "Episode complete. Total Reward: [-214.58333333 -196.66666667 -198.        ] jumlah step: 431 product completed:  20\n",
      "product completed:  ['C-5', 'C-2', 'A-1', 'C-1', 'C-3', 'C-7', 'B-4', 'A-4', 'C-4', 'B-6', 'B-3', 'A-3', 'B-7', 'C-6', 'A-6', 'B-1', 'A-7', 'B-5', 'A-5', 'B-2']\n"
     ]
    },
    {
     "name": "stderr",
     "output_type": "stream",
     "text": [
      " 83%|████████▎ | 833/1000 [00:46<00:09, 17.13it/s]"
     ]
    },
    {
     "name": "stdout",
     "output_type": "stream",
     "text": [
      "\n",
      "Episode: 832\n",
      "Episode complete. Total Reward: [-194.         -168.16666667 -175.        ] jumlah step: 353 product completed:  20\n",
      "product completed:  ['B-5', 'C-1', 'C-3', 'B-2', 'A-1', 'C-2', 'A-2', 'B-6', 'B-3', 'A-4', 'B-7', 'C-6', 'B-4', 'C-5', 'A-3', 'C-7', 'A-5', 'B-1', 'A-6', 'C-4']\n",
      "\n",
      "Episode: 833\n",
      "Episode complete. Total Reward: [-320.71666667 -297.13333333 -299.3       ] jumlah step: 531 product completed:  20\n",
      "product completed:  ['C-3', 'C-5', 'C-1', 'A-1', 'A-3', 'C-6', 'C-7', 'C-2', 'B-2', 'A-2', 'A-4', 'C-4', 'B-3', 'B-1', 'B-6', 'A-7', 'B-7', 'B-5', 'B-4', 'A-6']\n",
      "\n",
      "Episode: 834\n",
      "Episode complete. Total Reward: [-320.4        -306.06666667 -295.65      ] jumlah step: 535 product completed:  21\n",
      "product completed:  ['B-2', 'B-1', 'B-3', 'B-6', 'B-4', 'C-2', 'B-5', 'C-1', 'A-6', 'C-3', 'C-4', 'C-5', 'C-7', 'A-5', 'C-6', 'A-4', 'A-2', 'A-3', 'A-1', 'A-7', 'B-7']\n",
      "\n",
      "Episode: 835\n"
     ]
    },
    {
     "name": "stderr",
     "output_type": "stream",
     "text": [
      " 84%|████████▎ | 837/1000 [00:46<00:09, 16.71it/s]"
     ]
    },
    {
     "name": "stdout",
     "output_type": "stream",
     "text": [
      "Episode complete. Total Reward: [-305.8        -284.63333333 -285.3       ] jumlah step: 509 product completed:  20\n",
      "product completed:  ['C-1', 'C-2', 'B-5', 'C-3', 'B-6', 'A-4', 'C-4', 'A-3', 'B-7', 'C-6', 'C-5', 'C-7', 'B-2', 'A-5', 'A-1', 'B-1', 'B-3', 'B-4', 'A-2', 'A-6']\n",
      "\n",
      "Episode: 836\n",
      "Episode complete. Total Reward: [-298.7        -279.86666667 -282.7       ] jumlah step: 508 product completed:  20\n",
      "product completed:  ['B-2', 'C-1', 'C-3', 'A-1', 'B-1', 'C-4', 'C-5', 'C-6', 'B-3', 'B-4', 'C-2', 'A-2', 'C-7', 'A-4', 'B-5', 'B-7', 'A-3', 'A-6', 'B-6', 'A-5']\n",
      "\n",
      "Episode: 837\n",
      "Episode complete. Total Reward: [-210.2  -189.7  -191.45] jumlah step: 422 product completed:  20\n",
      "product completed:  ['C-2', 'A-2', 'B-1', 'C-1', 'B-5', 'B-3', 'B-4', 'C-3', 'C-4', 'B-6', 'A-1', 'C-7', 'A-7', 'B-7', 'A-3', 'C-6', 'A-5', 'A-4', 'B-2', 'C-5']\n",
      "\n",
      "Episode: 838\n",
      "Episode complete. Total Reward: [-155.31666667 -132.23333333 -145.15      ] jumlah step: 358 product completed:  20\n",
      "product completed:  ['B-1', 'C-1', 'C-5', 'A-1', 'C-2', 'B-3', 'C-7', 'A-2', 'C-3', 'C-4', 'A-7', 'A-4', 'C-6', 'B-2', 'A-6', 'A-5', 'B-4', 'B-5', 'B-6', 'B-7']\n",
      "\n",
      "Episode: 839\n"
     ]
    },
    {
     "name": "stderr",
     "output_type": "stream",
     "text": [
      " 84%|████████▍ | 841/1000 [00:47<00:09, 16.32it/s]"
     ]
    },
    {
     "name": "stdout",
     "output_type": "stream",
     "text": [
      "Episode complete. Total Reward: [-203.61666667 -195.86666667 -180.45      ] jumlah step: 422 product completed:  20\n",
      "product completed:  ['B-1', 'C-3', 'C-1', 'C-2', 'C-4', 'A-5', 'C-6', 'B-3', 'B-4', 'A-3', 'B-5', 'A-4', 'C-7', 'B-2', 'B-6', 'A-2', 'C-5', 'A-6', 'A-1', 'A-7']\n",
      "\n",
      "Episode: 840\n",
      "Episode complete. Total Reward: [-197.8        -179.63333333 -180.3       ] jumlah step: 386 product completed:  20\n",
      "product completed:  ['C-4', 'B-1', 'C-5', 'B-2', 'C-6', 'C-7', 'B-3', 'A-1', 'C-1', 'A-3', 'C-3', 'B-5', 'A-4', 'B-7', 'C-2', 'B-6', 'A-2', 'B-4', 'A-5', 'A-7']\n",
      "\n",
      "Episode: 841\n",
      "Episode complete. Total Reward: [-336.2        -317.36666667 -310.95      ] jumlah step: 545 product completed:  20\n",
      "product completed:  ['C-1', 'B-2', 'A-5', 'C-2', 'B-1', 'C-3', 'A-3', 'A-2', 'C-7', 'C-4', 'B-3', 'A-7', 'C-6', 'C-5', 'B-5', 'A-1', 'B-7', 'A-6', 'A-4', 'B-6']\n",
      "\n",
      "Episode: 842\n",
      "Episode complete. Total Reward: [-208.28333333 -190.53333333 -184.45      ] jumlah step: 387 product completed:  20\n",
      "product completed:  ['B-2', 'C-4', 'B-4', 'C-1', 'A-1', 'C-6', 'C-3', 'B-1', 'B-3', 'A-4', 'A-2', 'B-6', 'A-3', 'A-5', 'B-7', 'B-5', 'C-7', 'C-5', 'A-6', 'C-2']\n",
      "\n",
      "Episode: 843\n"
     ]
    },
    {
     "name": "stderr",
     "output_type": "stream",
     "text": [
      " 84%|████████▍ | 845/1000 [00:47<00:09, 15.95it/s]"
     ]
    },
    {
     "name": "stdout",
     "output_type": "stream",
     "text": [
      "Episode complete. Total Reward: [-304.05 -285.8  -280.55] jumlah step: 517 product completed:  20\n",
      "product completed:  ['C-1', 'B-2', 'C-2', 'B-6', 'B-3', 'B-1', 'A-2', 'B-4', 'C-3', 'A-3', 'C-5', 'A-5', 'B-5', 'C-6', 'C-7', 'A-7', 'C-4', 'A-1', 'A-6', 'B-7']\n",
      "\n",
      "Episode: 844\n",
      "Episode complete. Total Reward: [-307.2        -285.53333333 -276.95      ] jumlah step: 501 product completed:  20\n",
      "product completed:  ['C-1', 'C-5', 'B-1', 'C-4', 'B-4', 'C-7', 'B-3', 'B-5', 'C-2', 'B-6', 'A-3', 'C-6', 'A-6', 'A-4', 'B-7', 'A-1', 'C-3', 'A-2', 'B-2', 'A-5']\n",
      "\n",
      "Episode: 845\n",
      "Episode complete. Total Reward: [-279.85       -256.93333333 -260.6       ] jumlah step: 489 product completed:  20\n",
      "product completed:  ['C-1', 'C-3', 'C-4', 'C-2', 'B-3', 'B-1', 'B-4', 'A-5', 'C-6', 'A-3', 'C-5', 'C-7', 'A-7', 'B-2', 'A-2', 'B-5', 'A-1', 'A-4', 'B-6', 'B-7']\n",
      "\n",
      "Episode: 846\n",
      "Episode complete. Total Reward: [-311.1        -287.43333333 -281.35      ] jumlah step: 492 product completed:  20\n",
      "product completed:  ['B-4', 'C-2', 'A-2', 'B-1', 'A-1', 'C-4', 'B-3', 'B-2', 'B-6', 'C-5', 'A-4', 'C-1', 'A-7', 'C-7', 'C-6', 'A-5', 'A-6', 'A-3', 'B-7', 'C-3']\n",
      "\n",
      "Episode: 847\n"
     ]
    },
    {
     "name": "stderr",
     "output_type": "stream",
     "text": [
      " 85%|████████▍ | 849/1000 [00:47<00:08, 16.88it/s]"
     ]
    },
    {
     "name": "stdout",
     "output_type": "stream",
     "text": [
      "Episode complete. Total Reward: [-250.28333333 -231.7        -225.95      ] jumlah step: 453 product completed:  20\n",
      "product completed:  ['C-2', 'B-2', 'C-1', 'B-4', 'A-5', 'B-3', 'A-2', 'C-3', 'C-6', 'B-1', 'C-5', 'A-7', 'C-4', 'B-6', 'B-5', 'A-1', 'A-4', 'C-7', 'A-6', 'A-3']\n",
      "\n",
      "Episode: 848\n",
      "Episode complete. Total Reward: [-185.36666667 -170.2        -159.2       ] jumlah step: 378 product completed:  20\n",
      "product completed:  ['C-2', 'B-1', 'C-4', 'B-2', 'C-1', 'C-5', 'B-3', 'A-4', 'A-1', 'C-6', 'C-3', 'C-7', 'B-4', 'A-7', 'B-6', 'B-7', 'A-2', 'A-3', 'A-5', 'B-5']\n",
      "\n",
      "Episode: 849\n",
      "Episode complete. Total Reward: [-262.28333333 -243.2        -242.45      ] jumlah step: 485 product completed:  20\n",
      "product completed:  ['C-3', 'B-1', 'C-2', 'C-5', 'A-2', 'A-4', 'B-3', 'C-4', 'B-2', 'C-6', 'C-1', 'B-6', 'C-7', 'B-5', 'A-7', 'A-5', 'A-6', 'A-1', 'A-3', 'B-4']\n",
      "\n",
      "Episode: 850\n",
      "Episode complete. Total Reward: [-241.98333333 -220.73333333 -221.15      ] jumlah step: 427 product completed:  20\n",
      "product completed:  ['B-1', 'B-2', 'C-2', 'A-4', 'B-3', 'C-4', 'A-7', 'C-1', 'C-5', 'B-5', 'B-6', 'A-6', 'C-3', 'A-5', 'A-2', 'A-3', 'C-6', 'C-7', 'B-4', 'A-1']\n",
      "\n",
      "Episode: 851\n"
     ]
    },
    {
     "name": "stderr",
     "output_type": "stream",
     "text": [
      " 85%|████████▌ | 853/1000 [00:47<00:09, 15.69it/s]"
     ]
    },
    {
     "name": "stdout",
     "output_type": "stream",
     "text": [
      "Episode complete. Total Reward: [-301.35       -278.26666667 -285.1       ] jumlah step: 489 product completed:  20\n",
      "product completed:  ['C-2', 'C-4', 'C-5', 'C-1', 'C-7', 'B-1', 'C-6', 'B-3', 'C-3', 'A-1', 'B-5', 'B-4', 'A-5', 'B-7', 'B-6', 'A-2', 'A-3', 'A-7', 'A-6', 'A-4']\n",
      "\n",
      "Episode: 852\n",
      "Episode complete. Total Reward: [-240.98333333 -228.23333333 -213.65      ] jumlah step: 437 product completed:  20\n",
      "product completed:  ['A-3', 'B-1', 'C-1', 'B-3', 'B-2', 'B-4', 'C-3', 'C-2', 'C-4', 'C-6', 'A-2', 'B-5', 'B-6', 'A-7', 'A-6', 'C-5', 'B-7', 'A-1', 'C-7', 'A-5']\n",
      "\n",
      "Episode: 853\n",
      "Episode complete. Total Reward: [-282.35       -264.43333333 -260.35      ] jumlah step: 493 product completed:  20\n",
      "product completed:  ['C-4', 'C-6', 'C-5', 'B-4', 'C-2', 'B-5', 'C-7', 'B-2', 'C-3', 'C-1', 'B-7', 'A-4', 'A-7', 'B-1', 'A-3', 'B-6', 'B-3', 'A-6', 'A-1', 'A-5']\n",
      "\n",
      "Episode: 854\n"
     ]
    },
    {
     "name": "stderr",
     "output_type": "stream",
     "text": [
      " 86%|████████▌ | 857/1000 [00:48<00:08, 16.28it/s]"
     ]
    },
    {
     "name": "stdout",
     "output_type": "stream",
     "text": [
      "Episode complete. Total Reward: [-306.4 -280.9 -286.9] jumlah step: 482 product completed:  20\n",
      "product completed:  ['B-1', 'C-1', 'A-3', 'C-2', 'C-4', 'B-3', 'C-3', 'B-4', 'B-2', 'B-5', 'A-5', 'A-2', 'A-6', 'B-6', 'C-7', 'A-7', 'C-6', 'A-4', 'A-1', 'B-7']\n",
      "\n",
      "Episode: 855\n",
      "Episode complete. Total Reward: [-178.01666667 -163.1        -155.1       ] jumlah step: 383 product completed:  20\n",
      "product completed:  ['C-2', 'C-5', 'C-3', 'B-4', 'B-1', 'B-3', 'C-4', 'B-6', 'A-1', 'C-6', 'C-1', 'C-7', 'B-7', 'A-2', 'A-6', 'A-3', 'B-2', 'A-7', 'A-5', 'B-5']\n",
      "\n",
      "Episode: 856\n",
      "Episode complete. Total Reward: [-267.16666667 -245.83333333 -244.5       ] jumlah step: 468 product completed:  20\n",
      "product completed:  ['B-2', 'A-1', 'B-4', 'B-1', 'C-1', 'A-2', 'C-3', 'C-2', 'B-5', 'B-3', 'A-3', 'A-6', 'A-5', 'C-7', 'C-6', 'C-4', 'B-6', 'A-7', 'C-5', 'B-7']\n",
      "\n",
      "Episode: 857\n",
      "Episode complete. Total Reward: [-307.26666667 -286.26666667 -285.85      ] jumlah step: 486 product completed:  20\n",
      "product completed:  ['B-1', 'C-1', 'C-6', 'B-3', 'A-1', 'C-7', 'C-2', 'A-4', 'C-5', 'C-4', 'B-4', 'A-5', 'B-2', 'C-3', 'B-7', 'B-5', 'B-6', 'A-6', 'A-2', 'A-3']\n",
      "\n",
      "Episode: 858\n"
     ]
    },
    {
     "name": "stderr",
     "output_type": "stream",
     "text": [
      " 86%|████████▌ | 861/1000 [00:48<00:08, 16.37it/s]"
     ]
    },
    {
     "name": "stdout",
     "output_type": "stream",
     "text": [
      "Episode complete. Total Reward: [-171.91666667 -154.5        -149.75      ] jumlah step: 359 product completed:  20\n",
      "product completed:  ['C-1', 'C-3', 'C-5', 'C-4', 'C-6', 'C-2', 'B-1', 'A-3', 'B-3', 'A-5', 'A-1', 'B-2', 'B-4', 'A-4', 'B-7', 'B-5', 'A-2', 'B-6', 'C-7', 'A-6']\n",
      "\n",
      "Episode: 859\n",
      "Episode complete. Total Reward: [-226.18333333 -206.1        -204.35      ] jumlah step: 398 product completed:  20\n",
      "product completed:  ['C-1', 'C-2', 'C-4', 'B-5', 'C-5', 'B-6', 'A-3', 'B-4', 'B-2', 'C-7', 'B-3', 'B-7', 'C-3', 'A-7', 'A-5', 'B-1', 'A-1', 'A-2', 'C-6', 'A-4']\n",
      "\n",
      "Episode: 860\n",
      "Episode complete. Total Reward: [-251.66666667 -231.33333333 -224.5       ] jumlah step: 439 product completed:  20\n",
      "product completed:  ['C-3', 'A-2', 'C-1', 'C-5', 'C-4', 'B-1', 'A-4', 'B-2', 'B-3', 'C-6', 'A-3', 'B-4', 'B-5', 'A-5', 'A-7', 'C-2', 'C-7', 'B-7', 'A-1', 'A-6']\n",
      "\n",
      "Episode: 861\n",
      "Episode complete. Total Reward: [-202.03333333 -182.36666667 -182.45      ] jumlah step: 391 product completed:  20\n",
      "product completed:  ['B-2', 'C-4', 'C-2', 'B-1', 'C-5', 'C-7', 'B-3', 'A-5', 'A-2', 'A-3', 'B-5', 'B-6', 'C-1', 'C-3', 'C-6', 'B-4', 'A-6', 'A-4', 'A-7', 'A-1']\n"
     ]
    },
    {
     "name": "stderr",
     "output_type": "stream",
     "text": [
      " 86%|████████▋ | 863/1000 [00:48<00:08, 16.11it/s]"
     ]
    },
    {
     "name": "stdout",
     "output_type": "stream",
     "text": [
      "\n",
      "Episode: 862\n",
      "Episode complete. Total Reward: [-225.18333333 -208.1        -201.35      ] jumlah step: 412 product completed:  20\n",
      "product completed:  ['B-1', 'B-4', 'C-1', 'B-6', 'B-2', 'B-5', 'C-2', 'A-3', 'C-5', 'C-3', 'C-4', 'C-6', 'C-7', 'A-5', 'B-3', 'A-6', 'A-1', 'A-4', 'B-7', 'A-7']\n",
      "\n",
      "Episode: 863\n",
      "Episode complete. Total Reward: [-293.81666667 -273.23333333 -267.15      ] jumlah step: 472 product completed:  20\n",
      "product completed:  ['B-2', 'C-1', 'A-1', 'A-2', 'B-1', 'B-5', 'C-2', 'B-6', 'C-5', 'B-7', 'C-6', 'A-5', 'C-3', 'A-4', 'A-3', 'C-7', 'C-4', 'A-6', 'B-4', 'A-7']\n",
      "\n",
      "Episode: 864\n",
      "Episode complete. Total Reward: [-274.43333333 -247.76666667 -263.85      ] jumlah step: 460 product completed:  20\n",
      "product completed:  ['C-3', 'B-1', 'A-2', 'C-2', 'B-3', 'B-2', 'C-5', 'B-4', 'C-6', 'C-1', 'B-5', 'A-4', 'C-7', 'A-6', 'A-3', 'C-4', 'A-7', 'A-5', 'B-7', 'A-1']\n",
      "\n",
      "Episode: 865\n"
     ]
    },
    {
     "name": "stderr",
     "output_type": "stream",
     "text": [
      " 87%|████████▋ | 867/1000 [00:48<00:07, 16.71it/s]"
     ]
    },
    {
     "name": "stdout",
     "output_type": "stream",
     "text": [
      "Episode complete. Total Reward: [-240.21666667 -220.3        -216.55      ] jumlah step: 450 product completed:  20\n",
      "product completed:  ['C-1', 'C-2', 'B-1', 'A-1', 'B-3', 'C-4', 'B-5', 'C-6', 'A-3', 'B-6', 'A-2', 'C-3', 'C-5', 'C-7', 'B-4', 'A-7', 'A-6', 'A-5', 'B-7', 'B-2']\n",
      "\n",
      "Episode: 866\n",
      "Episode complete. Total Reward: [-231.01666667 -214.6        -203.85      ] jumlah step: 436 product completed:  20\n",
      "product completed:  ['C-1', 'C-5', 'C-3', 'C-2', 'B-2', 'C-7', 'B-1', 'C-6', 'B-4', 'B-3', 'C-4', 'A-1', 'B-6', 'B-5', 'B-7', 'A-3', 'A-7', 'A-2', 'A-5', 'A-6']\n",
      "\n",
      "Episode: 867\n",
      "Episode complete. Total Reward: [-229.9        -206.23333333 -212.15      ] jumlah step: 415 product completed:  20\n",
      "product completed:  ['C-1', 'B-1', 'B-5', 'C-4', 'C-2', 'C-3', 'C-6', 'B-3', 'B-7', 'A-1', 'A-3', 'C-5', 'A-5', 'B-4', 'C-7', 'A-6', 'B-2', 'B-6', 'A-2', 'A-7']\n",
      "\n",
      "Episode: 868\n",
      "Episode complete. Total Reward: [-197.35       -182.26666667 -183.1       ] jumlah step: 412 product completed:  20\n",
      "product completed:  ['C-3', 'C-2', 'C-4', 'A-5', 'C-6', 'C-5', 'C-1', 'A-3', 'C-7', 'B-1', 'B-2', 'A-7', 'B-7', 'A-2', 'B-6', 'B-3', 'A-4', 'A-1', 'B-5', 'B-4']\n",
      "\n",
      "Episode: 869\n"
     ]
    },
    {
     "name": "stderr",
     "output_type": "stream",
     "text": [
      " 87%|████████▋ | 871/1000 [00:48<00:07, 16.33it/s]"
     ]
    },
    {
     "name": "stdout",
     "output_type": "stream",
     "text": [
      "Episode complete. Total Reward: [-269.88333333 -251.8        -243.8       ] jumlah step: 472 product completed:  20\n",
      "product completed:  ['B-1', 'B-4', 'B-7', 'C-3', 'C-2', 'C-5', 'C-4', 'B-5', 'C-1', 'B-6', 'A-3', 'C-7', 'B-2', 'A-5', 'C-6', 'A-1', 'A-4', 'B-3', 'A-7', 'A-6']\n",
      "\n",
      "Episode: 870\n",
      "Episode complete. Total Reward: [-197.73333333 -181.06666667 -183.15      ] jumlah step: 415 product completed:  20\n",
      "product completed:  ['C-4', 'A-2', 'B-2', 'C-7', 'C-3', 'B-1', 'C-5', 'C-1', 'B-5', 'C-6', 'B-6', 'B-3', 'C-2', 'A-4', 'A-1', 'A-3', 'B-4', 'A-6', 'B-7', 'A-7']\n",
      "\n",
      "Episode: 871\n",
      "Episode complete. Total Reward: [-295.18333333 -275.6        -265.35      ] jumlah step: 492 product completed:  20\n",
      "product completed:  ['C-1', 'C-3', 'B-4', 'B-3', 'C-2', 'B-2', 'B-1', 'A-4', 'B-5', 'A-7', 'A-2', 'A-6', 'A-3', 'B-7', 'C-7', 'A-1', 'C-6', 'B-6', 'C-4', 'C-5']\n",
      "\n",
      "Episode: 872\n",
      "Episode complete. Total Reward: [-269.36666667 -247.86666667 -250.2       ] jumlah step: 450 product completed:  20\n",
      "product completed:  ['C-2', 'C-6', 'B-2', 'C-3', 'A-1', 'B-6', 'C-1', 'C-7', 'C-5', 'C-4', 'B-7', 'A-5', 'B-3', 'A-2', 'B-5', 'A-3', 'A-4', 'A-6', 'B-4', 'B-1']\n",
      "\n",
      "Episode: 873\n"
     ]
    },
    {
     "name": "stderr",
     "output_type": "stream",
     "text": [
      " 88%|████████▊ | 875/1000 [00:49<00:07, 17.36it/s]"
     ]
    },
    {
     "name": "stdout",
     "output_type": "stream",
     "text": [
      "Episode complete. Total Reward: [-282.33333333 -258.         -259.25      ] jumlah step: 462 product completed:  20\n",
      "product completed:  ['B-3', 'B-2', 'C-3', 'B-5', 'A-1', 'C-1', 'B-6', 'C-6', 'C-7', 'C-2', 'C-4', 'B-1', 'A-3', 'A-5', 'A-6', 'A-7', 'A-4', 'B-4', 'C-5', 'B-7']\n",
      "\n",
      "Episode: 874\n",
      "Episode complete. Total Reward: [-203.28333333 -185.36666667 -183.95      ] jumlah step: 407 product completed:  20\n",
      "product completed:  ['A-2', 'C-3', 'C-1', 'A-5', 'A-4', 'B-3', 'C-2', 'C-5', 'B-2', 'C-6', 'B-5', 'C-4', 'A-7', 'B-6', 'A-3', 'B-1', 'C-7', 'A-6', 'A-1', 'B-4']\n",
      "\n",
      "Episode: 875\n",
      "Episode complete. Total Reward: [-259.         -238.66666667 -226.25      ] jumlah step: 442 product completed:  20\n",
      "product completed:  ['C-3', 'B-2', 'B-1', 'C-6', 'B-4', 'C-5', 'C-2', 'C-4', 'A-3', 'C-7', 'A-4', 'B-5', 'B-7', 'A-6', 'A-2', 'C-1', 'B-6', 'B-3', 'A-5', 'A-1']\n",
      "\n",
      "Episode: 876\n",
      "Episode complete. Total Reward: [-245.4        -222.06666667 -231.15      ] jumlah step: 446 product completed:  20\n",
      "product completed:  ['B-1', 'C-1', 'B-4', 'A-4', 'B-6', 'B-3', 'C-2', 'A-1', 'C-4', 'A-6', 'A-2', 'C-6', 'B-5', 'A-5', 'C-3', 'C-7', 'C-5', 'A-3', 'B-7', 'B-2']\n",
      "\n",
      "Episode: 877\n"
     ]
    },
    {
     "name": "stderr",
     "output_type": "stream",
     "text": [
      " 88%|████████▊ | 879/1000 [00:49<00:06, 17.71it/s]"
     ]
    },
    {
     "name": "stdout",
     "output_type": "stream",
     "text": [
      "Episode complete. Total Reward: [-198.78333333 -175.86666667 -182.45      ] jumlah step: 388 product completed:  20\n",
      "product completed:  ['C-1', 'C-4', 'C-2', 'A-2', 'B-1', 'C-6', 'C-5', 'C-7', 'B-2', 'A-3', 'A-4', 'B-4', 'A-7', 'C-3', 'B-7', 'A-5', 'B-6', 'B-3', 'A-1', 'A-6']\n",
      "\n",
      "Episode: 878\n",
      "Episode complete. Total Reward: [-213.73333333 -194.23333333 -193.4       ] jumlah step: 403 product completed:  20\n",
      "product completed:  ['B-1', 'A-3', 'C-3', 'B-4', 'C-1', 'A-1', 'B-3', 'B-5', 'C-4', 'A-5', 'A-2', 'B-7', 'C-2', 'C-6', 'C-5', 'A-7', 'B-2', 'B-6', 'A-6', 'A-4']\n",
      "\n",
      "Episode: 879\n",
      "Episode complete. Total Reward: [-194.03333333 -178.36666667 -174.2       ] jumlah step: 388 product completed:  20\n",
      "product completed:  ['C-2', 'A-4', 'C-1', 'B-4', 'A-1', 'C-3', 'C-5', 'B-5', 'B-1', 'C-6', 'C-7', 'B-2', 'A-2', 'B-7', 'B-3', 'A-6', 'B-6', 'C-4', 'A-5', 'A-3']\n",
      "\n",
      "Episode: 880\n",
      "Episode complete. Total Reward: [-234.95 -215.7  -210.45] jumlah step: 409 product completed:  20\n",
      "product completed:  ['C-1', 'C-2', 'B-2', 'B-3', 'C-4', 'C-7', 'A-1', 'C-3', 'B-4', 'B-1', 'A-3', 'A-4', 'A-6', 'C-5', 'A-2', 'A-5', 'A-7', 'B-6', 'C-6', 'B-7']\n",
      "\n",
      "Episode: 881\n",
      "Episode complete. Total Reward: [-171.18333333 -155.76666667 -148.85      ] jumlah step: 386 product completed:  20\n",
      "product completed:  ['C-2', 'A-4', 'B-1', 'C-1', 'C-3', 'A-5', 'B-4', 'C-4', 'C-6', 'A-7', 'B-5', 'B-3', 'B-7', 'B-2', 'A-1', 'B-6', 'A-3', 'C-7', 'A-2', 'A-6']\n",
      "\n",
      "Episode: 882\n"
     ]
    },
    {
     "name": "stderr",
     "output_type": "stream",
     "text": [
      " 88%|████████▊ | 884/1000 [00:49<00:06, 17.72it/s]"
     ]
    },
    {
     "name": "stdout",
     "output_type": "stream",
     "text": [
      "Episode complete. Total Reward: [-170.88333333 -157.46666667 -148.55      ] jumlah step: 367 product completed:  20\n",
      "product completed:  ['B-1', 'C-3', 'C-1', 'C-4', 'C-2', 'C-5', 'A-7', 'A-5', 'B-2', 'A-1', 'A-4', 'A-2', 'B-7', 'B-3', 'B-4', 'C-7', 'C-6', 'A-3', 'B-6', 'B-5']\n",
      "\n",
      "Episode: 883\n",
      "Episode complete. Total Reward: [-320.23333333 -297.23333333 -311.15      ] jumlah step: 524 product completed:  20\n",
      "product completed:  ['C-1', 'C-2', 'C-4', 'C-5', 'B-1', 'C-7', 'B-2', 'C-6', 'A-1', 'B-4', 'A-6', 'A-3', 'B-6', 'B-3', 'A-4', 'A-7', 'A-2', 'B-5', 'C-3', 'A-5']\n",
      "\n",
      "Episode: 884\n",
      "Episode complete. Total Reward: [-139.26666667 -129.43333333 -118.1       ] jumlah step: 345 product completed:  20\n",
      "product completed:  ['B-1', 'C-1', 'B-5', 'A-5', 'A-2', 'B-6', 'B-2', 'C-3', 'B-4', 'C-5', 'A-7', 'A-3', 'A-4', 'C-2', 'A-1', 'C-7', 'B-7', 'C-6', 'A-6', 'B-3']\n",
      "\n",
      "Episode: 885\n"
     ]
    },
    {
     "name": "stderr",
     "output_type": "stream",
     "text": [
      " 89%|████████▉ | 888/1000 [00:49<00:06, 17.21it/s]"
     ]
    },
    {
     "name": "stdout",
     "output_type": "stream",
     "text": [
      "Episode complete. Total Reward: [-338.06666667 -316.73333333 -317.9       ] jumlah step: 556 product completed:  20\n",
      "product completed:  ['A-1', 'B-4', 'C-1', 'B-1', 'B-3', 'C-2', 'C-3', 'A-4', 'A-3', 'C-5', 'B-7', 'C-4', 'A-7', 'B-6', 'B-5', 'A-5', 'C-6', 'C-7', 'B-2', 'A-6']\n",
      "\n",
      "Episode: 886\n",
      "Episode complete. Total Reward: [-205.36666667 -190.03333333 -178.95      ] jumlah step: 386 product completed:  20\n",
      "product completed:  ['C-3', 'C-1', 'C-5', 'C-4', 'B-1', 'A-1', 'A-2', 'C-6', 'A-4', 'B-4', 'B-2', 'C-2', 'B-6', 'A-3', 'C-7', 'B-3', 'A-6', 'A-5', 'B-7', 'B-5']\n",
      "\n",
      "Episode: 887\n",
      "Episode complete. Total Reward: [-264.75 -246.   -248.  ] jumlah step: 482 product completed:  20\n",
      "product completed:  ['C-4', 'C-1', 'C-6', 'C-2', 'B-4', 'C-7', 'B-3', 'C-5', 'B-5', 'A-3', 'B-2', 'A-2', 'A-4', 'A-1', 'B-6', 'A-7', 'C-3', 'B-7', 'B-1', 'A-6']\n",
      "\n",
      "Episode: 888\n",
      "Episode complete. Total Reward: [-270.68333333 -244.93333333 -251.35      ] jumlah step: 451 product completed:  20\n",
      "product completed:  ['C-1', 'B-1', 'C-4', 'C-5', 'C-2', 'C-6', 'A-1', 'B-2', 'C-3', 'B-5', 'B-7', 'A-4', 'A-5', 'C-7', 'A-2', 'B-4', 'A-7', 'B-6', 'B-3', 'A-3']\n",
      "\n",
      "Episode: 889\n"
     ]
    },
    {
     "name": "stderr",
     "output_type": "stream",
     "text": [
      " 89%|████████▉ | 890/1000 [00:50<00:06, 17.19it/s]"
     ]
    },
    {
     "name": "stdout",
     "output_type": "stream",
     "text": [
      "Episode complete. Total Reward: [-260.23333333 -242.23333333 -234.15      ] jumlah step: 446 product completed:  20\n",
      "product completed:  ['C-1', 'C-4', 'C-2', 'B-1', 'C-3', 'A-1', 'C-5', 'B-2', 'B-5', 'C-7', 'B-4', 'A-4', 'C-6', 'B-6', 'A-5', 'A-2', 'A-3', 'A-7', 'B-7', 'B-3']\n",
      "\n",
      "Episode: 890\n",
      "Episode complete. Total Reward: [-132.16666667 -113.66666667 -119.25      ] jumlah step: 342 product completed:  20\n",
      "product completed:  ['A-1', 'B-3', 'B-1', 'A-4', 'A-5', 'C-1', 'C-4', 'C-5', 'C-6', 'C-3', 'A-3', 'B-6', 'C-2', 'A-6', 'B-7', 'A-2', 'C-7', 'B-2', 'B-5', 'B-4']\n",
      "\n",
      "Episode: 891\n",
      "Episode complete. Total Reward: [-241.7        -216.53333333 -221.2       ] jumlah step: 411 product completed:  20\n",
      "product completed:  ['C-1', 'B-4', 'A-5', 'B-6', 'B-5', 'A-1', 'A-2', 'C-2', 'A-6', 'B-7', 'B-2', 'B-1', 'C-6', 'C-4', 'C-7', 'B-3', 'A-3', 'A-4', 'C-5', 'A-7']\n",
      "\n",
      "Episode: 892\n"
     ]
    },
    {
     "name": "stderr",
     "output_type": "stream",
     "text": [
      " 89%|████████▉ | 894/1000 [00:50<00:07, 15.03it/s]"
     ]
    },
    {
     "name": "stdout",
     "output_type": "stream",
     "text": [
      "Episode complete. Total Reward: [-157.33333333 -139.83333333 -136.5       ] jumlah step: 344 product completed:  20\n",
      "product completed:  ['C-1', 'C-3', 'B-2', 'C-5', 'C-2', 'B-3', 'C-7', 'B-1', 'A-1', 'C-4', 'A-2', 'B-4', 'A-3', 'B-6', 'C-6', 'A-4', 'B-5', 'A-7', 'A-6', 'B-7']\n",
      "\n",
      "Episode: 893\n",
      "Episode complete. Total Reward: [-311.63333333 -298.96666667 -283.55      ] jumlah step: 505 product completed:  20\n",
      "product completed:  ['C-2', 'C-1', 'B-2', 'A-4', 'C-4', 'A-1', 'C-3', 'B-1', 'A-6', 'C-5', 'C-6', 'A-3', 'B-5', 'B-7', 'B-6', 'B-3', 'B-4', 'C-7', 'A-5', 'A-2']\n",
      "\n",
      "Episode: 894\n",
      "Episode complete. Total Reward: [-256.96666667 -236.3        -236.8       ] jumlah step: 468 product completed:  20\n",
      "product completed:  ['B-2', 'C-1', 'C-7', 'C-6', 'C-3', 'C-5', 'A-4', 'B-3', 'A-3', 'A-1', 'A-2', 'B-1', 'B-6', 'C-4', 'B-5', 'C-2', 'B-7', 'A-6', 'A-7', 'B-4']\n",
      "\n",
      "Episode: 895\n"
     ]
    },
    {
     "name": "stderr",
     "output_type": "stream",
     "text": [
      " 90%|████████▉ | 898/1000 [00:50<00:06, 14.73it/s]"
     ]
    },
    {
     "name": "stdout",
     "output_type": "stream",
     "text": [
      "Episode complete. Total Reward: [-277.86666667 -257.7        -256.95      ] jumlah step: 482 product completed:  20\n",
      "product completed:  ['C-3', 'A-2', 'C-4', 'B-2', 'C-5', 'B-1', 'A-1', 'C-2', 'C-6', 'C-7', 'B-4', 'A-4', 'C-1', 'A-5', 'B-5', 'B-6', 'B-3', 'B-7', 'A-6', 'A-7']\n",
      "\n",
      "Episode: 896\n",
      "Episode complete. Total Reward: [-183.78333333 -161.86666667 -161.2       ] jumlah step: 367 product completed:  20\n",
      "product completed:  ['C-3', 'C-2', 'B-4', 'C-1', 'B-5', 'B-3', 'B-1', 'B-6', 'B-2', 'C-5', 'A-6', 'A-5', 'C-7', 'A-4', 'C-6', 'C-4', 'A-2', 'A-7', 'A-3', 'A-1']\n",
      "\n",
      "Episode: 897\n",
      "Episode complete. Total Reward: [-211.76666667 -192.43333333 -191.35      ] jumlah step: 384 product completed:  20\n",
      "product completed:  ['B-3', 'C-1', 'A-2', 'B-2', 'C-4', 'B-1', 'B-4', 'A-4', 'B-7', 'C-3', 'C-2', 'A-1', 'C-5', 'B-5', 'C-6', 'C-7', 'B-6', 'A-6', 'A-5', 'A-3']\n",
      "\n",
      "Episode: 898\n",
      "Episode complete. Total Reward: [-242.75 -221.5  -226.25] jumlah step: 464 product completed:  20\n",
      "product completed:  ['C-1', 'C-2', 'C-4', 'C-3', 'A-3', 'B-1', 'C-5', 'A-1', 'B-6', 'A-4', 'C-6', 'B-5', 'B-7', 'B-3', 'A-5', 'B-2', 'A-2', 'B-4', 'C-7', 'A-6']\n"
     ]
    },
    {
     "name": "stderr",
     "output_type": "stream",
     "text": [
      " 90%|█████████ | 900/1000 [00:50<00:07, 14.12it/s]"
     ]
    },
    {
     "name": "stdout",
     "output_type": "stream",
     "text": [
      "\n",
      "Episode: 899\n",
      "Episode complete. Total Reward: [-372.98333333 -349.73333333 -359.9       ] jumlah step: 589 product completed:  20\n",
      "product completed:  ['C-2', 'C-4', 'C-3', 'C-1', 'C-5', 'C-6', 'B-1', 'B-2', 'A-6', 'A-5', 'A-4', 'A-7', 'B-6', 'C-7', 'A-3', 'B-3', 'B-7', 'B-4', 'A-1', 'B-5']\n",
      "\n",
      "Episode: 900\n",
      "Episode complete. Total Reward: [-299.53333333 -278.2        -269.2       ] jumlah step: 480 product completed:  20\n",
      "product completed:  ['B-1', 'C-2', 'A-1', 'A-2', 'C-4', 'B-5', 'C-5', 'B-4', 'B-6', 'B-2', 'B-3', 'C-3', 'C-7', 'A-4', 'A-6', 'A-3', 'C-6', 'A-5', 'C-1', 'A-7']\n",
      "\n",
      "Episode: 901\n",
      "Episode complete. Total Reward: [-225.53333333 -206.86666667 -201.45      ] jumlah step: 428 product completed:  20\n",
      "product completed:  ['C-1', 'B-2', 'A-3', 'B-1', 'A-6', 'C-2', 'A-1', 'B-5', 'C-4', 'A-7', 'B-3', 'B-6', 'A-5', 'C-3', 'C-5', 'C-7', 'C-6', 'B-4', 'A-4', 'A-2']\n",
      "\n",
      "Episode: 902\n"
     ]
    },
    {
     "name": "stderr",
     "output_type": "stream",
     "text": [
      " 90%|█████████ | 905/1000 [00:51<00:05, 16.80it/s]"
     ]
    },
    {
     "name": "stdout",
     "output_type": "stream",
     "text": [
      "Episode complete. Total Reward: [-247.88333333 -227.96666667 -229.3       ] jumlah step: 440 product completed:  20\n",
      "product completed:  ['C-2', 'A-3', 'C-4', 'C-5', 'A-4', 'C-3', 'B-3', 'C-1', 'C-7', 'A-2', 'B-5', 'C-6', 'B-2', 'A-5', 'B-4', 'A-6', 'B-6', 'A-7', 'B-1', 'A-1']\n",
      "\n",
      "Episode: 903\n",
      "Episode complete. Total Reward: [-200.1 -176.1 -185.1] jumlah step: 390 product completed:  20\n",
      "product completed:  ['C-1', 'A-6', 'A-5', 'C-5', 'A-4', 'B-2', 'C-3', 'C-2', 'A-2', 'B-3', 'A-3', 'A-1', 'B-7', 'B-5', 'C-7', 'A-7', 'B-6', 'C-4', 'B-4', 'B-1']\n",
      "\n",
      "Episode: 904\n",
      "Episode complete. Total Reward: [-138.56666667 -119.56666667 -122.15      ] jumlah step: 337 product completed:  20\n",
      "product completed:  ['A-2', 'B-4', 'A-5', 'C-2', 'A-1', 'B-5', 'B-1', 'C-4', 'B-3', 'B-2', 'A-4', 'C-6', 'C-1', 'C-7', 'A-3', 'C-5', 'A-7', 'C-3', 'B-6', 'B-7']\n",
      "\n",
      "Episode: 905\n",
      "Episode complete. Total Reward: [-192.28333333 -174.36666667 -170.2       ] jumlah step: 390 product completed:  20\n",
      "product completed:  ['C-1', 'C-3', 'C-4', 'B-2', 'C-2', 'B-3', 'B-6', 'B-7', 'A-2', 'C-7', 'C-6', 'B-5', 'A-5', 'B-1', 'A-3', 'A-4', 'B-4', 'A-7', 'C-5', 'A-6']\n",
      "\n",
      "Episode: 906\n",
      "Episode complete. Total Reward: [-234.76666667 -215.1        -213.85      ] jumlah step: 424 product completed:  20\n",
      "product completed:  ['C-1', 'C-4', 'A-3', 'B-1', 'A-1', 'C-3', 'B-5', 'A-5', 'B-3', 'C-2', 'B-2', 'B-6', 'A-4', 'B-7', 'C-6', 'B-4', 'A-6', 'C-5', 'C-7', 'A-7']\n",
      "\n",
      "Episode: 907\n"
     ]
    },
    {
     "name": "stderr",
     "output_type": "stream",
     "text": [
      " 91%|█████████ | 909/1000 [00:51<00:05, 16.02it/s]"
     ]
    },
    {
     "name": "stdout",
     "output_type": "stream",
     "text": [
      "Episode complete. Total Reward: [-200.41666667 -175.66666667 -182.        ] jumlah step: 402 product completed:  20\n",
      "product completed:  ['C-3', 'C-1', 'A-2', 'C-4', 'C-5', 'C-2', 'B-2', 'A-1', 'A-5', 'C-7', 'B-5', 'A-6', 'B-7', 'B-4', 'A-3', 'C-6', 'A-4', 'A-7', 'B-3', 'B-1']\n",
      "\n",
      "Episode: 908\n",
      "Episode complete. Total Reward: [-487.9  -471.9  -467.15] jumlah step: 700 product completed:  19\n",
      "product completed:  ['B-3', 'C-1', 'C-5', 'C-7', 'C-4', 'C-3', 'B-1', 'C-2', 'B-5', 'C-6', 'A-5', 'A-1', 'B-7', 'A-4', 'B-6', 'B-4', 'A-2', 'B-2', 'A-3']\n",
      "\n",
      "Episode: 909\n",
      "Episode complete. Total Reward: [-219.96666667 -193.96666667 -204.55      ] jumlah step: 393 product completed:  20\n",
      "product completed:  ['C-1', 'C-4', 'C-2', 'B-1', 'C-3', 'A-2', 'A-4', 'A-6', 'B-3', 'C-6', 'A-5', 'B-5', 'B-2', 'C-7', 'C-5', 'B-7', 'A-1', 'B-6', 'A-7', 'A-3']\n",
      "\n",
      "Episode: 910\n",
      "Episode complete. Total Reward: [-256.91666667 -236.5        -233.5       ] jumlah step: 421 product completed:  20\n",
      "product completed:  ['B-3', 'B-4', 'A-4', 'C-2', 'B-6', 'C-1', 'B-1', 'C-3', 'A-3', 'A-2', 'B-5', 'C-6', 'C-5', 'B-7', 'B-2', 'C-4', 'A-6', 'A-5', 'A-7', 'C-7']\n",
      "\n",
      "Episode: 911\n"
     ]
    },
    {
     "name": "stderr",
     "output_type": "stream",
     "text": [
      " 91%|█████████▏| 913/1000 [00:51<00:05, 16.58it/s]"
     ]
    },
    {
     "name": "stdout",
     "output_type": "stream",
     "text": [
      "Episode complete. Total Reward: [-262.08333333 -244.33333333 -241.75      ] jumlah step: 461 product completed:  20\n",
      "product completed:  ['C-2', 'C-3', 'C-1', 'B-2', 'C-6', 'C-5', 'C-7', 'B-5', 'B-1', 'B-3', 'B-4', 'C-4', 'A-6', 'B-7', 'A-3', 'A-2', 'B-6', 'A-7', 'A-5', 'A-4']\n",
      "\n",
      "Episode: 912\n",
      "Episode complete. Total Reward: [-257.08333333 -234.33333333 -241.25      ] jumlah step: 459 product completed:  20\n",
      "product completed:  ['B-1', 'C-2', 'C-4', 'C-3', 'C-5', 'B-2', 'C-6', 'B-3', 'A-1', 'A-2', 'C-1', 'B-4', 'A-3', 'A-5', 'A-6', 'B-7', 'B-6', 'B-5', 'C-7', 'A-4']\n",
      "\n",
      "Episode: 913\n",
      "Episode complete. Total Reward: [-213.23333333 -188.23333333 -198.4       ] jumlah step: 412 product completed:  20\n",
      "product completed:  ['C-1', 'B-4', 'B-2', 'A-4', 'C-3', 'C-2', 'A-3', 'B-7', 'A-2', 'A-1', 'B-1', 'B-3', 'C-6', 'B-6', 'A-6', 'C-4', 'A-7', 'A-5', 'B-5', 'C-7']\n",
      "\n",
      "Episode: 914\n",
      "Episode complete. Total Reward: [-490.76666667 -469.93333333 -470.6       ] jumlah step: 700 product completed:  19\n",
      "product completed:  ['C-1', 'C-4', 'C-6', 'C-3', 'C-5', 'A-4', 'C-2', 'A-2', 'A-5', 'B-3', 'B-1', 'B-5', 'A-3', 'B-6', 'C-7', 'A-7', 'B-7', 'A-1', 'B-4']\n",
      "\n",
      "Episode: 915\n"
     ]
    },
    {
     "name": "stderr",
     "output_type": "stream",
     "text": [
      " 92%|█████████▏| 917/1000 [00:51<00:05, 15.27it/s]"
     ]
    },
    {
     "name": "stdout",
     "output_type": "stream",
     "text": [
      "Episode complete. Total Reward: [-406.8        -389.96666667 -390.05      ] jumlah step: 615 product completed:  20\n",
      "product completed:  ['C-5', 'C-3', 'C-1', 'C-6', 'B-4', 'B-7', 'C-4', 'C-7', 'B-2', 'B-1', 'A-3', 'C-2', 'B-6', 'A-5', 'B-5', 'A-7', 'B-3', 'A-4', 'A-2', 'A-1']\n",
      "\n",
      "Episode: 916\n",
      "Episode complete. Total Reward: [-235.18333333 -213.93333333 -211.35      ] jumlah step: 454 product completed:  20\n",
      "product completed:  ['B-3', 'A-3', 'C-1', 'C-4', 'C-5', 'B-1', 'B-4', 'C-2', 'A-6', 'A-7', 'C-6', 'A-4', 'A-5', 'C-7', 'B-6', 'A-2', 'B-5', 'B-7', 'C-3', 'B-2']\n",
      "\n",
      "Episode: 917\n",
      "Episode complete. Total Reward: [-212.46666667 -190.8        -194.3       ] jumlah step: 394 product completed:  20\n",
      "product completed:  ['C-2', 'C-3', 'B-6', 'A-2', 'B-1', 'B-3', 'A-3', 'C-4', 'C-1', 'A-1', 'A-7', 'B-2', 'C-6', 'A-6', 'B-7', 'B-4', 'B-5', 'C-7', 'A-5', 'C-5']\n",
      "\n",
      "Episode: 918\n",
      "Episode complete. Total Reward: [-234.91666667 -212.16666667 -214.5       ] jumlah step: 404 product completed:  20\n",
      "product completed:  ['B-1', 'B-5', 'B-2', 'C-2', 'A-4', 'B-6', 'A-3', 'A-6', 'B-4', 'C-4', 'B-3', 'C-1', 'A-5', 'C-3', 'C-5', 'C-6', 'C-7', 'A-2', 'A-1', 'A-7']\n",
      "\n",
      "Episode: 919\n"
     ]
    },
    {
     "name": "stderr",
     "output_type": "stream",
     "text": [
      " 92%|█████████▏| 921/1000 [00:52<00:04, 16.39it/s]"
     ]
    },
    {
     "name": "stdout",
     "output_type": "stream",
     "text": [
      "Episode complete. Total Reward: [-292.71666667 -270.46666667 -268.05      ] jumlah step: 485 product completed:  20\n",
      "product completed:  ['C-1', 'B-2', 'C-3', 'A-3', 'B-3', 'C-5', 'C-6', 'B-4', 'C-2', 'A-2', 'A-7', 'C-7', 'C-4', 'B-1', 'B-5', 'B-7', 'A-6', 'A-5', 'A-4', 'A-1']\n",
      "\n",
      "Episode: 920\n",
      "Episode complete. Total Reward: [-214.43333333 -190.6        -198.35      ] jumlah step: 423 product completed:  20\n",
      "product completed:  ['C-2', 'C-4', 'B-1', 'C-5', 'A-4', 'B-2', 'C-6', 'A-1', 'B-6', 'C-1', 'A-6', 'A-5', 'C-3', 'B-5', 'A-7', 'A-3', 'B-4', 'B-3', 'A-2', 'B-7']\n",
      "\n",
      "Episode: 921\n",
      "Episode complete. Total Reward: [-178.56666667 -159.23333333 -157.65      ] jumlah step: 367 product completed:  20\n",
      "product completed:  ['C-2', 'A-1', 'A-5', 'A-6', 'A-3', 'B-2', 'B-1', 'B-5', 'B-3', 'A-2', 'C-4', 'B-7', 'B-6', 'C-6', 'B-4', 'C-1', 'C-5', 'C-3', 'A-4', 'A-7']\n",
      "\n",
      "Episode: 922\n",
      "Episode complete. Total Reward: [-147.66666667 -136.83333333 -126.5       ] jumlah step: 345 product completed:  20\n",
      "product completed:  ['B-1', 'A-4', 'B-4', 'C-1', 'A-2', 'A-3', 'B-3', 'A-6', 'A-5', 'C-2', 'C-3', 'C-7', 'C-4', 'C-6', 'C-5', 'B-6', 'B-7', 'B-2', 'B-5', 'A-1']\n",
      "\n",
      "Episode: 923\n"
     ]
    },
    {
     "name": "stderr",
     "output_type": "stream",
     "text": [
      " 93%|█████████▎| 926/1000 [00:52<00:04, 17.66it/s]"
     ]
    },
    {
     "name": "stdout",
     "output_type": "stream",
     "text": [
      "Episode complete. Total Reward: [-258.76666667 -241.1        -236.1       ] jumlah step: 463 product completed:  20\n",
      "product completed:  ['B-2', 'C-4', 'C-1', 'C-2', 'B-3', 'C-3', 'A-6', 'B-1', 'A-1', 'C-5', 'A-5', 'B-5', 'B-7', 'C-6', 'B-4', 'C-7', 'B-6', 'A-3', 'A-2', 'A-7']\n",
      "\n",
      "Episode: 924\n",
      "Episode complete. Total Reward: [-177.11666667 -164.2        -158.7       ] jumlah step: 366 product completed:  20\n",
      "product completed:  ['B-1', 'C-4', 'C-7', 'B-2', 'B-4', 'C-2', 'C-5', 'C-1', 'B-3', 'C-6', 'C-3', 'A-4', 'B-7', 'A-5', 'B-5', 'A-1', 'A-3', 'A-6', 'B-6', 'A-7']\n",
      "\n",
      "Episode: 925\n",
      "Episode complete. Total Reward: [-152.36666667 -133.36666667 -134.95      ] jumlah step: 350 product completed:  20\n",
      "product completed:  ['B-1', 'A-1', 'C-3', 'C-4', 'C-5', 'C-2', 'A-4', 'A-6', 'C-1', 'B-4', 'C-7', 'A-5', 'A-7', 'B-7', 'A-2', 'B-2', 'B-5', 'B-3', 'C-6', 'A-3']\n",
      "\n",
      "Episode: 926\n",
      "Episode complete. Total Reward: [-222.53333333 -204.2        -205.7       ] jumlah step: 416 product completed:  20\n",
      "product completed:  ['C-1', 'C-3', 'C-5', 'C-6', 'C-7', 'C-2', 'B-4', 'C-4', 'B-1', 'B-5', 'B-2', 'A-2', 'A-5', 'A-1', 'B-7', 'A-4', 'B-3', 'A-3', 'A-6', 'A-7']\n",
      "\n",
      "Episode: 927\n"
     ]
    },
    {
     "name": "stderr",
     "output_type": "stream",
     "text": [
      " 93%|█████████▎| 930/1000 [00:52<00:04, 16.13it/s]"
     ]
    },
    {
     "name": "stdout",
     "output_type": "stream",
     "text": [
      "Episode complete. Total Reward: [-205.95       -181.53333333 -193.45      ] jumlah step: 417 product completed:  20\n",
      "product completed:  ['B-2', 'C-2', 'B-6', 'C-3', 'A-1', 'C-4', 'B-4', 'C-5', 'C-1', 'A-4', 'B-3', 'C-7', 'C-6', 'B-5', 'B-1', 'B-7', 'A-5', 'A-6', 'A-2', 'A-3']\n",
      "\n",
      "Episode: 928\n",
      "Episode complete. Total Reward: [-363.41666667 -344.66666667 -332.75      ] jumlah step: 566 product completed:  20\n",
      "product completed:  ['C-6', 'C-3', 'C-2', 'C-5', 'C-7', 'B-1', 'C-4', 'A-2', 'B-3', 'A-5', 'B-6', 'C-1', 'B-2', 'A-1', 'A-6', 'A-3', 'B-4', 'A-4', 'B-5', 'B-7']\n",
      "\n",
      "Episode: 929\n",
      "Episode complete. Total Reward: [-346.76666667 -328.6        -326.85      ] jumlah step: 535 product completed:  20\n",
      "product completed:  ['C-3', 'C-4', 'C-2', 'C-6', 'C-1', 'B-5', 'B-3', 'B-2', 'B-4', 'A-2', 'C-5', 'B-7', 'C-7', 'A-6', 'B-1', 'B-6', 'A-1', 'A-4', 'A-3', 'A-7']\n",
      "\n",
      "Episode: 930\n",
      "Episode complete. Total Reward: [-277.11666667 -255.86666667 -258.45      ] jumlah step: 458 product completed:  20\n",
      "product completed:  ['C-1', 'C-5', 'C-3', 'C-2', 'B-2', 'A-1', 'C-4', 'B-6', 'B-7', 'B-5', 'C-6', 'B-1', 'B-4', 'C-7', 'A-3', 'A-2', 'B-3', 'A-4', 'A-5', 'A-7']\n"
     ]
    },
    {
     "name": "stderr",
     "output_type": "stream",
     "text": [
      " 93%|█████████▎| 932/1000 [00:52<00:04, 16.91it/s]"
     ]
    },
    {
     "name": "stdout",
     "output_type": "stream",
     "text": [
      "\n",
      "Episode: 931\n",
      "Episode complete. Total Reward: [-171.96666667 -153.63333333 -151.55      ] jumlah step: 353 product completed:  20\n",
      "product completed:  ['B-1', 'A-2', 'C-4', 'B-2', 'A-3', 'C-2', 'B-4', 'C-1', 'A-1', 'B-5', 'C-3', 'A-6', 'B-3', 'C-6', 'C-5', 'A-5', 'A-4', 'A-7', 'C-7', 'B-7']\n",
      "\n",
      "Episode: 932\n",
      "Episode complete. Total Reward: [-174.65 -153.4  -155.9 ] jumlah step: 358 product completed:  20\n",
      "product completed:  ['C-3', 'C-2', 'C-1', 'C-5', 'C-6', 'C-7', 'A-5', 'A-6', 'C-4', 'B-2', 'A-4', 'B-4', 'B-5', 'B-7', 'A-3', 'B-6', 'B-1', 'A-7', 'A-1', 'A-2']\n",
      "\n",
      "Episode: 933\n",
      "Episode complete. Total Reward: [-294.36666667 -281.36666667 -263.95      ] jumlah step: 504 product completed:  20\n",
      "product completed:  ['A-1', 'C-3', 'C-2', 'A-4', 'B-4', 'C-1', 'B-1', 'B-2', 'C-4', 'C-5', 'C-6', 'A-3', 'B-6', 'A-7', 'B-7', 'C-7', 'A-2', 'B-3', 'B-5', 'A-6']\n",
      "\n",
      "Episode: 934\n"
     ]
    },
    {
     "name": "stderr",
     "output_type": "stream",
     "text": [
      " 94%|█████████▎| 936/1000 [00:52<00:03, 16.01it/s]"
     ]
    },
    {
     "name": "stdout",
     "output_type": "stream",
     "text": [
      "Episode complete. Total Reward: [-328.46666667 -301.46666667 -297.8       ] jumlah step: 505 product completed:  20\n",
      "product completed:  ['B-1', 'B-3', 'C-1', 'C-7', 'C-4', 'B-6', 'C-2', 'C-3', 'C-5', 'B-5', 'B-7', 'B-2', 'C-6', 'A-7', 'B-4', 'A-6', 'A-5', 'A-1', 'A-2', 'A-3']\n",
      "\n",
      "Episode: 935\n",
      "Episode complete. Total Reward: [-261.95       -243.03333333 -238.95      ] jumlah step: 464 product completed:  20\n",
      "product completed:  ['C-1', 'B-2', 'A-3', 'A-2', 'B-5', 'B-3', 'B-4', 'C-4', 'A-4', 'B-6', 'B-1', 'C-6', 'A-6', 'C-7', 'A-5', 'C-2', 'A-1', 'C-3', 'B-7', 'A-7']\n",
      "\n",
      "Episode: 936\n",
      "Episode complete. Total Reward: [-223.3        -207.96666667 -195.05      ] jumlah step: 415 product completed:  20\n",
      "product completed:  ['A-1', 'B-1', 'B-5', 'B-3', 'C-2', 'B-4', 'A-4', 'B-2', 'A-2', 'C-3', 'B-6', 'C-6', 'A-3', 'C-7', 'A-6', 'C-1', 'C-5', 'A-5', 'B-7', 'A-7']\n",
      "\n",
      "Episode: 937\n",
      "Episode complete. Total Reward: [-200.85 -182.6  -178.35] jumlah step: 396 product completed:  20\n",
      "product completed:  ['B-1', 'C-2', 'C-1', 'B-6', 'B-5', 'B-3', 'A-3', 'C-5', 'C-7', 'C-4', 'C-3', 'A-1', 'A-6', 'B-2', 'A-2', 'B-4', 'A-5', 'B-7', 'C-6', 'A-4']\n",
      "\n",
      "Episode: 938\n"
     ]
    },
    {
     "name": "stderr",
     "output_type": "stream",
     "text": [
      " 94%|█████████▍| 942/1000 [00:53<00:03, 16.97it/s]"
     ]
    },
    {
     "name": "stdout",
     "output_type": "stream",
     "text": [
      "Episode complete. Total Reward: [-278.33333333 -263.         -248.        ] jumlah step: 473 product completed:  20\n",
      "product completed:  ['C-2', 'C-1', 'B-4', 'B-5', 'A-2', 'B-7', 'C-3', 'C-5', 'B-2', 'B-6', 'C-4', 'C-7', 'A-5', 'C-6', 'B-3', 'A-1', 'B-1', 'A-7', 'A-4', 'A-6']\n",
      "\n",
      "Episode: 939\n",
      "Episode complete. Total Reward: [-212.31666667 -187.4        -189.9       ] jumlah step: 380 product completed:  20\n",
      "product completed:  ['B-1', 'B-2', 'C-2', 'B-3', 'B-4', 'C-3', 'B-5', 'B-7', 'A-2', 'C-6', 'C-5', 'A-3', 'C-4', 'C-7', 'A-4', 'A-6', 'B-6', 'C-1', 'A-5', 'A-7']\n",
      "\n",
      "Episode: 940\n",
      "Episode complete. Total Reward: [-217.81666667 -202.06666667 -198.15      ] jumlah step: 422 product completed:  20\n",
      "product completed:  ['C-1', 'C-3', 'B-2', 'C-2', 'B-3', 'B-4', 'C-5', 'B-6', 'B-7', 'B-5', 'C-4', 'A-1', 'A-6', 'B-1', 'A-5', 'A-3', 'C-6', 'A-7', 'C-7', 'A-2']\n",
      "\n",
      "Episode: 941\n",
      "Episode complete. Total Reward: [-230.85       -212.76666667 -199.6       ] jumlah step: 394 product completed:  20\n",
      "product completed:  ['C-3', 'C-4', 'A-3', 'C-1', 'B-2', 'C-5', 'A-1', 'B-3', 'B-1', 'A-4', 'C-6', 'A-6', 'C-2', 'B-5', 'A-7', 'B-4', 'B-6', 'B-7', 'A-5', 'A-2']\n",
      "\n",
      "Episode: 942\n",
      "Episode complete. Total Reward: [-227.25 -205.5  -201.75] jumlah step: 405 product completed:  20\n",
      "product completed:  ['B-1', 'C-1', 'C-3', 'C-2', 'A-3', 'B-3', 'B-2', 'B-4', 'A-5', 'B-5', 'A-4', 'C-4', 'C-7', 'C-6', 'B-6', 'A-1', 'A-7', 'A-2', 'B-7', 'C-5']\n"
     ]
    },
    {
     "name": "stderr",
     "output_type": "stream",
     "text": [
      " 94%|█████████▍| 944/1000 [00:53<00:03, 16.71it/s]"
     ]
    },
    {
     "name": "stdout",
     "output_type": "stream",
     "text": [
      "\n",
      "Episode: 943\n",
      "Episode complete. Total Reward: [-174.75 -154.5  -158.25] jumlah step: 376 product completed:  20\n",
      "product completed:  ['C-1', 'C-2', 'B-4', 'B-3', 'B-2', 'A-2', 'C-3', 'A-5', 'A-1', 'B-1', 'B-7', 'A-4', 'C-5', 'A-3', 'C-6', 'A-7', 'C-4', 'B-6', 'C-7', 'B-5']\n",
      "\n",
      "Episode: 944\n",
      "Episode complete. Total Reward: [-217.15       -203.23333333 -199.15      ] jumlah step: 427 product completed:  20\n",
      "product completed:  ['C-4', 'C-5', 'B-2', 'C-1', 'C-2', 'C-3', 'B-1', 'C-6', 'A-5', 'B-5', 'A-2', 'B-4', 'A-1', 'B-6', 'A-4', 'B-3', 'A-3', 'A-7', 'B-7', 'A-6']\n",
      "\n",
      "Episode: 945\n",
      "Episode complete. Total Reward: [-150.55       -132.13333333 -135.05      ] jumlah step: 346 product completed:  20\n",
      "product completed:  ['C-1', 'C-3', 'B-5', 'B-1', 'B-4', 'A-3', 'B-3', 'C-2', 'B-6', 'C-5', 'B-7', 'C-7', 'C-6', 'C-4', 'A-2', 'A-5', 'A-1', 'A-7', 'B-2', 'A-4']\n",
      "\n",
      "Episode: 946\n"
     ]
    },
    {
     "name": "stderr",
     "output_type": "stream",
     "text": [
      " 95%|█████████▍| 948/1000 [00:53<00:03, 15.87it/s]"
     ]
    },
    {
     "name": "stdout",
     "output_type": "stream",
     "text": [
      "Episode complete. Total Reward: [-350.21666667 -331.46666667 -326.05      ] jumlah step: 535 product completed:  20\n",
      "product completed:  ['C-2', 'B-1', 'A-3', 'A-5', 'C-1', 'C-5', 'C-3', 'A-6', 'B-5', 'C-4', 'B-6', 'B-7', 'A-1', 'C-7', 'A-2', 'A-4', 'B-3', 'B-4', 'B-2', 'C-6']\n",
      "\n",
      "Episode: 947\n",
      "Episode complete. Total Reward: [-181.1 -157.6 -163.6] jumlah step: 366 product completed:  20\n",
      "product completed:  ['A-1', 'C-2', 'B-2', 'C-1', 'B-4', 'C-3', 'A-3', 'A-4', 'C-4', 'A-2', 'C-6', 'B-6', 'A-6', 'B-3', 'C-7', 'B-7', 'A-5', 'B-1', 'B-5', 'A-7']\n",
      "\n",
      "Episode: 948\n",
      "Episode complete. Total Reward: [-243.16666667 -225.83333333 -217.25      ] jumlah step: 418 product completed:  20\n",
      "product completed:  ['C-1', 'B-3', 'C-2', 'A-3', 'A-2', 'C-3', 'A-4', 'B-6', 'B-5', 'B-1', 'C-6', 'C-4', 'A-1', 'B-2', 'C-5', 'C-7', 'A-5', 'A-7', 'B-4', 'A-6']\n",
      "\n",
      "Episode: 949\n"
     ]
    },
    {
     "name": "stderr",
     "output_type": "stream",
     "text": [
      " 95%|█████████▌| 952/1000 [00:53<00:02, 16.38it/s]"
     ]
    },
    {
     "name": "stdout",
     "output_type": "stream",
     "text": [
      "Episode complete. Total Reward: [-177.6  -159.6  -161.85] jumlah step: 377 product completed:  20\n",
      "product completed:  ['B-2', 'C-2', 'A-2', 'B-4', 'B-1', 'C-6', 'A-3', 'C-1', 'C-3', 'C-7', 'B-5', 'B-3', 'C-5', 'B-7', 'C-4', 'A-5', 'A-6', 'B-6', 'A-1', 'A-4']\n",
      "\n",
      "Episode: 950\n",
      "Episode complete. Total Reward: [-231.13333333 -210.13333333 -216.3       ] jumlah step: 423 product completed:  20\n",
      "product completed:  ['B-2', 'C-2', 'B-4', 'C-1', 'A-6', 'A-2', 'A-3', 'B-3', 'B-5', 'A-1', 'B-1', 'C-4', 'C-7', 'A-5', 'C-3', 'C-6', 'B-7', 'C-5', 'B-6', 'A-7']\n",
      "\n",
      "Episode: 951\n",
      "Episode complete. Total Reward: [-164.7        -152.86666667 -138.2       ] jumlah step: 353 product completed:  20\n",
      "product completed:  ['B-2', 'A-1', 'C-2', 'B-4', 'B-3', 'A-2', 'B-5', 'C-1', 'C-4', 'C-5', 'B-7', 'C-6', 'C-3', 'A-7', 'A-3', 'A-4', 'B-6', 'A-6', 'B-1', 'C-7']\n",
      "\n",
      "Episode: 952\n",
      "Episode complete. Total Reward: [-208.36666667 -189.36666667 -190.2       ] jumlah step: 412 product completed:  20\n",
      "product completed:  ['C-2', 'C-4', 'C-3', 'B-3', 'A-3', 'B-2', 'A-1', 'B-6', 'C-6', 'B-7', 'C-7', 'B-5', 'B-1', 'C-5', 'B-4', 'A-2', 'A-6', 'A-4', 'A-5', 'C-1']\n",
      "\n",
      "Episode: 953\n"
     ]
    },
    {
     "name": "stderr",
     "output_type": "stream",
     "text": [
      " 96%|█████████▌| 956/1000 [00:54<00:02, 15.72it/s]"
     ]
    },
    {
     "name": "stdout",
     "output_type": "stream",
     "text": [
      "Episode complete. Total Reward: [-159.43333333 -142.1        -139.6       ] jumlah step: 359 product completed:  20\n",
      "product completed:  ['B-2', 'A-2', 'B-5', 'A-4', 'B-6', 'A-7', 'A-3', 'B-3', 'C-1', 'C-4', 'A-5', 'B-7', 'C-7', 'A-1', 'C-6', 'B-1', 'C-3', 'C-5', 'C-2', 'B-4']\n",
      "\n",
      "Episode: 954\n",
      "Episode complete. Total Reward: [-175.2        -155.36666667 -156.45      ] jumlah step: 354 product completed:  20\n",
      "product completed:  ['C-6', 'C-5', 'B-2', 'C-4', 'A-1', 'B-1', 'C-2', 'C-3', 'C-1', 'B-3', 'B-6', 'C-7', 'B-5', 'A-3', 'B-7', 'A-4', 'B-4', 'A-6', 'A-7', 'A-2']\n",
      "\n",
      "Episode: 955\n",
      "Episode complete. Total Reward: [-252.33333333 -229.66666667 -230.25      ] jumlah step: 445 product completed:  20\n",
      "product completed:  ['C-1', 'B-2', 'B-4', 'B-3', 'C-5', 'B-5', 'C-4', 'C-3', 'A-3', 'B-7', 'A-2', 'C-7', 'A-6', 'A-7', 'C-2', 'A-5', 'A-4', 'A-1', 'C-6', 'B-6']\n",
      "\n",
      "Episode: 956\n",
      "Episode complete. Total Reward: [-290.91666667 -275.         -263.5       ] jumlah step: 484 product completed:  20\n",
      "product completed:  ['B-1', 'C-4', 'C-3', 'B-4', 'B-3', 'C-2', 'A-1', 'B-5', 'C-1', 'A-6', 'C-6', 'B-2', 'A-3', 'C-5', 'B-6', 'C-7', 'A-5', 'B-7', 'A-4', 'A-2']\n",
      "\n",
      "Episode: 957\n"
     ]
    },
    {
     "name": "stderr",
     "output_type": "stream",
     "text": [
      " 96%|█████████▌| 960/1000 [00:54<00:02, 15.69it/s]"
     ]
    },
    {
     "name": "stdout",
     "output_type": "stream",
     "text": [
      "Episode complete. Total Reward: [-183.23333333 -167.4        -166.15      ] jumlah step: 374 product completed:  20\n",
      "product completed:  ['C-2', 'C-3', 'C-1', 'B-1', 'C-4', 'B-4', 'B-6', 'A-1', 'B-5', 'B-3', 'C-5', 'A-5', 'C-6', 'A-2', 'B-2', 'C-7', 'A-3', 'B-7', 'A-7', 'A-4']\n",
      "\n",
      "Episode: 958\n",
      "Episode complete. Total Reward: [-401.65 -380.9  -370.9 ] jumlah step: 603 product completed:  20\n",
      "product completed:  ['C-1', 'C-3', 'C-2', 'B-1', 'B-4', 'C-4', 'A-6', 'A-2', 'A-1', 'C-5', 'A-4', 'A-5', 'B-3', 'C-6', 'C-7', 'B-7', 'A-3', 'B-2', 'B-5', 'A-7']\n",
      "\n",
      "Episode: 959\n",
      "Episode complete. Total Reward: [-221.7        -201.86666667 -205.2       ] jumlah step: 401 product completed:  20\n",
      "product completed:  ['B-3', 'B-2', 'C-1', 'B-1', 'A-2', 'C-4', 'C-3', 'A-1', 'C-5', 'A-3', 'C-2', 'A-4', 'B-5', 'C-6', 'A-7', 'B-4', 'B-7', 'C-7', 'B-6', 'A-6']\n",
      "\n",
      "Episode: 960\n",
      "Episode complete. Total Reward: [-301.11666667 -288.2        -275.7       ] jumlah step: 520 product completed:  20\n",
      "product completed:  ['C-4', 'C-3', 'B-1', 'B-5', 'B-2', 'C-5', 'B-4', 'C-2', 'B-3', 'A-4', 'C-7', 'C-6', 'B-7', 'B-6', 'A-3', 'A-1', 'C-1', 'A-7', 'A-2', 'A-5']\n"
     ]
    },
    {
     "name": "stderr",
     "output_type": "stream",
     "text": [
      " 96%|█████████▌| 962/1000 [00:54<00:02, 15.91it/s]"
     ]
    },
    {
     "name": "stdout",
     "output_type": "stream",
     "text": [
      "\n",
      "Episode: 961\n",
      "Episode complete. Total Reward: [-151.66666667 -134.         -134.75      ] jumlah step: 329 product completed:  20\n",
      "product completed:  ['B-4', 'C-3', 'B-3', 'B-2', 'B-1', 'C-1', 'A-5', 'C-2', 'A-2', 'C-5', 'C-4', 'B-6', 'B-7', 'A-3', 'C-6', 'B-5', 'C-7', 'A-7', 'A-6', 'A-1']\n",
      "\n",
      "Episode: 962\n",
      "Episode complete. Total Reward: [-220.91666667 -204.66666667 -206.5       ] jumlah step: 414 product completed:  20\n",
      "product completed:  ['C-2', 'C-1', 'B-1', 'C-4', 'C-3', 'B-4', 'A-2', 'A-4', 'C-6', 'C-5', 'B-3', 'A-3', 'B-7', 'C-7', 'B-2', 'A-6', 'B-6', 'B-5', 'A-1', 'A-7']\n",
      "\n",
      "Episode: 963\n",
      "Episode complete. Total Reward: [-302.66666667 -276.83333333 -271.5       ] jumlah step: 538 product completed:  20\n",
      "product completed:  ['B-2', 'C-5', 'A-4', 'C-3', 'C-2', 'B-1', 'B-3', 'B-4', 'A-3', 'A-6', 'C-7', 'A-2', 'B-6', 'A-5', 'C-1', 'B-5', 'B-7', 'C-4', 'A-7', 'A-1']\n",
      "\n",
      "Episode: 964\n"
     ]
    },
    {
     "name": "stderr",
     "output_type": "stream",
     "text": [
      " 97%|█████████▋| 966/1000 [00:54<00:01, 17.01it/s]"
     ]
    },
    {
     "name": "stdout",
     "output_type": "stream",
     "text": [
      "Episode complete. Total Reward: [-216.75 -196.5  -196.  ] jumlah step: 400 product completed:  20\n",
      "product completed:  ['B-3', 'A-1', 'C-2', 'B-4', 'C-3', 'B-2', 'C-5', 'A-4', 'B-6', 'A-5', 'C-7', 'C-4', 'B-1', 'C-1', 'B-7', 'C-6', 'A-2', 'A-3', 'A-6', 'A-7']\n",
      "\n",
      "Episode: 965\n",
      "Episode complete. Total Reward: [-185.26666667 -169.43333333 -167.1       ] jumlah step: 376 product completed:  20\n",
      "product completed:  ['C-2', 'C-1', 'A-2', 'C-3', 'C-4', 'B-3', 'B-1', 'A-3', 'B-2', 'A-6', 'C-6', 'A-5', 'B-4', 'A-7', 'B-6', 'B-7', 'C-5', 'C-7', 'A-4', 'A-1']\n",
      "\n",
      "Episode: 966\n",
      "Episode complete. Total Reward: [-242.83333333 -221.33333333 -218.5       ] jumlah step: 417 product completed:  20\n",
      "product completed:  ['B-3', 'B-1', 'B-6', 'A-2', 'B-4', 'A-3', 'B-2', 'B-7', 'A-5', 'C-1', 'C-6', 'C-7', 'C-5', 'C-3', 'A-1', 'A-4', 'A-7', 'A-6', 'C-4', 'C-2']\n",
      "\n",
      "Episode: 967\n",
      "Episode complete. Total Reward: [-297.83333333 -274.83333333 -276.5       ] jumlah step: 482 product completed:  20\n",
      "product completed:  ['C-2', 'B-3', 'B-1', 'C-3', 'C-4', 'C-1', 'B-7', 'B-2', 'B-5', 'C-5', 'C-6', 'C-7', 'A-4', 'A-3', 'A-2', 'B-4', 'A-1', 'B-6', 'A-7', 'A-6']\n",
      "\n",
      "Episode: 968\n"
     ]
    },
    {
     "name": "stderr",
     "output_type": "stream",
     "text": [
      " 97%|█████████▋| 970/1000 [00:55<00:01, 16.00it/s]"
     ]
    },
    {
     "name": "stdout",
     "output_type": "stream",
     "text": [
      "Episode complete. Total Reward: [-206.85       -195.43333333 -184.85      ] jumlah step: 414 product completed:  20\n",
      "product completed:  ['C-1', 'A-3', 'C-3', 'B-3', 'B-1', 'B-4', 'C-5', 'A-2', 'C-2', 'B-2', 'C-6', 'A-4', 'C-4', 'A-5', 'A-7', 'B-6', 'C-7', 'B-7', 'B-5', 'A-1']\n",
      "\n",
      "Episode: 969\n",
      "Episode complete. Total Reward: [-186.76666667 -172.6        -170.1       ] jumlah step: 387 product completed:  20\n",
      "product completed:  ['C-1', 'A-3', 'C-5', 'C-2', 'B-3', 'A-1', 'C-3', 'A-2', 'C-4', 'B-1', 'A-4', 'C-6', 'C-7', 'A-6', 'B-6', 'A-7', 'B-7', 'B-4', 'B-5', 'A-5']\n",
      "\n",
      "Episode: 970\n",
      "Episode complete. Total Reward: [-303.15       -276.56666667 -280.65      ] jumlah step: 495 product completed:  20\n",
      "product completed:  ['C-1', 'C-3', 'A-2', 'B-1', 'B-4', 'C-2', 'A-3', 'B-2', 'C-5', 'C-4', 'A-6', 'B-3', 'C-6', 'C-7', 'A-4', 'B-7', 'A-1', 'B-5', 'A-5', 'A-7']\n",
      "\n",
      "Episode: 971\n",
      "Episode complete. Total Reward: [-196.03333333 -178.36666667 -176.7       ] jumlah step: 381 product completed:  20\n",
      "product completed:  ['C-2', 'B-1', 'C-3', 'A-3', 'C-7', 'B-2', 'C-4', 'A-1', 'A-2', 'B-4', 'B-3', 'C-1', 'B-6', 'B-7', 'C-6', 'B-5', 'C-5', 'A-6', 'A-5', 'A-7']\n",
      "\n",
      "Episode: 972\n"
     ]
    },
    {
     "name": "stderr",
     "output_type": "stream",
     "text": [
      " 97%|█████████▋| 974/1000 [00:55<00:01, 17.13it/s]"
     ]
    },
    {
     "name": "stdout",
     "output_type": "stream",
     "text": [
      "Episode complete. Total Reward: [-176.5  -169.   -148.25] jumlah step: 351 product completed:  20\n",
      "product completed:  ['C-5', 'C-6', 'C-3', 'A-2', 'C-4', 'B-3', 'C-1', 'A-3', 'B-1', 'B-5', 'A-4', 'C-7', 'B-2', 'B-6', 'B-7', 'A-1', 'C-2', 'A-6', 'A-5', 'B-4']\n",
      "\n",
      "Episode: 973\n",
      "Episode complete. Total Reward: [-235.5        -210.33333333 -207.75      ] jumlah step: 426 product completed:  20\n",
      "product completed:  ['B-1', 'B-3', 'C-3', 'B-4', 'A-2', 'B-2', 'A-4', 'A-5', 'C-2', 'C-7', 'A-1', 'B-6', 'C-6', 'C-4', 'C-5', 'A-6', 'C-1', 'A-3', 'B-5', 'B-7']\n",
      "\n",
      "Episode: 974\n",
      "Episode complete. Total Reward: [-175.         -155.33333333 -159.5       ] jumlah step: 344 product completed:  20\n",
      "product completed:  ['C-3', 'B-2', 'B-1', 'C-2', 'C-4', 'C-5', 'C-1', 'C-6', 'A-1', 'B-3', 'B-5', 'C-7', 'B-7', 'A-6', 'A-2', 'A-4', 'A-7', 'B-4', 'A-5', 'B-6']\n",
      "\n",
      "Episode: 975\n",
      "Episode complete. Total Reward: [-254.63333333 -230.3        -235.55      ] jumlah step: 447 product completed:  20\n",
      "product completed:  ['C-1', 'C-2', 'B-3', 'B-4', 'C-3', 'B-2', 'B-7', 'B-6', 'B-1', 'C-5', 'B-5', 'C-6', 'A-4', 'A-5', 'A-1', 'C-7', 'C-4', 'A-6', 'A-7', 'A-3']\n",
      "\n",
      "Episode: 976\n",
      "Episode complete. Total Reward: [-179.01666667 -166.26666667 -157.85      ] jumlah step: 371 product completed:  20\n",
      "product completed:  ['B-1', 'C-3', 'B-7', 'B-3', 'B-4', 'C-4', 'A-1', 'C-2', 'C-5', 'A-3', 'C-6', 'B-6', 'A-5', 'B-5', 'C-7', 'A-4', 'B-2', 'C-1', 'A-6', 'A-2']\n",
      "\n",
      "Episode: 977\n"
     ]
    },
    {
     "name": "stderr",
     "output_type": "stream",
     "text": [
      " 98%|█████████▊| 979/1000 [00:55<00:01, 16.57it/s]"
     ]
    },
    {
     "name": "stdout",
     "output_type": "stream",
     "text": [
      "Episode complete. Total Reward: [-268.         -243.66666667 -249.75      ] jumlah step: 471 product completed:  20\n",
      "product completed:  ['B-3', 'B-1', 'C-3', 'C-2', 'C-1', 'B-2', 'A-6', 'C-5', 'C-4', 'A-1', 'A-5', 'A-4', 'C-6', 'A-3', 'C-7', 'B-4', 'A-7', 'B-7', 'B-5', 'A-2']\n",
      "\n",
      "Episode: 978\n",
      "Episode complete. Total Reward: [-261.6        -236.76666667 -246.1       ] jumlah step: 471 product completed:  20\n",
      "product completed:  ['A-1', 'C-1', 'B-3', 'A-4', 'C-4', 'C-3', 'A-3', 'C-2', 'A-5', 'C-7', 'C-6', 'B-1', 'C-5', 'B-7', 'B-4', 'B-5', 'A-6', 'A-7', 'B-2', 'B-6']\n",
      "\n",
      "Episode: 979\n",
      "Episode complete. Total Reward: [-255.25       -230.66666667 -235.75      ] jumlah step: 434 product completed:  20\n",
      "product completed:  ['C-1', 'C-3', 'C-4', 'C-6', 'C-2', 'C-7', 'C-5', 'B-2', 'B-5', 'B-6', 'B-1', 'A-2', 'B-7', 'B-4', 'A-3', 'A-6', 'A-4', 'A-1', 'A-7', 'A-5']\n",
      "\n",
      "Episode: 980\n",
      "Episode complete. Total Reward: [-208.36666667 -184.36666667 -186.2       ] jumlah step: 377 product completed:  20\n",
      "product completed:  ['B-1', 'B-5', 'B-7', 'C-4', 'C-3', 'C-5', 'A-1', 'C-1', 'C-2', 'B-2', 'B-4', 'B-3', 'A-5', 'A-4', 'A-2', 'C-7', 'A-7', 'C-6', 'A-6', 'A-3']\n",
      "\n",
      "Episode: 981\n"
     ]
    },
    {
     "name": "stderr",
     "output_type": "stream",
     "text": [
      " 98%|█████████▊| 983/1000 [00:55<00:00, 17.05it/s]"
     ]
    },
    {
     "name": "stdout",
     "output_type": "stream",
     "text": [
      "Episode complete. Total Reward: [-254.93333333 -238.26666667 -232.6       ] jumlah step: 446 product completed:  20\n",
      "product completed:  ['C-4', 'C-3', 'C-2', 'C-1', 'B-1', 'A-7', 'A-6', 'A-2', 'B-2', 'C-6', 'A-1', 'B-4', 'C-7', 'B-3', 'C-5', 'B-7', 'A-5', 'B-5', 'A-3', 'A-4']\n",
      "\n",
      "Episode: 982\n",
      "Episode complete. Total Reward: [-235.98333333 -211.4        -218.4       ] jumlah step: 415 product completed:  20\n",
      "product completed:  ['B-1', 'C-4', 'C-3', 'B-2', 'C-5', 'A-2', 'C-1', 'C-2', 'A-3', 'C-6', 'A-4', 'B-4', 'B-6', 'B-7', 'B-3', 'A-5', 'C-7', 'A-6', 'A-1', 'A-7']\n",
      "\n",
      "Episode: 983\n",
      "Episode complete. Total Reward: [-296.48333333 -274.23333333 -268.4       ] jumlah step: 505 product completed:  20\n",
      "product completed:  ['C-1', 'B-4', 'C-4', 'A-2', 'C-3', 'B-6', 'B-5', 'A-4', 'C-2', 'B-3', 'A-3', 'C-5', 'C-7', 'A-6', 'B-1', 'A-1', 'B-2', 'A-5', 'B-7', 'A-7']\n",
      "\n",
      "Episode: 984\n",
      "Episode complete. Total Reward: [-195.8        -176.63333333 -177.55      ] jumlah step: 411 product completed:  20\n",
      "product completed:  ['C-5', 'C-1', 'C-4', 'B-1', 'B-4', 'C-6', 'B-2', 'C-2', 'A-5', 'C-3', 'B-3', 'A-7', 'C-7', 'A-4', 'B-6', 'A-6', 'A-3', 'B-7', 'B-5', 'A-2']\n",
      "\n",
      "Episode: 985\n"
     ]
    },
    {
     "name": "stderr",
     "output_type": "stream",
     "text": [
      " 99%|█████████▊| 987/1000 [00:56<00:00, 15.76it/s]"
     ]
    },
    {
     "name": "stdout",
     "output_type": "stream",
     "text": [
      "Episode complete. Total Reward: [-223.05 -210.3  -201.55] jumlah step: 416 product completed:  20\n",
      "product completed:  ['C-3', 'A-1', 'C-4', 'C-5', 'A-2', 'C-7', 'C-6', 'C-1', 'C-2', 'B-2', 'B-3', 'B-1', 'B-6', 'B-7', 'A-5', 'A-3', 'B-4', 'A-4', 'A-6', 'B-5']\n",
      "\n",
      "Episode: 986\n",
      "Episode complete. Total Reward: [-330.55       -305.46666667 -321.05      ] jumlah step: 529 product completed:  20\n",
      "product completed:  ['C-1', 'C-2', 'C-5', 'C-3', 'C-7', 'C-4', 'A-3', 'B-5', 'B-4', 'B-2', 'A-5', 'C-6', 'A-6', 'B-1', 'A-2', 'A-7', 'B-6', 'A-1', 'A-4', 'B-7']\n",
      "\n",
      "Episode: 987\n",
      "Episode complete. Total Reward: [-225.95       -205.53333333 -213.45      ] jumlah step: 433 product completed:  20\n",
      "product completed:  ['C-2', 'C-1', 'C-4', 'C-5', 'B-2', 'C-7', 'B-1', 'B-5', 'B-6', 'B-4', 'C-3', 'A-3', 'A-2', 'C-6', 'A-7', 'B-7', 'A-1', 'A-6', 'B-3', 'A-5']\n",
      "\n",
      "Episode: 988\n"
     ]
    },
    {
     "name": "stderr",
     "output_type": "stream",
     "text": [
      " 99%|█████████▉| 991/1000 [00:56<00:00, 15.37it/s]"
     ]
    },
    {
     "name": "stdout",
     "output_type": "stream",
     "text": [
      "Episode complete. Total Reward: [-154.         -133.66666667 -133.        ] jumlah step: 368 product completed:  20\n",
      "product completed:  ['C-2', 'B-4', 'A-2', 'A-1', 'B-1', 'B-3', 'C-4', 'B-5', 'A-3', 'C-1', 'A-6', 'C-3', 'C-7', 'B-6', 'B-7', 'A-5', 'A-4', 'C-5', 'B-2', 'A-7']\n",
      "\n",
      "Episode: 989\n",
      "Episode complete. Total Reward: [-291.33333333 -279.         -261.        ] jumlah step: 505 product completed:  20\n",
      "product completed:  ['B-1', 'A-3', 'A-4', 'A-5', 'C-3', 'B-2', 'C-1', 'B-6', 'B-3', 'A-6', 'C-6', 'C-2', 'A-2', 'B-7', 'C-7', 'A-1', 'C-5', 'B-4', 'A-7', 'B-5']\n",
      "\n",
      "Episode: 990\n",
      "Episode complete. Total Reward: [-282.78333333 -258.36666667 -260.7       ] jumlah step: 468 product completed:  20\n",
      "product completed:  ['B-1', 'B-3', 'B-4', 'C-5', 'C-3', 'B-5', 'C-4', 'C-6', 'B-6', 'C-1', 'B-7', 'C-2', 'A-5', 'A-2', 'A-7', 'B-2', 'C-7', 'A-4', 'A-3', 'A-6']\n",
      "\n",
      "Episode: 991\n",
      "Episode complete. Total Reward: [-266.71666667 -249.13333333 -242.8       ] jumlah step: 486 product completed:  20\n",
      "product completed:  ['C-1', 'B-4', 'B-1', 'A-2', 'B-3', 'C-2', 'C-5', 'A-3', 'C-7', 'A-4', 'C-6', 'A-1', 'C-4', 'A-5', 'C-3', 'B-5', 'B-2', 'A-7', 'B-6', 'A-6']\n"
     ]
    },
    {
     "name": "stderr",
     "output_type": "stream",
     "text": [
      " 99%|█████████▉| 993/1000 [00:56<00:00, 15.39it/s]"
     ]
    },
    {
     "name": "stdout",
     "output_type": "stream",
     "text": [
      "\n",
      "Episode: 992\n",
      "Episode complete. Total Reward: [-234.8 -212.3 -219.8] jumlah step: 449 product completed:  20\n",
      "product completed:  ['C-1', 'B-1', 'B-2', 'C-2', 'C-6', 'C-5', 'C-4', 'A-4', 'C-3', 'C-7', 'A-1', 'A-7', 'B-7', 'A-6', 'A-2', 'B-3', 'A-3', 'B-4', 'B-5', 'B-6']\n",
      "\n",
      "Episode: 993\n",
      "Episode complete. Total Reward: [-215.8 -196.3 -188.3] jumlah step: 411 product completed:  20\n",
      "product completed:  ['C-3', 'C-4', 'C-1', 'A-1', 'B-1', 'C-7', 'A-2', 'C-6', 'B-4', 'A-4', 'B-3', 'B-5', 'C-5', 'A-6', 'B-2', 'A-3', 'A-7', 'B-6', 'B-7', 'C-2']\n",
      "\n",
      "Episode: 994\n",
      "Episode complete. Total Reward: [-232.53333333 -213.2        -216.45      ] jumlah step: 448 product completed:  20\n",
      "product completed:  ['C-7', 'C-3', 'B-2', 'A-2', 'C-1', 'C-4', 'C-2', 'A-3', 'A-5', 'A-6', 'A-1', 'C-5', 'C-6', 'B-6', 'A-7', 'B-4', 'A-4', 'B-3', 'B-1', 'B-7']\n",
      "\n",
      "Episode: 995\n"
     ]
    },
    {
     "name": "stderr",
     "output_type": "stream",
     "text": [
      "100%|█████████▉| 997/1000 [00:56<00:00, 15.00it/s]"
     ]
    },
    {
     "name": "stdout",
     "output_type": "stream",
     "text": [
      "Episode complete. Total Reward: [-246.25 -225.5  -224.5 ] jumlah step: 449 product completed:  20\n",
      "product completed:  ['C-2', 'B-1', 'A-2', 'B-2', 'C-4', 'C-3', 'A-5', 'A-3', 'B-5', 'A-1', 'C-7', 'C-1', 'B-7', 'C-6', 'A-4', 'A-6', 'B-3', 'B-6', 'C-5', 'B-4']\n",
      "\n",
      "Episode: 996\n",
      "Episode complete. Total Reward: [-214.13333333 -202.46666667 -190.55      ] jumlah step: 385 product completed:  20\n",
      "product completed:  ['B-4', 'B-3', 'B-2', 'C-1', 'C-2', 'A-5', 'A-4', 'A-2', 'B-6', 'A-1', 'B-7', 'C-4', 'C-7', 'C-6', 'C-5', 'C-3', 'A-7', 'B-5', 'A-3', 'A-6']\n",
      "\n",
      "Episode: 997\n",
      "Episode complete. Total Reward: [-314.1        -293.26666667 -293.35      ] jumlah step: 502 product completed:  20\n",
      "product completed:  ['B-3', 'C-2', 'A-6', 'A-5', 'A-1', 'A-3', 'B-2', 'B-5', 'C-4', 'C-1', 'A-7', 'C-6', 'C-5', 'C-3', 'B-7', 'B-6', 'A-4', 'B-4', 'A-2', 'C-7']\n",
      "\n",
      "Episode: 998\n",
      "Episode complete. Total Reward: [-189.53333333 -165.86666667 -171.95      ] jumlah step: 354 product completed:  20\n",
      "product completed:  ['C-1', 'C-3', 'A-6', 'B-2', 'A-1', 'C-5', 'A-5', 'C-7', 'C-6', 'B-4', 'C-2', 'B-6', 'B-3', 'B-1', 'A-4', 'B-7', 'C-4', 'B-5', 'A-3', 'A-2']\n",
      "\n",
      "Episode: 999\n"
     ]
    },
    {
     "name": "stderr",
     "output_type": "stream",
     "text": [
      "100%|██████████| 1000/1000 [00:56<00:00, 17.57it/s]"
     ]
    },
    {
     "name": "stdout",
     "output_type": "stream",
     "text": [
      "Episode complete. Total Reward: [-184.61666667 -164.36666667 -164.2       ] jumlah step: 359 product completed:  20\n",
      "product completed:  ['C-2', 'C-1', 'C-5', 'B-2', 'C-4', 'B-3', 'C-7', 'C-6', 'A-1', 'A-2', 'C-3', 'B-1', 'A-6', 'B-5', 'B-4', 'A-4', 'B-7', 'A-7', 'B-6', 'A-5']\n",
      "\n",
      "Episode: 1000\n",
      "Episode complete. Total Reward: [-232.5        -210.33333333 -211.75      ] jumlah step: 424 product completed:  20\n",
      "product completed:  ['B-2', 'C-3', 'B-3', 'A-3', 'C-2', 'C-1', 'C-4', 'B-7', 'A-5', 'B-6', 'A-4', 'A-2', 'C-7', 'A-7', 'C-5', 'B-1', 'A-6', 'A-1', 'B-4', 'C-6']\n"
     ]
    },
    {
     "name": "stderr",
     "output_type": "stream",
     "text": [
      "\n"
     ]
    }
   ],
   "source": [
    "from env_5c_3 import FJSPEnv\n",
    "import numpy as np\n",
    "import tensorflow as tf\n",
    "from tensorflow.keras import layers, models\n",
    "import random\n",
    "import os\n",
    "import pickle\n",
    "import json\n",
    "from collections import deque\n",
    "from tqdm import tqdm\n",
    "\n",
    "class DDQN_model:\n",
    "    def __init__(self,\n",
    "        buffer_length=500000,\n",
    "        batch_size=64,\n",
    "        update_delay=2,\n",
    "        lr=0.0001,\n",
    "        tau=0.005,\n",
    "        gamma=0.98,\n",
    "        ):\n",
    "        self.state_dim= 14\n",
    "        self.action_dim=5\n",
    "        self.gamma = gamma\n",
    "        self.lr = lr\n",
    "        self.tau = tau\n",
    "        self.epsilon=1\n",
    "        self.epsilon_decay=0.92\n",
    "        self.update_delay=update_delay\n",
    "        self.batch_size=batch_size\n",
    "    \n",
    "        self.dqn_network= self.create_dqn_network()\n",
    "        self.target_dqn_network =self.create_dqn_network()\n",
    "        self.target_dqn_network.set_weights(self.dqn_network.get_weights())\n",
    "        # Optimizer\n",
    "        self.dqn_optimizer = tf.keras.optimizers.Adam(learning_rate=self.lr)\n",
    "        self.memory_B = deque(maxlen=int(buffer_length))\n",
    "\n",
    "    def save_models(self, episode):\n",
    "        \"\"\"\n",
    "        Menyimpan model.\n",
    "        \"\"\"\n",
    "        dqn_save_path = os.path.join(self.save_dir, f'dqn_episode_{episode}.h5')\n",
    "        target_dqn_save_path = os.path.join(self.save_dir, f'target_dqn_episode_{episode}.h5')\n",
    "        self.dqn_network.save_weights(dqn_save_path)\n",
    "        self.target_dqn_network.save_weights(target_dqn_save_path)\n",
    "        print(f'Models saved at episode {episode}')\n",
    "\n",
    "\n",
    "    def save_replay_buffer_and_rewards(self, episode):\n",
    "        \"\"\"\n",
    "        Menyimpan replay buffer ke file pickle dan reward kumulatif ke file JSON.\n",
    "        \"\"\"\n",
    "        # Simpan replay buffer setiap beberapa episode\n",
    "        if episode % self.save_every_episode == 0:\n",
    "            replay_filename = os.path.join(self.save_dir, f'replay_buffer_episode_{episode}.pkl')\n",
    "            with open(replay_filename, 'wb') as f:\n",
    "                pickle.dump(self.memory_B, f)\n",
    "            print(f'Replay buffer saved to {replay_filename}')\n",
    "\n",
    "        # Simpan reward kumulatif setiap episode\n",
    "        rewards_filename = os.path.join(self.save_dir, 'A_cumulative_rewards.json')\n",
    "        if os.path.exists(rewards_filename):\n",
    "            # Jika file sudah ada, muat isinya\n",
    "            with open(rewards_filename, 'r') as f:\n",
    "                existing_rewards = json.load(f)\n",
    "        else:\n",
    "            existing_rewards = {}\n",
    "\n",
    "        # Update dengan reward baru\n",
    "        existing_rewards[episode] = self.cumulative_reward_episode[episode]\n",
    "        with open(rewards_filename, 'w') as f:\n",
    "            json.dump(existing_rewards, f, indent=4)\n",
    "        print(f'Cumulative rewards saved to {rewards_filename}')\n",
    "\n",
    "    def create_dqn_network(self):\n",
    "        \"\"\"Membuat model Q-network dengan layer fully connected.\"\"\"\n",
    "        state_input = layers.Input(shape=(self.state_dim,))\n",
    "        x = layers.Dense(256, activation='relu')(state_input)\n",
    "        x = layers.Dense(256, activation='relu')(x)\n",
    "        output = layers.Dense(self.action_dim, activation='linear')(x)\n",
    "        model = models.Model(inputs=state_input, outputs=output)\n",
    "        return model\n",
    "    \n",
    "    def take_RL_minibatch(self):\n",
    "        \"\"\"Ambil minibatch dari buffer RL.\"\"\"\n",
    "        minibatch = random.sample(self.memory_B, self.batch_size)\n",
    "        mb_states, mb_actions, mb_rewards, mb_next_states, mb_dones = zip(*minibatch)\n",
    "        mb_states = tf.convert_to_tensor(mb_states, dtype=tf.float32)\n",
    "        mb_actions = tf.convert_to_tensor(mb_actions, dtype=tf.float32)\n",
    "        mb_rewards = tf.convert_to_tensor(mb_rewards, dtype=tf.float32)\n",
    "        mb_next_states = tf.convert_to_tensor(mb_next_states, dtype=tf.float32)\n",
    "        mb_dones = tf.convert_to_tensor(mb_dones, dtype=tf.float32)\n",
    "        return mb_states, mb_actions, mb_rewards, mb_next_states, mb_dones\n",
    "    \n",
    "    def update_RL_memory(self, state, action, reward, next_state, done):\n",
    "        \"\"\"Simpan (s, a, r, s', done) ke buffer RL.\"\"\"\n",
    "        self.memory_B.append((state, action, reward, next_state, done))\n",
    "    \n",
    "    def update_target_weights(self):\n",
    "        \"\"\"\n",
    "        Soft update pada target network.\n",
    "        \"\"\"\n",
    "        for main_var, target_var in zip(self.dqn_network.trainable_variables,\n",
    "                                        self.target_dqn_network.trainable_variables):\n",
    "            target_var.assign(self.tau * main_var + (1.0 - self.tau) * target_var)\n",
    "            \n",
    "\n",
    "    def select_action_with_masking(self, state, action_mask):\n",
    "        if np.random.rand() < self.epsilon:\n",
    "            #tf.print(\"Random action\")\n",
    "            action_mask_index = np.where(action_mask)[0]\n",
    "            return random.choice(action_mask_index)\n",
    "        else:\n",
    "            #tf.print(\"NN action\")\n",
    "            state_tensor = tf.convert_to_tensor([state], dtype=tf.float32)\n",
    "            q_values = self.dqn_network(state_tensor)\n",
    "            action_mask_tensor = tf.convert_to_tensor(action_mask)\n",
    "            masked_q_values = tf.where(action_mask_tensor, q_values, tf.fill(tf.shape(q_values), -np.inf))\n",
    "            ##tf.print(\"masked_q_values: \", masked_q_values)\n",
    "            ##choose_action = tf.argmax(masked_q_values, axis=1)\n",
    "            ##tf.print(\"choose_action: \", choose_action)\n",
    "            return int(tf.argmax(masked_q_values, axis=1))\n",
    "    \n",
    "    def update_epsilon(self):\n",
    "        self.epsilon = max(0.01, self.epsilon * self.epsilon_decay)\n",
    "\n",
    "    def train_double_dqn(self):\n",
    "        #tf.print(\"\\n\")\n",
    "        mb_states, mb_actions, mb_rewards, mb_next_states, mb_dones = self.take_RL_minibatch()\n",
    "        #tf.print(\"mb_actions_before: \", mb_actions)\n",
    "        mb_actions = tf.cast(mb_actions, tf.int32)\n",
    "        # tf.print(\"mb_actions: \", mb_actions)\n",
    "        # tf.print(\"tf.one_hot(mb_actions, self.action_dim): \", tf.one_hot(mb_actions, self.action_dim))\n",
    "        with tf.GradientTape() as tape:\n",
    "            mb_Q_values= self.dqn_network(mb_states, training=True)\n",
    "            mb_Q_values = tf.reduce_sum(mb_Q_values * tf.one_hot(mb_actions, self.action_dim), \n",
    "                                        axis=1)\n",
    "\n",
    "            mb_Q_values_next= self.dqn_network(mb_next_states, training=False)\n",
    "            mb_actions_next = tf.argmax(mb_Q_values_next, axis=1)\n",
    "\n",
    "            #mb_target_Q_values_next = self.target_dqn_network(mb_next_states, training=False)[mb_actions_next]\n",
    "        \n",
    "            mb_target_Q_values_next = self.target_dqn_network(mb_next_states, training=False)\n",
    "            mb_target_Q_values_next = tf.reduce_sum(mb_target_Q_values_next * \n",
    "                                                    tf.one_hot(mb_actions_next, self.action_dim), \n",
    "                                                    axis=1)\n",
    "            \n",
    "            y = mb_rewards + (1.0 - mb_dones) * self.gamma * mb_target_Q_values_next\n",
    "            loss = tf.reduce_mean(tf.square(y - mb_Q_values))\n",
    "\n",
    "        # Menghitung gradien dan mengupdate bobot model\n",
    "        grads = tape.gradient(loss,  self.dqn_network.trainable_variables)\n",
    "        self.dqn_optimizer.apply_gradients(zip(grads, self.dqn_network.trainable_variables))\n",
    "        del tape\n",
    "        \n",
    "        # Periodically update target network (soft update)\n",
    "        if self.iterasi % self.update_delay == 0:\n",
    "            self.update_target_weights()\n",
    "\n",
    "\n",
    "\n",
    "def masking_action(states, env):\n",
    "    mask_actions=[]\n",
    "\n",
    "    for i, state in enumerate(states):\n",
    "        is_agent_working=False\n",
    "        is_status_idle=False\n",
    "        is_status_accept=False\n",
    "        is_pick_job_window_yr_1=False\n",
    "        is_pick_job_window_yr_2=False\n",
    "        is_job_in_capability_yr=False\n",
    "        is_job_in_capability_yr_1=False\n",
    "        is_job_in_capability_yr_2=False\n",
    "        #[Accept, Wait yr-1, Wait yr-2, Decline, Continue]\n",
    "        accept_action=False\n",
    "        wait_yr_1_action=False\n",
    "        wait_yr_2_action=False\n",
    "        decline_action=False\n",
    "        continue_action=False\n",
    "        if state[env.state_operation_now_location] !=0:\n",
    "            is_agent_working=True\n",
    "        if state[env.state_status_location_all[i]] ==0:\n",
    "            is_status_idle=True\n",
    "        if state[env.state_status_location_all[i]] ==1:\n",
    "            is_status_accept=True\n",
    "        if state[env.state_pick_job_window_location] ==1:\n",
    "            is_pick_job_window_yr_1=True\n",
    "        if state[env.state_pick_job_window_location]==2:\n",
    "            is_pick_job_window_yr_2=True\n",
    "        if (state[env.state_first_job_operation_location[0]] in state[env.state_operation_capability_location]):\n",
    "            is_job_in_capability_yr=True\n",
    "        if (state[env.state_first_job_operation_location[1]] in state[env.state_operation_capability_location]):\n",
    "            is_job_in_capability_yr_1=True\n",
    "        if (state[env.state_first_job_operation_location[2]]in state[env.state_operation_capability_location]):\n",
    "            is_job_in_capability_yr_2=True\n",
    "\n",
    "        #[Accept, Wait yr-1, Wait yr-2, Decline, Continue]\n",
    "        if is_status_accept:\n",
    "            accept_action=True\n",
    "\n",
    "        elif not is_agent_working:\n",
    "            if is_status_idle and is_pick_job_window_yr_1 and is_job_in_capability_yr:\n",
    "                accept_action=True\n",
    "                decline_action=True\n",
    "                continue_action=True\n",
    "\n",
    "            if is_status_idle and is_job_in_capability_yr_2:\n",
    "                wait_yr_2_action=True\n",
    "                decline_action=True\n",
    "\n",
    "            if is_status_idle and is_job_in_capability_yr_1:\n",
    "                wait_yr_1_action=True\n",
    "                decline_action=True\n",
    "            \n",
    "            # if not is_job_in_capability_yr and not is_job_in_capability_yr_1 and not is_job_in_capability_yr_2:\n",
    "            #     continue_action=True\n",
    "            continue_action=True\n",
    "\n",
    "\n",
    "        elif is_agent_working:\n",
    "            if not is_status_idle:\n",
    "                continue_action=True\n",
    "\n",
    "        mask_actions.append([accept_action, wait_yr_1_action, wait_yr_2_action, decline_action, continue_action])\n",
    "    return mask_actions\n",
    "\n",
    "        \n",
    "\n",
    "       \n",
    "\n",
    "if __name__ == \"__main__\":\n",
    "    env = FJSPEnv(window_size=3, num_agents=3, max_steps=700)\n",
    "    DDQN=DDQN_model()\n",
    "    for episode in tqdm(range(1, 1+ 1000)):\n",
    "        state, info = env.reset(seed=episode)\n",
    "        reward_satu_episode = 0\n",
    "        done = False\n",
    "        truncated = False\n",
    "        print(\"\\nEpisode:\", episode)\n",
    "        while not done and not truncated:\n",
    "            \n",
    "            if len(env.conveyor.product_completed)>= env.n_jobs:\n",
    "                print(\"All jobs are completed.\")\n",
    "                break\n",
    "            if env.step_count >= env.max_steps:\n",
    "                print(\"Max steps reached.\")\n",
    "                break\n",
    "\n",
    "            mask_actions=masking_action(state, env)\n",
    "            actions=[]\n",
    "            #dummy=1\n",
    "            # Multi-agent shared Neural Network\n",
    "            for single, mask_action in zip(state, mask_actions):\n",
    "                action = DDQN.select_action_with_masking(single, mask_action)\n",
    "                actions.append(action)\n",
    "                #dummy +=1\n",
    "            actions = np.array(actions)\n",
    "\n",
    "            if None in actions:\n",
    "                print(\"FAILED ACTION: \", actions)\n",
    "                break\n",
    "\n",
    "            next_state, reward, done, truncated, info = env.step(actions)\n",
    "            if env.FAILED_ACTION:\n",
    "                print(\"FAILED ENV\")\n",
    "                break\n",
    "            reward_satu_episode += reward\n",
    "            state = next_state\n",
    "            #print(\"next_state:\", next_state)\n",
    "            # print(\"jumlah step:\", env.step_count)\n",
    "            # env.render()\n",
    "\n",
    "        print(\"Episode complete. Total Reward:\", reward_satu_episode, \n",
    "              \"jumlah step:\", env.step_count, \n",
    "              \"product completed: \",len(env.conveyor.product_completed))\n",
    "        order = {'A': 0, 'B': 1, 'C': 2}\n",
    "\n",
    "        # Sorting by product type first, then by numeric value\n",
    "        print(\"product completed: \",env.conveyor.product_completed)\n",
    "        sorted_jobs = sorted(env.conveyor.product_completed, key=lambda x: (order[x[0]], int(x[2:])))\n",
    "\n",
    "        #print(\"product sorted: \",sorted_jobs)"
   ]
  }
 ],
 "metadata": {
  "kernelspec": {
   "display_name": "tf_gpu_env",
   "language": "python",
   "name": "python3"
  },
  "language_info": {
   "codemirror_mode": {
    "name": "ipython",
    "version": 3
   },
   "file_extension": ".py",
   "mimetype": "text/x-python",
   "name": "python",
   "nbconvert_exporter": "python",
   "pygments_lexer": "ipython3",
   "version": "3.8.19"
  }
 },
 "nbformat": 4,
 "nbformat_minor": 2
}
