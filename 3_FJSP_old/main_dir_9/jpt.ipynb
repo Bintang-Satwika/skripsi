{
 "cells": [
  {
   "cell_type": "code",
   "execution_count": 1,
   "metadata": {},
   "outputs": [
    {
     "name": "stdout",
     "output_type": "stream",
     "text": [
      "[[1 0]\n",
      " [4 0]\n",
      " [7 0]]\n"
     ]
    }
   ],
   "source": [
    "import numpy as np\n",
    "\n",
    "arr = np.array([[1, 2, 3,0], \n",
    "                [4, 5, 6,0], \n",
    "                [7, 8, 9,0]])\n",
    "\n",
    "# Remove row at index 1 (second row)\n",
    "new_arr = np.delete(arr, [1,2], axis=1)\n",
    "\n",
    "print(new_arr)\n",
    "\n"
   ]
  },
  {
   "cell_type": "code",
   "execution_count": 5,
   "metadata": {},
   "outputs": [
    {
     "name": "stdout",
     "output_type": "stream",
     "text": [
      "[1 9.0]\n"
     ]
    }
   ],
   "source": [
    "import numpy as np\n",
    "\n",
    "b = [[1, 2.0, None], [None, 5, 6.0], [9.0, None, 8]]\n",
    "b = np.array(b, dtype=object)  # Ensure the array can hold None values\n",
    "\n",
    "# Extract the first column\n",
    "first_col = b[:, 0]\n",
    "\n",
    "# Remove None values using boolean indexing\n",
    "filtered_b = first_col[first_col != None]  # OR np.array([x for x in first_col if x is not None])\n",
    "\n",
    "print(filtered_b)  # Output: [1 9.0]\n"
   ]
  }
 ],
 "metadata": {
  "kernelspec": {
   "display_name": "tf_gpu_env",
   "language": "python",
   "name": "python3"
  },
  "language_info": {
   "codemirror_mode": {
    "name": "ipython",
    "version": 3
   },
   "file_extension": ".py",
   "mimetype": "text/x-python",
   "name": "python",
   "nbconvert_exporter": "python",
   "pygments_lexer": "ipython3",
   "version": "3.8.19"
  }
 },
 "nbformat": 4,
 "nbformat_minor": 2
}
