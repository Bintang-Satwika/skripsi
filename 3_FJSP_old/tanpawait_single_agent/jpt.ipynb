{
 "cells": [
  {
   "cell_type": "code",
   "execution_count": 1,
   "metadata": {},
   "outputs": [
    {
     "name": "stdout",
     "output_type": "stream",
     "text": [
      "Indeks aksi yang valid: [ 1  2  3  7  8 14]\n",
      "Pasangan (agen, aksi): [(0, 1), (0, 2), (0, 3), (1, 2), (1, 3), (2, 4)]\n"
     ]
    }
   ],
   "source": [
    "import numpy as np\n",
    "\n",
    "mask_actions = np.array([[False, True,  True,  True,  False],\n",
    "                         [False, False, True,  True,  False],\n",
    "                         [False, False, False, False, True]])\n",
    "# Meratakan array mask ke 1 dimensi\n",
    "flat_mask = mask_actions.flatten()\n",
    "\n",
    "# Mendapatkan indeks aksi yang valid (nilai True)\n",
    "valid_indices = np.where(flat_mask)[0]\n",
    "print(\"Indeks aksi yang valid:\", valid_indices)\n",
    "num_actions = mask_actions.shape[1]  # jumlah aksi per agen\n",
    "agent_action_pairs = [(idx // num_actions, idx % num_actions) for idx in valid_indices]\n",
    "print(\"Pasangan (agen, aksi):\", agent_action_pairs)\n"
   ]
  },
  {
   "cell_type": "code",
   "execution_count": 2,
   "metadata": {},
   "outputs": [
    {
     "name": "stdout",
     "output_type": "stream",
     "text": [
      "Indeks aksi yang valid: [ 1  2  3  7  8 14]\n",
      "Pasangan (agen, aksi): [(0, 1), (0, 2), (0, 3), (1, 2), (1, 3), (2, 4)]\n"
     ]
    }
   ],
   "source": [
    "import numpy as np\n",
    "\n",
    "# Contoh mask yang diberikan (dengan 3 agen dan 5 aksi)\n",
    "mask_actions = np.array([[False, True,  True,  True,  False],\n",
    "                         [False, False, True,  True,  False],\n",
    "                         [False, False, False, False, True]])\n",
    "\n",
    "# Meratakan array menjadi 1D\n",
    "flat_mask = mask_actions.flatten()\n",
    "\n",
    "# Mendapatkan indeks aksi yang valid (True)\n",
    "valid_indices = np.where(flat_mask)[0]\n",
    "print(\"Indeks aksi yang valid:\", valid_indices)\n",
    "\n",
    "# Jika diperlukan, mendapatkan pasangan (agen, aksi) asli dari indeks flat\n",
    "num_actions = mask_actions.shape[1]  # jumlah aksi per agen\n",
    "agent_action_pairs = [(idx // num_actions, idx % num_actions) for idx in valid_indices]\n",
    "print(\"Pasangan (agen, aksi):\", agent_action_pairs)\n"
   ]
  },
  {
   "cell_type": "code",
   "execution_count": 3,
   "metadata": {},
   "outputs": [
    {
     "name": "stdout",
     "output_type": "stream",
     "text": [
      "Pasangan (agen, aksi): [(0, 1), (0, 2), (0, 3), (1, 2), (1, 3), (2, 4)]\n",
      "Mapping aksi tunggal: {0: (0, 1), 1: (0, 2), 2: (0, 3), 3: (1, 2), 4: (1, 3), 5: (2, 4)}\n"
     ]
    }
   ],
   "source": [
    "import numpy as np\n",
    "\n",
    "mask_actions = np.array([[False, True,  True,  True,  False],\n",
    "                         [False, False, True,  True,  False],\n",
    "                         [False, False, False, False, True]])\n",
    "\n",
    "# Mendapatkan pasangan (agen, aksi) valid\n",
    "num_actions = mask_actions.shape[1]\n",
    "valid_indices = np.where(mask_actions.flatten())[0]\n",
    "agent_action_pairs = [(idx // num_actions, idx % num_actions) for idx in valid_indices]\n",
    "print(\"Pasangan (agen, aksi):\", agent_action_pairs)\n",
    "\n",
    "# Misal, mapping ke ruang aksi tunggal:\n",
    "single_action_space = {i: pair for i, pair in enumerate(agent_action_pairs)}\n",
    "print(\"Mapping aksi tunggal:\", single_action_space)\n"
   ]
  },
  {
   "cell_type": "code",
   "execution_count": null,
   "metadata": {},
   "outputs": [
    {
     "name": "stdout",
     "output_type": "stream",
     "text": [
      "Jumlah kelas: 3\n",
      "Kelas-kelas: [1, 1, 0]\n"
     ]
    }
   ],
   "source": [
    "import numpy as np\n",
    "import itertools\n",
    "\n",
    "mask_actions = np.array([[False, True,  True,  True,  False],\n",
    "                         [False, False, True,  True,  False],\n",
    "                         [False, False, False, False, True]])\n",
    "\n",
    "num_agents, num_actions = mask_actions.shape\n",
    "\n",
    "a=max(np.where(mask_actions[0][0:3], 1, 0))\n",
    "b=max(np.where(mask_actions[1][0:3], 1, 0))\n",
    "c= max(np.where(mask_actions[2][0:3], 1, 0))\n",
    "a,b,c\n",
    "array_class =[a,b,c]\n",
    "print(\"Jumlah kelas:\", len(array_class))\n",
    "print(\"Kelas-kelas:\", array_class)\n",
    "\n",
    "\n",
    "# Kelas 0: [0, 0, 0]\n",
    "# Kelas 1: [0, 0, 1]\n",
    "# Kelas 2: [0, 1, 0]\n",
    "# Kelas 3: [0, 1, 1]\n",
    "# Kelas 4: [1, 0, 0]\n",
    "# Kelas 5: [1, 0, 1]\n",
    "# Kelas 6: [1, 1, 0]\n",
    "# Kelas 7: [1, 1, 1]\n"
   ]
  }
 ],
 "metadata": {
  "kernelspec": {
   "display_name": "tf_gpu_env",
   "language": "python",
   "name": "python3"
  },
  "language_info": {
   "codemirror_mode": {
    "name": "ipython",
    "version": 3
   },
   "file_extension": ".py",
   "mimetype": "text/x-python",
   "name": "python",
   "nbconvert_exporter": "python",
   "pygments_lexer": "ipython3",
   "version": "3.8.19"
  }
 },
 "nbformat": 4,
 "nbformat_minor": 2
}
